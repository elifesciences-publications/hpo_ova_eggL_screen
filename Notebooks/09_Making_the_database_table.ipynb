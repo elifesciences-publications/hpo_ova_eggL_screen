{
 "cells": [
  {
   "cell_type": "code",
   "execution_count": 107,
   "metadata": {},
   "outputs": [
    {
     "data": {
      "text/plain": [
       "'0.20.3'"
      ]
     },
     "execution_count": 107,
     "metadata": {},
     "output_type": "execute_result"
    }
   ],
   "source": [
    "import pandas as pd\n",
    "import os\n",
    "import networkx as nx\n",
    "import numpy as np\n",
    "pd.__version__"
   ]
  },
  {
   "cell_type": "markdown",
   "metadata": {},
   "source": [
    "# Defining the different data path"
   ]
  },
  {
   "cell_type": "code",
   "execution_count": 108,
   "metadata": {},
   "outputs": [],
   "source": [
    "# Data path containing all of the raw and processed data\n",
    "data = '../../../Paper/Data/'\n",
    "# Result path containing all the results from the analysisi\n",
    "resultpath = '../../../Paper/Results/'\n",
    "# ID for the PPI which year it's from \n",
    "PPI_ID = \"2017_08\""
   ]
  },
  {
   "cell_type": "markdown",
   "metadata": {},
   "source": [
    "# Loading all the tables"
   ]
  },
  {
   "cell_type": "markdown",
   "metadata": {},
   "source": [
    "## Loading the raw counts"
   ]
  },
  {
   "cell_type": "code",
   "execution_count": 109,
   "metadata": {},
   "outputs": [],
   "source": [
    "raw_hipo_fec = pd.read_csv(os.path.join(data,'Screen/Raw_EggLaying_HpoRNAi.csv'))\n",
    "raw_hipo_ova = pd.read_csv(os.path.join(data,'Screen/Raw_Ova_HpoRNAi.csv'))\n",
    "raw_xRNAi_fec = pd.read_csv(os.path.join(data,'Screen/Raw_EggLaying.csv'))\n",
    "hipo_ova = pd.read_csv(os.path.join(data,'Screen/hipo_ova_clean.csv'))\n",
    "xRNAi_fec = pd.read_csv(os.path.join(data,'Screen/xRNAi_fec_clean.csv'))\n",
    "hipo_fec = pd.read_csv(os.path.join(data,'Screen/hipo_fec_clean.csv'))"
   ]
  },
  {
   "cell_type": "code",
   "execution_count": 110,
   "metadata": {},
   "outputs": [],
   "source": [
    "# Calculate the mean for all datasets\n",
    "mean_ova_gene = hipo_ova.groupby(['FbID'], as_index=False).mean()\n",
    "mean_fec_gene = hipo_fec.groupby(['FbID', 'Condition'], as_index=False).mean()\n",
    "mean_xRNAi_gene = xRNAi_fec.groupby(['FbID', 'Condition'], as_index=False).mean()\n",
    "\n",
    "# Calculate the std for ovariole number (only because the other datasets have only 1 measurement)\n",
    "std_ova_gene = hipo_ova.groupby(['FbID']).std().reset_index()"
   ]
  },
  {
   "cell_type": "code",
   "execution_count": 111,
   "metadata": {},
   "outputs": [],
   "source": [
    "# Here we select all the genes that were tested in the screen,\n",
    "# because the first screen was Hipo RNAi EggLaying measurement, this dataset contains all the tested genes\n",
    "screen_genes = mean_fec_gene['FbID'].unique()"
   ]
  },
  {
   "cell_type": "markdown",
   "metadata": {},
   "source": [
    "## Loading gene names"
   ]
  },
  {
   "cell_type": "code",
   "execution_count": 112,
   "metadata": {},
   "outputs": [],
   "source": [
    "names = pd.read_table(os.path.join(data,'GeneName.csv'))"
   ]
  },
  {
   "cell_type": "markdown",
   "metadata": {},
   "source": [
    "## Loading the signaling pathway metadata"
   ]
  },
  {
   "cell_type": "code",
   "execution_count": 113,
   "metadata": {},
   "outputs": [],
   "source": [
    "signaling = pd.read_csv(os.path.join(data,'signaling.csv'))"
   ]
  },
  {
   "cell_type": "markdown",
   "metadata": {},
   "source": [
    "## Loading the PPI network"
   ]
  },
  {
   "cell_type": "code",
   "execution_count": 114,
   "metadata": {},
   "outputs": [],
   "source": [
    "G = nx.read_graphml(os.path.join(data,'PPI_{}.graphml'.format(PPI_ID)))"
   ]
  },
  {
   "cell_type": "markdown",
   "metadata": {},
   "source": [
    "## Loading the networks modules"
   ]
  },
  {
   "cell_type": "code",
   "execution_count": 115,
   "metadata": {},
   "outputs": [],
   "source": [
    "# Modules computed in the notebook file: Seed-Connector\n",
    "ova_module_G = nx.read_graphml(os.path.join(resultpath,'Ova_module_{}.graphml'.format(PPI_ID)))\n",
    "fec_module_G = nx.read_graphml(os.path.join(resultpath,'Hpo_EggL_module_{}.graphml'.format(PPI_ID)))\n",
    "xRNAi_module_G = nx.read_graphml(os.path.join(resultpath,'EggL_module_{}.graphml'.format(PPI_ID)))\n",
    "core_module_G = nx.read_graphml(os.path.join(resultpath,'Core_module_{}.graphml'.format(PPI_ID)))\n",
    "\n",
    "# The list of connector genes\n",
    "connectors= pd.read_csv(os.path.join(resultpath,\"ConnectorGeneList_{}.csv\".format(PPI_ID)))"
   ]
  },
  {
   "cell_type": "code",
   "execution_count": 116,
   "metadata": {},
   "outputs": [],
   "source": [
    "# Grab the list of genes for each modules\n",
    "ova_module = ova_module_G.nodes()\n",
    "fec_module = fec_module_G.nodes()\n",
    "xRNAi_module = xRNAi_module_G.nodes()\n",
    "core_module = core_module_G.nodes()"
   ]
  },
  {
   "cell_type": "markdown",
   "metadata": {},
   "source": [
    "## Loading the network metrics"
   ]
  },
  {
   "cell_type": "code",
   "execution_count": 117,
   "metadata": {},
   "outputs": [],
   "source": [
    "betweenness = pd.read_csv(os.path.join(data, \"ScreenPPI_Betweenness.csv\"))\n",
    "closeness = pd.read_csv(os.path.join(data, \"ScreenPPI_Closeness.csv\"))\n",
    "eigenvector = pd.read_csv(os.path.join(data, \"ScreenPPI_Eigenvector.csv\"))\n",
    "degrees_cen = pd.read_csv(os.path.join(data, \"ScreenPPI_DegreeCentrality.csv\"))"
   ]
  },
  {
   "cell_type": "markdown",
   "metadata": {},
   "source": [
    "# Creating the table"
   ]
  },
  {
   "cell_type": "markdown",
   "metadata": {},
   "source": [
    "## Step 1: Make the list of genes"
   ]
  },
  {
   "cell_type": "code",
   "execution_count": 118,
   "metadata": {},
   "outputs": [],
   "source": [
    "table = pd.DataFrame(screen_genes, columns=['FbID'])"
   ]
  },
  {
   "cell_type": "code",
   "execution_count": 119,
   "metadata": {},
   "outputs": [],
   "source": [
    "table = table.merge(raw_hipo_fec[['FbID', 'Condition']], how='left', on='FbID')\n",
    "table = table.rename(columns={'Condition':'CG number'})"
   ]
  },
  {
   "cell_type": "code",
   "execution_count": 120,
   "metadata": {
    "scrolled": true
   },
   "outputs": [],
   "source": [
    "table = table.merge(names, how='left', on='FbID')"
   ]
  },
  {
   "cell_type": "markdown",
   "metadata": {},
   "source": [
    "## Step 2: Add the screen data for each genes"
   ]
  },
  {
   "cell_type": "markdown",
   "metadata": {},
   "source": [
    "### Hippo RNAi Egg Laying"
   ]
  },
  {
   "cell_type": "code",
   "execution_count": 121,
   "metadata": {},
   "outputs": [],
   "source": [
    "# Hippo RNAi Egg Laying screen egg counts\n",
    "# First we merge the existing table using the FbID column for 1 to 1 matching.\n",
    "# Then we rename that collumn for a unique name in the global database table\n",
    "# Rinse and repeat for all values\n",
    "\n",
    "table = table.merge(mean_fec_gene[mean_fec_gene['Condition'] == 'Day 1'][['FbID', 'Count', 'Z']], how='left', on='FbID')\n",
    "table = table.rename(columns={'Z':'HippoRNAi_EggL_Day_1_Egg_Zscore', 'Count':'HippoRNAi_EggL_Day_1_Egg_Count'})\n",
    "table = table.merge(mean_fec_gene[mean_fec_gene['Condition'] == 'Day 2 '][['FbID', 'Count', 'Z']], how='left', on='FbID')\n",
    "table = table.rename(columns={'Z':'HippoRNAi_EggL_Day_2_Egg_Zscore', 'Count':'HippoRNAi_EggL_Day_2_Egg_Count'})\n",
    "table = table.merge(mean_fec_gene[mean_fec_gene['Condition'] == 'Day 3'][['FbID', 'Count', 'Z']], how='left', on='FbID')\n",
    "table = table.rename(columns={'Z':'HippoRNAi_EggL_Day_3_Egg_Zscore', 'Count':'HippoRNAi_EggL_Day_3_Egg_Count'})\n",
    "table = table.merge(mean_fec_gene[mean_fec_gene['Condition'] == 'Day 4 '][['FbID', 'Count', 'Z']], how='left', on='FbID')\n",
    "table = table.rename(columns={'Z':'HippoRNAi_EggL_Day_4_Egg_Zscore', 'Count':'HippoRNAi_EggL_Day_4_Egg_Count'})\n",
    "table = table.merge(mean_fec_gene[mean_fec_gene['Condition'] == 'Day 5'][['FbID', 'Count', 'Z']], how='left', on='FbID')\n",
    "table = table.rename(columns={'Z':'HippoRNAi_EggL_Day_5_Egg_Zscore', 'Count':'HippoRNAi_EggL_Day_5_Egg_Count'})\n",
    "\n",
    "table = table.merge(mean_fec_gene[mean_fec_gene['Condition'] == 'Sum'][['FbID', 'Count', 'Z']], how='left', on='FbID')\n",
    "table = table.rename(columns={'Z':'HippoRNAi_EggL_Sum_Egg_Zscore', 'Count':'HippoRNAi_EggL_Sum_Egg_Count'})\n",
    "\n",
    "table = table.merge(mean_fec_gene[mean_fec_gene['Condition'] == 'Sum'][['FbID', 'Batch']], how='left', on='FbID')\n",
    "table = table.rename(columns={'Batch':'HippoRNAi_EggL_Batch'})"
   ]
  },
  {
   "cell_type": "markdown",
   "metadata": {},
   "source": [
    "# TO DO ADD CONNECTOR WHEN SCREEN IS DONE"
   ]
  },
  {
   "cell_type": "markdown",
   "metadata": {},
   "source": [
    "### Egg Laying"
   ]
  },
  {
   "cell_type": "code",
   "execution_count": 122,
   "metadata": {},
   "outputs": [],
   "source": [
    "# Egg Laying screen egg counts\n",
    "# We use the same technic as above\n",
    "table = table.merge(mean_xRNAi_gene[mean_xRNAi_gene['Condition'] == 'Day 1'][['FbID', 'Count', 'Z']], how='left', on='FbID')\n",
    "table = table.rename(columns={'Z':'EggL_Day_1_Egg_Zscore', 'Count':'EggL_Day_1_Egg_Count'})\n",
    "table = table.merge(mean_xRNAi_gene[mean_xRNAi_gene['Condition'] == 'Day 2 '][['FbID', 'Count', 'Z']], how='left', on='FbID')\n",
    "table = table.rename(columns={'Z':'EggL_Day_2_Egg_Zscore', 'Count':'EggL_Day_2_Egg_Count'})\n",
    "table = table.merge(mean_xRNAi_gene[mean_xRNAi_gene['Condition'] == 'Day 3'][['FbID', 'Count', 'Z']], how='left', on='FbID')\n",
    "table = table.rename(columns={'Z':'EggL_Day_3_Egg_Zscore', 'Count':'EggL_Day_3_Egg_Count'})\n",
    "table = table.merge(mean_xRNAi_gene[mean_xRNAi_gene['Condition'] == 'Day 4 '][['FbID', 'Count', 'Z']], how='left', on='FbID')\n",
    "table = table.rename(columns={'Z':'EggL_Day_4_Egg_Zscore', 'Count':'EggL_Day_4_Egg_Count'})\n",
    "table = table.merge(mean_xRNAi_gene[mean_xRNAi_gene['Condition'] == 'Day 5'][['FbID', 'Count', 'Z']], how='left', on='FbID')\n",
    "table = table.rename(columns={'Z':'EggL_Day_5_Egg_Zscore', 'Count':'EggL_Day_5_Egg_Count'})\n",
    "\n",
    "table = table.merge(mean_xRNAi_gene[mean_xRNAi_gene['Condition'] == 'Sum'][['FbID', 'Count', 'Z']], how='left', on='FbID')\n",
    "table = table.rename(columns={'Z':'EggL_Sum_Egg_Zscore', 'Count':'EggL_Sum_Egg_Count'})\n",
    "\n",
    "table = table.merge(mean_xRNAi_gene[mean_xRNAi_gene['Condition'] == 'Sum'][['FbID','Batch']], how='left', on='FbID')\n",
    "table = table.rename(columns={'Batch':'EggL_Batch'})"
   ]
  },
  {
   "cell_type": "markdown",
   "metadata": {},
   "source": [
    "# TO DO ADD CONNECTOR WHEN SCREEN IS DONE"
   ]
  },
  {
   "cell_type": "markdown",
   "metadata": {},
   "source": [
    "### Ovariole Number"
   ]
  },
  {
   "cell_type": "code",
   "execution_count": 123,
   "metadata": {},
   "outputs": [],
   "source": [
    "# Hippo RNAi Ovariole number counts screen\n",
    "# We can merge all the data directly because we do not have many conditions in this table\n",
    "table = table.merge(mean_ova_gene[['FbID', 'Batch', 'OvarioleNb', 'Z']], how='left', on='FbID')\n",
    "table = table.rename(columns={'Batch':'HippoRNAi_Ova_Batch', \n",
    "                              'OvarioleNb':'HippoRNAi_Ova_OvarioleNb_Mean', \n",
    "                              'Z':'HippoRNAi_Ova_OvarioleNb_Mean_Zscore'})\n",
    "\n",
    "table = table.merge(std_ova_gene[['FbID', 'OvarioleNb']], how='left', on='FbID')\n",
    "table = table.rename(columns={'OvarioleNb':'HippoRNAi_Ova_OvarioleNb_Std'})"
   ]
  },
  {
   "cell_type": "code",
   "execution_count": 124,
   "metadata": {},
   "outputs": [],
   "source": [
    "# But we want to add the raw data to the table, so we extract the 20 columns from the raw counts\n",
    "raw = raw_hipo_ova[raw_hipo_ova['FbID'].notnull()][['Fly 1', 'Fly 1.1', 'Fly 2', 'Fly 2.1', \n",
    "                                            'Fly 3', 'Fly 3.1', 'Fly 4', 'Fly 4.1', \n",
    "                                            'Fly 5', 'Fly 5.1', 'Fly 6', 'Fly 6.1',\n",
    "                                            'Fly 7', 'Fly 7.1', 'Fly 8', 'Fly 8.1',\n",
    "                                            'Fly 9','Fly 9.1', 'Fly 10', 'Fly 10.1',\n",
    "                                                 'FbID']].groupby(['FbID']).mean().reset_index()"
   ]
  },
  {
   "cell_type": "code",
   "execution_count": 125,
   "metadata": {},
   "outputs": [],
   "source": [
    "# We merge them\n",
    "table = table.merge(raw, how='left', on='FbID')\n"
   ]
  },
  {
   "cell_type": "code",
   "execution_count": 126,
   "metadata": {},
   "outputs": [],
   "source": [
    "# And then we rename them to follow the naming scheme\n",
    "table = table.rename(columns={'Fly 1'   : \"HippoRNAi_Ova_OvarioleNb_Fly_1.1\",\n",
    "                              'Fly 1.1' : \"HippoRNAi_Ova_OvarioleNb_Fly_1.2\",\n",
    "                              'Fly 2'   : \"HippoRNAi_Ova_OvarioleNb_Fly_2.1\",\n",
    "                              'Fly 2.1' : \"HippoRNAi_Ova_OvarioleNb_Fly_2.2\",\n",
    "                              'Fly 3'   : \"HippoRNAi_Ova_OvarioleNb_Fly_3.1\",\n",
    "                              'Fly 3.1' : \"HippoRNAi_Ova_OvarioleNb_Fly_3.2\",\n",
    "                              'Fly 4'   : \"HippoRNAi_Ova_OvarioleNb_Fly_4.1\",\n",
    "                              'Fly 4.1' : \"HippoRNAi_Ova_OvarioleNb_Fly_4.2\",\n",
    "                              'Fly 5'   : \"HippoRNAi_Ova_OvarioleNb_Fly_5.1\",\n",
    "                              'Fly 5.1' : \"HippoRNAi_Ova_OvarioleNb_Fly_5.2\",\n",
    "                              'Fly 6'   : \"HippoRNAi_Ova_OvarioleNb_Fly_6.1\",\n",
    "                              'Fly 6.1' : \"HippoRNAi_Ova_OvarioleNb_Fly_6.2\",\n",
    "                              'Fly 7'   : \"HippoRNAi_Ova_OvarioleNb_Fly_7.1\",\n",
    "                              'Fly 7.1' : \"HippoRNAi_Ova_OvarioleNb_Fly_7.2\",\n",
    "                              'Fly 8'   : \"HippoRNAi_Ova_OvarioleNb_Fly_8.1\",\n",
    "                              'Fly 8.1' : \"HippoRNAi_Ova_OvarioleNb_Fly_8.2\",\n",
    "                              'Fly 9'   : \"HippoRNAi_Ova_OvarioleNb_Fly_9.1\",\n",
    "                              'Fly 9.1' : \"HippoRNAi_Ova_OvarioleNb_Fly_9.2\",\n",
    "                              'Fly 10'  : \"HippoRNAi_Ova_OvarioleNb_Fly_10.1\",\n",
    "                              'Fly 10.1': \"HippoRNAi_Ova_OvarioleNb_Fly_10.2\"\n",
    "                             })"
   ]
  },
  {
   "cell_type": "markdown",
   "metadata": {},
   "source": [
    "# TO DO ADD CONNECTOR WHEN SCREEN IS DONE"
   ]
  },
  {
   "cell_type": "markdown",
   "metadata": {},
   "source": [
    "## Step 3: Adding the network metrics"
   ]
  },
  {
   "cell_type": "code",
   "execution_count": 127,
   "metadata": {},
   "outputs": [],
   "source": [
    "# Merge and rename as above\n",
    "table = table.merge(betweenness, how='left', on='FbID')\n",
    "table = table.rename(columns={'Betweeness':'PPI_betweenness_centrality'})"
   ]
  },
  {
   "cell_type": "code",
   "execution_count": 128,
   "metadata": {},
   "outputs": [],
   "source": [
    "table = table.merge(closeness, how='left', on='FbID')\n",
    "table = table.rename(columns={'Closeness':'PPI_closeness_centrality'})"
   ]
  },
  {
   "cell_type": "code",
   "execution_count": 129,
   "metadata": {},
   "outputs": [],
   "source": [
    "table = table.merge(eigenvector, how='left', on='FbID')\n",
    "table = table.rename(columns={'EigenVector':'PPI_eigenvector_centrality'})"
   ]
  },
  {
   "cell_type": "code",
   "execution_count": 130,
   "metadata": {},
   "outputs": [],
   "source": [
    "table = table.merge(degrees_cen, how='left', on='FbID')\n",
    "table = table.rename(columns={'DegreeC':'PPI_degree_centrality'})"
   ]
  },
  {
   "cell_type": "markdown",
   "metadata": {},
   "source": [
    "## Step 4: Adding the newtork modules"
   ]
  },
  {
   "cell_type": "code",
   "execution_count": 131,
   "metadata": {},
   "outputs": [
    {
     "data": {
      "text/plain": [
       "70"
      ]
     },
     "execution_count": 131,
     "metadata": {},
     "output_type": "execute_result"
    }
   ],
   "source": [
    "table['FbID'].isin(ova_module).sum()"
   ]
  },
  {
   "cell_type": "code",
   "execution_count": 132,
   "metadata": {},
   "outputs": [],
   "source": [
    "# We create 4 columns, where if a gene is found in a module it is 1 if not a 0\n",
    "# np.where is key here, if condition == true, then X, else Y \n",
    "table['HippoRNAi_Ova_Module'] = np.where(table['FbID'].isin(ova_module), 1, 0)\n",
    "table['HippoRNAi_EggL_Module'] = np.where(table['FbID'].isin(fec_module), 1, 0)\n",
    "table['EggL_Module'] = np.where(table['FbID'].isin(xRNAi_module), 1, 0)\n",
    "table['Core_Module'] = np.where(table['FbID'].isin(core_module), 1, 0)"
   ]
  },
  {
   "cell_type": "markdown",
   "metadata": {},
   "source": [
    "## Step 5: Adding Signaling pathways"
   ]
  },
  {
   "cell_type": "code",
   "execution_count": 133,
   "metadata": {},
   "outputs": [],
   "source": [
    "# We need to make this tidy data, so we need to add one column per signaling patway, with a 0 or a 1 \n",
    "# We iterate over all signaling pathway and add a column for each with 1 and 0s using the same np.where technic as above\n",
    "# But we first need to make the list of FbID that have this signaling pathway \n",
    "# that is: pathway_genes = signaling[signaling['Sig'] == pathway]['FbID']\n",
    "for pathway in signaling['Sig'].unique():\n",
    "    pathway_genes = signaling[signaling['Sig'] == pathway]['FbID']\n",
    "    table['{}_pathway'.format(pathway)] = np.where(table['FbID'].isin(pathway_genes), 1, 0)"
   ]
  },
  {
   "cell_type": "markdown",
   "metadata": {},
   "source": [
    "## Step 6: Adding Connector genes"
   ]
  },
  {
   "cell_type": "code",
   "execution_count": 134,
   "metadata": {},
   "outputs": [],
   "source": [
    "table['Connector_Gene'] = np.where(table['FbID'].isin(connectors['FbID']), 1, 0)"
   ]
  },
  {
   "cell_type": "markdown",
   "metadata": {},
   "source": [
    "# Asserting that the data is correctly entered"
   ]
  },
  {
   "cell_type": "code",
   "execution_count": 135,
   "metadata": {},
   "outputs": [],
   "source": [
    "# Test that the number of genes in the database is equal to the number of gene screened in the primary screen\n",
    "assert(len(table) == len(screen_genes))"
   ]
  },
  {
   "cell_type": "code",
   "execution_count": 136,
   "metadata": {},
   "outputs": [
    {
     "data": {
      "text/plain": [
       "'0.20.3'"
      ]
     },
     "execution_count": 136,
     "metadata": {},
     "output_type": "execute_result"
    }
   ],
   "source": [
    "pd.__version__"
   ]
  },
  {
   "cell_type": "code",
   "execution_count": 100,
   "metadata": {},
   "outputs": [
    {
     "name": "stdout",
     "output_type": "stream",
     "text": [
      "Discrepancy in column: CG number\n",
      "Discrepancy in column: HippoRNAi_EggL_Day_1_Egg_Count\n",
      "Discrepancy in column: HippoRNAi_EggL_Day_1_Egg_Zscore\n",
      "Discrepancy in column: HippoRNAi_EggL_Day_2_Egg_Count\n",
      "Discrepancy in column: HippoRNAi_EggL_Day_2_Egg_Zscore\n",
      "Discrepancy in column: HippoRNAi_EggL_Day_3_Egg_Count\n",
      "Discrepancy in column: HippoRNAi_EggL_Day_3_Egg_Zscore\n",
      "Discrepancy in column: HippoRNAi_EggL_Day_4_Egg_Count\n",
      "Discrepancy in column: HippoRNAi_EggL_Day_4_Egg_Zscore\n",
      "Discrepancy in column: HippoRNAi_EggL_Day_5_Egg_Count\n",
      "Discrepancy in column: HippoRNAi_EggL_Day_5_Egg_Zscore\n",
      "Discrepancy in column: HippoRNAi_EggL_Sum_Egg_Count\n",
      "Discrepancy in column: HippoRNAi_EggL_Sum_Egg_Zscore\n",
      "Discrepancy in column: HippoRNAi_EggL_Batch\n",
      "Discrepancy in column: EggL_Day_1_Egg_Count\n",
      "Discrepancy in column: EggL_Day_1_Egg_Zscore\n",
      "Discrepancy in column: EggL_Day_2_Egg_Count\n",
      "Discrepancy in column: EggL_Day_2_Egg_Zscore\n",
      "Discrepancy in column: EggL_Day_3_Egg_Count\n",
      "Discrepancy in column: EggL_Day_3_Egg_Zscore\n",
      "Discrepancy in column: EggL_Day_4_Egg_Count\n",
      "Discrepancy in column: EggL_Day_4_Egg_Zscore\n",
      "Discrepancy in column: EggL_Day_5_Egg_Count\n",
      "Discrepancy in column: EggL_Day_5_Egg_Zscore\n",
      "Discrepancy in column: EggL_Sum_Egg_Count\n",
      "Discrepancy in column: EggL_Sum_Egg_Zscore\n",
      "Discrepancy in column: EggL_Batch\n",
      "Discrepancy in column: HippoRNAi_Ova_Batch\n",
      "Discrepancy in column: HippoRNAi_Ova_OvarioleNb_Mean\n",
      "Discrepancy in column: HippoRNAi_Ova_OvarioleNb_Mean_Zscore\n",
      "Discrepancy in column: HippoRNAi_Ova_OvarioleNb_Std\n",
      "Discrepancy in column: HippoRNAi_Ova_OvarioleNb_Fly_1.1\n",
      "Discrepancy in column: HippoRNAi_Ova_OvarioleNb_Fly_1.2\n",
      "Discrepancy in column: HippoRNAi_Ova_OvarioleNb_Fly_2.1\n",
      "Discrepancy in column: HippoRNAi_Ova_OvarioleNb_Fly_2.2\n",
      "Discrepancy in column: HippoRNAi_Ova_OvarioleNb_Fly_3.1\n",
      "Discrepancy in column: HippoRNAi_Ova_OvarioleNb_Fly_3.2\n",
      "Discrepancy in column: HippoRNAi_Ova_OvarioleNb_Fly_4.1\n",
      "Discrepancy in column: HippoRNAi_Ova_OvarioleNb_Fly_4.2\n",
      "Discrepancy in column: HippoRNAi_Ova_OvarioleNb_Fly_5.1\n",
      "Discrepancy in column: HippoRNAi_Ova_OvarioleNb_Fly_5.2\n",
      "Discrepancy in column: HippoRNAi_Ova_OvarioleNb_Fly_6.1\n",
      "Discrepancy in column: HippoRNAi_Ova_OvarioleNb_Fly_6.2\n",
      "Discrepancy in column: HippoRNAi_Ova_OvarioleNb_Fly_7.1\n",
      "Discrepancy in column: HippoRNAi_Ova_OvarioleNb_Fly_7.2\n",
      "Discrepancy in column: HippoRNAi_Ova_OvarioleNb_Fly_8.1\n",
      "Discrepancy in column: HippoRNAi_Ova_OvarioleNb_Fly_8.2\n",
      "Discrepancy in column: HippoRNAi_Ova_OvarioleNb_Fly_9.1\n",
      "Discrepancy in column: HippoRNAi_Ova_OvarioleNb_Fly_9.2\n",
      "Discrepancy in column: HippoRNAi_Ova_OvarioleNb_Fly_10.1\n",
      "Discrepancy in column: HippoRNAi_Ova_OvarioleNb_Fly_10.2\n",
      "Discrepancy in column: PPI_betweenness_centrality\n",
      "Discrepancy in column: PPI_closeness_centrality\n",
      "Discrepancy in column: PPI_eigenvector_centrality\n",
      "Discrepancy in column: PPI_degree_centrality\n",
      "Discrepancy in column: HippoRNAi_Ova_Module\n",
      "Discrepancy in column: HippoRNAi_EggL_Module\n",
      "Discrepancy in column: EggL_Module\n",
      "Discrepancy in column: Core_Module\n",
      "Discrepancy in column: FGF_pathway\n",
      "Discrepancy in column: VEGF_pathway\n",
      "Discrepancy in column: Toll_pathway\n",
      "Discrepancy in column: JNK_pathway\n",
      "Discrepancy in column: EGF_pathway\n",
      "Discrepancy in column: mTOR_pathway\n",
      "Discrepancy in column: FOXO_pathway\n",
      "Discrepancy in column: SHH_pathway\n",
      "Discrepancy in column: Hippo_pathway\n",
      "Discrepancy in column: JAK/STAT_pathway\n",
      "Discrepancy in column: Wnt_pathway\n",
      "Discrepancy in column: Notch_pathway\n",
      "Discrepancy in column: TGF B_pathway\n",
      "Discrepancy in column: MAPK_pathway\n",
      "Discrepancy in column: Connector_Gene\n"
     ]
    }
   ],
   "source": [
    "# Test that the number of values in each screen correspond to the raw table for each collumn\n",
    "# We iterate over all the collumns\n",
    "# For each collumns we define a test\n",
    "# try the assertion\n",
    "# if wrong then print an error message\n",
    "for column in table.columns:\n",
    "    if 'Module' in column:\n",
    "        try:\n",
    "            assert(len(table[table[column].notna()]) == len(screen_genes))\n",
    "        except:\n",
    "            print(\"Discrepancy in column: {}\".format(column))\n",
    "    elif '_pathway' in column:\n",
    "        try:\n",
    "            assert(len(table[table[column].notna()]) == len(screen_genes))\n",
    "        except:\n",
    "            print(\"Discrepancy in column: {}\".format(column))\n",
    "    elif 'HippoRNAi_EggL' in column:\n",
    "        try:\n",
    "            assert(len(table[table[column].notna()]) == len(mean_fec_gene['FbID'].unique()))\n",
    "        except:\n",
    "            print(\"Discrepancy in column: {}\".format(column))\n",
    "    elif 'EggL' in column:\n",
    "        try:\n",
    "            assert(len(table[table[column].notna()]) == len(mean_xRNAi_gene['FbID'].unique()))\n",
    "        except:\n",
    "            print(\"Discrepancy in column: {}\".format(column))\n",
    "    elif 'HippoRNAi_Ova' in column:\n",
    "        try:\n",
    "            assert(len(table[table[column].notna()]) == len(mean_ova_gene['FbID'].unique()))\n",
    "        except:\n",
    "            print(\"Discrepancy in column: {}\".format(column))\n",
    "    elif 'Connector_Gene' == column:\n",
    "        try:\n",
    "            assert(len(table[table[column] == 1]) == len(connectors['FbID'].unique()))\n",
    "        except:\n",
    "            print(\"Discrepancy in column: {}\".format(column))\n",
    "    elif 'PPI_' in column:\n",
    "        try:\n",
    "            assert(len(table[table[column].notna()]) ==  len(table[table['FbID'].isin(G.nodes())]))\n",
    "        except:\n",
    "            print(\"Discrepancy in column: {}\".format(column))\n",
    "    elif \"CG\" in column:\n",
    "        try:\n",
    "            assert(len(table[table[column].notna()]) == len(screen_genes))\n",
    "        except:\n",
    "            print(\"Discrepancy in column: {}\".format(column))\n",
    "            "
   ]
  },
  {
   "cell_type": "code",
   "execution_count": 137,
   "metadata": {},
   "outputs": [
    {
     "data": {
      "text/plain": [
       "Index(['FbID', 'CG number', 'NAME', 'SYMBOL', 'HippoRNAi_EggL_Day_1_Egg_Count',\n",
       "       'HippoRNAi_EggL_Day_1_Egg_Zscore', 'HippoRNAi_EggL_Day_2_Egg_Count',\n",
       "       'HippoRNAi_EggL_Day_2_Egg_Zscore', 'HippoRNAi_EggL_Day_3_Egg_Count',\n",
       "       'HippoRNAi_EggL_Day_3_Egg_Zscore', 'HippoRNAi_EggL_Day_4_Egg_Count',\n",
       "       'HippoRNAi_EggL_Day_4_Egg_Zscore', 'HippoRNAi_EggL_Day_5_Egg_Count',\n",
       "       'HippoRNAi_EggL_Day_5_Egg_Zscore', 'HippoRNAi_EggL_Sum_Egg_Count',\n",
       "       'HippoRNAi_EggL_Sum_Egg_Zscore', 'HippoRNAi_EggL_Batch',\n",
       "       'EggL_Day_1_Egg_Count', 'EggL_Day_1_Egg_Zscore', 'EggL_Day_2_Egg_Count',\n",
       "       'EggL_Day_2_Egg_Zscore', 'EggL_Day_3_Egg_Count',\n",
       "       'EggL_Day_3_Egg_Zscore', 'EggL_Day_4_Egg_Count',\n",
       "       'EggL_Day_4_Egg_Zscore', 'EggL_Day_5_Egg_Count',\n",
       "       'EggL_Day_5_Egg_Zscore', 'EggL_Sum_Egg_Count', 'EggL_Sum_Egg_Zscore',\n",
       "       'EggL_Batch', 'HippoRNAi_Ova_Batch', 'HippoRNAi_Ova_OvarioleNb_Mean',\n",
       "       'HippoRNAi_Ova_OvarioleNb_Mean_Zscore', 'HippoRNAi_Ova_OvarioleNb_Std',\n",
       "       'HippoRNAi_Ova_OvarioleNb_Fly_1.1', 'HippoRNAi_Ova_OvarioleNb_Fly_1.2',\n",
       "       'HippoRNAi_Ova_OvarioleNb_Fly_2.1', 'HippoRNAi_Ova_OvarioleNb_Fly_2.2',\n",
       "       'HippoRNAi_Ova_OvarioleNb_Fly_3.1', 'HippoRNAi_Ova_OvarioleNb_Fly_3.2',\n",
       "       'HippoRNAi_Ova_OvarioleNb_Fly_4.1', 'HippoRNAi_Ova_OvarioleNb_Fly_4.2',\n",
       "       'HippoRNAi_Ova_OvarioleNb_Fly_5.1', 'HippoRNAi_Ova_OvarioleNb_Fly_5.2',\n",
       "       'HippoRNAi_Ova_OvarioleNb_Fly_6.1', 'HippoRNAi_Ova_OvarioleNb_Fly_6.2',\n",
       "       'HippoRNAi_Ova_OvarioleNb_Fly_7.1', 'HippoRNAi_Ova_OvarioleNb_Fly_7.2',\n",
       "       'HippoRNAi_Ova_OvarioleNb_Fly_8.1', 'HippoRNAi_Ova_OvarioleNb_Fly_8.2',\n",
       "       'HippoRNAi_Ova_OvarioleNb_Fly_9.1', 'HippoRNAi_Ova_OvarioleNb_Fly_9.2',\n",
       "       'HippoRNAi_Ova_OvarioleNb_Fly_10.1',\n",
       "       'HippoRNAi_Ova_OvarioleNb_Fly_10.2', 'PPI_betweenness_centrality',\n",
       "       'PPI_closeness_centrality', 'PPI_eigenvector_centrality',\n",
       "       'PPI_degree_centrality', 'HippoRNAi_Ova_Module',\n",
       "       'HippoRNAi_EggL_Module', 'EggL_Module', 'Core_Module', 'FGF_pathway',\n",
       "       'VEGF_pathway', 'Toll_pathway', 'JNK_pathway', 'EGF_pathway',\n",
       "       'mTOR_pathway', 'FOXO_pathway', 'SHH_pathway', 'Hippo_pathway',\n",
       "       'JAK/STAT_pathway', 'Wnt_pathway', 'Notch_pathway', 'TGF B_pathway',\n",
       "       'MAPK_pathway', 'Connector_Gene'],\n",
       "      dtype='object')"
      ]
     },
     "execution_count": 137,
     "metadata": {},
     "output_type": "execute_result"
    }
   ],
   "source": [
    "table.columns"
   ]
  },
  {
   "cell_type": "markdown",
   "metadata": {},
   "source": [
    "# Saving the table"
   ]
  },
  {
   "cell_type": "code",
   "execution_count": 138,
   "metadata": {},
   "outputs": [],
   "source": [
    "table.to_csv(os.path.join(resultpath, \"MasterTable.csv\"), index=False)"
   ]
  }
 ],
 "metadata": {
  "kernelspec": {
   "display_name": "Python 3",
   "language": "python",
   "name": "python3"
  },
  "language_info": {
   "codemirror_mode": {
    "name": "ipython",
    "version": 3
   },
   "file_extension": ".py",
   "mimetype": "text/x-python",
   "name": "python",
   "nbconvert_exporter": "python",
   "pygments_lexer": "ipython3",
   "version": "3.5.6"
  }
 },
 "nbformat": 4,
 "nbformat_minor": 2
}
