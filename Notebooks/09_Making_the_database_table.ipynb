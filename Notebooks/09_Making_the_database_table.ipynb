{
 "cells": [
  {
   "cell_type": "code",
   "execution_count": 1,
   "metadata": {},
   "outputs": [
    {
     "data": {
      "text/plain": [
       "'0.25.3'"
      ]
     },
     "execution_count": 1,
     "metadata": {},
     "output_type": "execute_result"
    }
   ],
   "source": [
    "import pandas as pd\n",
    "import os\n",
    "import networkx as nx\n",
    "import numpy as np\n",
    "pd.__version__"
   ]
  },
  {
   "cell_type": "markdown",
   "metadata": {},
   "source": [
    "# Defining the different data path"
   ]
  },
  {
   "cell_type": "code",
   "execution_count": 2,
   "metadata": {},
   "outputs": [],
   "source": [
    "# Data path containing all of the raw and processed data\n",
    "data = '../Data/'\n",
    "# Result path containing all the results from the analysisi\n",
    "resultpath = '../Results/'\n",
    "# ID for the PPI which year it's from \n",
    "PPI_ID = \"2018_08\""
   ]
  },
  {
   "cell_type": "markdown",
   "metadata": {},
   "source": [
    "# Loading all the tables"
   ]
  },
  {
   "cell_type": "markdown",
   "metadata": {},
   "source": [
    "## Loading the raw counts"
   ]
  },
  {
   "cell_type": "code",
   "execution_count": 3,
   "metadata": {},
   "outputs": [],
   "source": [
    "# Load the primary raw screen counts\n",
    "raw_hipo_fec = pd.read_csv(os.path.join(data,'Screen', 'Raw', 'Raw_EggLaying_HpoRNAi.csv'))\n",
    "raw_hipo_ova = pd.read_csv(os.path.join(data,'Screen', 'Raw', 'Raw_Ova_HpoRNAi.csv'))\n",
    "raw_xRNAi_fec = pd.read_csv(os.path.join(data,'Screen', 'Raw', 'Raw_EggLaying.csv'))\n",
    "\n",
    "# Load the prediction results\n",
    "raw_hipo_fec_pred = pd.read_csv(os.path.join(data,'Screen', 'Raw', 'Raw_EggLaying_HpoRNAi_Pred.csv'))\n",
    "raw_hipo_ova_pred = pd.read_csv(os.path.join(data,'Screen', 'Raw', 'Raw_Ova_HpoRNAi_Pred.csv'))\n",
    "raw_xRNAi_fec_pred = pd.read_csv(os.path.join(data,'Screen', 'Raw', 'Raw_EggLaying_Pred.csv'))\n",
    "\n",
    "# Remove Control from dataset\n",
    "raw_hipo_fec = raw_hipo_fec[raw_hipo_fec['FbID'] != 'Control']\n",
    "raw_hipo_ova = raw_hipo_ova[raw_hipo_ova['FbID'] != 'Control']\n",
    "raw_xRNAi_fec = raw_xRNAi_fec[raw_xRNAi_fec['FbID'] != 'Control']\n",
    "\n",
    "# Same on the prediction dataset\n",
    "raw_hipo_fec_pred = raw_hipo_fec_pred[raw_hipo_fec_pred['FbID'] != 'Control']\n",
    "raw_hipo_ova_pred = raw_hipo_ova_pred[raw_hipo_ova_pred['FbID'] != 'Control']\n",
    "raw_xRNAi_fec_pred = raw_xRNAi_fec_pred[raw_xRNAi_fec_pred['FbID'] != 'Control']\n",
    "\n",
    "# # Append the prediction count to the primary screen results\n",
    "# raw_hipo_fec = raw_hipo_fec.append(raw_hipo_fec_pred)\n",
    "# raw_hipo_ova = raw_hipo_ova.append(raw_hipo_ova_pred)\n",
    "# raw_xRNAi_fec = raw_xRNAi_fec.append(raw_xRNAi_fec_pred)\n",
    "\n",
    "# # Remove any duplicate\n",
    "# raw_hipo_fec.drop_duplicates(inplace=True)\n",
    "# raw_hipo_ova.drop_duplicates(inplace=True)\n",
    "# raw_xRNAi_fec.drop_duplicates(inplace=True)"
   ]
  },
  {
   "cell_type": "code",
   "execution_count": 4,
   "metadata": {},
   "outputs": [],
   "source": [
    "hipo_ova = pd.read_csv(os.path.join(data,'Screen', 'hipo_ova_clean.csv'))\n",
    "xRNAi_fec = pd.read_csv(os.path.join(data,'Screen', 'xRNAi_fec_clean.csv'))\n",
    "hipo_fec = pd.read_csv(os.path.join(data,'Screen', 'hipo_fec_clean.csv'))\n",
    "\n",
    "hipo_ova_pred = pd.read_csv(os.path.join(data,'Screen', 'hipo_ova_clean_pred.csv'))\n",
    "xRNAi_fec_pred = pd.read_csv(os.path.join(data,'Screen', 'xRNAi_fec_clean_pred.csv'))\n",
    "hipo_fec_pred = pd.read_csv(os.path.join(data,'Screen', 'hipo_fec_clean_pred.csv'))\n",
    "\n",
    "hipo_ova = hipo_ova[hipo_ova['FbID'] != 'Control']\n",
    "xRNAi_fec = xRNAi_fec[xRNAi_fec['FbID'] != 'Control']\n",
    "hipo_fec = hipo_fec[hipo_fec['FbID'] != 'Control']\n",
    "\n",
    "hipo_ova_pred = hipo_ova_pred[hipo_ova_pred['FbID'] != 'Control']\n",
    "xRNAi_fec_pred = xRNAi_fec_pred[xRNAi_fec_pred['FbID'] != 'Control']\n",
    "hipo_fec_pred = hipo_fec_pred[hipo_fec_pred['FbID'] != 'Control']"
   ]
  },
  {
   "cell_type": "code",
   "execution_count": 5,
   "metadata": {},
   "outputs": [],
   "source": [
    "# Calculate the mean for all datasets\n",
    "mean_ova_gene = hipo_ova.groupby(['FbID'], as_index=False).mean()\n",
    "mean_fec_gene = hipo_fec.groupby(['FbID', 'Condition'], as_index=False).mean()\n",
    "mean_xRNAi_gene = xRNAi_fec.groupby(['FbID', 'Condition'], as_index=False).mean()\n",
    "\n",
    "mean_ova_gene_pred = hipo_ova_pred.groupby(['FbID'], as_index=False).mean()\n",
    "mean_fec_gene_pred = hipo_fec_pred.groupby(['FbID', 'Condition'], as_index=False).mean()\n",
    "mean_xRNAi_gene_pred = xRNAi_fec_pred.groupby(['FbID', 'Condition'], as_index=False).mean()\n",
    "\n",
    "# Calculate the std for ovariole number (only because the other datasets have only 1 measurement)\n",
    "std_ova_gene = hipo_ova.groupby(['FbID']).std().reset_index()\n",
    "std_ova_gene_pred = hipo_ova_pred.groupby(['FbID']).std().reset_index()"
   ]
  },
  {
   "cell_type": "code",
   "execution_count": 6,
   "metadata": {},
   "outputs": [],
   "source": [
    "# mean_ova_gene = mean_ova_gene.append(mean_ova_gene_pred)\n",
    "# mean_fec_gene = mean_fec_gene.append(mean_fec_gene_pred)\n",
    "# mean_xRNAi_gene = mean_xRNAi_gene.append(mean_xRNAi_gene_pred)"
   ]
  },
  {
   "cell_type": "code",
   "execution_count": 7,
   "metadata": {},
   "outputs": [],
   "source": [
    "# Here we select all the genes that were tested in the screen,\n",
    "# because the first screen was Hipo RNAi EggLaying measurement, this dataset contains all the tested genes\n",
    "screen_genes = mean_fec_gene['FbID'].unique()\n",
    "screen_genes_pred = list(mean_fec_gene_pred['FbID'].unique())"
   ]
  },
  {
   "cell_type": "code",
   "execution_count": 8,
   "metadata": {},
   "outputs": [],
   "source": [
    "modules = pd.read_csv(os.path.join(resultpath, \"Modules_Table_{}.csv\".format(PPI_ID)))"
   ]
  },
  {
   "cell_type": "code",
   "execution_count": 9,
   "metadata": {},
   "outputs": [],
   "source": [
    "for fbid in modules[modules['SeedStatus'].str.contains('Connector')]['FbID'].values:\n",
    "    if fbid not in screen_genes_pred:\n",
    "        screen_genes_pred.append(fbid)"
   ]
  },
  {
   "cell_type": "code",
   "execution_count": 10,
   "metadata": {},
   "outputs": [],
   "source": [
    "assert(len(mean_fec_gene['FbID'].unique()) == 463)\n",
    "assert(len(mean_fec_gene_pred['FbID'].unique()) == 42)"
   ]
  },
  {
   "cell_type": "markdown",
   "metadata": {},
   "source": [
    "## Loading gene names"
   ]
  },
  {
   "cell_type": "code",
   "execution_count": 11,
   "metadata": {},
   "outputs": [],
   "source": [
    "names = pd.read_table(os.path.join(data,'GeneName.csv'))"
   ]
  },
  {
   "cell_type": "markdown",
   "metadata": {},
   "source": [
    "## Loading the signaling pathway metadata"
   ]
  },
  {
   "cell_type": "code",
   "execution_count": 12,
   "metadata": {},
   "outputs": [],
   "source": [
    "signaling = pd.read_csv(os.path.join(data,'signaling.csv'))"
   ]
  },
  {
   "cell_type": "markdown",
   "metadata": {},
   "source": [
    "## Loading the PPI network"
   ]
  },
  {
   "cell_type": "code",
   "execution_count": 13,
   "metadata": {},
   "outputs": [],
   "source": [
    "G = nx.read_graphml(os.path.join(data, 'PPIs', 'PPI_{}.graphml'.format(PPI_ID)))"
   ]
  },
  {
   "cell_type": "markdown",
   "metadata": {},
   "source": [
    "## Loading the networks modules"
   ]
  },
  {
   "cell_type": "code",
   "execution_count": 14,
   "metadata": {},
   "outputs": [],
   "source": [
    "# Modules computed in the notebook file: Seed-Connector\n",
    "ova_module_G = nx.read_graphml(os.path.join(resultpath,'Ova_module_{}.graphml'.format(PPI_ID)))\n",
    "fec_module_G = nx.read_graphml(os.path.join(resultpath,'Hpo_EggL_module_{}.graphml'.format(PPI_ID)))\n",
    "xRNAi_module_G = nx.read_graphml(os.path.join(resultpath,'EggL_module_{}.graphml'.format(PPI_ID)))\n",
    "core_module_G = nx.read_graphml(os.path.join(resultpath,'Core_module_{}.graphml'.format(PPI_ID)))\n",
    "\n",
    "# The list of connector genes\n",
    "connectors= pd.read_csv(os.path.join(resultpath,\"ConnectorGeneList_{}.csv\".format(PPI_ID)))"
   ]
  },
  {
   "cell_type": "code",
   "execution_count": 15,
   "metadata": {},
   "outputs": [],
   "source": [
    "# Grab the list of genes for each modules\n",
    "ova_module = ova_module_G.nodes()\n",
    "fec_module = fec_module_G.nodes()\n",
    "xRNAi_module = xRNAi_module_G.nodes()\n",
    "core_module = core_module_G.nodes()"
   ]
  },
  {
   "cell_type": "markdown",
   "metadata": {},
   "source": [
    "## Loading the network metrics"
   ]
  },
  {
   "cell_type": "code",
   "execution_count": 16,
   "metadata": {},
   "outputs": [],
   "source": [
    "betweenness = pd.read_csv(os.path.join(data, \"ScreenPPI_Betweenness.csv\"))\n",
    "closeness = pd.read_csv(os.path.join(data, \"ScreenPPI_Closeness.csv\"))\n",
    "eigenvector = pd.read_csv(os.path.join(data, \"ScreenPPI_Eigenvector.csv\"))\n",
    "degrees_cen = pd.read_csv(os.path.join(data, \"ScreenPPI_DegreeCentrality.csv\"))"
   ]
  },
  {
   "cell_type": "markdown",
   "metadata": {},
   "source": [
    "# Creating the table"
   ]
  },
  {
   "cell_type": "markdown",
   "metadata": {},
   "source": [
    "## Step 1: Make the list of genes"
   ]
  },
  {
   "cell_type": "code",
   "execution_count": 17,
   "metadata": {},
   "outputs": [],
   "source": [
    "table = pd.DataFrame(screen_genes, columns=['FbID'])\n",
    "table_pred = pd.DataFrame(screen_genes_pred, columns=['FbID'])"
   ]
  },
  {
   "cell_type": "code",
   "execution_count": 18,
   "metadata": {},
   "outputs": [],
   "source": [
    "table = table.merge(raw_hipo_fec[['FbID', 'Condition']], how='left', on='FbID')\n",
    "table = table.rename(columns={'Condition':'CG number'})\n",
    "\n",
    "table_pred = table_pred.merge(raw_hipo_fec_pred[['FbID', 'Condition']], how='left', on='FbID')\n",
    "table_pred = table_pred.rename(columns={'Condition':'CG number'})"
   ]
  },
  {
   "cell_type": "code",
   "execution_count": 19,
   "metadata": {
    "scrolled": true
   },
   "outputs": [],
   "source": [
    "table = table.merge(names, how='left', on='FbID')\n",
    "table_pred = table_pred.merge(names, how='left', on='FbID')"
   ]
  },
  {
   "cell_type": "markdown",
   "metadata": {},
   "source": [
    "## Step 2: Add the screen data for each genes"
   ]
  },
  {
   "cell_type": "markdown",
   "metadata": {},
   "source": [
    "### Hippo RNAi Egg Laying"
   ]
  },
  {
   "cell_type": "code",
   "execution_count": 20,
   "metadata": {},
   "outputs": [],
   "source": [
    "# Hippo RNAi Egg Laying screen egg counts\n",
    "# First we merge the existing table using the FbID column for 1 to 1 matching.\n",
    "# Then we rename that collumn for a unique name in the global database table\n",
    "# Rinse and repeat for all values\n",
    "\n",
    "table = table.merge(mean_fec_gene[mean_fec_gene['Condition'] == 'Day 1'][['FbID', 'Count', 'Z']], how='left', on='FbID')\n",
    "table = table.rename(columns={'Z':'HippoRNAi_EggL_Day_1_Egg_Zscore', 'Count':'HippoRNAi_EggL_Day_1_Egg_Count'})\n",
    "table = table.merge(mean_fec_gene[mean_fec_gene['Condition'] == 'Day 2 '][['FbID', 'Count', 'Z']], how='left', on='FbID')\n",
    "table = table.rename(columns={'Z':'HippoRNAi_EggL_Day_2_Egg_Zscore', 'Count':'HippoRNAi_EggL_Day_2_Egg_Count'})\n",
    "table = table.merge(mean_fec_gene[mean_fec_gene['Condition'] == 'Day 3'][['FbID', 'Count', 'Z']], how='left', on='FbID')\n",
    "table = table.rename(columns={'Z':'HippoRNAi_EggL_Day_3_Egg_Zscore', 'Count':'HippoRNAi_EggL_Day_3_Egg_Count'})\n",
    "table = table.merge(mean_fec_gene[mean_fec_gene['Condition'] == 'Day 4 '][['FbID', 'Count', 'Z']], how='left', on='FbID')\n",
    "table = table.rename(columns={'Z':'HippoRNAi_EggL_Day_4_Egg_Zscore', 'Count':'HippoRNAi_EggL_Day_4_Egg_Count'})\n",
    "table = table.merge(mean_fec_gene[mean_fec_gene['Condition'] == 'Day 5'][['FbID', 'Count', 'Z']], how='left', on='FbID')\n",
    "table = table.rename(columns={'Z':'HippoRNAi_EggL_Day_5_Egg_Zscore', 'Count':'HippoRNAi_EggL_Day_5_Egg_Count'})\n",
    "\n",
    "table = table.merge(mean_fec_gene[mean_fec_gene['Condition'] == 'Sum'][['FbID', 'Count', 'Z']], how='left', on='FbID')\n",
    "table = table.rename(columns={'Z':'HippoRNAi_EggL_All_Days_Egg_Sum_Zscore', 'Count':'HippoRNAi_EggL_All_Days_Egg_Sum_Count'})\n",
    "\n",
    "# table = table.merge(mean_fec_gene[mean_fec_gene['Condition'] == 'Sum'][['FbID', 'Batch']], how='left', on='FbID')\n",
    "# table = table.rename(columns={'Batch':'HippoRNAi_EggL_Batch'})"
   ]
  },
  {
   "cell_type": "code",
   "execution_count": 21,
   "metadata": {},
   "outputs": [],
   "source": [
    "table_pred = table_pred.merge(mean_fec_gene_pred[mean_fec_gene_pred['Condition'] == 'Day 1'][['FbID', 'Count', 'Z']], how='left', on='FbID')\n",
    "table_pred = table_pred.rename(columns={'Z':'HippoRNAi_EggL_Day_1_Egg_Zscore', 'Count':'HippoRNAi_EggL_Day_1_Egg_Count'})\n",
    "table_pred = table_pred.merge(mean_fec_gene_pred[mean_fec_gene_pred['Condition'] == 'Day 2 '][['FbID', 'Count', 'Z']], how='left', on='FbID')\n",
    "table_pred = table_pred.rename(columns={'Z':'HippoRNAi_EggL_Day_2_Egg_Zscore', 'Count':'HippoRNAi_EggL_Day_2_Egg_Count'})\n",
    "table_pred = table_pred.merge(mean_fec_gene_pred[mean_fec_gene_pred['Condition'] == 'Day 3'][['FbID', 'Count', 'Z']], how='left', on='FbID')\n",
    "table_pred = table_pred.rename(columns={'Z':'HippoRNAi_EggL_Day_3_Egg_Zscore', 'Count':'HippoRNAi_EggL_Day_3_Egg_Count'})\n",
    "table_pred = table_pred.merge(mean_fec_gene_pred[mean_fec_gene_pred['Condition'] == 'Day 4 '][['FbID', 'Count', 'Z']], how='left', on='FbID')\n",
    "table_pred = table_pred.rename(columns={'Z':'HippoRNAi_EggL_Day_4_Egg_Zscore', 'Count':'HippoRNAi_EggL_Day_4_Egg_Count'})\n",
    "table_pred = table_pred.merge(mean_fec_gene_pred[mean_fec_gene_pred['Condition'] == 'Day 5'][['FbID', 'Count', 'Z']], how='left', on='FbID')\n",
    "table_pred = table_pred.rename(columns={'Z':'HippoRNAi_EggL_Day_5_Egg_Zscore', 'Count':'HippoRNAi_EggL_Day_5_Egg_Count'})\n",
    "\n",
    "table_pred = table_pred.merge(mean_fec_gene_pred[mean_fec_gene_pred['Condition'] == 'Sum'][['FbID', 'Count', 'Z']], how='left', on='FbID')\n",
    "table_pred = table_pred.rename(columns={'Z':'HippoRNAi_EggL_All_Days_Egg_Sum_Zscore', 'Count':'HippoRNAi_EggL_All_Days_Egg_Sum_Count'})\n",
    "\n",
    "# table_pred = table_pred.merge(mean_fec_gene_pred[mean_fec_gene_pred['Condition'] == 'Sum'][['FbID', 'Batch']], how='left', on='FbID')\n",
    "# table_pred = table_pred.rename(columns={'Batch':'HippoRNAi_EggL_Batch'})"
   ]
  },
  {
   "cell_type": "markdown",
   "metadata": {},
   "source": [
    "### Egg Laying"
   ]
  },
  {
   "cell_type": "code",
   "execution_count": 22,
   "metadata": {},
   "outputs": [],
   "source": [
    "# Egg Laying screen egg counts\n",
    "# We use the same technic as above\n",
    "table = table.merge(mean_xRNAi_gene[mean_xRNAi_gene['Condition'] == 'Day 1'][['FbID', 'Count', 'Z']], how='left', on='FbID')\n",
    "table = table.rename(columns={'Z':'EggL_Day_1_Egg_Zscore', 'Count':'EggL_Day_1_Egg_Count'})\n",
    "table = table.merge(mean_xRNAi_gene[mean_xRNAi_gene['Condition'] == 'Day 2 '][['FbID', 'Count', 'Z']], how='left', on='FbID')\n",
    "table = table.rename(columns={'Z':'EggL_Day_2_Egg_Zscore', 'Count':'EggL_Day_2_Egg_Count'})\n",
    "table = table.merge(mean_xRNAi_gene[mean_xRNAi_gene['Condition'] == 'Day 3'][['FbID', 'Count', 'Z']], how='left', on='FbID')\n",
    "table = table.rename(columns={'Z':'EggL_Day_3_Egg_Zscore', 'Count':'EggL_Day_3_Egg_Count'})\n",
    "table = table.merge(mean_xRNAi_gene[mean_xRNAi_gene['Condition'] == 'Day 4 '][['FbID', 'Count', 'Z']], how='left', on='FbID')\n",
    "table = table.rename(columns={'Z':'EggL_Day_4_Egg_Zscore', 'Count':'EggL_Day_4_Egg_Count'})\n",
    "table = table.merge(mean_xRNAi_gene[mean_xRNAi_gene['Condition'] == 'Day 5'][['FbID', 'Count', 'Z']], how='left', on='FbID')\n",
    "table = table.rename(columns={'Z':'EggL_Day_5_Egg_Zscore', 'Count':'EggL_Day_5_Egg_Count'})\n",
    "\n",
    "table = table.merge(mean_xRNAi_gene[mean_xRNAi_gene['Condition'] == 'Sum'][['FbID', 'Count', 'Z']], how='left', on='FbID')\n",
    "table = table.rename(columns={'Z':'EggL_All_Days_Egg_Sum_Zscore', 'Count':'EggL_All_Days_Egg_Sum_Count'})\n",
    "\n",
    "# table = table.merge(mean_xRNAi_gene[mean_xRNAi_gene['Condition'] == 'Sum'][['FbID','Batch']], how='left', on='FbID')\n",
    "# table = table.rename(columns={'Batch':'EggL_Batch'})"
   ]
  },
  {
   "cell_type": "code",
   "execution_count": 23,
   "metadata": {},
   "outputs": [],
   "source": [
    "# Egg Laying screen egg counts\n",
    "# We use the same technic as above\n",
    "table_pred = table_pred.merge(mean_xRNAi_gene_pred[mean_xRNAi_gene_pred['Condition'] == 'Day 1'][['FbID', 'Count', 'Z']], how='left', on='FbID')\n",
    "table_pred = table_pred.rename(columns={'Z':'EggL_Day_1_Egg_Zscore', 'Count':'EggL_Day_1_Egg_Count'})\n",
    "table_pred = table_pred.merge(mean_xRNAi_gene_pred[mean_xRNAi_gene_pred['Condition'] == 'Day 2 '][['FbID', 'Count', 'Z']], how='left', on='FbID')\n",
    "table_pred = table_pred.rename(columns={'Z':'EggL_Day_2_Egg_Zscore', 'Count':'EggL_Day_2_Egg_Count'})\n",
    "table_pred = table_pred.merge(mean_xRNAi_gene_pred[mean_xRNAi_gene_pred['Condition'] == 'Day 3'][['FbID', 'Count', 'Z']], how='left', on='FbID')\n",
    "table_pred = table_pred.rename(columns={'Z':'EggL_Day_3_Egg_Zscore', 'Count':'EggL_Day_3_Egg_Count'})\n",
    "table_pred = table_pred.merge(mean_xRNAi_gene_pred[mean_xRNAi_gene_pred['Condition'] == 'Day 4 '][['FbID', 'Count', 'Z']], how='left', on='FbID')\n",
    "table_pred = table_pred.rename(columns={'Z':'EggL_Day_4_Egg_Zscore', 'Count':'EggL_Day_4_Egg_Count'})\n",
    "table_pred = table_pred.merge(mean_xRNAi_gene_pred[mean_xRNAi_gene_pred['Condition'] == 'Day 5'][['FbID', 'Count', 'Z']], how='left', on='FbID')\n",
    "table_pred = table_pred.rename(columns={'Z':'EggL_Day_5_Egg_Zscore', 'Count':'EggL_Day_5_Egg_Count'})\n",
    "\n",
    "table_pred = table_pred.merge(mean_xRNAi_gene_pred[mean_xRNAi_gene_pred['Condition'] == 'Sum'][['FbID', 'Count', 'Z']], how='left', on='FbID')\n",
    "table_pred = table_pred.rename(columns={'Z':'EggL_All_Days_Egg_Sum_Zscore', 'Count':'EggL_All_Days_Egg_Sum_Count'})\n",
    "\n",
    "# table_pred = table_pred.merge(mean_xRNAi_gene_pred[mean_xRNAi_gene_pred['Condition'] == 'Sum'][['FbID','Batch']], how='left', on='FbID')\n",
    "# table_pred = table_pred.rename(columns={'Batch':'EggL_Batch'})"
   ]
  },
  {
   "cell_type": "markdown",
   "metadata": {},
   "source": [
    "### Ovariole Number"
   ]
  },
  {
   "cell_type": "code",
   "execution_count": 24,
   "metadata": {},
   "outputs": [],
   "source": [
    "# Hippo RNAi Ovariole number counts screen\n",
    "# We can merge all the data directly because we do not have many conditions in this table\n",
    "table = table.merge(mean_ova_gene[['FbID', 'OvarioleNb', 'Z']], how='left', on='FbID')\n",
    "table = table.rename(columns={'Batch':'HippoRNAi_Ova_Batch', \n",
    "                              'OvarioleNb':'HippoRNAi_Ova_OvarioleNb_Mean_Count', \n",
    "                              'Z':'HippoRNAi_Ova_OvarioleNb_Mean_Zscore'})\n",
    "\n",
    "table = table.merge(std_ova_gene[['FbID', 'OvarioleNb']], how='left', on='FbID')\n",
    "table = table.rename(columns={'OvarioleNb':'HippoRNAi_Ova_OvarioleNb_Std_Count'})"
   ]
  },
  {
   "cell_type": "code",
   "execution_count": 25,
   "metadata": {},
   "outputs": [],
   "source": [
    "table_pred = table_pred.merge(mean_ova_gene_pred[['FbID', 'OvarioleNb', 'Z']], how='left', on='FbID')\n",
    "table_pred = table_pred.rename(columns={'Batch':'HippoRNAi_Ova_Batch', \n",
    "                              'OvarioleNb':'HippoRNAi_Ova_OvarioleNb_Mean_Count', \n",
    "                              'Z':'HippoRNAi_Ova_OvarioleNb_Mean_Zscore'})\n",
    "\n",
    "table_pred = table_pred.merge(std_ova_gene_pred[['FbID', 'OvarioleNb']], how='left', on='FbID')\n",
    "table_pred = table_pred.rename(columns={'OvarioleNb':'HippoRNAi_Ova_OvarioleNb_Std_Count'})"
   ]
  },
  {
   "cell_type": "code",
   "execution_count": 26,
   "metadata": {},
   "outputs": [],
   "source": [
    "# But we want to add the raw data to the table, so we extract the 20 columns from the raw counts\n",
    "raw = raw_hipo_ova[raw_hipo_ova['FbID'].notnull()][['Fly 1', 'Fly 1.1', 'Fly 2', 'Fly 2.1', \n",
    "                                            'Fly 3', 'Fly 3.1', 'Fly 4', 'Fly 4.1', \n",
    "                                            'Fly 5', 'Fly 5.1', 'Fly 6', 'Fly 6.1',\n",
    "                                            'Fly 7', 'Fly 7.1', 'Fly 8', 'Fly 8.1',\n",
    "                                            'Fly 9','Fly 9.1', 'Fly 10', 'Fly 10.1',\n",
    "                                                 'FbID']].groupby(['FbID']).mean().reset_index()"
   ]
  },
  {
   "cell_type": "code",
   "execution_count": 27,
   "metadata": {},
   "outputs": [],
   "source": [
    "raw_pred = raw_hipo_ova_pred[raw_hipo_ova_pred['FbID'].notnull()][['Fly 1', 'Fly 1.1', 'Fly 2', 'Fly 2.1', \n",
    "                                            'Fly 3', 'Fly 3.1', 'Fly 4', 'Fly 4.1', \n",
    "                                            'Fly 5', 'Fly 5.1', 'Fly 6', 'Fly 6.1',\n",
    "                                            'Fly 7', 'Fly 7.1', 'Fly 8', 'Fly 8.1',\n",
    "                                            'Fly 9','Fly 9.1', 'Fly 10', 'Fly 10.1',\n",
    "                                                 'FbID']].groupby(['FbID']).mean().reset_index()"
   ]
  },
  {
   "cell_type": "code",
   "execution_count": 28,
   "metadata": {},
   "outputs": [],
   "source": [
    "# We merge them\n",
    "table = table.merge(raw, how='left', on='FbID')\n",
    "table_pred = table_pred.merge(raw_pred, how='left', on='FbID')\n"
   ]
  },
  {
   "cell_type": "code",
   "execution_count": 29,
   "metadata": {},
   "outputs": [],
   "source": [
    "# And then we rename them to follow the naming scheme\n",
    "table = table.rename(columns={'Fly 1'   : \"HippoRNAi_Ova_OvarioleNb_Fly_1.1_Count\",\n",
    "                              'Fly 1.1' : \"HippoRNAi_Ova_OvarioleNb_Fly_1.2_Count\",\n",
    "                              'Fly 2'   : \"HippoRNAi_Ova_OvarioleNb_Fly_2.1_Count\",\n",
    "                              'Fly 2.1' : \"HippoRNAi_Ova_OvarioleNb_Fly_2.2_Count\",\n",
    "                              'Fly 3'   : \"HippoRNAi_Ova_OvarioleNb_Fly_3.1_Count\",\n",
    "                              'Fly 3.1' : \"HippoRNAi_Ova_OvarioleNb_Fly_3.2_Count\",\n",
    "                              'Fly 4'   : \"HippoRNAi_Ova_OvarioleNb_Fly_4.1_Count\",\n",
    "                              'Fly 4.1' : \"HippoRNAi_Ova_OvarioleNb_Fly_4.2_Count\",\n",
    "                              'Fly 5'   : \"HippoRNAi_Ova_OvarioleNb_Fly_5.1_Count\",\n",
    "                              'Fly 5.1' : \"HippoRNAi_Ova_OvarioleNb_Fly_5.2_Count\",\n",
    "                              'Fly 6'   : \"HippoRNAi_Ova_OvarioleNb_Fly_6.1_Count\",\n",
    "                              'Fly 6.1' : \"HippoRNAi_Ova_OvarioleNb_Fly_6.2_Count\",\n",
    "                              'Fly 7'   : \"HippoRNAi_Ova_OvarioleNb_Fly_7.1_Count\",\n",
    "                              'Fly 7.1' : \"HippoRNAi_Ova_OvarioleNb_Fly_7.2_Count\",\n",
    "                              'Fly 8'   : \"HippoRNAi_Ova_OvarioleNb_Fly_8.1_Count\",\n",
    "                              'Fly 8.1' : \"HippoRNAi_Ova_OvarioleNb_Fly_8.2_Count\",\n",
    "                              'Fly 9'   : \"HippoRNAi_Ova_OvarioleNb_Fly_9.1_Count\",\n",
    "                              'Fly 9.1' : \"HippoRNAi_Ova_OvarioleNb_Fly_9.2_Count\",\n",
    "                              'Fly 10'  : \"HippoRNAi_Ova_OvarioleNb_Fly_10.1_Count\",\n",
    "                              'Fly 10.1': \"HippoRNAi_Ova_OvarioleNb_Fly_10.2_Count\"\n",
    "                             })"
   ]
  },
  {
   "cell_type": "code",
   "execution_count": 30,
   "metadata": {},
   "outputs": [],
   "source": [
    "# And then we rename them to follow the naming scheme\n",
    "table_pred = table_pred.rename(columns={'Fly 1'   : \"HippoRNAi_Ova_OvarioleNb_Fly_1.1_Count\",\n",
    "                              'Fly 1.1' : \"HippoRNAi_Ova_OvarioleNb_Fly_1.2_Count\",\n",
    "                              'Fly 2'   : \"HippoRNAi_Ova_OvarioleNb_Fly_2.1_Count\",\n",
    "                              'Fly 2.1' : \"HippoRNAi_Ova_OvarioleNb_Fly_2.2_Count\",\n",
    "                              'Fly 3'   : \"HippoRNAi_Ova_OvarioleNb_Fly_3.1_Count\",\n",
    "                              'Fly 3.1' : \"HippoRNAi_Ova_OvarioleNb_Fly_3.2_Count\",\n",
    "                              'Fly 4'   : \"HippoRNAi_Ova_OvarioleNb_Fly_4.1_Count\",\n",
    "                              'Fly 4.1' : \"HippoRNAi_Ova_OvarioleNb_Fly_4.2_Count\",\n",
    "                              'Fly 5'   : \"HippoRNAi_Ova_OvarioleNb_Fly_5.1_Count\",\n",
    "                              'Fly 5.1' : \"HippoRNAi_Ova_OvarioleNb_Fly_5.2_Count\",\n",
    "                              'Fly 6'   : \"HippoRNAi_Ova_OvarioleNb_Fly_6.1_Count\",\n",
    "                              'Fly 6.1' : \"HippoRNAi_Ova_OvarioleNb_Fly_6.2_Count\",\n",
    "                              'Fly 7'   : \"HippoRNAi_Ova_OvarioleNb_Fly_7.1_Count\",\n",
    "                              'Fly 7.1' : \"HippoRNAi_Ova_OvarioleNb_Fly_7.2_Count\",\n",
    "                              'Fly 8'   : \"HippoRNAi_Ova_OvarioleNb_Fly_8.1_Count\",\n",
    "                              'Fly 8.1' : \"HippoRNAi_Ova_OvarioleNb_Fly_8.2_Count\",\n",
    "                              'Fly 9'   : \"HippoRNAi_Ova_OvarioleNb_Fly_9.1_Count\",\n",
    "                              'Fly 9.1' : \"HippoRNAi_Ova_OvarioleNb_Fly_9.2_Count\",\n",
    "                              'Fly 10'  : \"HippoRNAi_Ova_OvarioleNb_Fly_10.1_Count\",\n",
    "                              'Fly 10.1': \"HippoRNAi_Ova_OvarioleNb_Fly_10.2_Count\"\n",
    "                             })"
   ]
  },
  {
   "cell_type": "code",
   "execution_count": 31,
   "metadata": {},
   "outputs": [],
   "source": [
    "# Finally we finished entering the raw data into the table so we append both tables together prior to adding the metadata.\n",
    "table = table.append(table_pred)"
   ]
  },
  {
   "cell_type": "markdown",
   "metadata": {},
   "source": [
    "## Step 3: Adding the network metrics"
   ]
  },
  {
   "cell_type": "code",
   "execution_count": 32,
   "metadata": {},
   "outputs": [],
   "source": [
    "# Merge and rename as above\n",
    "table = table.merge(betweenness, how='left', on='FbID')\n",
    "table = table.rename(columns={'Betweeness':'PPI_betweenness_centrality'})"
   ]
  },
  {
   "cell_type": "code",
   "execution_count": 33,
   "metadata": {},
   "outputs": [],
   "source": [
    "table = table.merge(closeness, how='left', on='FbID')\n",
    "table = table.rename(columns={'Closeness':'PPI_closeness_centrality'})"
   ]
  },
  {
   "cell_type": "code",
   "execution_count": 34,
   "metadata": {},
   "outputs": [],
   "source": [
    "table = table.merge(eigenvector, how='left', on='FbID')\n",
    "table = table.rename(columns={'EigenVector':'PPI_eigenvector_centrality'})"
   ]
  },
  {
   "cell_type": "code",
   "execution_count": 35,
   "metadata": {},
   "outputs": [],
   "source": [
    "table = table.merge(degrees_cen, how='left', on='FbID')\n",
    "table = table.rename(columns={'DegreeC':'PPI_degree_centrality'})"
   ]
  },
  {
   "cell_type": "markdown",
   "metadata": {},
   "source": [
    "## Step 4: Adding the newtork modules"
   ]
  },
  {
   "cell_type": "code",
   "execution_count": 36,
   "metadata": {},
   "outputs": [],
   "source": [
    "# We create 4 columns, where if a gene is found in a module it is 1 if not a 0\n",
    "# np.where is key here, if condition == true, then X, else Y \n",
    "table['HippoRNAi_Ova_Module'] = np.where(table['FbID'].isin(ova_module), 1, 0)\n",
    "table['HippoRNAi_EggL_Module'] = np.where(table['FbID'].isin(fec_module), 1, 0)\n",
    "table['EggL_Module'] = np.where(table['FbID'].isin(xRNAi_module), 1, 0)\n",
    "table['Core_Module'] = np.where(table['FbID'].isin(core_module), 1, 0)"
   ]
  },
  {
   "cell_type": "code",
   "execution_count": 37,
   "metadata": {},
   "outputs": [],
   "source": [
    "meta_modules = np.array([np.where(table['FbID'].isin(ova_module), 1, 0), np.where(table['FbID'].isin(fec_module), 1, 0), np.where(table['FbID'].isin(xRNAi_module), 1, 0)])\n",
    "modules = [\"001\",\"100\",\"010\",\"111\",\"011\",\"101\",\"110\",\"000\"]\n",
    "modules_leg = [\"I\",\"II\",\"III\",\"IV\",\"V\",\"VI\",\"VII\",\"\"]\n",
    "res = []\n",
    "for el in meta_modules.T:\n",
    "    i = modules.index(''.join([str(s) for s in el]))\n",
    "    res.append(modules_leg[i])\n",
    "table['Meta_Module'] = res"
   ]
  },
  {
   "cell_type": "code",
   "execution_count": 38,
   "metadata": {},
   "outputs": [
    {
     "data": {
      "text/plain": [
       "Index(['FbID', 'CG number', 'NAME', 'SYMBOL', 'HippoRNAi_EggL_Day_1_Egg_Count',\n",
       "       'HippoRNAi_EggL_Day_1_Egg_Zscore', 'HippoRNAi_EggL_Day_2_Egg_Count',\n",
       "       'HippoRNAi_EggL_Day_2_Egg_Zscore', 'HippoRNAi_EggL_Day_3_Egg_Count',\n",
       "       'HippoRNAi_EggL_Day_3_Egg_Zscore', 'HippoRNAi_EggL_Day_4_Egg_Count',\n",
       "       'HippoRNAi_EggL_Day_4_Egg_Zscore', 'HippoRNAi_EggL_Day_5_Egg_Count',\n",
       "       'HippoRNAi_EggL_Day_5_Egg_Zscore',\n",
       "       'HippoRNAi_EggL_All_Days_Egg_Sum_Count',\n",
       "       'HippoRNAi_EggL_All_Days_Egg_Sum_Zscore', 'EggL_Day_1_Egg_Count',\n",
       "       'EggL_Day_1_Egg_Zscore', 'EggL_Day_2_Egg_Count',\n",
       "       'EggL_Day_2_Egg_Zscore', 'EggL_Day_3_Egg_Count',\n",
       "       'EggL_Day_3_Egg_Zscore', 'EggL_Day_4_Egg_Count',\n",
       "       'EggL_Day_4_Egg_Zscore', 'EggL_Day_5_Egg_Count',\n",
       "       'EggL_Day_5_Egg_Zscore', 'EggL_All_Days_Egg_Sum_Count',\n",
       "       'EggL_All_Days_Egg_Sum_Zscore', 'HippoRNAi_Ova_OvarioleNb_Mean_Count',\n",
       "       'HippoRNAi_Ova_OvarioleNb_Mean_Zscore',\n",
       "       'HippoRNAi_Ova_OvarioleNb_Std_Count',\n",
       "       'HippoRNAi_Ova_OvarioleNb_Fly_1.1_Count',\n",
       "       'HippoRNAi_Ova_OvarioleNb_Fly_1.2_Count',\n",
       "       'HippoRNAi_Ova_OvarioleNb_Fly_2.1_Count',\n",
       "       'HippoRNAi_Ova_OvarioleNb_Fly_2.2_Count',\n",
       "       'HippoRNAi_Ova_OvarioleNb_Fly_3.1_Count',\n",
       "       'HippoRNAi_Ova_OvarioleNb_Fly_3.2_Count',\n",
       "       'HippoRNAi_Ova_OvarioleNb_Fly_4.1_Count',\n",
       "       'HippoRNAi_Ova_OvarioleNb_Fly_4.2_Count',\n",
       "       'HippoRNAi_Ova_OvarioleNb_Fly_5.1_Count',\n",
       "       'HippoRNAi_Ova_OvarioleNb_Fly_5.2_Count',\n",
       "       'HippoRNAi_Ova_OvarioleNb_Fly_6.1_Count',\n",
       "       'HippoRNAi_Ova_OvarioleNb_Fly_6.2_Count',\n",
       "       'HippoRNAi_Ova_OvarioleNb_Fly_7.1_Count',\n",
       "       'HippoRNAi_Ova_OvarioleNb_Fly_7.2_Count',\n",
       "       'HippoRNAi_Ova_OvarioleNb_Fly_8.1_Count',\n",
       "       'HippoRNAi_Ova_OvarioleNb_Fly_8.2_Count',\n",
       "       'HippoRNAi_Ova_OvarioleNb_Fly_9.1_Count',\n",
       "       'HippoRNAi_Ova_OvarioleNb_Fly_9.2_Count',\n",
       "       'HippoRNAi_Ova_OvarioleNb_Fly_10.1_Count',\n",
       "       'HippoRNAi_Ova_OvarioleNb_Fly_10.2_Count', 'PPI_betweenness_centrality',\n",
       "       'PPI_closeness_centrality', 'PPI_eigenvector_centrality',\n",
       "       'PPI_degree_centrality', 'HippoRNAi_Ova_Module',\n",
       "       'HippoRNAi_EggL_Module', 'EggL_Module', 'Core_Module', 'Meta_Module'],\n",
       "      dtype='object')"
      ]
     },
     "execution_count": 38,
     "metadata": {},
     "output_type": "execute_result"
    }
   ],
   "source": [
    "table.columns"
   ]
  },
  {
   "cell_type": "markdown",
   "metadata": {},
   "source": [
    "## Step 5: Adding Signaling pathways"
   ]
  },
  {
   "cell_type": "code",
   "execution_count": 39,
   "metadata": {},
   "outputs": [],
   "source": [
    "# We need to make this tidy data, so we need to add one column per signaling patway, with a 0 or a 1 \n",
    "# We iterate over all signaling pathway and add a column for each with 1 and 0s using the same np.where technic as above\n",
    "# But we first need to make the list of FbID that have this signaling pathway \n",
    "# that is: pathway_genes = signaling[signaling['Sig'] == pathway]['FbID']\n",
    "for pathway in signaling['Sig'].unique():\n",
    "    pathway_genes = signaling[signaling['Sig'] == pathway]['FbID']\n",
    "    table['{}_pathway'.format(pathway)] = np.where(table['FbID'].isin(pathway_genes), 1, 0)"
   ]
  },
  {
   "cell_type": "markdown",
   "metadata": {},
   "source": [
    "## Step 6: Adding Connector genes"
   ]
  },
  {
   "cell_type": "code",
   "execution_count": 40,
   "metadata": {},
   "outputs": [],
   "source": [
    "table['HpoOva_Connector'] = table['FbID'].isin(connectors[connectors['Module'] == 'Ova']['FbID'].values)\n",
    "table['HpoEggL_Connector'] = table['FbID'].isin(connectors[connectors['Module'] == 'HpoFec']['FbID'].values)\n",
    "table['EggL_Connector'] = table['FbID'].isin(connectors[connectors['Module'] == 'xRNAiFec']['FbID'].values)\n",
    "table['Core_Connector'] = table['FbID'].isin(connectors[connectors['Module'] == 'Core']['FbID'].values)"
   ]
  },
  {
   "cell_type": "markdown",
   "metadata": {},
   "source": [
    "## Step 7: Cleaning up"
   ]
  },
  {
   "cell_type": "code",
   "execution_count": 41,
   "metadata": {},
   "outputs": [],
   "source": [
    "final_order = ['FbID',\n",
    "'CG number',\n",
    "'NAME',\n",
    "'SYMBOL',\n",
    "'HippoRNAi_EggL_Day_1_Egg_Count',\n",
    "'HippoRNAi_EggL_Day_1_Egg_Zscore',\n",
    "'HippoRNAi_EggL_Day_2_Egg_Count',\n",
    "'HippoRNAi_EggL_Day_2_Egg_Zscore',\n",
    "'HippoRNAi_EggL_Day_3_Egg_Count',\n",
    "'HippoRNAi_EggL_Day_3_Egg_Zscore',\n",
    "'HippoRNAi_EggL_Day_4_Egg_Count',\n",
    "'HippoRNAi_EggL_Day_4_Egg_Zscore',\n",
    "'HippoRNAi_EggL_Day_5_Egg_Count',\n",
    "'HippoRNAi_EggL_Day_5_Egg_Zscore',\n",
    "'HippoRNAi_EggL_All_Days_Egg_Sum_Count',\n",
    "'HippoRNAi_EggL_All_Days_Egg_Sum_Zscore',\n",
    "'EggL_Day_1_Egg_Count',\n",
    "'EggL_Day_1_Egg_Zscore',\n",
    "'EggL_Day_2_Egg_Count',\n",
    "'EggL_Day_2_Egg_Zscore',\n",
    "'EggL_Day_3_Egg_Count',\n",
    "'EggL_Day_3_Egg_Zscore',\n",
    "'EggL_Day_4_Egg_Count',\n",
    "'EggL_Day_4_Egg_Zscore',\n",
    "'EggL_Day_5_Egg_Count',\n",
    "'EggL_Day_5_Egg_Zscore',\n",
    "'EggL_All_Days_Egg_Sum_Count',\n",
    "'EggL_All_Days_Egg_Sum_Zscore',\n",
    "'HippoRNAi_Ova_OvarioleNb_Fly_1.1_Count',\n",
    "'HippoRNAi_Ova_OvarioleNb_Fly_1.2_Count',\n",
    "'HippoRNAi_Ova_OvarioleNb_Fly_2.1_Count',\n",
    "'HippoRNAi_Ova_OvarioleNb_Fly_2.2_Count',\n",
    "'HippoRNAi_Ova_OvarioleNb_Fly_3.1_Count',\n",
    "'HippoRNAi_Ova_OvarioleNb_Fly_3.2_Count',\n",
    "'HippoRNAi_Ova_OvarioleNb_Fly_4.1_Count',\n",
    "'HippoRNAi_Ova_OvarioleNb_Fly_4.2_Count',\n",
    "'HippoRNAi_Ova_OvarioleNb_Fly_5.1_Count',\n",
    "'HippoRNAi_Ova_OvarioleNb_Fly_5.2_Count',\n",
    "'HippoRNAi_Ova_OvarioleNb_Fly_6.1_Count',\n",
    "'HippoRNAi_Ova_OvarioleNb_Fly_6.2_Count',\n",
    "'HippoRNAi_Ova_OvarioleNb_Fly_7.1_Count',\n",
    "'HippoRNAi_Ova_OvarioleNb_Fly_7.2_Count',\n",
    "'HippoRNAi_Ova_OvarioleNb_Fly_8.1_Count',\n",
    "'HippoRNAi_Ova_OvarioleNb_Fly_8.2_Count',\n",
    "'HippoRNAi_Ova_OvarioleNb_Fly_9.1_Count',\n",
    "'HippoRNAi_Ova_OvarioleNb_Fly_9.2_Count',\n",
    "'HippoRNAi_Ova_OvarioleNb_Fly_10.1_Count',\n",
    "'HippoRNAi_Ova_OvarioleNb_Fly_10.2_Count',\n",
    "'HippoRNAi_Ova_OvarioleNb_Mean_Count',\n",
    "'HippoRNAi_Ova_OvarioleNb_Std_Count',\n",
    "'HippoRNAi_Ova_OvarioleNb_Mean_Zscore',\n",
    "'PPI_betweenness_centrality',\n",
    "'PPI_closeness_centrality',\n",
    "'PPI_eigenvector_centrality',\n",
    "'PPI_degree_centrality',\n",
    "'HippoRNAi_Ova_Module',\n",
    "'HippoRNAi_EggL_Module',\n",
    "'EggL_Module',\n",
    "'Core_Module',\n",
    "'Meta_Module',\n",
    "'HpoOva_Connector',\n",
    "'HpoEggL_Connector',\n",
    "'EggL_Connector',\n",
    "'Core_Connector',\n",
    "'FGF_pathway',\n",
    "'VEGF_pathway',\n",
    "'Toll_pathway',\n",
    "'JNK_pathway',\n",
    "'EGF_pathway',\n",
    "'mTOR_pathway',\n",
    "'FOXO_pathway',\n",
    "'SHH_pathway',\n",
    "'Hippo_pathway',\n",
    "'JAK/STAT_pathway',\n",
    "'Wnt_pathway',\n",
    "'Notch_pathway',\n",
    "'TGF B_pathway',\n",
    "'MAPK_pathway']"
   ]
  },
  {
   "cell_type": "code",
   "execution_count": 42,
   "metadata": {},
   "outputs": [],
   "source": [
    "table = table[final_order]"
   ]
  },
  {
   "cell_type": "code",
   "execution_count": 43,
   "metadata": {},
   "outputs": [],
   "source": [
    "def round_centrality(x):\n",
    "    return round(x, 10)\n",
    "\n",
    "for col in [c for c in table.columns if 'PPI_' in c]:\n",
    "    table[col] = table[col].apply(round_centrality)"
   ]
  },
  {
   "cell_type": "code",
   "execution_count": 44,
   "metadata": {},
   "outputs": [],
   "source": [
    "for col in [c for c in table.columns if 'PPI_' in c]:\n",
    "    table[col] = table[col].fillna('NotInPPI')"
   ]
  },
  {
   "cell_type": "code",
   "execution_count": 45,
   "metadata": {},
   "outputs": [],
   "source": [
    "for col in [c for c in table.columns if '_Module' in c]:\n",
    "    if not 'Meta' in col:\n",
    "        PPIcheck = table['PPI_closeness_centrality'].values\n",
    "        tmp = table[col].values.astype(str)\n",
    "        for i in range(len(tmp)):\n",
    "            if PPIcheck[i] == 'NotInPPI':\n",
    "                tmp[i] = 'NotInPPI'\n",
    "            else:\n",
    "                if tmp[i] == '0':\n",
    "                    tmp[i] = 'False'\n",
    "                else:\n",
    "                    tmp[i] = 'True'\n",
    "        table[col] = tmp"
   ]
  },
  {
   "cell_type": "code",
   "execution_count": 46,
   "metadata": {},
   "outputs": [],
   "source": [
    "for col in [c for c in table.columns if '_Connector' in c]:\n",
    "    PPIcheck = table['PPI_closeness_centrality'].values\n",
    "    tmp = table[col].values.astype(object)\n",
    "    for i in range(len(tmp)):\n",
    "        if PPIcheck[i] == 'NotInPPI':\n",
    "            tmp[i] = \"NotInPPI\"\n",
    "    table[col] = tmp"
   ]
  },
  {
   "cell_type": "code",
   "execution_count": 47,
   "metadata": {},
   "outputs": [],
   "source": [
    "def round_zscore(x):\n",
    "    return round(x, 4)\n",
    "\n",
    "for col in [c for c in table.columns if '_Zscore' in c]:\n",
    "    table[col] = table[col].apply(round_zscore)"
   ]
  },
  {
   "cell_type": "code",
   "execution_count": 48,
   "metadata": {},
   "outputs": [],
   "source": [
    "# Adding the CG number for the missing connector\n",
    "table.at[table[table['FbID'] == 'FBgn0027619'].index, 'CG number'] = \"CG12131\""
   ]
  },
  {
   "cell_type": "markdown",
   "metadata": {},
   "source": [
    "# Asserting that the data is correctly entered"
   ]
  },
  {
   "cell_type": "code",
   "execution_count": 49,
   "metadata": {},
   "outputs": [],
   "source": [
    "# Test that the number of genes in the database is equal to the number of gene screened in the primary screen\n",
    "assert(len(table) == len(screen_genes) + len(screen_genes_pred)) # -1 to get rid of the control ID\n",
    "total_datapoints = len(screen_genes) + len(screen_genes_pred)"
   ]
  },
  {
   "cell_type": "code",
   "execution_count": 50,
   "metadata": {},
   "outputs": [],
   "source": [
    "# Test that the number of values in each screen correspond to the raw table for each collumn\n",
    "# We iterate over all the collumns\n",
    "# For each collumns we define a test\n",
    "# try the assertion\n",
    "# if wrong then print an error message\n",
    "for column in table.columns:\n",
    "    if 'Module' in column:\n",
    "        try:\n",
    "            assert(len(table[table[column].notna()]) == total_datapoints)\n",
    "        except:\n",
    "            print(\"Discrepancy in column: {}\".format(column))\n",
    "    elif '_pathway' in column:\n",
    "        try:\n",
    "            assert(len(table[table[column].notna()]) == total_datapoints)\n",
    "        except:\n",
    "            print(\"Discrepancy in column: {}\".format(column))\n",
    "    elif 'HippoRNAi_EggL' in column:\n",
    "        try:\n",
    "            assert(len(table[table[column].notna()]) == total_datapoints - 1)\n",
    "        except:\n",
    "            print(\"Discrepancy in column: {}\".format(column))\n",
    "    elif 'EggL' in column and not \"Connector\" in column:\n",
    "        try:\n",
    "            assert(len(table[table[column].notna()]) == len(mean_xRNAi_gene['FbID'].unique()) + len(screen_genes_pred) - 1)\n",
    "        except:\n",
    "            print(\"Discrepancy in column: {}\".format(column))\n",
    "    elif 'HippoRNAi_Ova' in column:\n",
    "        try:\n",
    "            assert(len(table[table[column].notna()]) == len(mean_ova_gene['FbID'].unique()) + len(screen_genes_pred) - 1)\n",
    "        except:\n",
    "            print(\"Discrepancy in column: {}\".format(column))\n",
    "    elif 'Connector_Gene' == column:\n",
    "        try:\n",
    "            assert(len(table[table[column] == 1]) == len(connectors['FbID'].unique()))\n",
    "        except:\n",
    "            print(\"Discrepancy in column: {}\".format(column))\n",
    "    elif 'PPI_' in column:\n",
    "        try:\n",
    "            assert(len(table[table[column] != 'NotInPPI']) ==  len(table[table['FbID'].isin(G.nodes())]))\n",
    "        except:\n",
    "            print(\"Discrepancy in column: {}\".format(column))\n",
    "    elif \"CG\" in column:\n",
    "        try:\n",
    "            assert(len(table[table[column].notna()]) == total_datapoints)\n",
    "        except:\n",
    "            print(\"Discrepancy in column: {}\".format(column))\n",
    "            "
   ]
  },
  {
   "cell_type": "markdown",
   "metadata": {},
   "source": [
    "# Saving the table"
   ]
  },
  {
   "cell_type": "code",
   "execution_count": 51,
   "metadata": {},
   "outputs": [],
   "source": [
    "table.to_csv(os.path.join(resultpath, \"MasterTable.csv\"), index=False)"
   ]
  },
  {
   "cell_type": "code",
   "execution_count": null,
   "metadata": {},
   "outputs": [],
   "source": []
  },
  {
   "cell_type": "code",
   "execution_count": null,
   "metadata": {},
   "outputs": [],
   "source": []
  },
  {
   "cell_type": "code",
   "execution_count": 87,
   "metadata": {},
   "outputs": [
    {
     "data": {
      "text/plain": [
       "81"
      ]
     },
     "execution_count": 87,
     "metadata": {},
     "output_type": "execute_result"
    }
   ],
   "source": [
    "len(table[table['HippoRNAi_Ova_Module'] == 'True']['FbID'])"
   ]
  },
  {
   "cell_type": "code",
   "execution_count": 85,
   "metadata": {},
   "outputs": [
    {
     "data": {
      "text/plain": [
       "41"
      ]
     },
     "execution_count": 85,
     "metadata": {},
     "output_type": "execute_result"
    }
   ],
   "source": [
    "len(table[table['Core_Module'] == 'True']['FbID'])"
   ]
  },
  {
   "cell_type": "code",
   "execution_count": 84,
   "metadata": {},
   "outputs": [
    {
     "data": {
      "text/plain": [
       "67"
      ]
     },
     "execution_count": 84,
     "metadata": {},
     "output_type": "execute_result"
    }
   ],
   "source": [
    "len(table[table['EggL_Module'] == 'True']['FbID'])"
   ]
  },
  {
   "cell_type": "code",
   "execution_count": 88,
   "metadata": {},
   "outputs": [
    {
     "data": {
      "text/plain": [
       "84"
      ]
     },
     "execution_count": 88,
     "metadata": {},
     "output_type": "execute_result"
    }
   ],
   "source": [
    "len(table[table['HippoRNAi_EggL_Module'] == 'True']['FbID'])"
   ]
  },
  {
   "cell_type": "code",
   "execution_count": 89,
   "metadata": {},
   "outputs": [
    {
     "data": {
      "text/plain": [
       "77"
      ]
     },
     "execution_count": 89,
     "metadata": {},
     "output_type": "execute_result"
    }
   ],
   "source": [
    "len(table[table['HippoRNAi_Ova_Module'] == 'True']['FbID'].unique())"
   ]
  },
  {
   "cell_type": "code",
   "execution_count": 86,
   "metadata": {},
   "outputs": [
    {
     "data": {
      "text/plain": [
       "37"
      ]
     },
     "execution_count": 86,
     "metadata": {},
     "output_type": "execute_result"
    }
   ],
   "source": [
    "len(table[table['Core_Module'] == 'True']['FbID'].unique())"
   ]
  },
  {
   "cell_type": "code",
   "execution_count": 83,
   "metadata": {},
   "outputs": [
    {
     "data": {
      "text/plain": [
       "60"
      ]
     },
     "execution_count": 83,
     "metadata": {},
     "output_type": "execute_result"
    }
   ],
   "source": [
    "len(table[table['EggL_Module'] == 'True']['FbID'].unique())"
   ]
  },
  {
   "cell_type": "code",
   "execution_count": 82,
   "metadata": {},
   "outputs": [
    {
     "data": {
      "text/plain": [
       "76"
      ]
     },
     "execution_count": 82,
     "metadata": {},
     "output_type": "execute_result"
    }
   ],
   "source": [
    "len(table[table['HippoRNAi_EggL_Module'] == 'True']['FbID'].unique())"
   ]
  },
  {
   "cell_type": "code",
   "execution_count": 90,
   "metadata": {},
   "outputs": [
    {
     "data": {
      "text/plain": [
       "13"
      ]
     },
     "execution_count": 90,
     "metadata": {},
     "output_type": "execute_result"
    }
   ],
   "source": [
    "len(table[table['HpoOva_Connector'] == True]['FbID'])"
   ]
  },
  {
   "cell_type": "code",
   "execution_count": 91,
   "metadata": {},
   "outputs": [
    {
     "data": {
      "text/plain": [
       "11"
      ]
     },
     "execution_count": 91,
     "metadata": {},
     "output_type": "execute_result"
    }
   ],
   "source": [
    "len(table[table['HpoOva_Connector'] == True]['FbID'].unique())"
   ]
  },
  {
   "cell_type": "code",
   "execution_count": 92,
   "metadata": {},
   "outputs": [
    {
     "data": {
      "text/plain": [
       "25"
      ]
     },
     "execution_count": 92,
     "metadata": {},
     "output_type": "execute_result"
    }
   ],
   "source": [
    "len(table[table['HpoEggL_Connector'] == True]['FbID'])"
   ]
  },
  {
   "cell_type": "code",
   "execution_count": 93,
   "metadata": {},
   "outputs": [
    {
     "data": {
      "text/plain": [
       "18"
      ]
     },
     "execution_count": 93,
     "metadata": {},
     "output_type": "execute_result"
    }
   ],
   "source": [
    "len(table[table['HpoEggL_Connector'] == True]['FbID'].unique())"
   ]
  },
  {
   "cell_type": "code",
   "execution_count": 94,
   "metadata": {},
   "outputs": [
    {
     "data": {
      "text/plain": [
       "18"
      ]
     },
     "execution_count": 94,
     "metadata": {},
     "output_type": "execute_result"
    }
   ],
   "source": [
    "len(table[table['EggL_Connector'] == True]['FbID'])"
   ]
  },
  {
   "cell_type": "code",
   "execution_count": 95,
   "metadata": {},
   "outputs": [
    {
     "data": {
      "text/plain": [
       "11"
      ]
     },
     "execution_count": 95,
     "metadata": {},
     "output_type": "execute_result"
    }
   ],
   "source": [
    "len(table[table['EggL_Connector'] == True]['FbID'].unique())"
   ]
  },
  {
   "cell_type": "code",
   "execution_count": 116,
   "metadata": {},
   "outputs": [
    {
     "data": {
      "text/html": [
       "<div>\n",
       "<style scoped>\n",
       "    .dataframe tbody tr th:only-of-type {\n",
       "        vertical-align: middle;\n",
       "    }\n",
       "\n",
       "    .dataframe tbody tr th {\n",
       "        vertical-align: top;\n",
       "    }\n",
       "\n",
       "    .dataframe thead th {\n",
       "        text-align: right;\n",
       "    }\n",
       "</style>\n",
       "<table border=\"1\" class=\"dataframe\">\n",
       "  <thead>\n",
       "    <tr style=\"text-align: right;\">\n",
       "      <th></th>\n",
       "      <th>FbID</th>\n",
       "      <th>CG number</th>\n",
       "      <th>NAME</th>\n",
       "      <th>SYMBOL</th>\n",
       "      <th>HippoRNAi_EggL_Day_1_Egg_Count</th>\n",
       "      <th>HippoRNAi_EggL_Day_1_Egg_Zscore</th>\n",
       "      <th>HippoRNAi_EggL_Day_2_Egg_Count</th>\n",
       "      <th>HippoRNAi_EggL_Day_2_Egg_Zscore</th>\n",
       "      <th>HippoRNAi_EggL_Day_3_Egg_Count</th>\n",
       "      <th>HippoRNAi_EggL_Day_3_Egg_Zscore</th>\n",
       "      <th>...</th>\n",
       "      <th>EGF_pathway</th>\n",
       "      <th>mTOR_pathway</th>\n",
       "      <th>FOXO_pathway</th>\n",
       "      <th>SHH_pathway</th>\n",
       "      <th>Hippo_pathway</th>\n",
       "      <th>JAK/STAT_pathway</th>\n",
       "      <th>Wnt_pathway</th>\n",
       "      <th>Notch_pathway</th>\n",
       "      <th>TGF B_pathway</th>\n",
       "      <th>MAPK_pathway</th>\n",
       "    </tr>\n",
       "  </thead>\n",
       "  <tbody>\n",
       "  </tbody>\n",
       "</table>\n",
       "<p>0 rows × 78 columns</p>\n",
       "</div>"
      ],
      "text/plain": [
       "Empty DataFrame\n",
       "Columns: [FbID, CG number, NAME, SYMBOL, HippoRNAi_EggL_Day_1_Egg_Count, HippoRNAi_EggL_Day_1_Egg_Zscore, HippoRNAi_EggL_Day_2_Egg_Count, HippoRNAi_EggL_Day_2_Egg_Zscore, HippoRNAi_EggL_Day_3_Egg_Count, HippoRNAi_EggL_Day_3_Egg_Zscore, HippoRNAi_EggL_Day_4_Egg_Count, HippoRNAi_EggL_Day_4_Egg_Zscore, HippoRNAi_EggL_Day_5_Egg_Count, HippoRNAi_EggL_Day_5_Egg_Zscore, HippoRNAi_EggL_All_Days_Egg_Sum_Count, HippoRNAi_EggL_All_Days_Egg_Sum_Zscore, EggL_Day_1_Egg_Count, EggL_Day_1_Egg_Zscore, EggL_Day_2_Egg_Count, EggL_Day_2_Egg_Zscore, EggL_Day_3_Egg_Count, EggL_Day_3_Egg_Zscore, EggL_Day_4_Egg_Count, EggL_Day_4_Egg_Zscore, EggL_Day_5_Egg_Count, EggL_Day_5_Egg_Zscore, EggL_All_Days_Egg_Sum_Count, EggL_All_Days_Egg_Sum_Zscore, HippoRNAi_Ova_OvarioleNb_Fly_1.1_Count, HippoRNAi_Ova_OvarioleNb_Fly_1.2_Count, HippoRNAi_Ova_OvarioleNb_Fly_2.1_Count, HippoRNAi_Ova_OvarioleNb_Fly_2.2_Count, HippoRNAi_Ova_OvarioleNb_Fly_3.1_Count, HippoRNAi_Ova_OvarioleNb_Fly_3.2_Count, HippoRNAi_Ova_OvarioleNb_Fly_4.1_Count, HippoRNAi_Ova_OvarioleNb_Fly_4.2_Count, HippoRNAi_Ova_OvarioleNb_Fly_5.1_Count, HippoRNAi_Ova_OvarioleNb_Fly_5.2_Count, HippoRNAi_Ova_OvarioleNb_Fly_6.1_Count, HippoRNAi_Ova_OvarioleNb_Fly_6.2_Count, HippoRNAi_Ova_OvarioleNb_Fly_7.1_Count, HippoRNAi_Ova_OvarioleNb_Fly_7.2_Count, HippoRNAi_Ova_OvarioleNb_Fly_8.1_Count, HippoRNAi_Ova_OvarioleNb_Fly_8.2_Count, HippoRNAi_Ova_OvarioleNb_Fly_9.1_Count, HippoRNAi_Ova_OvarioleNb_Fly_9.2_Count, HippoRNAi_Ova_OvarioleNb_Fly_10.1_Count, HippoRNAi_Ova_OvarioleNb_Fly_10.2_Count, HippoRNAi_Ova_OvarioleNb_Mean_Count, HippoRNAi_Ova_OvarioleNb_Std_Count, HippoRNAi_Ova_OvarioleNb_Mean_Zscore, PPI_betweenness_centrality, PPI_closeness_centrality, PPI_eigenvector_centrality, PPI_degree_centrality, HippoRNAi_Ova_Module, HippoRNAi_EggL_Module, EggL_Module, Core_Module, Meta_Module, HpoOva_Connector, HpoEggL_Connector, EggL_Connector, Core_Connector, FGF_pathway, VEGF_pathway, Toll_pathway, JNK_pathway, EGF_pathway, mTOR_pathway, FOXO_pathway, SHH_pathway, Hippo_pathway, JAK/STAT_pathway, Wnt_pathway, Notch_pathway, TGF B_pathway, MAPK_pathway]\n",
       "Index: []\n",
       "\n",
       "[0 rows x 78 columns]"
      ]
     },
     "execution_count": 116,
     "metadata": {},
     "output_type": "execute_result"
    }
   ],
   "source": [
    "table[(table['EggL_All_Days_Egg_Sum_Zscore'].abs() > 5) & (table['PPI_closeness_centrality'] == 'NotInPPI')]"
   ]
  },
  {
   "cell_type": "code",
   "execution_count": 117,
   "metadata": {},
   "outputs": [
    {
     "data": {
      "text/html": [
       "<div>\n",
       "<style scoped>\n",
       "    .dataframe tbody tr th:only-of-type {\n",
       "        vertical-align: middle;\n",
       "    }\n",
       "\n",
       "    .dataframe tbody tr th {\n",
       "        vertical-align: top;\n",
       "    }\n",
       "\n",
       "    .dataframe thead th {\n",
       "        text-align: right;\n",
       "    }\n",
       "</style>\n",
       "<table border=\"1\" class=\"dataframe\">\n",
       "  <thead>\n",
       "    <tr style=\"text-align: right;\">\n",
       "      <th></th>\n",
       "      <th>FbID</th>\n",
       "      <th>CG number</th>\n",
       "      <th>NAME</th>\n",
       "      <th>SYMBOL</th>\n",
       "      <th>HippoRNAi_EggL_Day_1_Egg_Count</th>\n",
       "      <th>HippoRNAi_EggL_Day_1_Egg_Zscore</th>\n",
       "      <th>HippoRNAi_EggL_Day_2_Egg_Count</th>\n",
       "      <th>HippoRNAi_EggL_Day_2_Egg_Zscore</th>\n",
       "      <th>HippoRNAi_EggL_Day_3_Egg_Count</th>\n",
       "      <th>HippoRNAi_EggL_Day_3_Egg_Zscore</th>\n",
       "      <th>...</th>\n",
       "      <th>EGF_pathway</th>\n",
       "      <th>mTOR_pathway</th>\n",
       "      <th>FOXO_pathway</th>\n",
       "      <th>SHH_pathway</th>\n",
       "      <th>Hippo_pathway</th>\n",
       "      <th>JAK/STAT_pathway</th>\n",
       "      <th>Wnt_pathway</th>\n",
       "      <th>Notch_pathway</th>\n",
       "      <th>TGF B_pathway</th>\n",
       "      <th>MAPK_pathway</th>\n",
       "    </tr>\n",
       "  </thead>\n",
       "  <tbody>\n",
       "    <tr>\n",
       "      <th>323</th>\n",
       "      <td>FBgn0037325</td>\n",
       "      <td>CG12147</td>\n",
       "      <td>-</td>\n",
       "      <td>CG12147</td>\n",
       "      <td>169.0</td>\n",
       "      <td>4.1758</td>\n",
       "      <td>83.0</td>\n",
       "      <td>1.3024</td>\n",
       "      <td>74.0</td>\n",
       "      <td>3.5152</td>\n",
       "      <td>...</td>\n",
       "      <td>0</td>\n",
       "      <td>0</td>\n",
       "      <td>0</td>\n",
       "      <td>0</td>\n",
       "      <td>0</td>\n",
       "      <td>0</td>\n",
       "      <td>1</td>\n",
       "      <td>0</td>\n",
       "      <td>0</td>\n",
       "      <td>0</td>\n",
       "    </tr>\n",
       "  </tbody>\n",
       "</table>\n",
       "<p>1 rows × 78 columns</p>\n",
       "</div>"
      ],
      "text/plain": [
       "            FbID CG number NAME   SYMBOL  HippoRNAi_EggL_Day_1_Egg_Count  \\\n",
       "323  FBgn0037325   CG12147    -  CG12147                           169.0   \n",
       "\n",
       "     HippoRNAi_EggL_Day_1_Egg_Zscore  HippoRNAi_EggL_Day_2_Egg_Count  \\\n",
       "323                           4.1758                            83.0   \n",
       "\n",
       "     HippoRNAi_EggL_Day_2_Egg_Zscore  HippoRNAi_EggL_Day_3_Egg_Count  \\\n",
       "323                           1.3024                            74.0   \n",
       "\n",
       "     HippoRNAi_EggL_Day_3_Egg_Zscore  ...  EGF_pathway  mTOR_pathway  \\\n",
       "323                           3.5152  ...            0             0   \n",
       "\n",
       "     FOXO_pathway  SHH_pathway  Hippo_pathway  JAK/STAT_pathway  Wnt_pathway  \\\n",
       "323             0            0              0                 0            1   \n",
       "\n",
       "     Notch_pathway  TGF B_pathway  MAPK_pathway  \n",
       "323              0              0             0  \n",
       "\n",
       "[1 rows x 78 columns]"
      ]
     },
     "execution_count": 117,
     "metadata": {},
     "output_type": "execute_result"
    }
   ],
   "source": [
    "table[(table['HippoRNAi_EggL_All_Days_Egg_Sum_Zscore'].abs() > 5) & (table['PPI_closeness_centrality'] == 'NotInPPI')]"
   ]
  },
  {
   "cell_type": "code",
   "execution_count": 115,
   "metadata": {},
   "outputs": [
    {
     "data": {
      "text/html": [
       "<div>\n",
       "<style scoped>\n",
       "    .dataframe tbody tr th:only-of-type {\n",
       "        vertical-align: middle;\n",
       "    }\n",
       "\n",
       "    .dataframe tbody tr th {\n",
       "        vertical-align: top;\n",
       "    }\n",
       "\n",
       "    .dataframe thead th {\n",
       "        text-align: right;\n",
       "    }\n",
       "</style>\n",
       "<table border=\"1\" class=\"dataframe\">\n",
       "  <thead>\n",
       "    <tr style=\"text-align: right;\">\n",
       "      <th></th>\n",
       "      <th>FbID</th>\n",
       "      <th>CG number</th>\n",
       "      <th>NAME</th>\n",
       "      <th>SYMBOL</th>\n",
       "      <th>HippoRNAi_EggL_Day_1_Egg_Count</th>\n",
       "      <th>HippoRNAi_EggL_Day_1_Egg_Zscore</th>\n",
       "      <th>HippoRNAi_EggL_Day_2_Egg_Count</th>\n",
       "      <th>HippoRNAi_EggL_Day_2_Egg_Zscore</th>\n",
       "      <th>HippoRNAi_EggL_Day_3_Egg_Count</th>\n",
       "      <th>HippoRNAi_EggL_Day_3_Egg_Zscore</th>\n",
       "      <th>...</th>\n",
       "      <th>EGF_pathway</th>\n",
       "      <th>mTOR_pathway</th>\n",
       "      <th>FOXO_pathway</th>\n",
       "      <th>SHH_pathway</th>\n",
       "      <th>Hippo_pathway</th>\n",
       "      <th>JAK/STAT_pathway</th>\n",
       "      <th>Wnt_pathway</th>\n",
       "      <th>Notch_pathway</th>\n",
       "      <th>TGF B_pathway</th>\n",
       "      <th>MAPK_pathway</th>\n",
       "    </tr>\n",
       "  </thead>\n",
       "  <tbody>\n",
       "    <tr>\n",
       "      <th>51</th>\n",
       "      <td>FBgn0002592</td>\n",
       "      <td>CG6104</td>\n",
       "      <td>Enhancer of split m2, Bearded family member</td>\n",
       "      <td>E(spl)m2-BFM</td>\n",
       "      <td>25.0</td>\n",
       "      <td>-0.9201</td>\n",
       "      <td>5.0</td>\n",
       "      <td>-2.6049</td>\n",
       "      <td>4.0</td>\n",
       "      <td>-1.3096</td>\n",
       "      <td>...</td>\n",
       "      <td>0</td>\n",
       "      <td>0</td>\n",
       "      <td>0</td>\n",
       "      <td>0</td>\n",
       "      <td>0</td>\n",
       "      <td>0</td>\n",
       "      <td>0</td>\n",
       "      <td>1</td>\n",
       "      <td>0</td>\n",
       "      <td>0</td>\n",
       "    </tr>\n",
       "  </tbody>\n",
       "</table>\n",
       "<p>1 rows × 78 columns</p>\n",
       "</div>"
      ],
      "text/plain": [
       "           FbID CG number                                         NAME  \\\n",
       "51  FBgn0002592    CG6104  Enhancer of split m2, Bearded family member   \n",
       "\n",
       "          SYMBOL  HippoRNAi_EggL_Day_1_Egg_Count  \\\n",
       "51  E(spl)m2-BFM                            25.0   \n",
       "\n",
       "    HippoRNAi_EggL_Day_1_Egg_Zscore  HippoRNAi_EggL_Day_2_Egg_Count  \\\n",
       "51                          -0.9201                             5.0   \n",
       "\n",
       "    HippoRNAi_EggL_Day_2_Egg_Zscore  HippoRNAi_EggL_Day_3_Egg_Count  \\\n",
       "51                          -2.6049                             4.0   \n",
       "\n",
       "    HippoRNAi_EggL_Day_3_Egg_Zscore  ...  EGF_pathway  mTOR_pathway  \\\n",
       "51                          -1.3096  ...            0             0   \n",
       "\n",
       "    FOXO_pathway  SHH_pathway  Hippo_pathway  JAK/STAT_pathway  Wnt_pathway  \\\n",
       "51             0            0              0                 0            0   \n",
       "\n",
       "    Notch_pathway  TGF B_pathway  MAPK_pathway  \n",
       "51              1              0             0  \n",
       "\n",
       "[1 rows x 78 columns]"
      ]
     },
     "execution_count": 115,
     "metadata": {},
     "output_type": "execute_result"
    }
   ],
   "source": [
    "table[(table['HippoRNAi_Ova_OvarioleNb_Mean_Zscore'].abs() > 2) & (table['PPI_closeness_centrality'] == 'NotInPPI')]"
   ]
  },
  {
   "cell_type": "code",
   "execution_count": 110,
   "metadata": {},
   "outputs": [
    {
     "data": {
      "text/html": [
       "<div>\n",
       "<style scoped>\n",
       "    .dataframe tbody tr th:only-of-type {\n",
       "        vertical-align: middle;\n",
       "    }\n",
       "\n",
       "    .dataframe tbody tr th {\n",
       "        vertical-align: top;\n",
       "    }\n",
       "\n",
       "    .dataframe thead th {\n",
       "        text-align: right;\n",
       "    }\n",
       "</style>\n",
       "<table border=\"1\" class=\"dataframe\">\n",
       "  <thead>\n",
       "    <tr style=\"text-align: right;\">\n",
       "      <th></th>\n",
       "      <th>FbID</th>\n",
       "      <th>CG number</th>\n",
       "      <th>NAME</th>\n",
       "      <th>SYMBOL</th>\n",
       "      <th>HippoRNAi_EggL_Day_1_Egg_Count</th>\n",
       "      <th>HippoRNAi_EggL_Day_1_Egg_Zscore</th>\n",
       "      <th>HippoRNAi_EggL_Day_2_Egg_Count</th>\n",
       "      <th>HippoRNAi_EggL_Day_2_Egg_Zscore</th>\n",
       "      <th>HippoRNAi_EggL_Day_3_Egg_Count</th>\n",
       "      <th>HippoRNAi_EggL_Day_3_Egg_Zscore</th>\n",
       "      <th>...</th>\n",
       "      <th>EGF_pathway</th>\n",
       "      <th>mTOR_pathway</th>\n",
       "      <th>FOXO_pathway</th>\n",
       "      <th>SHH_pathway</th>\n",
       "      <th>Hippo_pathway</th>\n",
       "      <th>JAK/STAT_pathway</th>\n",
       "      <th>Wnt_pathway</th>\n",
       "      <th>Notch_pathway</th>\n",
       "      <th>TGF B_pathway</th>\n",
       "      <th>MAPK_pathway</th>\n",
       "    </tr>\n",
       "  </thead>\n",
       "  <tbody>\n",
       "  </tbody>\n",
       "</table>\n",
       "<p>0 rows × 78 columns</p>\n",
       "</div>"
      ],
      "text/plain": [
       "Empty DataFrame\n",
       "Columns: [FbID, CG number, NAME, SYMBOL, HippoRNAi_EggL_Day_1_Egg_Count, HippoRNAi_EggL_Day_1_Egg_Zscore, HippoRNAi_EggL_Day_2_Egg_Count, HippoRNAi_EggL_Day_2_Egg_Zscore, HippoRNAi_EggL_Day_3_Egg_Count, HippoRNAi_EggL_Day_3_Egg_Zscore, HippoRNAi_EggL_Day_4_Egg_Count, HippoRNAi_EggL_Day_4_Egg_Zscore, HippoRNAi_EggL_Day_5_Egg_Count, HippoRNAi_EggL_Day_5_Egg_Zscore, HippoRNAi_EggL_All_Days_Egg_Sum_Count, HippoRNAi_EggL_All_Days_Egg_Sum_Zscore, EggL_Day_1_Egg_Count, EggL_Day_1_Egg_Zscore, EggL_Day_2_Egg_Count, EggL_Day_2_Egg_Zscore, EggL_Day_3_Egg_Count, EggL_Day_3_Egg_Zscore, EggL_Day_4_Egg_Count, EggL_Day_4_Egg_Zscore, EggL_Day_5_Egg_Count, EggL_Day_5_Egg_Zscore, EggL_All_Days_Egg_Sum_Count, EggL_All_Days_Egg_Sum_Zscore, HippoRNAi_Ova_OvarioleNb_Fly_1.1_Count, HippoRNAi_Ova_OvarioleNb_Fly_1.2_Count, HippoRNAi_Ova_OvarioleNb_Fly_2.1_Count, HippoRNAi_Ova_OvarioleNb_Fly_2.2_Count, HippoRNAi_Ova_OvarioleNb_Fly_3.1_Count, HippoRNAi_Ova_OvarioleNb_Fly_3.2_Count, HippoRNAi_Ova_OvarioleNb_Fly_4.1_Count, HippoRNAi_Ova_OvarioleNb_Fly_4.2_Count, HippoRNAi_Ova_OvarioleNb_Fly_5.1_Count, HippoRNAi_Ova_OvarioleNb_Fly_5.2_Count, HippoRNAi_Ova_OvarioleNb_Fly_6.1_Count, HippoRNAi_Ova_OvarioleNb_Fly_6.2_Count, HippoRNAi_Ova_OvarioleNb_Fly_7.1_Count, HippoRNAi_Ova_OvarioleNb_Fly_7.2_Count, HippoRNAi_Ova_OvarioleNb_Fly_8.1_Count, HippoRNAi_Ova_OvarioleNb_Fly_8.2_Count, HippoRNAi_Ova_OvarioleNb_Fly_9.1_Count, HippoRNAi_Ova_OvarioleNb_Fly_9.2_Count, HippoRNAi_Ova_OvarioleNb_Fly_10.1_Count, HippoRNAi_Ova_OvarioleNb_Fly_10.2_Count, HippoRNAi_Ova_OvarioleNb_Mean_Count, HippoRNAi_Ova_OvarioleNb_Std_Count, HippoRNAi_Ova_OvarioleNb_Mean_Zscore, PPI_betweenness_centrality, PPI_closeness_centrality, PPI_eigenvector_centrality, PPI_degree_centrality, HippoRNAi_Ova_Module, HippoRNAi_EggL_Module, EggL_Module, Core_Module, Meta_Module, HpoOva_Connector, HpoEggL_Connector, EggL_Connector, Core_Connector, FGF_pathway, VEGF_pathway, Toll_pathway, JNK_pathway, EGF_pathway, mTOR_pathway, FOXO_pathway, SHH_pathway, Hippo_pathway, JAK/STAT_pathway, Wnt_pathway, Notch_pathway, TGF B_pathway, MAPK_pathway]\n",
       "Index: []\n",
       "\n",
       "[0 rows x 78 columns]"
      ]
     },
     "execution_count": 110,
     "metadata": {},
     "output_type": "execute_result"
    }
   ],
   "source": [
    "table[(table['Core_Module'] == 'True') & (table['PPI_closeness_centrality'] == 'NotInPPI')]"
   ]
  },
  {
   "cell_type": "code",
   "execution_count": 114,
   "metadata": {},
   "outputs": [
    {
     "data": {
      "text/html": [
       "<div>\n",
       "<style scoped>\n",
       "    .dataframe tbody tr th:only-of-type {\n",
       "        vertical-align: middle;\n",
       "    }\n",
       "\n",
       "    .dataframe tbody tr th {\n",
       "        vertical-align: top;\n",
       "    }\n",
       "\n",
       "    .dataframe thead th {\n",
       "        text-align: right;\n",
       "    }\n",
       "</style>\n",
       "<table border=\"1\" class=\"dataframe\">\n",
       "  <thead>\n",
       "    <tr style=\"text-align: right;\">\n",
       "      <th></th>\n",
       "      <th>FbID</th>\n",
       "      <th>CG number</th>\n",
       "      <th>NAME</th>\n",
       "      <th>SYMBOL</th>\n",
       "      <th>HippoRNAi_EggL_Day_1_Egg_Count</th>\n",
       "      <th>HippoRNAi_EggL_Day_1_Egg_Zscore</th>\n",
       "      <th>HippoRNAi_EggL_Day_2_Egg_Count</th>\n",
       "      <th>HippoRNAi_EggL_Day_2_Egg_Zscore</th>\n",
       "      <th>HippoRNAi_EggL_Day_3_Egg_Count</th>\n",
       "      <th>HippoRNAi_EggL_Day_3_Egg_Zscore</th>\n",
       "      <th>...</th>\n",
       "      <th>EGF_pathway</th>\n",
       "      <th>mTOR_pathway</th>\n",
       "      <th>FOXO_pathway</th>\n",
       "      <th>SHH_pathway</th>\n",
       "      <th>Hippo_pathway</th>\n",
       "      <th>JAK/STAT_pathway</th>\n",
       "      <th>Wnt_pathway</th>\n",
       "      <th>Notch_pathway</th>\n",
       "      <th>TGF B_pathway</th>\n",
       "      <th>MAPK_pathway</th>\n",
       "    </tr>\n",
       "  </thead>\n",
       "  <tbody>\n",
       "    <tr>\n",
       "      <th>0</th>\n",
       "      <td>FBgn0000042</td>\n",
       "      <td>CG4027</td>\n",
       "      <td>Actin 5C</td>\n",
       "      <td>Act5C</td>\n",
       "      <td>0.0</td>\n",
       "      <td>-4.3294</td>\n",
       "      <td>0.0</td>\n",
       "      <td>-3.7259</td>\n",
       "      <td>0.0</td>\n",
       "      <td>-2.7062</td>\n",
       "      <td>...</td>\n",
       "      <td>0</td>\n",
       "      <td>0</td>\n",
       "      <td>0</td>\n",
       "      <td>0</td>\n",
       "      <td>1</td>\n",
       "      <td>0</td>\n",
       "      <td>0</td>\n",
       "      <td>0</td>\n",
       "      <td>0</td>\n",
       "      <td>0</td>\n",
       "    </tr>\n",
       "    <tr>\n",
       "      <th>4</th>\n",
       "      <td>FBgn0000047</td>\n",
       "      <td>CG5178</td>\n",
       "      <td>Actin 88F</td>\n",
       "      <td>Act88F</td>\n",
       "      <td>0.0</td>\n",
       "      <td>-4.7429</td>\n",
       "      <td>0.0</td>\n",
       "      <td>-3.5457</td>\n",
       "      <td>0.0</td>\n",
       "      <td>-2.5488</td>\n",
       "      <td>...</td>\n",
       "      <td>0</td>\n",
       "      <td>0</td>\n",
       "      <td>0</td>\n",
       "      <td>0</td>\n",
       "      <td>1</td>\n",
       "      <td>0</td>\n",
       "      <td>0</td>\n",
       "      <td>0</td>\n",
       "      <td>0</td>\n",
       "      <td>0</td>\n",
       "    </tr>\n",
       "    <tr>\n",
       "      <th>6</th>\n",
       "      <td>FBgn0000117</td>\n",
       "      <td>CG11579</td>\n",
       "      <td>armadillo</td>\n",
       "      <td>arm</td>\n",
       "      <td>0.0</td>\n",
       "      <td>-1.7265</td>\n",
       "      <td>0.0</td>\n",
       "      <td>-1.5121</td>\n",
       "      <td>0.0</td>\n",
       "      <td>-2.6317</td>\n",
       "      <td>...</td>\n",
       "      <td>0</td>\n",
       "      <td>0</td>\n",
       "      <td>0</td>\n",
       "      <td>0</td>\n",
       "      <td>0</td>\n",
       "      <td>0</td>\n",
       "      <td>1</td>\n",
       "      <td>0</td>\n",
       "      <td>0</td>\n",
       "      <td>0</td>\n",
       "    </tr>\n",
       "    <tr>\n",
       "      <th>16</th>\n",
       "      <td>FBgn0000259</td>\n",
       "      <td>CG15224</td>\n",
       "      <td>Casein kinase II beta subunit</td>\n",
       "      <td>CkIIbeta</td>\n",
       "      <td>1.0</td>\n",
       "      <td>-8.8669</td>\n",
       "      <td>0.0</td>\n",
       "      <td>-9.2968</td>\n",
       "      <td>0.0</td>\n",
       "      <td>-2.9382</td>\n",
       "      <td>...</td>\n",
       "      <td>0</td>\n",
       "      <td>0</td>\n",
       "      <td>0</td>\n",
       "      <td>0</td>\n",
       "      <td>0</td>\n",
       "      <td>0</td>\n",
       "      <td>1</td>\n",
       "      <td>0</td>\n",
       "      <td>0</td>\n",
       "      <td>0</td>\n",
       "    </tr>\n",
       "    <tr>\n",
       "      <th>20</th>\n",
       "      <td>FBgn0000352</td>\n",
       "      <td>CG1708</td>\n",
       "      <td>costa</td>\n",
       "      <td>cos</td>\n",
       "      <td>0.0</td>\n",
       "      <td>-4.3294</td>\n",
       "      <td>0.0</td>\n",
       "      <td>-3.7259</td>\n",
       "      <td>0.0</td>\n",
       "      <td>-2.7062</td>\n",
       "      <td>...</td>\n",
       "      <td>0</td>\n",
       "      <td>0</td>\n",
       "      <td>0</td>\n",
       "      <td>1</td>\n",
       "      <td>0</td>\n",
       "      <td>0</td>\n",
       "      <td>0</td>\n",
       "      <td>0</td>\n",
       "      <td>0</td>\n",
       "      <td>0</td>\n",
       "    </tr>\n",
       "    <tr>\n",
       "      <th>...</th>\n",
       "      <td>...</td>\n",
       "      <td>...</td>\n",
       "      <td>...</td>\n",
       "      <td>...</td>\n",
       "      <td>...</td>\n",
       "      <td>...</td>\n",
       "      <td>...</td>\n",
       "      <td>...</td>\n",
       "      <td>...</td>\n",
       "      <td>...</td>\n",
       "      <td>...</td>\n",
       "      <td>...</td>\n",
       "      <td>...</td>\n",
       "      <td>...</td>\n",
       "      <td>...</td>\n",
       "      <td>...</td>\n",
       "      <td>...</td>\n",
       "      <td>...</td>\n",
       "      <td>...</td>\n",
       "      <td>...</td>\n",
       "      <td>...</td>\n",
       "    </tr>\n",
       "    <tr>\n",
       "      <th>489</th>\n",
       "      <td>FBgn0035213</td>\n",
       "      <td>CG2199</td>\n",
       "      <td>-</td>\n",
       "      <td>CG2199</td>\n",
       "      <td>0.0</td>\n",
       "      <td>-4.7975</td>\n",
       "      <td>0.0</td>\n",
       "      <td>-4.3319</td>\n",
       "      <td>0.0</td>\n",
       "      <td>-6.2258</td>\n",
       "      <td>...</td>\n",
       "      <td>0</td>\n",
       "      <td>0</td>\n",
       "      <td>0</td>\n",
       "      <td>0</td>\n",
       "      <td>0</td>\n",
       "      <td>0</td>\n",
       "      <td>0</td>\n",
       "      <td>0</td>\n",
       "      <td>0</td>\n",
       "      <td>0</td>\n",
       "    </tr>\n",
       "    <tr>\n",
       "      <th>490</th>\n",
       "      <td>FBgn0035640</td>\n",
       "      <td>CG17498</td>\n",
       "      <td>mad2</td>\n",
       "      <td>mad2</td>\n",
       "      <td>54.0</td>\n",
       "      <td>-4.0274</td>\n",
       "      <td>39.0</td>\n",
       "      <td>-1.6130</td>\n",
       "      <td>36.0</td>\n",
       "      <td>-1.3093</td>\n",
       "      <td>...</td>\n",
       "      <td>0</td>\n",
       "      <td>0</td>\n",
       "      <td>0</td>\n",
       "      <td>0</td>\n",
       "      <td>0</td>\n",
       "      <td>0</td>\n",
       "      <td>0</td>\n",
       "      <td>0</td>\n",
       "      <td>0</td>\n",
       "      <td>0</td>\n",
       "    </tr>\n",
       "    <tr>\n",
       "      <th>491</th>\n",
       "      <td>FBgn0036136</td>\n",
       "      <td>CG6233</td>\n",
       "      <td>Ubiquitin fusion-degradation 1-like</td>\n",
       "      <td>Ufd1-like</td>\n",
       "      <td>0.0</td>\n",
       "      <td>-6.0226</td>\n",
       "      <td>0.0</td>\n",
       "      <td>-3.7674</td>\n",
       "      <td>0.0</td>\n",
       "      <td>-3.2410</td>\n",
       "      <td>...</td>\n",
       "      <td>0</td>\n",
       "      <td>0</td>\n",
       "      <td>0</td>\n",
       "      <td>0</td>\n",
       "      <td>0</td>\n",
       "      <td>0</td>\n",
       "      <td>0</td>\n",
       "      <td>0</td>\n",
       "      <td>0</td>\n",
       "      <td>0</td>\n",
       "    </tr>\n",
       "    <tr>\n",
       "      <th>493</th>\n",
       "      <td>FBgn0037874</td>\n",
       "      <td>CG4800</td>\n",
       "      <td>Translationally controlled tumor protein</td>\n",
       "      <td>Tctp</td>\n",
       "      <td>39.0</td>\n",
       "      <td>-5.0584</td>\n",
       "      <td>20.0</td>\n",
       "      <td>-1.6291</td>\n",
       "      <td>11.0</td>\n",
       "      <td>-2.3763</td>\n",
       "      <td>...</td>\n",
       "      <td>0</td>\n",
       "      <td>0</td>\n",
       "      <td>0</td>\n",
       "      <td>0</td>\n",
       "      <td>0</td>\n",
       "      <td>0</td>\n",
       "      <td>0</td>\n",
       "      <td>0</td>\n",
       "      <td>0</td>\n",
       "      <td>0</td>\n",
       "    </tr>\n",
       "    <tr>\n",
       "      <th>499</th>\n",
       "      <td>FBgn0043903</td>\n",
       "      <td>CG14226</td>\n",
       "      <td>domeless</td>\n",
       "      <td>dome</td>\n",
       "      <td>0.0</td>\n",
       "      <td>-4.7975</td>\n",
       "      <td>0.0</td>\n",
       "      <td>-4.3319</td>\n",
       "      <td>0.0</td>\n",
       "      <td>-6.2258</td>\n",
       "      <td>...</td>\n",
       "      <td>0</td>\n",
       "      <td>0</td>\n",
       "      <td>0</td>\n",
       "      <td>0</td>\n",
       "      <td>0</td>\n",
       "      <td>1</td>\n",
       "      <td>0</td>\n",
       "      <td>0</td>\n",
       "      <td>0</td>\n",
       "      <td>0</td>\n",
       "    </tr>\n",
       "  </tbody>\n",
       "</table>\n",
       "<p>72 rows × 78 columns</p>\n",
       "</div>"
      ],
      "text/plain": [
       "            FbID CG number                                      NAME  \\\n",
       "0    FBgn0000042    CG4027                                  Actin 5C   \n",
       "4    FBgn0000047    CG5178                                 Actin 88F   \n",
       "6    FBgn0000117   CG11579                                 armadillo   \n",
       "16   FBgn0000259   CG15224             Casein kinase II beta subunit   \n",
       "20   FBgn0000352    CG1708                                     costa   \n",
       "..           ...       ...                                       ...   \n",
       "489  FBgn0035213    CG2199                                         -   \n",
       "490  FBgn0035640   CG17498                                      mad2   \n",
       "491  FBgn0036136    CG6233       Ubiquitin fusion-degradation 1-like   \n",
       "493  FBgn0037874    CG4800  Translationally controlled tumor protein   \n",
       "499  FBgn0043903   CG14226                                  domeless   \n",
       "\n",
       "        SYMBOL  HippoRNAi_EggL_Day_1_Egg_Count  \\\n",
       "0        Act5C                             0.0   \n",
       "4       Act88F                             0.0   \n",
       "6          arm                             0.0   \n",
       "16    CkIIbeta                             1.0   \n",
       "20         cos                             0.0   \n",
       "..         ...                             ...   \n",
       "489     CG2199                             0.0   \n",
       "490       mad2                            54.0   \n",
       "491  Ufd1-like                             0.0   \n",
       "493       Tctp                            39.0   \n",
       "499       dome                             0.0   \n",
       "\n",
       "     HippoRNAi_EggL_Day_1_Egg_Zscore  HippoRNAi_EggL_Day_2_Egg_Count  \\\n",
       "0                            -4.3294                             0.0   \n",
       "4                            -4.7429                             0.0   \n",
       "6                            -1.7265                             0.0   \n",
       "16                           -8.8669                             0.0   \n",
       "20                           -4.3294                             0.0   \n",
       "..                               ...                             ...   \n",
       "489                          -4.7975                             0.0   \n",
       "490                          -4.0274                            39.0   \n",
       "491                          -6.0226                             0.0   \n",
       "493                          -5.0584                            20.0   \n",
       "499                          -4.7975                             0.0   \n",
       "\n",
       "     HippoRNAi_EggL_Day_2_Egg_Zscore  HippoRNAi_EggL_Day_3_Egg_Count  \\\n",
       "0                            -3.7259                             0.0   \n",
       "4                            -3.5457                             0.0   \n",
       "6                            -1.5121                             0.0   \n",
       "16                           -9.2968                             0.0   \n",
       "20                           -3.7259                             0.0   \n",
       "..                               ...                             ...   \n",
       "489                          -4.3319                             0.0   \n",
       "490                          -1.6130                            36.0   \n",
       "491                          -3.7674                             0.0   \n",
       "493                          -1.6291                            11.0   \n",
       "499                          -4.3319                             0.0   \n",
       "\n",
       "     HippoRNAi_EggL_Day_3_Egg_Zscore  ...  EGF_pathway  mTOR_pathway  \\\n",
       "0                            -2.7062  ...            0             0   \n",
       "4                            -2.5488  ...            0             0   \n",
       "6                            -2.6317  ...            0             0   \n",
       "16                           -2.9382  ...            0             0   \n",
       "20                           -2.7062  ...            0             0   \n",
       "..                               ...  ...          ...           ...   \n",
       "489                          -6.2258  ...            0             0   \n",
       "490                          -1.3093  ...            0             0   \n",
       "491                          -3.2410  ...            0             0   \n",
       "493                          -2.3763  ...            0             0   \n",
       "499                          -6.2258  ...            0             0   \n",
       "\n",
       "     FOXO_pathway  SHH_pathway  Hippo_pathway  JAK/STAT_pathway  Wnt_pathway  \\\n",
       "0               0            0              1                 0            0   \n",
       "4               0            0              1                 0            0   \n",
       "6               0            0              0                 0            1   \n",
       "16              0            0              0                 0            1   \n",
       "20              0            1              0                 0            0   \n",
       "..            ...          ...            ...               ...          ...   \n",
       "489             0            0              0                 0            0   \n",
       "490             0            0              0                 0            0   \n",
       "491             0            0              0                 0            0   \n",
       "493             0            0              0                 0            0   \n",
       "499             0            0              0                 1            0   \n",
       "\n",
       "     Notch_pathway  TGF B_pathway  MAPK_pathway  \n",
       "0                0              0             0  \n",
       "4                0              0             0  \n",
       "6                0              0             0  \n",
       "16               0              0             0  \n",
       "20               0              0             0  \n",
       "..             ...            ...           ...  \n",
       "489              0              0             0  \n",
       "490              0              0             0  \n",
       "491              0              0             0  \n",
       "493              0              0             0  \n",
       "499              0              0             0  \n",
       "\n",
       "[72 rows x 78 columns]"
      ]
     },
     "execution_count": 114,
     "metadata": {},
     "output_type": "execute_result"
    }
   ],
   "source": [
    "table[(table['HippoRNAi_EggL_All_Days_Egg_Sum_Zscore'].abs() > 5)]"
   ]
  },
  {
   "cell_type": "code",
   "execution_count": 118,
   "metadata": {},
   "outputs": [],
   "source": [
    "meta_module_G = nx.read_graphml(os.path.join(resultpath,'Meta_module_{}.graphml'.format(PPI_ID)))\n"
   ]
  },
  {
   "cell_type": "code",
   "execution_count": 122,
   "metadata": {},
   "outputs": [],
   "source": [
    "connectors = []\n",
    "for node in meta_module_G.nodes():\n",
    "    if 'Connector' in meta_module_G.nodes[node]['Seed']:\n",
    "        connectors.append(node)"
   ]
  },
  {
   "cell_type": "code",
   "execution_count": 124,
   "metadata": {},
   "outputs": [
    {
     "data": {
      "text/plain": [
       "42"
      ]
     },
     "execution_count": 124,
     "metadata": {},
     "output_type": "execute_result"
    }
   ],
   "source": [
    "len(connectors)"
   ]
  },
  {
   "cell_type": "code",
   "execution_count": 128,
   "metadata": {},
   "outputs": [],
   "source": [
    "tab = table[(table['HpoEggL_Connector'] == True) | (table['HpoOva_Connector'] == True) | (table['EggL_Connector'] == True) | (table['Core_Connector'] == True)]['FbID'].unique()"
   ]
  },
  {
   "cell_type": "code",
   "execution_count": 129,
   "metadata": {},
   "outputs": [
    {
     "data": {
      "text/plain": [
       "43"
      ]
     },
     "execution_count": 129,
     "metadata": {},
     "output_type": "execute_result"
    }
   ],
   "source": [
    "len(tab)"
   ]
  },
  {
   "cell_type": "code",
   "execution_count": 131,
   "metadata": {},
   "outputs": [
    {
     "data": {
      "text/plain": [
       "set()"
      ]
     },
     "execution_count": 131,
     "metadata": {},
     "output_type": "execute_result"
    }
   ],
   "source": [
    "set(connectors).difference(set(tab))"
   ]
  },
  {
   "cell_type": "code",
   "execution_count": 132,
   "metadata": {},
   "outputs": [
    {
     "name": "stdout",
     "output_type": "stream",
     "text": [
      "FBgn0003430\n"
     ]
    }
   ],
   "source": [
    "for g in tab:\n",
    "    if g not in connectors:\n",
    "        print(g)"
   ]
  },
  {
   "cell_type": "code",
   "execution_count": null,
   "metadata": {},
   "outputs": [],
   "source": []
  }
 ],
 "metadata": {
  "kernelspec": {
   "display_name": "Python 3",
   "language": "python",
   "name": "python3"
  },
  "language_info": {
   "codemirror_mode": {
    "name": "ipython",
    "version": 3
   },
   "file_extension": ".py",
   "mimetype": "text/x-python",
   "name": "python",
   "nbconvert_exporter": "python",
   "pygments_lexer": "ipython3",
   "version": "3.7.3"
  }
 },
 "nbformat": 4,
 "nbformat_minor": 2
}
