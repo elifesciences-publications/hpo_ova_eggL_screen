{
 "cells": [
  {
   "cell_type": "code",
   "execution_count": 1,
   "metadata": {},
   "outputs": [],
   "source": [
    "import networkx as nx\n",
    "import numpy as np\n",
    "import seaborn as sns\n",
    "import matplotlib.pyplot as plt\n",
    "import pandas as pd\n",
    "import os\n",
    "import progressbar\n",
    "from scipy import stats\n",
    "sns.set()\n",
    "\n",
    "%matplotlib inline"
   ]
  },
  {
   "cell_type": "markdown",
   "metadata": {},
   "source": [
    "# Define path and load files \n",
    "\n",
    "Accross the analysis the following names are used for the 3 screens\n",
    "- ova == Ovariole Number screen\n",
    "- fec == Hippo RNAi EggLaying screen\n",
    "- xRNAi == EggLaying screen"
   ]
  },
  {
   "cell_type": "code",
   "execution_count": 2,
   "metadata": {},
   "outputs": [],
   "source": [
    "data = \"../Data\"\n",
    "resultpath = '../Results'\n",
    "PPI_ID = \"2018_08\""
   ]
  },
  {
   "cell_type": "code",
   "execution_count": 3,
   "metadata": {},
   "outputs": [],
   "source": [
    "G = nx.read_graphml(os.path.join(data, 'PPIs', 'PPI_{}.graphml'.format(PPI_ID)))\n",
    "\n",
    "hipo_ova = pd.read_csv(os.path.join(data,'Screen/hipo_ova_clean.csv'))\n",
    "xRNAi_fec = pd.read_csv(os.path.join(data,'Screen/xRNAi_fec_clean.csv'))\n",
    "hipo_fec = pd.read_csv(os.path.join(data,'Screen/hipo_fec_clean.csv'))\n",
    "\n",
    "hipo_ova_pred = pd.read_csv(os.path.join(data,'Screen/hipo_ova_clean_pred.csv'))\n",
    "xRNAi_fec_pred = pd.read_csv(os.path.join(data,'Screen/xRNAi_fec_clean_pred.csv'))\n",
    "hipo_fec_pred = pd.read_csv(os.path.join(data,'Screen/hipo_fec_clean_pred.csv'))\n",
    "\n",
    "signaling = pd.read_csv(os.path.join(data,'signaling.csv'))\n",
    "connectors= pd.read_csv(os.path.join(resultpath,\"ConnectorGeneList_{}.csv\".format(PPI_ID)))"
   ]
  },
  {
   "cell_type": "code",
   "execution_count": 4,
   "metadata": {},
   "outputs": [],
   "source": [
    "# We only consider the sum of eggs layed over 5 days, so we restrict the data to the \"Sum\"\n",
    "xRNAi_fec = xRNAi_fec[xRNAi_fec['Condition'] == 'Sum'].reset_index(drop=True)\n",
    "hipo_fec = hipo_fec[hipo_fec['Condition'] == 'Sum'].reset_index(drop=True)\n",
    "\n",
    "xRNAi_fec_pred = xRNAi_fec_pred[xRNAi_fec_pred['Condition'] == 'Sum'].reset_index(drop=True)\n",
    "hipo_fec_pred = hipo_fec_pred[hipo_fec_pred['Condition'] == 'Sum'].reset_index(drop=True)"
   ]
  },
  {
   "cell_type": "code",
   "execution_count": 5,
   "metadata": {},
   "outputs": [],
   "source": [
    "# Modules computed in the notebook file: Seed-Connector\n",
    "ova_module_G = nx.read_graphml(os.path.join(resultpath,'Ova_module_{}.graphml'.format(PPI_ID)))\n",
    "fec_module_G = nx.read_graphml(os.path.join(resultpath,'Hpo_EggL_module_{}.graphml'.format(PPI_ID)))\n",
    "xRNAi_module_G = nx.read_graphml(os.path.join(resultpath,'EggL_module_{}.graphml'.format(PPI_ID)))\n",
    "core_module_G = nx.read_graphml(os.path.join(resultpath,'Core_module_{}.graphml'.format(PPI_ID)))"
   ]
  },
  {
   "cell_type": "code",
   "execution_count": 6,
   "metadata": {},
   "outputs": [],
   "source": [
    "signaling_meta = pd.read_csv(os.path.join(data, \"signaling.csv\"))"
   ]
  },
  {
   "cell_type": "markdown",
   "metadata": {},
   "source": [
    "# Prepare groups of genes and positive candidate set\n",
    "Here we calculate the mean of the Zscore for each gene in the screens, define thresholds for significance, and create subsets of genes"
   ]
  },
  {
   "cell_type": "code",
   "execution_count": 7,
   "metadata": {},
   "outputs": [],
   "source": [
    "mean_ova_gene = hipo_ova.append(hipo_ova_pred).groupby('FbID', as_index=False).mean()\n",
    "mean_fec_gene = hipo_fec.append(hipo_fec_pred).groupby('FbID', as_index=False).mean()\n",
    "mean_xRNAi_gene = xRNAi_fec.append(xRNAi_fec_pred).groupby('FbID', as_index=False).mean()"
   ]
  },
  {
   "cell_type": "code",
   "execution_count": 8,
   "metadata": {},
   "outputs": [],
   "source": [
    "assert(len(set(mean_ova_gene['FbID'].unique()).difference(set(mean_fec_gene['FbID'].unique()))) == 0)"
   ]
  },
  {
   "cell_type": "code",
   "execution_count": 9,
   "metadata": {},
   "outputs": [],
   "source": [
    "assert(len(set(mean_xRNAi_gene['FbID'].unique()).difference(set(mean_fec_gene['FbID'].unique()))) == 0)"
   ]
  },
  {
   "cell_type": "code",
   "execution_count": 10,
   "metadata": {},
   "outputs": [],
   "source": [
    "assert(len(mean_ova_gene) == 273 + 32 +1)\n",
    "assert(len(mean_xRNAi_gene) == 273 + 32 +1)\n",
    "assert(len(mean_fec_gene) == 465 + 23 + 1)"
   ]
  },
  {
   "cell_type": "code",
   "execution_count": 11,
   "metadata": {},
   "outputs": [],
   "source": [
    "ova_module = ova_module_G.nodes()\n",
    "fec_module = fec_module_G.nodes()\n",
    "xRNAi_module = xRNAi_module_G.nodes()\n",
    "core_module = core_module_G.nodes()"
   ]
  },
  {
   "cell_type": "code",
   "execution_count": 12,
   "metadata": {},
   "outputs": [],
   "source": [
    "# Here we select all the genes that were tested in the screen,\n",
    "# because the first screen was Hipo RNAi EggLaying measurement, this dataset contains all the tested genes\n",
    "screen_genes = mean_fec_gene['FbID'].values\n",
    "ScreenG = G.subgraph(screen_genes)"
   ]
  },
  {
   "cell_type": "code",
   "execution_count": 13,
   "metadata": {},
   "outputs": [],
   "source": [
    "# We redefine our threshold of 2 and 5 for Z score cutoff\n",
    "ova_threshold = 2\n",
    "eggl_threshold = 5"
   ]
  },
  {
   "cell_type": "code",
   "execution_count": 14,
   "metadata": {},
   "outputs": [],
   "source": [
    "allgenes = np.unique(list(set.union(set(ova_module), set(xRNAi_module), set(fec_module), set(core_module))))\n",
    "all3 = set.intersection(set(ova_module), set(xRNAi_module), set(fec_module))\n",
    "ovafec = set.intersection(set(ova_module), set(fec_module))\n",
    "ovaxRNAi = set.intersection(set(ova_module), set(xRNAi_module))\n",
    "xRNAifec = set.intersection(set(fec_module), set(xRNAi_module))\n",
    "core = set(core_module)"
   ]
  },
  {
   "cell_type": "markdown",
   "metadata": {},
   "source": [
    "# Building the meta module network"
   ]
  },
  {
   "cell_type": "code",
   "execution_count": 15,
   "metadata": {},
   "outputs": [],
   "source": [
    "# Create the network composed of all 4 modules aggregated\n",
    "subG = nx.compose(ova_module_G, fec_module_G)\n",
    "subG = nx.compose(subG, xRNAi_module_G)\n",
    "subG = nx.compose(subG, core_module_G)"
   ]
  },
  {
   "cell_type": "code",
   "execution_count": 16,
   "metadata": {},
   "outputs": [],
   "source": [
    "# Extract the locations in modules for all genes in the MetaNetwork\n",
    "for node in subG.nodes():\n",
    "    # Define the location in modules\n",
    "    # Ova / HipoEggL / Eggl \n",
    "    key = ['0','0','0']\n",
    "    if node in ova_module:\n",
    "        key[0] = '1'\n",
    "    if node in fec_module:\n",
    "        key[1] = '1'\n",
    "    if node in xRNAi_module:\n",
    "        key[2] = '1'\n",
    "    if node in core_module:\n",
    "        key[0] = '1'\n",
    "        key[1] = '1'\n",
    "        key[2] = '1'\n",
    "    subG.nodes[node]['overlap'] = ''.join(key)"
   ]
  },
  {
   "cell_type": "code",
   "execution_count": 17,
   "metadata": {},
   "outputs": [],
   "source": [
    "# Extract the Z_scores for all the nodes\n",
    "scores_ova = {}\n",
    "scores_fec = {}\n",
    "scores_xRNAi = {}\n",
    "scores = {}\n",
    "for node in subG.nodes():\n",
    "    Z = []\n",
    "    if node in mean_xRNAi_gene['FbID'].unique():\n",
    "        z = mean_xRNAi_gene[mean_xRNAi_gene['FbID'] == node]['Z'].values[0]\n",
    "        Z.append(z)\n",
    "        scores_xRNAi[node] = z\n",
    "    if node in mean_fec_gene['FbID'].unique():\n",
    "        z = mean_fec_gene[mean_fec_gene['FbID'] == node]['Z'].values[0]\n",
    "        Z.append(z)\n",
    "        scores_fec[node] = z\n",
    "    if node in mean_ova_gene['FbID'].unique():\n",
    "        z = mean_ova_gene[mean_ova_gene['FbID'] == node]['Z'].values[0]\n",
    "        Z.append(z)\n",
    "        scores_ova[node] = z\n",
    "    if len(Z) == 3:\n",
    "        scores[node] = np.mean(Z)"
   ]
  },
  {
   "cell_type": "code",
   "execution_count": 18,
   "metadata": {},
   "outputs": [],
   "source": [
    "# Decorate the network by adding all the calculated fileds above\n",
    "for node in subG.nodes():\n",
    "    if node in scores:\n",
    "        Z = scores[node]\n",
    "        if node in scores_ova:\n",
    "            Z_ova = scores_ova[node]\n",
    "        else:\n",
    "            Z_ova = 0.0\n",
    "        if node in scores_fec:\n",
    "            Z_fec = scores_fec[node]\n",
    "        else:\n",
    "            Z_fec = 0.0\n",
    "        if node in scores_xRNAi:\n",
    "            Z_xRNAi = scores_xRNAi[node]\n",
    "        else:\n",
    "            Z_xRNAi = 0.0\n",
    "        subG.nodes[node]['Z'] = abs(float(Z))\n",
    "        subG.nodes[node]['Z_ova'] = abs(float(Z_ova))\n",
    "        subG.nodes[node]['Z_fec'] = abs(float(Z_fec))\n",
    "        subG.nodes[node]['Z_xRNAi'] = abs(float(Z_xRNAi))\n",
    "    else:\n",
    "        subG.nodes[node]['Z'] = 0.0\n",
    "        if node in scores_ova:\n",
    "            subG.nodes[node]['Z_ova'] = abs(float(scores_ova[node]))\n",
    "        else:\n",
    "            subG.nodes[node]['Z_ova'] = 0.0\n",
    "        \n",
    "        subG.nodes[node]['Z_fec'] = 0.0\n",
    "        subG.nodes[node]['Z_xRNAi'] = 0.0\n",
    "    sigs = signaling[signaling['FbID'] == node]['Sig'].values\n",
    "    for sig in signaling['Sig'].unique():\n",
    "        if sig in sigs:\n",
    "            subG.nodes[node][sig] = 1\n",
    "        else:\n",
    "            subG.nodes[node][sig] = 0"
   ]
  },
  {
   "cell_type": "code",
   "execution_count": 19,
   "metadata": {},
   "outputs": [],
   "source": [
    "# Adding the labels on nodes if they are receptor or ligand\n",
    "\n",
    "for node in subG.nodes():\n",
    "    if node in signaling_meta['FbID'].values:\n",
    "        types = signaling_meta[signaling_meta['FbID']== node]['KeyMember'].values[0]\n",
    "        if type(types) == str:\n",
    "            if types == \"Ligand\":\n",
    "                subG.nodes[node][\"SigType\"] = \"Ligand\"\n",
    "            else:\n",
    "                subG.nodes[node][\"SigType\"] = \"Receptor\"\n",
    "        else:\n",
    "            subG.nodes[node][\"SigType\"] = \"Else\"            \n",
    "    else:\n",
    "        subG.nodes[node][\"SigType\"] = \"Else\""
   ]
  },
  {
   "cell_type": "code",
   "execution_count": 37,
   "metadata": {},
   "outputs": [],
   "source": [
    "nx.write_graphml(subG, os.path.join(resultpath, 'Meta_module_{}.graphml'.format(PPI_ID)))"
   ]
  },
  {
   "cell_type": "markdown",
   "metadata": {},
   "source": [
    "# Making a table of the metanetwork"
   ]
  },
  {
   "cell_type": "code",
   "execution_count": 20,
   "metadata": {},
   "outputs": [],
   "source": [
    "res = []\n",
    "sigs = signaling['Sig'].unique()\n",
    "for node in subG.nodes():\n",
    "    n = subG.nodes[node]\n",
    "    S = []\n",
    "    for sig in sigs:\n",
    "        S.append(subG.nodes[node][sig])\n",
    "    res.append([node, n['label'], n['Seed'], n['Z_ova'], n['Z_fec'], n['Z_xRNAi'], str(n['overlap'])] + S)\n",
    "metatable = pd.DataFrame(res, columns=['FbID', 'GeneName', 'Type', 'Z_ovariole', 'Z_HpoEggL', 'Z_EggL', 'Overlap'] + list(sigs))"
   ]
  },
  {
   "cell_type": "code",
   "execution_count": 39,
   "metadata": {},
   "outputs": [],
   "source": [
    "metatable.to_csv(os.path.join(resultpath,\"MetaNetworkData_{}.csv\".format(PPI_ID)), index=False)"
   ]
  },
  {
   "cell_type": "markdown",
   "metadata": {},
   "source": [
    "# Analysing Edge Density between different gene sets"
   ]
  },
  {
   "cell_type": "code",
   "execution_count": 42,
   "metadata": {},
   "outputs": [],
   "source": [
    "modules = [\"001\",\"100\",\"010\",\"111\",\"011\",\"101\",\"110\"]\n",
    "modules_leg = [\"EggL+\",\"Ova+\",\"HpoEggL+\",\"Core\",\"EggL+/HpoEggL+\",\"Ova+/EggL+\",\"Ova+/HpoEggL+\"]\n",
    "\n",
    "res = np.zeros((len(modules),len(modules)))\n",
    "c_i = 0\n",
    "for i in range(len(modules)):\n",
    "    module_i = modules[i]\n",
    "    nodes_i = [i for i in subG.nodes if subG.nodes[i]['overlap'] == module_i]\n",
    "    connector_i = [i for i in subG.nodes if subG.nodes[i]['overlap'] == module_i and subG.nodes[i]['Seed'] == 0]\n",
    "\n",
    "    for j in range(len(modules)):\n",
    "        module_j = modules[j]\n",
    "#         if module_i == module_j:\n",
    "#             res[i][j] = np.nan\n",
    "#         else:\n",
    "        nodes_j = [i for i in subG.nodes if subG.nodes[i]['overlap'] == module_j]\n",
    "        edges = 0\n",
    "        for node_i in nodes_i:\n",
    "            for node_j in nodes_j: \n",
    "                if subG.has_edge(node_i, node_j):\n",
    "#                     print(node_i, node_j)\n",
    "                    edges += 1\n",
    "        if module_i == module_j:\n",
    "            edges /= 2\n",
    "        max_edge = len(nodes_i) * len(nodes_j)\n",
    "        res[i][j] = edges/max_edge\n",
    "    \n",
    "df = pd.DataFrame(res, columns=modules_leg, index=modules_leg)"
   ]
  },
  {
   "cell_type": "code",
   "execution_count": 43,
   "metadata": {},
   "outputs": [
    {
     "data": {
      "text/html": [
       "<div>\n",
       "<style scoped>\n",
       "    .dataframe tbody tr th:only-of-type {\n",
       "        vertical-align: middle;\n",
       "    }\n",
       "\n",
       "    .dataframe tbody tr th {\n",
       "        vertical-align: top;\n",
       "    }\n",
       "\n",
       "    .dataframe thead th {\n",
       "        text-align: right;\n",
       "    }\n",
       "</style>\n",
       "<table border=\"1\" class=\"dataframe\">\n",
       "  <thead>\n",
       "    <tr style=\"text-align: right;\">\n",
       "      <th></th>\n",
       "      <th>EggL+</th>\n",
       "      <th>Ova+</th>\n",
       "      <th>HpoEggL+</th>\n",
       "      <th>Core</th>\n",
       "      <th>EggL+/HpoEggL+</th>\n",
       "      <th>Ova+/EggL+</th>\n",
       "      <th>Ova+/HpoEggL+</th>\n",
       "    </tr>\n",
       "  </thead>\n",
       "  <tbody>\n",
       "    <tr>\n",
       "      <th>EggL+</th>\n",
       "      <td>0.017778</td>\n",
       "      <td>0.000000</td>\n",
       "      <td>0.000000</td>\n",
       "      <td>0.027027</td>\n",
       "      <td>0.009524</td>\n",
       "      <td>0.046667</td>\n",
       "      <td>0.000000</td>\n",
       "    </tr>\n",
       "    <tr>\n",
       "      <th>Ova+</th>\n",
       "      <td>0.000000</td>\n",
       "      <td>0.012346</td>\n",
       "      <td>0.000000</td>\n",
       "      <td>0.030030</td>\n",
       "      <td>0.000000</td>\n",
       "      <td>0.062963</td>\n",
       "      <td>0.033670</td>\n",
       "    </tr>\n",
       "    <tr>\n",
       "      <th>HpoEggL+</th>\n",
       "      <td>0.000000</td>\n",
       "      <td>0.000000</td>\n",
       "      <td>0.018889</td>\n",
       "      <td>0.026126</td>\n",
       "      <td>0.019048</td>\n",
       "      <td>0.000000</td>\n",
       "      <td>0.018182</td>\n",
       "    </tr>\n",
       "    <tr>\n",
       "      <th>Core</th>\n",
       "      <td>0.027027</td>\n",
       "      <td>0.030030</td>\n",
       "      <td>0.026126</td>\n",
       "      <td>0.036523</td>\n",
       "      <td>0.030888</td>\n",
       "      <td>0.029730</td>\n",
       "      <td>0.014742</td>\n",
       "    </tr>\n",
       "    <tr>\n",
       "      <th>EggL+/HpoEggL+</th>\n",
       "      <td>0.009524</td>\n",
       "      <td>0.000000</td>\n",
       "      <td>0.019048</td>\n",
       "      <td>0.030888</td>\n",
       "      <td>0.020408</td>\n",
       "      <td>0.014286</td>\n",
       "      <td>0.000000</td>\n",
       "    </tr>\n",
       "    <tr>\n",
       "      <th>Ova+/EggL+</th>\n",
       "      <td>0.046667</td>\n",
       "      <td>0.062963</td>\n",
       "      <td>0.000000</td>\n",
       "      <td>0.029730</td>\n",
       "      <td>0.014286</td>\n",
       "      <td>0.010000</td>\n",
       "      <td>0.027273</td>\n",
       "    </tr>\n",
       "    <tr>\n",
       "      <th>Ova+/HpoEggL+</th>\n",
       "      <td>0.000000</td>\n",
       "      <td>0.033670</td>\n",
       "      <td>0.018182</td>\n",
       "      <td>0.014742</td>\n",
       "      <td>0.000000</td>\n",
       "      <td>0.027273</td>\n",
       "      <td>0.008264</td>\n",
       "    </tr>\n",
       "  </tbody>\n",
       "</table>\n",
       "</div>"
      ],
      "text/plain": [
       "                   EggL+      Ova+  HpoEggL+      Core  EggL+/HpoEggL+  \\\n",
       "EggL+           0.017778  0.000000  0.000000  0.027027        0.009524   \n",
       "Ova+            0.000000  0.012346  0.000000  0.030030        0.000000   \n",
       "HpoEggL+        0.000000  0.000000  0.018889  0.026126        0.019048   \n",
       "Core            0.027027  0.030030  0.026126  0.036523        0.030888   \n",
       "EggL+/HpoEggL+  0.009524  0.000000  0.019048  0.030888        0.020408   \n",
       "Ova+/EggL+      0.046667  0.062963  0.000000  0.029730        0.014286   \n",
       "Ova+/HpoEggL+   0.000000  0.033670  0.018182  0.014742        0.000000   \n",
       "\n",
       "                Ova+/EggL+  Ova+/HpoEggL+  \n",
       "EggL+             0.046667       0.000000  \n",
       "Ova+              0.062963       0.033670  \n",
       "HpoEggL+          0.000000       0.018182  \n",
       "Core              0.029730       0.014742  \n",
       "EggL+/HpoEggL+    0.014286       0.000000  \n",
       "Ova+/EggL+        0.010000       0.027273  \n",
       "Ova+/HpoEggL+     0.027273       0.008264  "
      ]
     },
     "execution_count": 43,
     "metadata": {},
     "output_type": "execute_result"
    }
   ],
   "source": [
    "df"
   ]
  },
  {
   "cell_type": "code",
   "execution_count": 44,
   "metadata": {},
   "outputs": [
    {
     "data": {
      "image/png": "[encoded data removed]",
      "text/plain": [
       "<Figure size 432x360 with 2 Axes>"
      ]
     },
     "metadata": {
      "needs_background": "light"
     },
     "output_type": "display_data"
    }
   ],
   "source": [
    "fig = plt.figure(figsize=(6,5))\n",
    "sns.heatmap(df, cmap=\"Greys\", linewidths=.75)\n",
    "fig.savefig(os.path.join(resultpath,\"Figures/Meta_Network_EdgeDensity_Heatmap.svg\"))"
   ]
  },
  {
   "cell_type": "markdown",
   "metadata": {},
   "source": [
    "# Analyzing centrality differences between core and other modules"
   ]
  },
  {
   "cell_type": "code",
   "execution_count": 16,
   "metadata": {},
   "outputs": [],
   "source": [
    "betweenness = pd.read_csv(os.path.join(data, \"ScreenPPI_Betweenness.csv\"))\n",
    "closeness = pd.read_csv(os.path.join(data, \"ScreenPPI_Closeness.csv\"))\n",
    "eigenvector = pd.read_csv(os.path.join(data, \"ScreenPPI_Eigenvector.csv\"))\n",
    "degrees_cen = pd.read_csv(os.path.join(data, \"ScreenPPI_DegreeCentrality.csv\"))"
   ]
  },
  {
   "cell_type": "code",
   "execution_count": 17,
   "metadata": {},
   "outputs": [
    {
     "data": {
      "text/html": [
       "<div>\n",
       "<style scoped>\n",
       "    .dataframe tbody tr th:only-of-type {\n",
       "        vertical-align: middle;\n",
       "    }\n",
       "\n",
       "    .dataframe tbody tr th {\n",
       "        vertical-align: top;\n",
       "    }\n",
       "\n",
       "    .dataframe thead th {\n",
       "        text-align: right;\n",
       "    }\n",
       "</style>\n",
       "<table border=\"1\" class=\"dataframe\">\n",
       "  <thead>\n",
       "    <tr style=\"text-align: right;\">\n",
       "      <th></th>\n",
       "      <th>FbID</th>\n",
       "      <th>Betweeness</th>\n",
       "      <th>Closeness</th>\n",
       "      <th>EigenVector</th>\n",
       "      <th>DegreeC</th>\n",
       "    </tr>\n",
       "  </thead>\n",
       "  <tbody>\n",
       "    <tr>\n",
       "      <th>0</th>\n",
       "      <td>FBgn0001199</td>\n",
       "      <td>0.000507</td>\n",
       "      <td>0.326043</td>\n",
       "      <td>0.001665</td>\n",
       "      <td>0.005550</td>\n",
       "    </tr>\n",
       "    <tr>\n",
       "      <th>1</th>\n",
       "      <td>FBgn0010434</td>\n",
       "      <td>0.000440</td>\n",
       "      <td>0.332215</td>\n",
       "      <td>0.005553</td>\n",
       "      <td>0.003763</td>\n",
       "    </tr>\n",
       "    <tr>\n",
       "      <th>2</th>\n",
       "      <td>FBgn0027594</td>\n",
       "      <td>0.000023</td>\n",
       "      <td>0.275844</td>\n",
       "      <td>0.000217</td>\n",
       "      <td>0.000753</td>\n",
       "    </tr>\n",
       "    <tr>\n",
       "      <th>3</th>\n",
       "      <td>FBgn0000283</td>\n",
       "      <td>0.000676</td>\n",
       "      <td>0.339115</td>\n",
       "      <td>0.005222</td>\n",
       "      <td>0.006302</td>\n",
       "    </tr>\n",
       "    <tr>\n",
       "      <th>4</th>\n",
       "      <td>FBgn0002781</td>\n",
       "      <td>0.002812</td>\n",
       "      <td>0.350032</td>\n",
       "      <td>0.002764</td>\n",
       "      <td>0.007149</td>\n",
       "    </tr>\n",
       "    <tr>\n",
       "      <th>...</th>\n",
       "      <td>...</td>\n",
       "      <td>...</td>\n",
       "      <td>...</td>\n",
       "      <td>...</td>\n",
       "      <td>...</td>\n",
       "    </tr>\n",
       "    <tr>\n",
       "      <th>10627</th>\n",
       "      <td>FBgn0036492</td>\n",
       "      <td>0.000000</td>\n",
       "      <td>0.285839</td>\n",
       "      <td>0.000573</td>\n",
       "      <td>0.000094</td>\n",
       "    </tr>\n",
       "    <tr>\n",
       "      <th>10628</th>\n",
       "      <td>FBgn0038295</td>\n",
       "      <td>0.000000</td>\n",
       "      <td>0.285839</td>\n",
       "      <td>0.000573</td>\n",
       "      <td>0.000094</td>\n",
       "    </tr>\n",
       "    <tr>\n",
       "      <th>10629</th>\n",
       "      <td>FBgn0011589</td>\n",
       "      <td>0.000000</td>\n",
       "      <td>0.285839</td>\n",
       "      <td>0.000573</td>\n",
       "      <td>0.000094</td>\n",
       "    </tr>\n",
       "    <tr>\n",
       "      <th>10630</th>\n",
       "      <td>FBgn0037915</td>\n",
       "      <td>0.000000</td>\n",
       "      <td>0.280450</td>\n",
       "      <td>0.000428</td>\n",
       "      <td>0.000094</td>\n",
       "    </tr>\n",
       "    <tr>\n",
       "      <th>10631</th>\n",
       "      <td>FBgn0032276</td>\n",
       "      <td>0.000000</td>\n",
       "      <td>0.285839</td>\n",
       "      <td>0.000573</td>\n",
       "      <td>0.000094</td>\n",
       "    </tr>\n",
       "  </tbody>\n",
       "</table>\n",
       "<p>10632 rows × 5 columns</p>\n",
       "</div>"
      ],
      "text/plain": [
       "              FbID  Betweeness  Closeness  EigenVector   DegreeC\n",
       "0      FBgn0001199    0.000507   0.326043     0.001665  0.005550\n",
       "1      FBgn0010434    0.000440   0.332215     0.005553  0.003763\n",
       "2      FBgn0027594    0.000023   0.275844     0.000217  0.000753\n",
       "3      FBgn0000283    0.000676   0.339115     0.005222  0.006302\n",
       "4      FBgn0002781    0.002812   0.350032     0.002764  0.007149\n",
       "...            ...         ...        ...          ...       ...\n",
       "10627  FBgn0036492    0.000000   0.285839     0.000573  0.000094\n",
       "10628  FBgn0038295    0.000000   0.285839     0.000573  0.000094\n",
       "10629  FBgn0011589    0.000000   0.285839     0.000573  0.000094\n",
       "10630  FBgn0037915    0.000000   0.280450     0.000428  0.000094\n",
       "10631  FBgn0032276    0.000000   0.285839     0.000573  0.000094\n",
       "\n",
       "[10632 rows x 5 columns]"
      ]
     },
     "execution_count": 17,
     "metadata": {},
     "output_type": "execute_result"
    }
   ],
   "source": [
    "metrics = betweenness.merge(closeness, on='FbID').merge(eigenvector, on='FbID').merge(degrees_cen, on=\"FbID\")\n",
    "metrics"
   ]
  },
  {
   "cell_type": "code",
   "execution_count": 18,
   "metadata": {
    "scrolled": true
   },
   "outputs": [
    {
     "name": "stderr",
     "output_type": "stream",
     "text": [
      "/Users/xqua/opt/anaconda3/envs/datascience/lib/python3.7/site-packages/ipykernel_launcher.py:5: SettingWithCopyWarning: \n",
      "A value is trying to be set on a copy of a slice from a DataFrame.\n",
      "Try using .loc[row_indexer,col_indexer] = value instead\n",
      "\n",
      "See the caveats in the documentation: http://pandas.pydata.org/pandas-docs/stable/user_guide/indexing.html#returning-a-view-versus-a-copy\n",
      "  \"\"\"\n",
      "/Users/xqua/opt/anaconda3/envs/datascience/lib/python3.7/site-packages/ipykernel_launcher.py:12: SettingWithCopyWarning: \n",
      "A value is trying to be set on a copy of a slice from a DataFrame.\n",
      "Try using .loc[row_indexer,col_indexer] = value instead\n",
      "\n",
      "See the caveats in the documentation: http://pandas.pydata.org/pandas-docs/stable/user_guide/indexing.html#returning-a-view-versus-a-copy\n",
      "  if sys.path[0] == '':\n"
     ]
    }
   ],
   "source": [
    "modules = [ova_module, fec_module, xRNAi_module]\n",
    "modules_label = ['Ova', 'HpoEggL', 'EggL']\n",
    "\n",
    "result = metrics[metrics['FbID'].isin(core_module)]\n",
    "result['Module'] = \"Core\"\n",
    "\n",
    "for i in range(3):\n",
    "    module = modules[i]\n",
    "    module_label = modules_label[i]\n",
    "    testing_module = [n for n in module if n not in core_module]\n",
    "    testing_metric = metrics[metrics['FbID'].isin(testing_module)]\n",
    "    testing_metric['Module'] = module_label\n",
    "    result = result.append(testing_metric)"
   ]
  },
  {
   "cell_type": "code",
   "execution_count": 19,
   "metadata": {},
   "outputs": [],
   "source": [
    "result = result.melt(['FbID', 'Module'])"
   ]
  },
  {
   "cell_type": "code",
   "execution_count": 20,
   "metadata": {},
   "outputs": [
    {
     "data": {
      "text/plain": [
       "array(['Betweeness', 'Closeness', 'EigenVector', 'DegreeC'], dtype=object)"
      ]
     },
     "execution_count": 20,
     "metadata": {},
     "output_type": "execute_result"
    }
   ],
   "source": [
    "result['variable'].unique()"
   ]
  },
  {
   "cell_type": "code",
   "execution_count": 21,
   "metadata": {},
   "outputs": [
    {
     "data": {
      "text/plain": [
       "<matplotlib.axes._subplots.AxesSubplot at 0x114e06ac8>"
      ]
     },
     "execution_count": 21,
     "metadata": {},
     "output_type": "execute_result"
    },
    {
     "data": {
      "image/png": "[encoded data removed]",
      "text/plain": [
       "<Figure size 432x288 with 1 Axes>"
      ]
     },
     "metadata": {
      "needs_background": "light"
     },
     "output_type": "display_data"
    }
   ],
   "source": [
    "sns.boxplot(data=result, x='Module', y='value', hue='variable')"
   ]
  },
  {
   "cell_type": "code",
   "execution_count": 22,
   "metadata": {},
   "outputs": [
    {
     "data": {
      "image/png": "[encoded data removed]",
      "text/plain": [
       "<Figure size 432x288 with 1 Axes>"
      ]
     },
     "metadata": {
      "needs_background": "light"
     },
     "output_type": "display_data"
    },
    {
     "data": {
      "image/png": "[encoded data removed]",
      "text/plain": [
       "<Figure size 432x288 with 1 Axes>"
      ]
     },
     "metadata": {
      "needs_background": "light"
     },
     "output_type": "display_data"
    },
    {
     "data": {
      "image/png": "[encoded data removed]",
      "text/plain": [
       "<Figure size 432x288 with 1 Axes>"
      ]
     },
     "metadata": {
      "needs_background": "light"
     },
     "output_type": "display_data"
    },
    {
     "data": {
      "image/png": "[encoded data removed]",
      "text/plain": [
       "<Figure size 432x288 with 1 Axes>"
      ]
     },
     "metadata": {
      "needs_background": "light"
     },
     "output_type": "display_data"
    }
   ],
   "source": [
    "for metric in ['Betweeness', 'Closeness', 'EigenVector', 'DegreeC']:\n",
    "    plt.figure()\n",
    "    plt.title(metric)\n",
    "    for module in result['Module'].unique():\n",
    "        sns.distplot(a=result[(result['variable'] == metric) & (result['Module'] == module)]['value'])\n",
    "   "
   ]
  },
  {
   "cell_type": "code",
   "execution_count": 23,
   "metadata": {},
   "outputs": [
    {
     "name": "stdout",
     "output_type": "stream",
     "text": [
      "Umann Betweeness Core HpoEggL 0.008656867817380235\n",
      "Umann Betweeness Core EggL 0.014928019080819026\n",
      "Umann Betweeness HpoEggL Core 0.008656867817380235\n",
      "Umann Betweeness EggL Core 0.014928019080819026\n",
      "Umann Closeness Core HpoEggL 0.0024445116031373516\n",
      "Umann Closeness Core EggL 0.018963005838982146\n",
      "Umann Closeness Ova HpoEggL 0.023524338527204838\n",
      "Umann Closeness HpoEggL Core 0.0024445116031373516\n",
      "Umann Closeness HpoEggL Ova 0.023524338527204838\n",
      "Umann Closeness EggL Core 0.018963005838982146\n",
      "Umann EigenVector Core HpoEggL 0.01444711655319972\n",
      "Umann EigenVector Ova HpoEggL 0.0357204862077982\n",
      "Umann EigenVector HpoEggL Core 0.01444711655319972\n",
      "Umann EigenVector HpoEggL Ova 0.0357204862077982\n",
      "Umann DegreeC Core HpoEggL 0.013031183904074381\n",
      "Umann DegreeC Core EggL 0.030219608417371664\n",
      "Umann DegreeC HpoEggL Core 0.013031183904074381\n",
      "Umann DegreeC EggL Core 0.030219608417371664\n"
     ]
    },
    {
     "data": {
      "image/png": "[encoded data removed]",
      "text/plain": [
       "<Figure size 792x576 with 4 Axes>"
      ]
     },
     "metadata": {
      "needs_background": "light"
     },
     "output_type": "display_data"
    }
   ],
   "source": [
    "fig = plt.figure(figsize=(11,8))\n",
    "c = 1\n",
    "colors = [\"#cc8888\", \"#cccccc\", \"#cccccc\", \"#cccccc\"]\n",
    "for metric in ['Betweeness', 'Closeness', 'EigenVector', 'DegreeC']:\n",
    "    ax = fig.add_subplot(2,2,c)\n",
    "    sns.boxplot(data=result[result['variable'] == metric], x='Module', y='value', color=\"#cccccc\", showfliers=False)\n",
    "    plt.xlabel(\"\")\n",
    "    plt.ylabel(metric)\n",
    "    for module1 in result['Module'].unique():\n",
    "        X = result[(result['variable'] == metric) & (result['Module'] == module1)]['value'].values\n",
    "        for module2 in result['Module'].unique():\n",
    "            Y = result[(result['variable'] == metric) & (result['Module'] == module2)]['value'].values\n",
    "            s,p = stats.mannwhitneyu(X, Y)\n",
    "            if p < 0.05:\n",
    "                print(\"Umann\",metric, module1, module2, p)\n",
    "    c += 1\n",
    "fig.savefig(os.path.join(resultpath, \"CoreVSModules_Centrality.svg\"))"
   ]
  },
  {
   "cell_type": "markdown",
   "metadata": {},
   "source": [
    "# Making a heatmap of signaling pathway per group"
   ]
  },
  {
   "cell_type": "code",
   "execution_count": 51,
   "metadata": {},
   "outputs": [],
   "source": [
    "sigs = signaling.groupby('Sig', as_index=False).count().sort_values('FbID')['Sig'].values"
   ]
  },
  {
   "cell_type": "code",
   "execution_count": 52,
   "metadata": {},
   "outputs": [],
   "source": [
    "data = metatable.groupby(['Overlap'], as_index=False).mean()[['Overlap'] + list(sigs)]"
   ]
  },
  {
   "cell_type": "code",
   "execution_count": 53,
   "metadata": {},
   "outputs": [],
   "source": [
    "index_order = metatable.groupby('Overlap', as_index=False).count().sort_values('FbID')['Overlap'].values"
   ]
  },
  {
   "cell_type": "code",
   "execution_count": 54,
   "metadata": {
    "scrolled": true
   },
   "outputs": [],
   "source": [
    "sorterIndex = dict(zip(index_order,range(len(index_order))))"
   ]
  },
  {
   "cell_type": "code",
   "execution_count": 55,
   "metadata": {},
   "outputs": [],
   "source": [
    "data['Rank'] = data['Overlap'].map(sorterIndex)\n",
    "data.index = data['Overlap']"
   ]
  },
  {
   "cell_type": "code",
   "execution_count": 56,
   "metadata": {},
   "outputs": [],
   "source": [
    "data.sort_values(['Rank'], \\\n",
    "        ascending = [True], inplace = True)"
   ]
  },
  {
   "cell_type": "code",
   "execution_count": 57,
   "metadata": {},
   "outputs": [],
   "source": [
    "del(data['Overlap'])\n",
    "del(data['Rank'])"
   ]
  },
  {
   "cell_type": "code",
   "execution_count": 58,
   "metadata": {},
   "outputs": [
    {
     "data": {
      "image/png": "[encoded data removed]",
      "text/plain": [
       "<Figure size 576x252 with 2 Axes>"
      ]
     },
     "metadata": {
      "needs_background": "light"
     },
     "output_type": "display_data"
    }
   ],
   "source": [
    "fig = plt.figure(figsize=(8,3.5))\n",
    "sns.heatmap(data, cmap=\"Greys\", linewidths=.75)\n",
    "fig.savefig(os.path.join(resultpath,\"Figures/Meta_Network_Signaling_Heatmap.svg\"))"
   ]
  }
 ],
 "metadata": {
  "kernelspec": {
   "display_name": "Python 3",
   "language": "python",
   "name": "python3"
  },
  "language_info": {
   "codemirror_mode": {
    "name": "ipython",
    "version": 3
   },
   "file_extension": ".py",
   "mimetype": "text/x-python",
   "name": "python",
   "nbconvert_exporter": "python",
   "pygments_lexer": "ipython3",
   "version": "3.7.3"
  }
 },
 "nbformat": 4,
 "nbformat_minor": 2
}
