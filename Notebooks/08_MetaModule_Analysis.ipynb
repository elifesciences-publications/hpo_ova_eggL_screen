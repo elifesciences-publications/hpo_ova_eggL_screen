{
 "cells": [
  {
   "cell_type": "code",
   "execution_count": 1,
   "metadata": {},
   "outputs": [],
   "source": [
    "import networkx as nx\n",
    "import numpy as np\n",
    "import seaborn as sns\n",
    "import matplotlib.pyplot as plt\n",
    "import pandas as pd\n",
    "import os\n",
    "import progressbar\n",
    "from scipy import stats\n",
    "sns.set()\n",
    "\n",
    "%matplotlib inline"
   ]
  },
  {
   "cell_type": "markdown",
   "metadata": {},
   "source": [
    "# Define path and load files \n",
    "\n",
    "Accross the analysis the following names are used for the 3 screens\n",
    "- ova == Ovariole Number screen\n",
    "- fec == Hippo RNAi EggLaying screen\n",
    "- xRNAi == EggLaying screen"
   ]
  },
  {
   "cell_type": "code",
   "execution_count": 2,
   "metadata": {},
   "outputs": [],
   "source": [
    "data = \"../../../Paper/Data\"\n",
    "resultpath = '../../../Paper/Results'"
   ]
  },
  {
   "cell_type": "code",
   "execution_count": 3,
   "metadata": {},
   "outputs": [],
   "source": [
    "G = nx.read_graphml(os.path.join(data,'PPI.graphml'))\n",
    "hipo_ova = pd.read_csv(os.path.join(data,'Screen/hipo_ova_clean.csv'))\n",
    "xRNAi_fec = pd.read_csv(os.path.join(data,'Screen/xRNAi_fec_clean.csv'))\n",
    "hipo_fec = pd.read_csv(os.path.join(data,'Screen/hipo_fec_clean.csv'))\n",
    "signaling = pd.read_csv(os.path.join(data,'signaling.csv'))\n",
    "connectors= pd.read_csv(os.path.join(resultpath,\"ConnectorGeneList.csv\"))"
   ]
  },
  {
   "cell_type": "code",
   "execution_count": 4,
   "metadata": {},
   "outputs": [],
   "source": [
    "# We only consider the sum of eggs layed over 5 days, so we restrict the data to the \"Sum\"\n",
    "xRNAi_fec = xRNAi_fec[xRNAi_fec['Condition'] == 'Sum'].reset_index(drop=True)\n",
    "hipo_fec = hipo_fec[hipo_fec['Condition'] == 'Sum'].reset_index(drop=True)"
   ]
  },
  {
   "cell_type": "code",
   "execution_count": 5,
   "metadata": {},
   "outputs": [],
   "source": [
    "# Modules computed in the notebook file: Seed-Connector\n",
    "ova_module_G = nx.read_graphml(os.path.join(resultpath,'Ova_module.graphml'))\n",
    "fec_module_G = nx.read_graphml(os.path.join(resultpath,'Hpo_EggL_module.graphml'))\n",
    "xRNAi_module_G = nx.read_graphml(os.path.join(resultpath,'EggL_module.graphml'))\n",
    "core_module_G = nx.read_graphml(os.path.join(resultpath,'Core_module.graphml'))"
   ]
  },
  {
   "cell_type": "code",
   "execution_count": 6,
   "metadata": {},
   "outputs": [],
   "source": [
    "signaling_meta = pd.read_csv(os.path.join(data, \"signaling_metadata.csv\"))"
   ]
  },
  {
   "cell_type": "code",
   "execution_count": null,
   "metadata": {},
   "outputs": [],
   "source": []
  },
  {
   "cell_type": "markdown",
   "metadata": {},
   "source": [
    "# Prepare groups of genes and positive candidate set\n",
    "Here we calculate the mean of the Zscore for each gene in the screens, define thresholds for significance, and create subsets of genes"
   ]
  },
  {
   "cell_type": "code",
   "execution_count": 7,
   "metadata": {},
   "outputs": [],
   "source": [
    "mean_ova_gene = hipo_ova.groupby('FbID', as_index=False).mean()\n",
    "mean_fec_gene = hipo_fec.groupby('FbID', as_index=False).mean()\n",
    "mean_xRNAi_gene = xRNAi_fec.groupby('FbID', as_index=False).mean()"
   ]
  },
  {
   "cell_type": "code",
   "execution_count": 8,
   "metadata": {},
   "outputs": [],
   "source": [
    "ova_module = ova_module_G.nodes()\n",
    "fec_module = fec_module_G.nodes()\n",
    "xRNAi_module = xRNAi_module_G.nodes()\n",
    "core_module = core_module_G.nodes()"
   ]
  },
  {
   "cell_type": "code",
   "execution_count": 9,
   "metadata": {},
   "outputs": [],
   "source": [
    "# Here we select all the genes that were tested in the screen,\n",
    "# because the first screen was Hipo RNAi EggLaying measurement, this dataset contains all the tested genes\n",
    "screen_genes = mean_fec_gene['FbID'].values\n",
    "ScreenG = G.subgraph(screen_genes)"
   ]
  },
  {
   "cell_type": "code",
   "execution_count": 10,
   "metadata": {},
   "outputs": [],
   "source": [
    "# We redefine our threshold of 2 and 5 for Z score cutoff\n",
    "ova_threshold = 2\n",
    "eggl_threshold = 5"
   ]
  },
  {
   "cell_type": "code",
   "execution_count": 11,
   "metadata": {},
   "outputs": [],
   "source": [
    "# Ovariole number screen\n",
    "# Keep only genes with a Zscore over or equal to 2\n",
    "ova_seed = mean_ova_gene[(mean_ova_gene['Z'].abs()>=ova_threshold)]['FbID'].values\n",
    "# Filter out the controls\n",
    "ova_seed = [i for i in ova_seed if 'FBgn' in i]\n",
    "\n",
    "# Hippo RNAi Egg Laying screen\n",
    "# Keep only genes with a Zscore over or equal to 5\n",
    "fec_seed = mean_fec_gene[(mean_fec_gene['Z'].abs()>=eggl_threshold)]['FbID'].values\n",
    "# Filter out the controls\n",
    "fec_seed = [i for i in fec_seed if 'FBgn' in i]\n",
    "\n",
    "# Egg Laying Screen\n",
    "# Keep only genes with a Zscore over or equal to 5\n",
    "xRNAi_seed = mean_xRNAi_gene[(mean_xRNAi_gene['Z'].abs()>=eggl_threshold)]['FbID'].values\n",
    "# Filter out the controls\n",
    "xRNAi_seed = [i for i in xRNAi_seed if 'FBgn' in i]\n",
    "\n",
    "core_seed = set.intersection(set(ova_seed), set(fec_seed), set(xRNAi_seed))"
   ]
  },
  {
   "cell_type": "code",
   "execution_count": 12,
   "metadata": {},
   "outputs": [],
   "source": [
    "allgenes = np.unique(list(set.union(set(ova_module), set(xRNAi_module), set(fec_module), set(core_module))))\n",
    "all3 = set.intersection(set(ova_module), set(xRNAi_module), set(fec_module))\n",
    "ovafec = set.intersection(set(ova_module), set(fec_module))\n",
    "ovaxRNAi = set.intersection(set(ova_module), set(xRNAi_module))\n",
    "xRNAifec = set.intersection(set(fec_module), set(xRNAi_module))\n",
    "core = set(core_module)"
   ]
  },
  {
   "cell_type": "markdown",
   "metadata": {},
   "source": [
    "# Building the meta module network"
   ]
  },
  {
   "cell_type": "code",
   "execution_count": 13,
   "metadata": {},
   "outputs": [
    {
     "data": {
      "text/html": [
       "<div>\n",
       "<style>\n",
       "    .dataframe thead tr:only-child th {\n",
       "        text-align: right;\n",
       "    }\n",
       "\n",
       "    .dataframe thead th {\n",
       "        text-align: left;\n",
       "    }\n",
       "\n",
       "    .dataframe tbody tr th {\n",
       "        vertical-align: top;\n",
       "    }\n",
       "</style>\n",
       "<table border=\"1\" class=\"dataframe\">\n",
       "  <thead>\n",
       "    <tr style=\"text-align: right;\">\n",
       "      <th></th>\n",
       "      <th>FbID</th>\n",
       "      <th>Batch</th>\n",
       "      <th>Count</th>\n",
       "      <th>Z</th>\n",
       "    </tr>\n",
       "  </thead>\n",
       "  <tbody>\n",
       "    <tr>\n",
       "      <th>360</th>\n",
       "      <td>FBgn0043903</td>\n",
       "      <td>5</td>\n",
       "      <td>210</td>\n",
       "      <td>0.237999</td>\n",
       "    </tr>\n",
       "  </tbody>\n",
       "</table>\n",
       "</div>"
      ],
      "text/plain": [
       "            FbID  Batch  Count         Z\n",
       "360  FBgn0043903      5    210  0.237999"
      ]
     },
     "execution_count": 13,
     "metadata": {},
     "output_type": "execute_result"
    }
   ],
   "source": [
    "mean_fec_gene[mean_fec_gene['FbID'] == \"FBgn0043903\"]"
   ]
  },
  {
   "cell_type": "code",
   "execution_count": 14,
   "metadata": {},
   "outputs": [],
   "source": [
    "# Create the network composed of all 4 modules aggregated\n",
    "subG = nx.compose(ova_module_G, fec_module_G)\n",
    "subG = nx.compose(subG, xRNAi_module_G)\n",
    "subG = nx.compose(subG, core_module_G)"
   ]
  },
  {
   "cell_type": "code",
   "execution_count": 15,
   "metadata": {},
   "outputs": [],
   "source": [
    "# Extract the locations in modules for all genes in the MetaNetwork\n",
    "for node in subG.nodes():\n",
    "    # Define the location in modules\n",
    "    # Ova / HipoEggL / Eggl \n",
    "    key = ['0','0','0']\n",
    "    if node in ova_module:\n",
    "        key[0] = '1'\n",
    "    if node in fec_module:\n",
    "        key[1] = '1'\n",
    "    if node in xRNAi_module:\n",
    "        key[2] = '1'\n",
    "    if node in core_module:\n",
    "        key[0] = '1'\n",
    "        key[1] = '1'\n",
    "        key[2] = '1'\n",
    "    subG.node[node]['overlap'] = ''.join(key)"
   ]
  },
  {
   "cell_type": "code",
   "execution_count": 16,
   "metadata": {},
   "outputs": [],
   "source": [
    "# Extract the Z_scores for all the nodes\n",
    "scores_ova = {}\n",
    "scores_fec = {}\n",
    "scores_xRNAi = {}\n",
    "scores = {}\n",
    "for node in subG.nodes():\n",
    "    Z = []\n",
    "    if node in mean_xRNAi_gene['FbID'].unique():\n",
    "        z = mean_xRNAi_gene[mean_xRNAi_gene['FbID'] == node]['Z'].values[0]\n",
    "        Z.append(z)\n",
    "        scores_xRNAi[node] = z\n",
    "    if node in mean_fec_gene['FbID'].unique():\n",
    "        z = mean_fec_gene[mean_fec_gene['FbID'] == node]['Z'].values[0]\n",
    "        Z.append(z)\n",
    "        scores_fec[node] = z\n",
    "    if node in mean_ova_gene['FbID'].unique():\n",
    "        z = mean_ova_gene[mean_ova_gene['FbID'] == node]['Z'].values[0]\n",
    "        Z.append(z)\n",
    "        scores_ova[node] = z\n",
    "    if len(Z) == 3:\n",
    "        scores[node] = np.mean(Z)"
   ]
  },
  {
   "cell_type": "code",
   "execution_count": 17,
   "metadata": {},
   "outputs": [],
   "source": [
    "# Decorate the network by adding all the calculated fileds above\n",
    "for node in subG.nodes():\n",
    "    if node in scores:\n",
    "        Z = scores[node]\n",
    "        if node in scores_ova:\n",
    "            Z_ova = scores_ova[node]\n",
    "        else:\n",
    "            Z_ova = 0.0\n",
    "        if node in scores_fec:\n",
    "            Z_fec = scores_fec[node]\n",
    "        else:\n",
    "            Z_fec = 0.0\n",
    "        if node in scores_xRNAi:\n",
    "            Z_xRNAi = scores_xRNAi[node]\n",
    "        else:\n",
    "            Z_xRNAi = 0.0\n",
    "        subG.node[node]['Z'] = abs(float(Z))\n",
    "        subG.node[node]['Z_ova'] = abs(float(Z_ova))\n",
    "        subG.node[node]['Z_fec'] = abs(float(Z_fec))\n",
    "        subG.node[node]['Z_xRNAi'] = abs(float(Z_xRNAi))\n",
    "    else:\n",
    "        subG.node[node]['Z'] = 0.0\n",
    "        if node in scores_ova:\n",
    "            subG.node[node]['Z_ova'] = abs(float(scores_ova[node]))\n",
    "        else:\n",
    "            subG.node[node]['Z_ova'] = 0.0\n",
    "        \n",
    "        subG.node[node]['Z_fec'] = 0.0\n",
    "        subG.node[node]['Z_xRNAi'] = 0.0\n",
    "    sigs = signaling[signaling['FbID'] == node]['Sig'].values\n",
    "    for sig in signaling['Sig'].unique():\n",
    "        if sig in sigs:\n",
    "            subG.node[node][sig] = 1\n",
    "        else:\n",
    "            subG.node[node][sig] = 0"
   ]
  },
  {
   "cell_type": "code",
   "execution_count": 18,
   "metadata": {},
   "outputs": [
    {
     "data": {
      "text/plain": [
       "0           NaN\n",
       "1           NaN\n",
       "2           NaN\n",
       "3        Ligand\n",
       "4           NaN\n",
       "5           NaN\n",
       "6           NaN\n",
       "7           NaN\n",
       "8           NaN\n",
       "9           NaN\n",
       "10          NaN\n",
       "11          NaN\n",
       "12     Receptor\n",
       "13          NaN\n",
       "14          NaN\n",
       "15          NaN\n",
       "16          NaN\n",
       "17          NaN\n",
       "18          NaN\n",
       "19       Ligand\n",
       "20          NaN\n",
       "21          NaN\n",
       "22     Receptor\n",
       "23       Ligand\n",
       "24          NaN\n",
       "25          NaN\n",
       "26          NaN\n",
       "27          NaN\n",
       "28          NaN\n",
       "29          NaN\n",
       "         ...   \n",
       "623         NaN\n",
       "624         NaN\n",
       "625         NaN\n",
       "626         NaN\n",
       "627         NaN\n",
       "628         NaN\n",
       "629         NaN\n",
       "630         NaN\n",
       "631         NaN\n",
       "632         NaN\n",
       "633         NaN\n",
       "634         NaN\n",
       "635         NaN\n",
       "636         NaN\n",
       "637         NaN\n",
       "638         NaN\n",
       "639         NaN\n",
       "640         NaN\n",
       "641         NaN\n",
       "642         NaN\n",
       "643         NaN\n",
       "644         NaN\n",
       "645         NaN\n",
       "646         NaN\n",
       "647         NaN\n",
       "648         NaN\n",
       "649         NaN\n",
       "650         NaN\n",
       "651         NaN\n",
       "652         NaN\n",
       "Name: KeyMember, Length: 653, dtype: object"
      ]
     },
     "execution_count": 18,
     "metadata": {},
     "output_type": "execute_result"
    }
   ],
   "source": [
    "signaling_meta['KeyMember']"
   ]
  },
  {
   "cell_type": "code",
   "execution_count": 19,
   "metadata": {},
   "outputs": [],
   "source": [
    "# Adding the labels on nodes if they are receptor or ligand\n",
    "\n",
    "for node in subG.nodes():\n",
    "    if node in signaling_meta['FbID'].values:\n",
    "        types = signaling_meta[signaling_meta['FbID']== node]['KeyMember'].values[0]\n",
    "        if type(types) == str:\n",
    "            if types == \"Ligand\":\n",
    "                subG.node[node][\"SigType\"] = \"Ligand\"\n",
    "            else:\n",
    "                subG.node[node][\"SigType\"] = \"Receptor\"\n",
    "        else:\n",
    "            subG.node[node][\"SigType\"] = \"Else\"            \n",
    "    else:\n",
    "        subG.node[node][\"SigType\"] = \"Else\""
   ]
  },
  {
   "cell_type": "code",
   "execution_count": 20,
   "metadata": {
    "scrolled": true
   },
   "outputs": [
    {
     "data": {
      "text/plain": [
       "'../../../Paper/Results/Meta_module.graphml'"
      ]
     },
     "execution_count": 20,
     "metadata": {},
     "output_type": "execute_result"
    }
   ],
   "source": [
    "os.path.join(resultpath, 'Meta_module.graphml')"
   ]
  },
  {
   "cell_type": "code",
   "execution_count": 21,
   "metadata": {},
   "outputs": [],
   "source": [
    "nx.write_graphml(subG, os.path.join(resultpath, 'Meta_module.graphml'))"
   ]
  },
  {
   "cell_type": "markdown",
   "metadata": {},
   "source": [
    "# Making a table of the metanetwork"
   ]
  },
  {
   "cell_type": "code",
   "execution_count": 22,
   "metadata": {},
   "outputs": [],
   "source": [
    "res = []\n",
    "sigs = signaling['Sig'].unique()\n",
    "for node in subG.nodes():\n",
    "    n = subG.node[node]\n",
    "    S = []\n",
    "    for sig in sigs:\n",
    "        S.append(subG.node[node][sig])\n",
    "    res.append([node, n['label'], n['Seed'], n['Z_ova'], n['Z_fec'], n['Z_xRNAi'], str(n['overlap'])] + S)\n",
    "metatable = pd.DataFrame(res, columns=['FbID', 'GeneName', 'Type', 'Z_ovariole', 'Z_HpoEggL', 'Z_EggL', 'Overlap'] + list(sigs))"
   ]
  },
  {
   "cell_type": "code",
   "execution_count": 23,
   "metadata": {},
   "outputs": [],
   "source": [
    "metatable.to_csv(os.path.join(resultpath,\"MetaNetworkData.csv\"), index=False)"
   ]
  },
  {
   "cell_type": "markdown",
   "metadata": {},
   "source": [
    "# Analysing Edge Density between different gene sets"
   ]
  },
  {
   "cell_type": "code",
   "execution_count": 24,
   "metadata": {},
   "outputs": [
    {
     "name": "stdout",
     "output_type": "stream",
     "text": [
      "FBgn0011660 FBgn0023169\n",
      "FBgn0000046 FBgn0040078\n",
      "FBgn0040078 FBgn0000046\n",
      "FBgn0264922 FBgn0010341\n",
      "FBgn0010341 FBgn0264922\n",
      "FBgn0023169 FBgn0011660\n",
      "FBgn0025637 FBgn0036196\n",
      "FBgn0034259 FBgn0024291\n",
      "FBgn0025637 FBgn0000117\n",
      "FBgn0025637 FBgn0001965\n",
      "FBgn0002121 FBgn0004647\n",
      "FBgn0002121 FBgn0000499\n",
      "FBgn0002121 FBgn0001624\n",
      "FBgn0037891 FBgn0004647\n",
      "FBgn0004110 FBgn0001139\n",
      "FBgn0040078 FBgn0000117\n",
      "FBgn0040078 FBgn0021796\n",
      "FBgn0264922 FBgn0000352\n",
      "FBgn0264922 FBgn0003444\n",
      "FBgn0264922 FBgn0001139\n",
      "FBgn0264922 FBgn0024846\n",
      "FBgn0003205 FBgn0004177\n",
      "FBgn0034259 FBgn0021874\n",
      "FBgn0041191 FBgn0004177\n",
      "FBgn0041191 FBgn0261592\n",
      "FBgn0011660 FBgn0263108\n",
      "FBgn0002121 FBgn0263108\n",
      "FBgn0037891 FBgn0026250\n",
      "FBgn0003205 FBgn0263108\n",
      "FBgn0034259 FBgn0037351\n",
      "FBgn0259896 FBgn0002973\n",
      "FBgn0261854 FBgn0003041\n",
      "FBgn0261854 FBgn0002973\n",
      "FBgn0000047 FBgn0000064\n",
      "FBgn0011642 FBgn0011739\n",
      "FBgn0010504 FBgn0022959\n",
      "FBgn0260945 FBgn0010905\n",
      "FBgn0260945 FBgn0051679\n",
      "FBgn0000064 FBgn0000047\n",
      "FBgn0000064 FBgn0010905\n",
      "FBgn0044028 FBgn0010905\n",
      "FBgn0022959 FBgn0010504\n",
      "FBgn0022959 FBgn0262866\n",
      "FBgn0032006 FBgn0043903\n",
      "FBgn0000250 FBgn0011274\n",
      "FBgn0010905 FBgn0260945\n",
      "FBgn0010905 FBgn0000064\n",
      "FBgn0010905 FBgn0044028\n",
      "FBgn0010905 FBgn0003041\n",
      "FBgn0011274 FBgn0000250\n",
      "FBgn0039234 FBgn0033378\n",
      "FBgn0051679 FBgn0260945\n",
      "FBgn0011739 FBgn0011642\n",
      "FBgn0262866 FBgn0022959\n",
      "FBgn0033378 FBgn0039234\n",
      "FBgn0003041 FBgn0261854\n",
      "FBgn0003041 FBgn0010905\n",
      "FBgn0002973 FBgn0259896\n",
      "FBgn0002973 FBgn0261854\n",
      "FBgn0043903 FBgn0032006\n",
      "FBgn0259896 FBgn0037218\n",
      "FBgn0000250 FBgn0261988\n",
      "FBgn0000250 FBgn0031450\n",
      "FBgn0010905 FBgn0024291\n",
      "FBgn0011739 FBgn0030530\n",
      "FBgn0036790 FBgn0036196\n",
      "FBgn0003449 FBgn0004856\n",
      "FBgn0003449 FBgn0264270\n",
      "FBgn0261854 FBgn0004177\n",
      "FBgn0260945 FBgn0021796\n",
      "FBgn0000064 FBgn0004647\n",
      "FBgn0000064 FBgn0000117\n",
      "FBgn0022959 FBgn0010379\n",
      "FBgn0032006 FBgn0015774\n",
      "FBgn0259984 FBgn0004647\n",
      "FBgn0010905 FBgn0039044\n",
      "FBgn0010905 FBgn0001965\n",
      "FBgn0010905 FBgn0261592\n",
      "FBgn0010905 FBgn0000499\n",
      "FBgn0010905 FBgn0020496\n",
      "FBgn0005355 FBgn0000352\n",
      "FBgn0005355 FBgn0264270\n",
      "FBgn0039234 FBgn0004647\n",
      "FBgn0051679 FBgn0261617\n",
      "FBgn0051679 FBgn0010379\n",
      "FBgn0051679 FBgn0003892\n",
      "FBgn0011739 FBgn0010909\n",
      "FBgn0263289 FBgn0015774\n",
      "FBgn0263289 FBgn0001624\n",
      "FBgn0262866 FBgn0261592\n",
      "FBgn0262866 FBgn0010909\n",
      "FBgn0262866 FBgn0000259\n",
      "FBgn0036790 FBgn0004177\n",
      "FBgn0036790 FBgn0020496\n",
      "FBgn0003041 FBgn0014020\n",
      "FBgn0002973 FBgn0004647\n",
      "FBgn0043903 FBgn0030904\n",
      "FBgn0003449 FBgn0015218\n",
      "FBgn0000064 FBgn0261014\n",
      "FBgn0022959 FBgn0015218\n",
      "FBgn0003041 FBgn0025800\n",
      "FBgn0024291 FBgn0034259\n",
      "FBgn0036196 FBgn0025637\n",
      "FBgn0037218 FBgn0259896\n",
      "FBgn0030530 FBgn0011739\n",
      "FBgn0261988 FBgn0000250\n",
      "FBgn0024291 FBgn0010905\n",
      "FBgn0031450 FBgn0000250\n",
      "FBgn0036196 FBgn0036790\n",
      "FBgn0261988 FBgn0261592\n",
      "FBgn0261988 FBgn0003444\n",
      "FBgn0024291 FBgn0261617\n",
      "FBgn0024291 FBgn0000259\n",
      "FBgn0031450 FBgn0004647\n",
      "FBgn0031450 FBgn0003444\n",
      "FBgn0031450 FBgn0020496\n",
      "FBgn0030530 FBgn0034970\n",
      "FBgn0000352 FBgn0264922\n",
      "FBgn0004647 FBgn0002121\n",
      "FBgn0004647 FBgn0037891\n",
      "FBgn0004177 FBgn0003205\n",
      "FBgn0004177 FBgn0041191\n",
      "FBgn0000117 FBgn0025637\n",
      "FBgn0000117 FBgn0040078\n",
      "FBgn0001965 FBgn0025637\n",
      "FBgn0261592 FBgn0041191\n",
      "FBgn0003444 FBgn0264922\n",
      "FBgn0001139 FBgn0004110\n",
      "FBgn0001139 FBgn0264922\n",
      "FBgn0024846 FBgn0264922\n",
      "FBgn0021796 FBgn0040078\n",
      "FBgn0000499 FBgn0002121\n",
      "FBgn0021874 FBgn0034259\n",
      "FBgn0001624 FBgn0002121\n",
      "FBgn0000352 FBgn0005355\n",
      "FBgn0039044 FBgn0010905\n",
      "FBgn0004856 FBgn0003449\n",
      "FBgn0004647 FBgn0000064\n",
      "FBgn0004647 FBgn0259984\n",
      "FBgn0004647 FBgn0039234\n",
      "FBgn0004647 FBgn0002973\n",
      "FBgn0004177 FBgn0261854\n",
      "FBgn0004177 FBgn0036790\n",
      "FBgn0000117 FBgn0000064\n",
      "FBgn0261617 FBgn0051679\n",
      "FBgn0001965 FBgn0010905\n",
      "FBgn0261592 FBgn0010905\n",
      "FBgn0261592 FBgn0262866\n",
      "FBgn0030904 FBgn0043903\n",
      "FBgn0010379 FBgn0022959\n",
      "FBgn0010379 FBgn0051679\n",
      "FBgn0010909 FBgn0011739\n",
      "FBgn0010909 FBgn0262866\n",
      "FBgn0021796 FBgn0260945\n",
      "FBgn0015774 FBgn0032006\n",
      "FBgn0015774 FBgn0263289\n",
      "FBgn0000499 FBgn0010905\n",
      "FBgn0014020 FBgn0003041\n",
      "FBgn0003892 FBgn0051679\n",
      "FBgn0000259 FBgn0262866\n",
      "FBgn0020496 FBgn0010905\n",
      "FBgn0020496 FBgn0036790\n",
      "FBgn0001624 FBgn0263289\n",
      "FBgn0264270 FBgn0003449\n",
      "FBgn0264270 FBgn0005355\n",
      "FBgn0004647 FBgn0031450\n",
      "FBgn0261617 FBgn0024291\n",
      "FBgn0261592 FBgn0261988\n",
      "FBgn0003444 FBgn0261988\n",
      "FBgn0003444 FBgn0031450\n",
      "FBgn0000259 FBgn0024291\n",
      "FBgn0020496 FBgn0031450\n",
      "FBgn0000352 FBgn0003444\n",
      "FBgn0000352 FBgn0003892\n",
      "FBgn0000352 FBgn0264270\n",
      "FBgn0039044 FBgn0004647\n",
      "FBgn0039044 FBgn0015774\n",
      "FBgn0039044 FBgn0003612\n",
      "FBgn0003479 FBgn0261617\n",
      "FBgn0003479 FBgn0010379\n",
      "FBgn0003479 FBgn0015774\n",
      "FBgn0003479 FBgn0003892\n",
      "FBgn0003479 FBgn0003612\n",
      "FBgn0004856 FBgn0015268\n",
      "FBgn0036974 FBgn0024846\n",
      "FBgn0004647 FBgn0039044\n",
      "FBgn0004647 FBgn0003124\n",
      "FBgn0004647 FBgn0010825\n",
      "FBgn0004647 FBgn0000117\n",
      "FBgn0004647 FBgn0036896\n",
      "FBgn0004647 FBgn0041627\n",
      "FBgn0004647 FBgn0010909\n",
      "FBgn0004647 FBgn0015774\n",
      "FBgn0004647 FBgn0000499\n",
      "FBgn0003124 FBgn0004647\n",
      "FBgn0003124 FBgn0015268\n",
      "FBgn0004177 FBgn0015268\n",
      "FBgn0004177 FBgn0003444\n",
      "FBgn0004177 FBgn0024846\n",
      "FBgn0010825 FBgn0004647\n",
      "FBgn0010825 FBgn0015774\n",
      "FBgn0000117 FBgn0004647\n",
      "FBgn0000117 FBgn0261617\n",
      "FBgn0000117 FBgn0000499\n",
      "FBgn0036896 FBgn0004647\n",
      "FBgn0036896 FBgn0014020\n",
      "FBgn0261617 FBgn0003479\n",
      "FBgn0261617 FBgn0000117\n",
      "FBgn0261617 FBgn0023518\n",
      "FBgn0041627 FBgn0004647\n",
      "FBgn0041627 FBgn0015774\n",
      "FBgn0041627 FBgn0029175\n",
      "FBgn0001965 FBgn0015774\n",
      "FBgn0261592 FBgn0031006\n",
      "FBgn0015268 FBgn0004856\n",
      "FBgn0015268 FBgn0003124\n",
      "FBgn0015268 FBgn0004177\n",
      "FBgn0015268 FBgn0031006\n",
      "FBgn0015268 FBgn0010379\n",
      "FBgn0015268 FBgn0015774\n",
      "FBgn0015268 FBgn0020496\n",
      "FBgn0031006 FBgn0261592\n",
      "FBgn0031006 FBgn0015268\n",
      "FBgn0031006 FBgn0010909\n",
      "FBgn0031006 FBgn0021796\n",
      "FBgn0031006 FBgn0000259\n",
      "FBgn0010379 FBgn0003479\n",
      "FBgn0010379 FBgn0015268\n",
      "FBgn0010379 FBgn0021874\n",
      "FBgn0003444 FBgn0000352\n",
      "FBgn0003444 FBgn0004177\n",
      "FBgn0003444 FBgn0086785\n",
      "FBgn0003444 FBgn0003892\n",
      "FBgn0003444 FBgn0264270\n",
      "FBgn0010909 FBgn0004647\n",
      "FBgn0010909 FBgn0031006\n",
      "FBgn0010909 FBgn0015774\n",
      "FBgn0001139 FBgn0020496\n",
      "FBgn0024846 FBgn0036974\n",
      "FBgn0024846 FBgn0004177\n",
      "FBgn0021796 FBgn0031006\n",
      "FBgn0015774 FBgn0039044\n",
      "FBgn0015774 FBgn0003479\n",
      "FBgn0015774 FBgn0004647\n",
      "FBgn0015774 FBgn0010825\n",
      "FBgn0015774 FBgn0041627\n",
      "FBgn0015774 FBgn0001965\n",
      "FBgn0015774 FBgn0015268\n",
      "FBgn0015774 FBgn0010909\n",
      "FBgn0015774 FBgn0003892\n",
      "FBgn0003090 FBgn0000499\n",
      "FBgn0000499 FBgn0004647\n",
      "FBgn0000499 FBgn0000117\n",
      "FBgn0000499 FBgn0003090\n",
      "FBgn0000499 FBgn0001624\n",
      "FBgn0014020 FBgn0036896\n",
      "FBgn0086785 FBgn0003444\n",
      "FBgn0021874 FBgn0010379\n",
      "FBgn0003892 FBgn0000352\n",
      "FBgn0003892 FBgn0003479\n",
      "FBgn0003892 FBgn0003444\n",
      "FBgn0003892 FBgn0015774\n",
      "FBgn0003892 FBgn0264270\n",
      "FBgn0000259 FBgn0031006\n",
      "FBgn0020496 FBgn0015268\n",
      "FBgn0020496 FBgn0001139\n",
      "FBgn0001624 FBgn0000499\n",
      "FBgn0023518 FBgn0261617\n",
      "FBgn0003612 FBgn0039044\n",
      "FBgn0003612 FBgn0003479\n",
      "FBgn0264270 FBgn0000352\n",
      "FBgn0264270 FBgn0003444\n",
      "FBgn0264270 FBgn0003892\n",
      "FBgn0029175 FBgn0041627\n",
      "FBgn0036974 FBgn0086613\n",
      "FBgn0004647 FBgn0005777\n",
      "FBgn0004647 FBgn0262614\n",
      "FBgn0004647 FBgn0004837\n",
      "FBgn0004647 FBgn0002643\n",
      "FBgn0004177 FBgn0044323\n",
      "FBgn0004177 FBgn0015282\n",
      "FBgn0010825 FBgn0005777\n",
      "FBgn0000117 FBgn0003396\n",
      "FBgn0001965 FBgn0086613\n",
      "FBgn0261592 FBgn0020386\n",
      "FBgn0010379 FBgn0002174\n",
      "FBgn0010379 FBgn0015282\n",
      "FBgn0010379 FBgn0020386\n",
      "FBgn0010909 FBgn0044323\n",
      "FBgn0010909 FBgn0020386\n",
      "FBgn0001139 FBgn0004858\n",
      "FBgn0001139 FBgn0001169\n",
      "FBgn0014020 FBgn0026181\n",
      "FBgn0003892 FBgn0002174\n",
      "FBgn0020496 FBgn0001169\n",
      "FBgn0029175 FBgn0015282\n",
      "FBgn0000352 FBgn0263108\n",
      "FBgn0039044 FBgn0263108\n",
      "FBgn0039044 FBgn0034970\n",
      "FBgn0004856 FBgn0011692\n",
      "FBgn0003124 FBgn0011692\n",
      "FBgn0003124 FBgn0263108\n",
      "FBgn0000499 FBgn0264492\n",
      "FBgn0000499 FBgn0034970\n",
      "FBgn0000259 FBgn0264492\n",
      "FBgn0023518 FBgn0034970\n",
      "FBgn0004177 FBgn0039102\n",
      "FBgn0010825 FBgn0000042\n",
      "FBgn0010379 FBgn0261014\n",
      "FBgn0001139 FBgn0003430\n",
      "FBgn0021796 FBgn0029840\n",
      "FBgn0000499 FBgn0261885\n",
      "FBgn0264270 FBgn0015218\n",
      "FBgn0086613 FBgn0036974\n",
      "FBgn0086613 FBgn0001965\n",
      "FBgn0005777 FBgn0004647\n",
      "FBgn0005777 FBgn0010825\n",
      "FBgn0004858 FBgn0001139\n",
      "FBgn0002174 FBgn0010379\n",
      "FBgn0002174 FBgn0003892\n",
      "FBgn0044323 FBgn0004177\n",
      "FBgn0044323 FBgn0010909\n",
      "FBgn0262614 FBgn0004647\n",
      "FBgn0015282 FBgn0004177\n",
      "FBgn0015282 FBgn0010379\n",
      "FBgn0015282 FBgn0029175\n",
      "FBgn0020386 FBgn0261592\n",
      "FBgn0020386 FBgn0010379\n",
      "FBgn0020386 FBgn0010909\n",
      "FBgn0003396 FBgn0000117\n",
      "FBgn0004837 FBgn0004647\n",
      "FBgn0026181 FBgn0014020\n",
      "FBgn0001169 FBgn0001139\n",
      "FBgn0001169 FBgn0020496\n",
      "FBgn0002643 FBgn0004647\n",
      "FBgn0025687 FBgn0015799\n",
      "FBgn0025687 FBgn0033266\n",
      "FBgn0025687 FBgn0026379\n",
      "FBgn0086613 FBgn0003396\n",
      "FBgn0086613 FBgn0026181\n",
      "FBgn0003984 FBgn0005777\n",
      "FBgn0005777 FBgn0003984\n",
      "FBgn0005777 FBgn0035213\n",
      "FBgn0005777 FBgn0022787\n",
      "FBgn0005777 FBgn0262614\n",
      "FBgn0005777 FBgn0003396\n",
      "FBgn0004858 FBgn0035213\n",
      "FBgn0015799 FBgn0025687\n",
      "FBgn0033266 FBgn0025687\n",
      "FBgn0033266 FBgn0015282\n",
      "FBgn0003204 FBgn0035213\n",
      "FBgn0002174 FBgn0020386\n",
      "FBgn0035213 FBgn0005777\n",
      "FBgn0035213 FBgn0004858\n",
      "FBgn0035213 FBgn0003204\n",
      "FBgn0022787 FBgn0005777\n",
      "FBgn0262614 FBgn0005777\n",
      "FBgn0015282 FBgn0033266\n",
      "FBgn0015282 FBgn0020386\n",
      "FBgn0015282 FBgn0026379\n",
      "FBgn0015282 FBgn0001169\n",
      "FBgn0020386 FBgn0002174\n",
      "FBgn0020386 FBgn0015282\n",
      "FBgn0026379 FBgn0025687\n",
      "FBgn0026379 FBgn0015282\n",
      "FBgn0026379 FBgn0024248\n",
      "FBgn0003396 FBgn0086613\n",
      "FBgn0003396 FBgn0005777\n",
      "FBgn0004837 FBgn0001169\n",
      "FBgn0004837 FBgn0002643\n",
      "FBgn0024248 FBgn0026379\n",
      "FBgn0026181 FBgn0086613\n",
      "FBgn0001169 FBgn0015282\n",
      "FBgn0001169 FBgn0004837\n",
      "FBgn0002643 FBgn0004837\n",
      "FBgn0001235 FBgn0034970\n",
      "FBgn0004858 FBgn0264492\n",
      "FBgn0035213 FBgn0026250\n",
      "FBgn0020386 FBgn0037351\n",
      "FBgn0020386 FBgn0011692\n",
      "FBgn0259176 FBgn0034970\n",
      "FBgn0038167 FBgn0011692\n",
      "FBgn0025687 FBgn0025800\n",
      "FBgn0086613 FBgn0029840\n",
      "FBgn0035213 FBgn0003430\n",
      "FBgn0003867 FBgn0003430\n",
      "FBgn0015282 FBgn0261014\n",
      "FBgn0026250 FBgn0037891\n",
      "FBgn0037351 FBgn0034259\n",
      "FBgn0263108 FBgn0011660\n",
      "FBgn0263108 FBgn0002121\n",
      "FBgn0263108 FBgn0003205\n",
      "FBgn0034970 FBgn0030530\n",
      "FBgn0011692 FBgn0004856\n",
      "FBgn0011692 FBgn0003124\n",
      "FBgn0263108 FBgn0000352\n",
      "FBgn0263108 FBgn0039044\n",
      "FBgn0263108 FBgn0003124\n",
      "FBgn0264492 FBgn0000499\n",
      "FBgn0264492 FBgn0000259\n",
      "FBgn0034970 FBgn0039044\n",
      "FBgn0034970 FBgn0000499\n",
      "FBgn0034970 FBgn0023518\n",
      "FBgn0026250 FBgn0035213\n",
      "FBgn0037351 FBgn0020386\n",
      "FBgn0011692 FBgn0020386\n",
      "FBgn0011692 FBgn0038167\n",
      "FBgn0264492 FBgn0004858\n",
      "FBgn0034970 FBgn0001235\n",
      "FBgn0034970 FBgn0259176\n",
      "FBgn0045035 FBgn0263108\n",
      "FBgn0263108 FBgn0045035\n",
      "FBgn0034970 FBgn0261885\n",
      "FBgn0015218 FBgn0003449\n",
      "FBgn0015218 FBgn0022959\n",
      "FBgn0025800 FBgn0003041\n",
      "FBgn0261014 FBgn0000064\n",
      "FBgn0000042 FBgn0010825\n",
      "FBgn0015218 FBgn0264270\n",
      "FBgn0039102 FBgn0004177\n",
      "FBgn0261885 FBgn0000499\n",
      "FBgn0261014 FBgn0010379\n",
      "FBgn0029840 FBgn0021796\n",
      "FBgn0003430 FBgn0001139\n",
      "FBgn0025800 FBgn0025687\n",
      "FBgn0261014 FBgn0015282\n",
      "FBgn0029840 FBgn0086613\n",
      "FBgn0003430 FBgn0035213\n",
      "FBgn0003430 FBgn0003867\n",
      "FBgn0261885 FBgn0034970\n",
      "FBgn0000042 FBgn0261885\n",
      "FBgn0025638 FBgn0261014\n",
      "FBgn0261885 FBgn0000042\n",
      "FBgn0261014 FBgn0025638\n",
      "FBgn0261014 FBgn0014011\n",
      "FBgn0014011 FBgn0261014\n"
     ]
    }
   ],
   "source": [
    "modules = [\"001\",\"010\",\"011\",\"111\",\"100\",\"101\",\"110\"]\n",
    "modules_leg = [\"EggL+\",\"HpoEggL+\",\"EggL+/HpoEggL+\",\"Core\",\"Ova+\",\"Ova+/EggL+\",\"Ova+/HpoEggL+\"]\n",
    "\n",
    "res = np.zeros((len(modules),len(modules)))\n",
    "c_i = 0\n",
    "for i in range(len(modules)):\n",
    "    module_i = modules[i]\n",
    "    nodes_i = [i for i in subG.node if subG.node[i]['overlap'] == module_i]\n",
    "    connector_i = [i for i in subG.node if subG.node[i]['overlap'] == module_i and subG.node[i]['Seed'] == 0]\n",
    "\n",
    "    for j in range(len(modules)):\n",
    "        module_j = modules[j]\n",
    "#         if module_i == module_j:\n",
    "#             res[i][j] = np.nan\n",
    "#         else:\n",
    "        nodes_j = [i for i in subG.node if subG.node[i]['overlap'] == module_j]\n",
    "        edges = 0\n",
    "        for node_i in nodes_i:\n",
    "            for node_j in nodes_j: \n",
    "                if subG.has_edge(node_i, node_j):\n",
    "                    print(node_i, node_j)\n",
    "                    edges += 1\n",
    "        if module_i == module_j:\n",
    "            edges /= 2\n",
    "        max_edge = len(nodes_i) * len(nodes_j)\n",
    "        res[i][j] = edges/max_edge\n",
    "    \n",
    "df = pd.DataFrame(res, columns=modules_leg, index=modules_leg)"
   ]
  },
  {
   "cell_type": "code",
   "execution_count": 25,
   "metadata": {},
   "outputs": [
    {
     "data": {
      "image/png": "[encoded data removed]",
      "text/plain": [
       "<Figure size 432x360 with 2 Axes>"
      ]
     },
     "metadata": {
      "needs_background": "light"
     },
     "output_type": "display_data"
    }
   ],
   "source": [
    "fig = plt.figure(figsize=(6,5))\n",
    "sns.heatmap(df, cmap=\"Greys\", linewidths=.75)\n",
    "fig.savefig(os.path.join(resultpath,\"Figures/Meta_Network_EdgeDensity_Heatmap.svg\"))"
   ]
  },
  {
   "cell_type": "markdown",
   "metadata": {},
   "source": [
    "# Making a heatmap of signaling pathway per group"
   ]
  },
  {
   "cell_type": "code",
   "execution_count": 26,
   "metadata": {},
   "outputs": [],
   "source": [
    "sigs = signaling.groupby('Sig', as_index=False).count().sort_values('FbID')['Sig'].values"
   ]
  },
  {
   "cell_type": "code",
   "execution_count": 27,
   "metadata": {},
   "outputs": [],
   "source": [
    "data = metatable.groupby(['Overlap'], as_index=False).mean()[['Overlap'] + list(sigs)]"
   ]
  },
  {
   "cell_type": "code",
   "execution_count": 28,
   "metadata": {},
   "outputs": [],
   "source": [
    "index_order = metatable.groupby('Overlap', as_index=False).count().sort_values('FbID')['Overlap'].values"
   ]
  },
  {
   "cell_type": "code",
   "execution_count": 29,
   "metadata": {
    "scrolled": true
   },
   "outputs": [],
   "source": [
    "sorterIndex = dict(zip(index_order,range(len(index_order))))"
   ]
  },
  {
   "cell_type": "code",
   "execution_count": 30,
   "metadata": {},
   "outputs": [],
   "source": [
    "data['Rank'] = data['Overlap'].map(sorterIndex)\n",
    "data.index = data['Overlap']"
   ]
  },
  {
   "cell_type": "code",
   "execution_count": 31,
   "metadata": {},
   "outputs": [],
   "source": [
    "data.sort_values(['Rank'], \\\n",
    "        ascending = [True], inplace = True)"
   ]
  },
  {
   "cell_type": "code",
   "execution_count": 32,
   "metadata": {},
   "outputs": [],
   "source": [
    "del(data['Overlap'])\n",
    "del(data['Rank'])"
   ]
  },
  {
   "cell_type": "code",
   "execution_count": 33,
   "metadata": {},
   "outputs": [
    {
     "data": {
      "image/png": "[encoded data removed]",
      "text/plain": [
       "<Figure size 576x252 with 2 Axes>"
      ]
     },
     "metadata": {
      "needs_background": "light"
     },
     "output_type": "display_data"
    }
   ],
   "source": [
    "fig = plt.figure(figsize=(8,3.5))\n",
    "sns.heatmap(data, cmap=\"Greys\", linewidths=.75)\n",
    "fig.savefig(os.path.join(resultpath,\"Figures/Meta_Network_Signaling_Heatmap.svg\"))"
   ]
  },
  {
   "cell_type": "markdown",
   "metadata": {},
   "source": [
    "# REMOVE BELOW FOR FINAL CLEANUP"
   ]
  },
  {
   "cell_type": "code",
   "execution_count": 85,
   "metadata": {},
   "outputs": [],
   "source": [
    "hipo_fec_pred = pd.read_csv(os.path.join(data, 'Screen','pred_hipo_fec_clean.csv'))\n",
    "hipo_ova_pred = pd.read_csv(os.path.join(data, 'Screen','pred_hipo_ova_clean.csv'))\n",
    "xRNAi_fec_pred = pd.read_csv(os.path.join(data, 'Screen','pred_xRNAi_fec_clean.csv'))"
   ]
  },
  {
   "cell_type": "code",
   "execution_count": 95,
   "metadata": {},
   "outputs": [
    {
     "data": {
      "text/plain": [
       "44"
      ]
     },
     "execution_count": 95,
     "metadata": {},
     "output_type": "execute_result"
    }
   ],
   "source": [
    "len([i for i in xRNAi_fec_pred['FbID'].unique() if 'FBgn' in i])"
   ]
  },
  {
   "cell_type": "code",
   "execution_count": 32,
   "metadata": {},
   "outputs": [],
   "source": [
    "testedC = \"\"\"FBgn0000618\n",
    "FBgn0001218\n",
    "FBgn0003165\n",
    "FBgn0003449\n",
    "FBgn0003460\n",
    "FBgn0003687\n",
    "FBgn0003944\n",
    "FBgn0005655\n",
    "FBgn0011660\n",
    "FBgn0013275\n",
    "FBgn0013334\n",
    "FBgn0013435\n",
    "FBgn0014010\n",
    "FBgn0015019\n",
    "FBgn0015268\n",
    "FBgn0015282\n",
    "FBgn0015553\n",
    "FBgn0015797\n",
    "FBgn0020278\n",
    "FBgn0022764\n",
    "FBgn0023213\n",
    "FBgn0024846\n",
    "FBgn0286198\n",
    "FBgn0027364\n",
    "FBgn0027932\n",
    "FBgn0029897\n",
    "FBgn0030400\n",
    "FBgn0031006\n",
    "FBgn0031089\n",
    "FBgn0031296\n",
    "FBgn0032773\n",
    "FBgn0034087\n",
    "FBgn0286051\n",
    "FBgn0037573\n",
    "FBgn0037874\n",
    "FBgn0038535\n",
    "FBgn0039323\n",
    "FBgn0039735\n",
    "FBgn0040020\n",
    "FBgn0040080\n",
    "FBgn0040153\n",
    "FBgn0052016\n",
    "FBgn0085408\n",
    "FBgn0259152\n",
    "FBgn0259896\n",
    "FBgn0261014\n",
    "FBgn0261385\n",
    "FBgn0263106\n",
    "FBgn0263108\n",
    "FBgn0263396\n",
    "FBgn0263456\n",
    "FBgn0025674\n",
    "FBgn0000546\n",
    "FBgn0029936\"\"\""
   ]
  },
  {
   "cell_type": "code",
   "execution_count": 33,
   "metadata": {},
   "outputs": [],
   "source": [
    "testedC = testedC.splitlines()"
   ]
  },
  {
   "cell_type": "code",
   "execution_count": 59,
   "metadata": {},
   "outputs": [
    {
     "data": {
      "text/plain": [
       "(37, 8)"
      ]
     },
     "execution_count": 59,
     "metadata": {},
     "output_type": "execute_result"
    }
   ],
   "source": [
    "metatable[metatable['Type'] == 0].shape"
   ]
  },
  {
   "cell_type": "code",
   "execution_count": 48,
   "metadata": {},
   "outputs": [
    {
     "data": {
      "text/html": [
       "<div>\n",
       "<style scoped>\n",
       "    .dataframe tbody tr th:only-of-type {\n",
       "        vertical-align: middle;\n",
       "    }\n",
       "\n",
       "    .dataframe tbody tr th {\n",
       "        vertical-align: top;\n",
       "    }\n",
       "\n",
       "    .dataframe thead th {\n",
       "        text-align: right;\n",
       "    }\n",
       "</style>\n",
       "<table border=\"1\" class=\"dataframe\">\n",
       "  <thead>\n",
       "    <tr style=\"text-align: right;\">\n",
       "      <th></th>\n",
       "      <th>Network</th>\n",
       "      <th>FbID</th>\n",
       "    </tr>\n",
       "  </thead>\n",
       "  <tbody>\n",
       "    <tr>\n",
       "      <th>0</th>\n",
       "      <td>Ova</td>\n",
       "      <td>FBgn0038862</td>\n",
       "    </tr>\n",
       "    <tr>\n",
       "      <th>1</th>\n",
       "      <td>Ova</td>\n",
       "      <td>FBgn0025687</td>\n",
       "    </tr>\n",
       "    <tr>\n",
       "      <th>2</th>\n",
       "      <td>Ova</td>\n",
       "      <td>FBgn0015838</td>\n",
       "    </tr>\n",
       "    <tr>\n",
       "      <th>3</th>\n",
       "      <td>Ova</td>\n",
       "      <td>FBgn0261014</td>\n",
       "    </tr>\n",
       "    <tr>\n",
       "      <th>4</th>\n",
       "      <td>Ova</td>\n",
       "      <td>FBgn0031872</td>\n",
       "    </tr>\n",
       "    <tr>\n",
       "      <th>5</th>\n",
       "      <td>Ova</td>\n",
       "      <td>FBgn0003479</td>\n",
       "    </tr>\n",
       "    <tr>\n",
       "      <th>6</th>\n",
       "      <td>Ova</td>\n",
       "      <td>FBgn0005198</td>\n",
       "    </tr>\n",
       "    <tr>\n",
       "      <th>7</th>\n",
       "      <td>Ova</td>\n",
       "      <td>FBgn0024846</td>\n",
       "    </tr>\n",
       "    <tr>\n",
       "      <th>8</th>\n",
       "      <td>Ova</td>\n",
       "      <td>FBgn0003165</td>\n",
       "    </tr>\n",
       "    <tr>\n",
       "      <th>9</th>\n",
       "      <td>Ova</td>\n",
       "      <td>FBgn0263108</td>\n",
       "    </tr>\n",
       "    <tr>\n",
       "      <th>10</th>\n",
       "      <td>Ova</td>\n",
       "      <td>FBgn0015282</td>\n",
       "    </tr>\n",
       "    <tr>\n",
       "      <th>11</th>\n",
       "      <td>Ova</td>\n",
       "      <td>FBgn0035213</td>\n",
       "    </tr>\n",
       "    <tr>\n",
       "      <th>12</th>\n",
       "      <td>Ova</td>\n",
       "      <td>FBgn0015279</td>\n",
       "    </tr>\n",
       "    <tr>\n",
       "      <th>13</th>\n",
       "      <td>HpoFec</td>\n",
       "      <td>FBgn0000250</td>\n",
       "    </tr>\n",
       "    <tr>\n",
       "      <th>14</th>\n",
       "      <td>HpoFec</td>\n",
       "      <td>FBgn0278604</td>\n",
       "    </tr>\n",
       "    <tr>\n",
       "      <th>15</th>\n",
       "      <td>HpoFec</td>\n",
       "      <td>FBgn0003444</td>\n",
       "    </tr>\n",
       "    <tr>\n",
       "      <th>16</th>\n",
       "      <td>HpoFec</td>\n",
       "      <td>FBgn0015838</td>\n",
       "    </tr>\n",
       "    <tr>\n",
       "      <th>17</th>\n",
       "      <td>HpoFec</td>\n",
       "      <td>FBgn0004198</td>\n",
       "    </tr>\n",
       "    <tr>\n",
       "      <th>18</th>\n",
       "      <td>HpoFec</td>\n",
       "      <td>FBgn0034087</td>\n",
       "    </tr>\n",
       "    <tr>\n",
       "      <th>19</th>\n",
       "      <td>HpoFec</td>\n",
       "      <td>FBgn0025637</td>\n",
       "    </tr>\n",
       "    <tr>\n",
       "      <th>20</th>\n",
       "      <td>HpoFec</td>\n",
       "      <td>FBgn0031006</td>\n",
       "    </tr>\n",
       "    <tr>\n",
       "      <th>21</th>\n",
       "      <td>HpoFec</td>\n",
       "      <td>FBgn0261014</td>\n",
       "    </tr>\n",
       "    <tr>\n",
       "      <th>22</th>\n",
       "      <td>HpoFec</td>\n",
       "      <td>FBgn0003479</td>\n",
       "    </tr>\n",
       "    <tr>\n",
       "      <th>23</th>\n",
       "      <td>HpoFec</td>\n",
       "      <td>FBgn0004859</td>\n",
       "    </tr>\n",
       "    <tr>\n",
       "      <th>24</th>\n",
       "      <td>HpoFec</td>\n",
       "      <td>FBgn0261385</td>\n",
       "    </tr>\n",
       "    <tr>\n",
       "      <th>25</th>\n",
       "      <td>HpoFec</td>\n",
       "      <td>FBgn0024846</td>\n",
       "    </tr>\n",
       "    <tr>\n",
       "      <th>26</th>\n",
       "      <td>HpoFec</td>\n",
       "      <td>FBgn0259896</td>\n",
       "    </tr>\n",
       "    <tr>\n",
       "      <th>27</th>\n",
       "      <td>HpoFec</td>\n",
       "      <td>FBgn0027535</td>\n",
       "    </tr>\n",
       "    <tr>\n",
       "      <th>28</th>\n",
       "      <td>HpoFec</td>\n",
       "      <td>FBgn0025463</td>\n",
       "    </tr>\n",
       "    <tr>\n",
       "      <th>29</th>\n",
       "      <td>HpoFec</td>\n",
       "      <td>FBgn0043903</td>\n",
       "    </tr>\n",
       "    <tr>\n",
       "      <th>30</th>\n",
       "      <td>HpoFec</td>\n",
       "      <td>FBgn0015279</td>\n",
       "    </tr>\n",
       "    <tr>\n",
       "      <th>31</th>\n",
       "      <td>HpoFec</td>\n",
       "      <td>FBgn0001291</td>\n",
       "    </tr>\n",
       "    <tr>\n",
       "      <th>32</th>\n",
       "      <td>xRNAiFec</td>\n",
       "      <td>FBgn0015268</td>\n",
       "    </tr>\n",
       "    <tr>\n",
       "      <th>33</th>\n",
       "      <td>xRNAiFec</td>\n",
       "      <td>FBgn0003444</td>\n",
       "    </tr>\n",
       "    <tr>\n",
       "      <th>34</th>\n",
       "      <td>xRNAiFec</td>\n",
       "      <td>FBgn0264922</td>\n",
       "    </tr>\n",
       "    <tr>\n",
       "      <th>35</th>\n",
       "      <td>xRNAiFec</td>\n",
       "      <td>FBgn0034753</td>\n",
       "    </tr>\n",
       "    <tr>\n",
       "      <th>36</th>\n",
       "      <td>xRNAiFec</td>\n",
       "      <td>FBgn0003479</td>\n",
       "    </tr>\n",
       "    <tr>\n",
       "      <th>37</th>\n",
       "      <td>xRNAiFec</td>\n",
       "      <td>FBgn0015838</td>\n",
       "    </tr>\n",
       "    <tr>\n",
       "      <th>38</th>\n",
       "      <td>xRNAiFec</td>\n",
       "      <td>FBgn0025637</td>\n",
       "    </tr>\n",
       "    <tr>\n",
       "      <th>39</th>\n",
       "      <td>xRNAiFec</td>\n",
       "      <td>FBgn0004859</td>\n",
       "    </tr>\n",
       "    <tr>\n",
       "      <th>40</th>\n",
       "      <td>xRNAiFec</td>\n",
       "      <td>FBgn0005198</td>\n",
       "    </tr>\n",
       "    <tr>\n",
       "      <th>41</th>\n",
       "      <td>xRNAiFec</td>\n",
       "      <td>FBgn0261385</td>\n",
       "    </tr>\n",
       "    <tr>\n",
       "      <th>42</th>\n",
       "      <td>xRNAiFec</td>\n",
       "      <td>FBgn0024846</td>\n",
       "    </tr>\n",
       "    <tr>\n",
       "      <th>43</th>\n",
       "      <td>xRNAiFec</td>\n",
       "      <td>FBgn0022764</td>\n",
       "    </tr>\n",
       "    <tr>\n",
       "      <th>44</th>\n",
       "      <td>xRNAiFec</td>\n",
       "      <td>FBgn0027535</td>\n",
       "    </tr>\n",
       "    <tr>\n",
       "      <th>45</th>\n",
       "      <td>xRNAiFec</td>\n",
       "      <td>FBgn0003944</td>\n",
       "    </tr>\n",
       "    <tr>\n",
       "      <th>46</th>\n",
       "      <td>xRNAiFec</td>\n",
       "      <td>FBgn0263108</td>\n",
       "    </tr>\n",
       "    <tr>\n",
       "      <th>47</th>\n",
       "      <td>xRNAiFec</td>\n",
       "      <td>FBgn0011660</td>\n",
       "    </tr>\n",
       "    <tr>\n",
       "      <th>48</th>\n",
       "      <td>Core</td>\n",
       "      <td>FBgn0015268</td>\n",
       "    </tr>\n",
       "    <tr>\n",
       "      <th>49</th>\n",
       "      <td>Core</td>\n",
       "      <td>FBgn0003444</td>\n",
       "    </tr>\n",
       "    <tr>\n",
       "      <th>50</th>\n",
       "      <td>Core</td>\n",
       "      <td>FBgn0038862</td>\n",
       "    </tr>\n",
       "    <tr>\n",
       "      <th>51</th>\n",
       "      <td>Core</td>\n",
       "      <td>FBgn0031626</td>\n",
       "    </tr>\n",
       "    <tr>\n",
       "      <th>52</th>\n",
       "      <td>Core</td>\n",
       "      <td>FBgn0041627</td>\n",
       "    </tr>\n",
       "    <tr>\n",
       "      <th>53</th>\n",
       "      <td>Core</td>\n",
       "      <td>FBgn0015838</td>\n",
       "    </tr>\n",
       "    <tr>\n",
       "      <th>54</th>\n",
       "      <td>Core</td>\n",
       "      <td>FBgn0025674</td>\n",
       "    </tr>\n",
       "    <tr>\n",
       "      <th>55</th>\n",
       "      <td>Core</td>\n",
       "      <td>FBgn0003479</td>\n",
       "    </tr>\n",
       "    <tr>\n",
       "      <th>56</th>\n",
       "      <td>Core</td>\n",
       "      <td>FBgn0015805</td>\n",
       "    </tr>\n",
       "    <tr>\n",
       "      <th>57</th>\n",
       "      <td>Core</td>\n",
       "      <td>FBgn0005198</td>\n",
       "    </tr>\n",
       "    <tr>\n",
       "      <th>58</th>\n",
       "      <td>Core</td>\n",
       "      <td>FBgn0024846</td>\n",
       "    </tr>\n",
       "  </tbody>\n",
       "</table>\n",
       "</div>"
      ],
      "text/plain": [
       "     Network         FbID\n",
       "0        Ova  FBgn0038862\n",
       "1        Ova  FBgn0025687\n",
       "2        Ova  FBgn0015838\n",
       "3        Ova  FBgn0261014\n",
       "4        Ova  FBgn0031872\n",
       "5        Ova  FBgn0003479\n",
       "6        Ova  FBgn0005198\n",
       "7        Ova  FBgn0024846\n",
       "8        Ova  FBgn0003165\n",
       "9        Ova  FBgn0263108\n",
       "10       Ova  FBgn0015282\n",
       "11       Ova  FBgn0035213\n",
       "12       Ova  FBgn0015279\n",
       "13    HpoFec  FBgn0000250\n",
       "14    HpoFec  FBgn0278604\n",
       "15    HpoFec  FBgn0003444\n",
       "16    HpoFec  FBgn0015838\n",
       "17    HpoFec  FBgn0004198\n",
       "18    HpoFec  FBgn0034087\n",
       "19    HpoFec  FBgn0025637\n",
       "20    HpoFec  FBgn0031006\n",
       "21    HpoFec  FBgn0261014\n",
       "22    HpoFec  FBgn0003479\n",
       "23    HpoFec  FBgn0004859\n",
       "24    HpoFec  FBgn0261385\n",
       "25    HpoFec  FBgn0024846\n",
       "26    HpoFec  FBgn0259896\n",
       "27    HpoFec  FBgn0027535\n",
       "28    HpoFec  FBgn0025463\n",
       "29    HpoFec  FBgn0043903\n",
       "30    HpoFec  FBgn0015279\n",
       "31    HpoFec  FBgn0001291\n",
       "32  xRNAiFec  FBgn0015268\n",
       "33  xRNAiFec  FBgn0003444\n",
       "34  xRNAiFec  FBgn0264922\n",
       "35  xRNAiFec  FBgn0034753\n",
       "36  xRNAiFec  FBgn0003479\n",
       "37  xRNAiFec  FBgn0015838\n",
       "38  xRNAiFec  FBgn0025637\n",
       "39  xRNAiFec  FBgn0004859\n",
       "40  xRNAiFec  FBgn0005198\n",
       "41  xRNAiFec  FBgn0261385\n",
       "42  xRNAiFec  FBgn0024846\n",
       "43  xRNAiFec  FBgn0022764\n",
       "44  xRNAiFec  FBgn0027535\n",
       "45  xRNAiFec  FBgn0003944\n",
       "46  xRNAiFec  FBgn0263108\n",
       "47  xRNAiFec  FBgn0011660\n",
       "48      Core  FBgn0015268\n",
       "49      Core  FBgn0003444\n",
       "50      Core  FBgn0038862\n",
       "51      Core  FBgn0031626\n",
       "52      Core  FBgn0041627\n",
       "53      Core  FBgn0015838\n",
       "54      Core  FBgn0025674\n",
       "55      Core  FBgn0003479\n",
       "56      Core  FBgn0015805\n",
       "57      Core  FBgn0005198\n",
       "58      Core  FBgn0024846"
      ]
     },
     "execution_count": 48,
     "metadata": {},
     "output_type": "execute_result"
    }
   ],
   "source": [
    "connectors"
   ]
  },
  {
   "cell_type": "code",
   "execution_count": null,
   "metadata": {},
   "outputs": [],
   "source": []
  },
  {
   "cell_type": "code",
   "execution_count": null,
   "metadata": {},
   "outputs": [],
   "source": []
  },
  {
   "cell_type": "code",
   "execution_count": 75,
   "metadata": {},
   "outputs": [],
   "source": [
    "newC = connectors['FbID'].unique()"
   ]
  },
  {
   "cell_type": "code",
   "execution_count": 98,
   "metadata": {},
   "outputs": [],
   "source": [
    "common = set.intersection(set(testedC), set(newC))"
   ]
  },
  {
   "cell_type": "code",
   "execution_count": 99,
   "metadata": {
    "scrolled": true
   },
   "outputs": [
    {
     "name": "stdout",
     "output_type": "stream",
     "text": [
      "{'label': 'Sin3A', 'Z': 0.0, 'Seed': 0, 'overlap': '001', 'Z_ova': 0.0, 'Z_fec': 0.0, 'Z_xRNAi': 0.0}\n",
      "{'label': 'Pms2', 'Z': 0.0, 'Seed': 0, 'overlap': '001', 'Z_ova': 0.0, 'Z_fec': 0.0, 'Z_xRNAi': 0.0}\n",
      "{'label': 'Ubx', 'Z': 0.0, 'Seed': 0, 'overlap': '001', 'Z_ova': 0.0, 'Z_fec': 0.0, 'Z_xRNAi': 0.0}\n",
      "{'label': 'p38b', 'Z': 0.31444012900307955, 'Seed': 2, 'overlap': '111', 'Z_ova': 0.0, 'Z_fec': 0.31444012900307955, 'Z_xRNAi': 0.0, 'Sig': 'FOXO, MAPK'}\n",
      "{'label': 'Nap1', 'Z': 0.0, 'Seed': 0, 'overlap': '111', 'Z_ova': 0.0, 'Z_fec': 0.0, 'Z_xRNAi': 0.0}\n",
      "{'label': 'rictor', 'Z': 0.14564874222508736, 'Seed': 1, 'overlap': '010', 'Z_ova': 0.0, 'Z_fec': 0.14564874222508736, 'Z_xRNAi': 0.0, 'Sig': 'mTOR'}\n",
      "{'label': 'BtbVII', 'Z': 0.0, 'Seed': 0, 'overlap': '101', 'Z_ova': 0.0, 'Z_fec': 0.0, 'Z_xRNAi': 0.0}\n",
      "{'label': 'scra', 'Z': 0.0, 'Seed': 0, 'overlap': '011', 'Z_ova': 0.0, 'Z_fec': 0.0, 'Z_xRNAi': 0.0}\n",
      "{'label': 'clu', 'Z': 0.0, 'Seed': 0, 'overlap': '010', 'Z_ova': 0.0, 'Z_fec': 0.0, 'Z_xRNAi': 0.0}\n",
      "{'label': 'Rpt2', 'Z': 0.0, 'Seed': 0, 'overlap': '100', 'Z_ova': 0.0, 'Z_fec': 0.0, 'Z_xRNAi': 0.0}\n",
      "{'label': 'NimC1', 'Z': 0.0, 'Seed': 0, 'overlap': '010', 'Z_ova': 0.0, 'Z_fec': 0.0, 'Z_xRNAi': 0.0}\n",
      "{'label': 'TER94', 'Z': 0.0, 'Seed': 0, 'overlap': '110', 'Z_ova': 0.0, 'Z_fec': 0.0, 'Z_xRNAi': 0.0}\n",
      "{'label': 'CycK', 'Z': 0.0, 'Seed': 0, 'overlap': '111', 'Z_ova': 0.0, 'Z_fec': 0.0, 'Z_xRNAi': 0.0}\n",
      "{'label': 'pum', 'Z': 0.0, 'Seed': 0, 'overlap': '100', 'Z_ova': 0.0, 'Z_fec': 0.0, 'Z_xRNAi': 0.0}\n"
     ]
    }
   ],
   "source": [
    "for c in common:\n",
    "    print(subG.node[c])"
   ]
  },
  {
   "cell_type": "code",
   "execution_count": 106,
   "metadata": {},
   "outputs": [],
   "source": [
    "diff = set.difference(set(newC), set(testedC))"
   ]
  },
  {
   "cell_type": "code",
   "execution_count": 110,
   "metadata": {},
   "outputs": [
    {
     "name": "stdout",
     "output_type": "stream",
     "text": [
      "FBgn0278604\n",
      "FBgn0038862\n",
      "FBgn0031872\n",
      "FBgn0025463\n",
      "FBgn0031626\n",
      "FBgn0015279\n",
      "FBgn0000250\n",
      "FBgn0025637\n",
      "FBgn0043903\n",
      "FBgn0003444\n",
      "FBgn0004198\n",
      "FBgn0035213\n",
      "FBgn0005198\n",
      "FBgn0264922\n",
      "FBgn0041627\n",
      "FBgn0003479\n",
      "FBgn0027535\n",
      "FBgn0015838\n",
      "FBgn0034753\n",
      "FBgn0025687\n",
      "FBgn0004859\n",
      "FBgn0001291\n",
      "FBgn0015805\n"
     ]
    }
   ],
   "source": [
    "for i in diff:\n",
    "    print(i)"
   ]
  },
  {
   "cell_type": "code",
   "execution_count": 112,
   "metadata": {},
   "outputs": [
    {
     "name": "stdout",
     "output_type": "stream",
     "text": [
      "FBgn0022764\n",
      "FBgn0011660\n",
      "FBgn0003944\n",
      "FBgn0024846\n",
      "FBgn0015268\n",
      "FBgn0031006\n",
      "FBgn0263108\n",
      "FBgn0261385\n",
      "FBgn0034087\n",
      "FBgn0015282\n",
      "FBgn0259896\n",
      "FBgn0261014\n",
      "FBgn0025674\n",
      "FBgn0003165\n"
     ]
    }
   ],
   "source": [
    "for i in common:\n",
    "    print(i)"
   ]
  },
  {
   "cell_type": "code",
   "execution_count": 126,
   "metadata": {},
   "outputs": [],
   "source": [
    "inscreen = set.intersection(set(hipo_ova['FbID'].unique()), set(newC))"
   ]
  },
  {
   "cell_type": "code",
   "execution_count": 128,
   "metadata": {},
   "outputs": [
    {
     "data": {
      "text/plain": [
       "{'FBgn0001291',\n",
       " 'FBgn0003444',\n",
       " 'FBgn0015838',\n",
       " 'FBgn0025637',\n",
       " 'FBgn0027535',\n",
       " 'FBgn0031872'}"
      ]
     },
     "execution_count": 128,
     "metadata": {},
     "output_type": "execute_result"
    }
   ],
   "source": [
    "inscreen"
   ]
  },
  {
   "cell_type": "code",
   "execution_count": 131,
   "metadata": {},
   "outputs": [],
   "source": [
    "hipo_ova = pd.read_csv(os.path.join('../../../Data/', 'Screen','hipo_ova_clean.csv'))\n"
   ]
  },
  {
   "cell_type": "code",
   "execution_count": 132,
   "metadata": {},
   "outputs": [],
   "source": [
    "inscreen = set.intersection(set(hipo_ova['FbID'].unique()), set(newC))"
   ]
  },
  {
   "cell_type": "code",
   "execution_count": 134,
   "metadata": {},
   "outputs": [
    {
     "data": {
      "text/plain": [
       "{'FBgn0001291',\n",
       " 'FBgn0003444',\n",
       " 'FBgn0003479',\n",
       " 'FBgn0015838',\n",
       " 'FBgn0025637',\n",
       " 'FBgn0027535',\n",
       " 'FBgn0031872'}"
      ]
     },
     "execution_count": 134,
     "metadata": {},
     "output_type": "execute_result"
    }
   ],
   "source": [
    "inscreen"
   ]
  },
  {
   "cell_type": "code",
   "execution_count": 137,
   "metadata": {},
   "outputs": [],
   "source": [
    "totest = set.difference(set(newC), inscreen, set(testedC))"
   ]
  },
  {
   "cell_type": "code",
   "execution_count": 147,
   "metadata": {},
   "outputs": [
    {
     "name": "stdout",
     "output_type": "stream",
     "text": [
      "FBgn0278604\n",
      "FBgn0038862\n",
      "FBgn0025463\n",
      "FBgn0031626\n",
      "FBgn0015279\n",
      "FBgn0000250\n",
      "FBgn0043903\n",
      "FBgn0004198\n",
      "FBgn0035213\n",
      "FBgn0005198\n",
      "FBgn0264922\n",
      "FBgn0041627\n",
      "FBgn0034753\n",
      "FBgn0025687\n",
      "FBgn0004859\n",
      "FBgn0015805\n"
     ]
    }
   ],
   "source": [
    "for i in totest:\n",
    "    print(i)"
   ]
  },
  {
   "cell_type": "code",
   "execution_count": 148,
   "metadata": {},
   "outputs": [
    {
     "name": "stdout",
     "output_type": "stream",
     "text": [
      "FBgn0022764\n",
      "FBgn0011660\n",
      "FBgn0003944\n",
      "FBgn0024846\n",
      "FBgn0015268\n",
      "FBgn0031006\n",
      "FBgn0263108\n",
      "FBgn0261385\n",
      "FBgn0034087\n",
      "FBgn0015282\n",
      "FBgn0259896\n",
      "FBgn0261014\n",
      "FBgn0025674\n",
      "FBgn0003165\n"
     ]
    }
   ],
   "source": [
    "for i in set.intersection(set(newC), set(testedC)):\n",
    "    print(i)"
   ]
  },
  {
   "cell_type": "code",
   "execution_count": 149,
   "metadata": {},
   "outputs": [
    {
     "name": "stdout",
     "output_type": "stream",
     "text": [
      "FBgn0025637\n",
      "FBgn0031872\n",
      "FBgn0003444\n",
      "FBgn0001291\n",
      "FBgn0003479\n",
      "FBgn0027535\n",
      "FBgn0015838\n"
     ]
    }
   ],
   "source": [
    "for i in set.intersection(set(newC),set(hipo_ova['FbID'].unique())):\n",
    "    print(i)"
   ]
  },
  {
   "cell_type": "code",
   "execution_count": 146,
   "metadata": {},
   "outputs": [
    {
     "data": {
      "text/plain": [
       "0"
      ]
     },
     "execution_count": 146,
     "metadata": {},
     "output_type": "execute_result"
    }
   ],
   "source": [
    "len(set.intersection(set(hipo_ova['FbID'].unique()), set(testedC)))"
   ]
  },
  {
   "cell_type": "code",
   "execution_count": null,
   "metadata": {},
   "outputs": [],
   "source": []
  }
 ],
 "metadata": {
  "kernelspec": {
   "display_name": "Python 3",
   "language": "python",
   "name": "python3"
  },
  "language_info": {
   "codemirror_mode": {
    "name": "ipython",
    "version": 3
   },
   "file_extension": ".py",
   "mimetype": "text/x-python",
   "name": "python",
   "nbconvert_exporter": "python",
   "pygments_lexer": "ipython3",
   "version": "3.5.6"
  }
 },
 "nbformat": 4,
 "nbformat_minor": 2
}
