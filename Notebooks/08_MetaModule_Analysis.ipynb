{
 "cells": [
  {
   "cell_type": "code",
   "execution_count": 1,
   "metadata": {},
   "outputs": [],
   "source": [
    "import networkx as nx\n",
    "import numpy as np\n",
    "import seaborn as sns\n",
    "import matplotlib.pyplot as plt\n",
    "import pandas as pd\n",
    "import os\n",
    "import progressbar\n",
    "from scipy import stats\n",
    "sns.set()\n",
    "\n",
    "%matplotlib inline"
   ]
  },
  {
   "cell_type": "markdown",
   "metadata": {},
   "source": [
    "# Define path and load files \n",
    "\n",
    "Accross the analysis the following names are used for the 3 screens\n",
    "- ova == Ovariole Number screen\n",
    "- fec == Hippo RNAi EggLaying screen\n",
    "- xRNAi == EggLaying screen"
   ]
  },
  {
   "cell_type": "code",
   "execution_count": 2,
   "metadata": {},
   "outputs": [],
   "source": [
    "data = \"../Data\"\n",
    "resultpath = '../Results'\n",
    "PPI_ID = \"2018_08\""
   ]
  },
  {
   "cell_type": "code",
   "execution_count": 3,
   "metadata": {},
   "outputs": [],
   "source": [
    "G = nx.read_graphml(os.path.join(data, 'PPIs', 'PPI_{}.graphml'.format(PPI_ID)))\n",
    "\n",
    "hipo_ova = pd.read_csv(os.path.join(data,'Screen/hipo_ova_clean.csv'))\n",
    "xRNAi_fec = pd.read_csv(os.path.join(data,'Screen/xRNAi_fec_clean.csv'))\n",
    "hipo_fec = pd.read_csv(os.path.join(data,'Screen/hipo_fec_clean.csv'))\n",
    "\n",
    "hipo_ova_pred = pd.read_csv(os.path.join(data,'Screen/hipo_ova_clean_pred.csv'))\n",
    "xRNAi_fec_pred = pd.read_csv(os.path.join(data,'Screen/xRNAi_fec_clean_pred.csv'))\n",
    "hipo_fec_pred = pd.read_csv(os.path.join(data,'Screen/hipo_fec_clean_pred.csv'))\n",
    "\n",
    "signaling = pd.read_csv(os.path.join(data,'signaling.csv'))\n",
    "connectors= pd.read_csv(os.path.join(resultpath,\"ConnectorGeneList_{}.csv\".format(PPI_ID)))"
   ]
  },
  {
   "cell_type": "code",
   "execution_count": 5,
   "metadata": {},
   "outputs": [],
   "source": [
    "# We only consider the sum of eggs layed over 5 days, so we restrict the data to the \"Sum\"\n",
    "xRNAi_fec = xRNAi_fec[xRNAi_fec['Condition'] == 'Sum'].reset_index(drop=True)\n",
    "hipo_fec = hipo_fec[hipo_fec['Condition'] == 'Sum'].reset_index(drop=True)\n",
    "\n",
    "xRNAi_fec_pred = xRNAi_fec_pred[xRNAi_fec_pred['Condition'] == 'Sum'].reset_index(drop=True)\n",
    "hipo_fec_pred = hipo_fec_pred[hipo_fec_pred['Condition'] == 'Sum'].reset_index(drop=True)"
   ]
  },
  {
   "cell_type": "code",
   "execution_count": 6,
   "metadata": {},
   "outputs": [],
   "source": [
    "# Modules computed in the notebook file: Seed-Connector\n",
    "ova_module_G = nx.read_graphml(os.path.join(resultpath,'Ova_module_{}.graphml'.format(PPI_ID)))\n",
    "fec_module_G = nx.read_graphml(os.path.join(resultpath,'Hpo_EggL_module_{}.graphml'.format(PPI_ID)))\n",
    "xRNAi_module_G = nx.read_graphml(os.path.join(resultpath,'EggL_module_{}.graphml'.format(PPI_ID)))\n",
    "core_module_G = nx.read_graphml(os.path.join(resultpath,'Core_module_{}.graphml'.format(PPI_ID)))"
   ]
  },
  {
   "cell_type": "code",
   "execution_count": 7,
   "metadata": {},
   "outputs": [],
   "source": [
    "signaling_meta = pd.read_csv(os.path.join(data, \"signaling.csv\"))"
   ]
  },
  {
   "cell_type": "markdown",
   "metadata": {},
   "source": [
    "# Prepare groups of genes and positive candidate set\n",
    "Here we calculate the mean of the Zscore for each gene in the screens, define thresholds for significance, and create subsets of genes"
   ]
  },
  {
   "cell_type": "code",
   "execution_count": 28,
   "metadata": {},
   "outputs": [],
   "source": [
    "mean_ova_gene = hipo_ova.append(hipo_ova_pred).groupby('FbID', as_index=False).mean()\n",
    "mean_fec_gene = hipo_fec.append(hipo_fec_pred).groupby('FbID', as_index=False).mean()\n",
    "mean_xRNAi_gene = xRNAi_fec.append(xRNAi_fec_pred).groupby('FbID', as_index=False).mean()"
   ]
  },
  {
   "cell_type": "code",
   "execution_count": 36,
   "metadata": {},
   "outputs": [],
   "source": [
    "assert(len(mean_ova_gene) == 273 + 30 +1)\n",
    "assert(len(mean_xRNAi_gene) == 273 + 31 +1)\n",
    "assert(len(mean_fec_gene) == 465 + 21 + 1)"
   ]
  },
  {
   "cell_type": "code",
   "execution_count": 38,
   "metadata": {},
   "outputs": [],
   "source": [
    "ova_module = ova_module_G.nodes()\n",
    "fec_module = fec_module_G.nodes()\n",
    "xRNAi_module = xRNAi_module_G.nodes()\n",
    "core_module = core_module_G.nodes()"
   ]
  },
  {
   "cell_type": "code",
   "execution_count": 39,
   "metadata": {},
   "outputs": [],
   "source": [
    "# Here we select all the genes that were tested in the screen,\n",
    "# because the first screen was Hipo RNAi EggLaying measurement, this dataset contains all the tested genes\n",
    "screen_genes = mean_fec_gene['FbID'].values\n",
    "ScreenG = G.subgraph(screen_genes)"
   ]
  },
  {
   "cell_type": "code",
   "execution_count": 40,
   "metadata": {},
   "outputs": [],
   "source": [
    "# We redefine our threshold of 2 and 5 for Z score cutoff\n",
    "ova_threshold = 2\n",
    "eggl_threshold = 5"
   ]
  },
  {
   "cell_type": "code",
   "execution_count": 42,
   "metadata": {},
   "outputs": [],
   "source": [
    "allgenes = np.unique(list(set.union(set(ova_module), set(xRNAi_module), set(fec_module), set(core_module))))\n",
    "all3 = set.intersection(set(ova_module), set(xRNAi_module), set(fec_module))\n",
    "ovafec = set.intersection(set(ova_module), set(fec_module))\n",
    "ovaxRNAi = set.intersection(set(ova_module), set(xRNAi_module))\n",
    "xRNAifec = set.intersection(set(fec_module), set(xRNAi_module))\n",
    "core = set(core_module)"
   ]
  },
  {
   "cell_type": "markdown",
   "metadata": {},
   "source": [
    "# Building the meta module network"
   ]
  },
  {
   "cell_type": "code",
   "execution_count": 43,
   "metadata": {},
   "outputs": [],
   "source": [
    "# Create the network composed of all 4 modules aggregated\n",
    "subG = nx.compose(ova_module_G, fec_module_G)\n",
    "subG = nx.compose(subG, xRNAi_module_G)\n",
    "subG = nx.compose(subG, core_module_G)"
   ]
  },
  {
   "cell_type": "code",
   "execution_count": 14,
   "metadata": {},
   "outputs": [],
   "source": [
    "# Extract the locations in modules for all genes in the MetaNetwork\n",
    "for node in subG.nodes():\n",
    "    # Define the location in modules\n",
    "    # Ova / HipoEggL / Eggl \n",
    "    key = ['0','0','0']\n",
    "    if node in ova_module:\n",
    "        key[0] = '1'\n",
    "    if node in fec_module:\n",
    "        key[1] = '1'\n",
    "    if node in xRNAi_module:\n",
    "        key[2] = '1'\n",
    "    if node in core_module:\n",
    "        key[0] = '1'\n",
    "        key[1] = '1'\n",
    "        key[2] = '1'\n",
    "    subG.node[node]['overlap'] = ''.join(key)"
   ]
  },
  {
   "cell_type": "code",
   "execution_count": 15,
   "metadata": {},
   "outputs": [],
   "source": [
    "# Extract the Z_scores for all the nodes\n",
    "scores_ova = {}\n",
    "scores_fec = {}\n",
    "scores_xRNAi = {}\n",
    "scores = {}\n",
    "for node in subG.nodes():\n",
    "    Z = []\n",
    "    if node in mean_xRNAi_gene['FbID'].unique():\n",
    "        z = mean_xRNAi_gene[mean_xRNAi_gene['FbID'] == node]['Z'].values[0]\n",
    "        Z.append(z)\n",
    "        scores_xRNAi[node] = z\n",
    "    if node in mean_fec_gene['FbID'].unique():\n",
    "        z = mean_fec_gene[mean_fec_gene['FbID'] == node]['Z'].values[0]\n",
    "        Z.append(z)\n",
    "        scores_fec[node] = z\n",
    "    if node in mean_ova_gene['FbID'].unique():\n",
    "        z = mean_ova_gene[mean_ova_gene['FbID'] == node]['Z'].values[0]\n",
    "        Z.append(z)\n",
    "        scores_ova[node] = z\n",
    "    if len(Z) == 3:\n",
    "        scores[node] = np.mean(Z)"
   ]
  },
  {
   "cell_type": "code",
   "execution_count": 16,
   "metadata": {},
   "outputs": [],
   "source": [
    "# Decorate the network by adding all the calculated fileds above\n",
    "for node in subG.nodes():\n",
    "    if node in scores:\n",
    "        Z = scores[node]\n",
    "        if node in scores_ova:\n",
    "            Z_ova = scores_ova[node]\n",
    "        else:\n",
    "            Z_ova = 0.0\n",
    "        if node in scores_fec:\n",
    "            Z_fec = scores_fec[node]\n",
    "        else:\n",
    "            Z_fec = 0.0\n",
    "        if node in scores_xRNAi:\n",
    "            Z_xRNAi = scores_xRNAi[node]\n",
    "        else:\n",
    "            Z_xRNAi = 0.0\n",
    "        subG.node[node]['Z'] = abs(float(Z))\n",
    "        subG.node[node]['Z_ova'] = abs(float(Z_ova))\n",
    "        subG.node[node]['Z_fec'] = abs(float(Z_fec))\n",
    "        subG.node[node]['Z_xRNAi'] = abs(float(Z_xRNAi))\n",
    "    else:\n",
    "        subG.node[node]['Z'] = 0.0\n",
    "        if node in scores_ova:\n",
    "            subG.node[node]['Z_ova'] = abs(float(scores_ova[node]))\n",
    "        else:\n",
    "            subG.node[node]['Z_ova'] = 0.0\n",
    "        \n",
    "        subG.node[node]['Z_fec'] = 0.0\n",
    "        subG.node[node]['Z_xRNAi'] = 0.0\n",
    "    sigs = signaling[signaling['FbID'] == node]['Sig'].values\n",
    "    for sig in signaling['Sig'].unique():\n",
    "        if sig in sigs:\n",
    "            subG.node[node][sig] = 1\n",
    "        else:\n",
    "            subG.node[node][sig] = 0"
   ]
  },
  {
   "cell_type": "code",
   "execution_count": 17,
   "metadata": {},
   "outputs": [],
   "source": [
    "# Adding the labels on nodes if they are receptor or ligand\n",
    "\n",
    "for node in subG.nodes():\n",
    "    if node in signaling_meta['FbID'].values:\n",
    "        types = signaling_meta[signaling_meta['FbID']== node]['KeyMember'].values[0]\n",
    "        if type(types) == str:\n",
    "            if types == \"Ligand\":\n",
    "                subG.node[node][\"SigType\"] = \"Ligand\"\n",
    "            else:\n",
    "                subG.node[node][\"SigType\"] = \"Receptor\"\n",
    "        else:\n",
    "            subG.node[node][\"SigType\"] = \"Else\"            \n",
    "    else:\n",
    "        subG.node[node][\"SigType\"] = \"Else\""
   ]
  },
  {
   "cell_type": "code",
   "execution_count": 18,
   "metadata": {},
   "outputs": [],
   "source": [
    "nx.write_graphml(subG, os.path.join(resultpath, 'Meta_module_{}.graphml'.format(PPI_ID)))"
   ]
  },
  {
   "cell_type": "markdown",
   "metadata": {},
   "source": [
    "# Making a table of the metanetwork"
   ]
  },
  {
   "cell_type": "code",
   "execution_count": 19,
   "metadata": {},
   "outputs": [],
   "source": [
    "res = []\n",
    "sigs = signaling['Sig'].unique()\n",
    "for node in subG.nodes():\n",
    "    n = subG.node[node]\n",
    "    S = []\n",
    "    for sig in sigs:\n",
    "        S.append(subG.node[node][sig])\n",
    "    res.append([node, n['label'], n['Seed'], n['Z_ova'], n['Z_fec'], n['Z_xRNAi'], str(n['overlap'])] + S)\n",
    "metatable = pd.DataFrame(res, columns=['FbID', 'GeneName', 'Type', 'Z_ovariole', 'Z_HpoEggL', 'Z_EggL', 'Overlap'] + list(sigs))"
   ]
  },
  {
   "cell_type": "code",
   "execution_count": 20,
   "metadata": {},
   "outputs": [],
   "source": [
    "metatable.to_csv(os.path.join(resultpath,\"MetaNetworkData_{}.csv\".format(PPI_ID)), index=False)"
   ]
  },
  {
   "cell_type": "markdown",
   "metadata": {},
   "source": [
    "# Analysing Edge Density between different gene sets"
   ]
  },
  {
   "cell_type": "code",
   "execution_count": 21,
   "metadata": {},
   "outputs": [],
   "source": [
    "modules = [\"001\",\"010\",\"011\",\"111\",\"100\",\"101\",\"110\"]\n",
    "modules_leg = [\"EggL+\",\"HpoEggL+\",\"EggL+/HpoEggL+\",\"Core\",\"Ova+\",\"Ova+/EggL+\",\"Ova+/HpoEggL+\"]\n",
    "\n",
    "res = np.zeros((len(modules),len(modules)))\n",
    "c_i = 0\n",
    "for i in range(len(modules)):\n",
    "    module_i = modules[i]\n",
    "    nodes_i = [i for i in subG.node if subG.node[i]['overlap'] == module_i]\n",
    "    connector_i = [i for i in subG.node if subG.node[i]['overlap'] == module_i and subG.node[i]['Seed'] == 0]\n",
    "\n",
    "    for j in range(len(modules)):\n",
    "        module_j = modules[j]\n",
    "#         if module_i == module_j:\n",
    "#             res[i][j] = np.nan\n",
    "#         else:\n",
    "        nodes_j = [i for i in subG.node if subG.node[i]['overlap'] == module_j]\n",
    "        edges = 0\n",
    "        for node_i in nodes_i:\n",
    "            for node_j in nodes_j: \n",
    "                if subG.has_edge(node_i, node_j):\n",
    "#                     print(node_i, node_j)\n",
    "                    edges += 1\n",
    "        if module_i == module_j:\n",
    "            edges /= 2\n",
    "        max_edge = len(nodes_i) * len(nodes_j)\n",
    "        res[i][j] = edges/max_edge\n",
    "    \n",
    "df = pd.DataFrame(res, columns=modules_leg, index=modules_leg)"
   ]
  },
  {
   "cell_type": "code",
   "execution_count": 22,
   "metadata": {},
   "outputs": [
    {
     "data": {
      "image/png": "[encoded data removed]",
      "text/plain": [
       "<Figure size 432x360 with 2 Axes>"
      ]
     },
     "metadata": {
      "needs_background": "light"
     },
     "output_type": "display_data"
    }
   ],
   "source": [
    "fig = plt.figure(figsize=(6,5))\n",
    "sns.heatmap(df, cmap=\"Greys\", linewidths=.75)\n",
    "fig.savefig(os.path.join(resultpath,\"Figures/Meta_Network_EdgeDensity_Heatmap.svg\"))"
   ]
  },
  {
   "cell_type": "markdown",
   "metadata": {},
   "source": [
    "# Making a heatmap of signaling pathway per group"
   ]
  },
  {
   "cell_type": "code",
   "execution_count": 23,
   "metadata": {},
   "outputs": [],
   "source": [
    "sigs = signaling.groupby('Sig', as_index=False).count().sort_values('FbID')['Sig'].values"
   ]
  },
  {
   "cell_type": "code",
   "execution_count": 24,
   "metadata": {},
   "outputs": [],
   "source": [
    "data = metatable.groupby(['Overlap'], as_index=False).mean()[['Overlap'] + list(sigs)]"
   ]
  },
  {
   "cell_type": "code",
   "execution_count": 25,
   "metadata": {},
   "outputs": [],
   "source": [
    "index_order = metatable.groupby('Overlap', as_index=False).count().sort_values('FbID')['Overlap'].values"
   ]
  },
  {
   "cell_type": "code",
   "execution_count": 26,
   "metadata": {
    "scrolled": true
   },
   "outputs": [],
   "source": [
    "sorterIndex = dict(zip(index_order,range(len(index_order))))"
   ]
  },
  {
   "cell_type": "code",
   "execution_count": 27,
   "metadata": {},
   "outputs": [],
   "source": [
    "data['Rank'] = data['Overlap'].map(sorterIndex)\n",
    "data.index = data['Overlap']"
   ]
  },
  {
   "cell_type": "code",
   "execution_count": 28,
   "metadata": {},
   "outputs": [],
   "source": [
    "data.sort_values(['Rank'], \\\n",
    "        ascending = [True], inplace = True)"
   ]
  },
  {
   "cell_type": "code",
   "execution_count": 29,
   "metadata": {},
   "outputs": [],
   "source": [
    "del(data['Overlap'])\n",
    "del(data['Rank'])"
   ]
  },
  {
   "cell_type": "code",
   "execution_count": 30,
   "metadata": {},
   "outputs": [
    {
     "data": {
      "image/png": "[encoded data removed]",
      "text/plain": [
       "<Figure size 576x252 with 2 Axes>"
      ]
     },
     "metadata": {
      "needs_background": "light"
     },
     "output_type": "display_data"
    }
   ],
   "source": [
    "fig = plt.figure(figsize=(8,3.5))\n",
    "sns.heatmap(data, cmap=\"Greys\", linewidths=.75)\n",
    "fig.savefig(os.path.join(resultpath,\"Figures/Meta_Network_Signaling_Heatmap.svg\"))"
   ]
  }
 ],
 "metadata": {
  "kernelspec": {
   "display_name": "Python 3",
   "language": "python",
   "name": "python3"
  },
  "language_info": {
   "codemirror_mode": {
    "name": "ipython",
    "version": 3
   },
   "file_extension": ".py",
   "mimetype": "text/x-python",
   "name": "python",
   "nbconvert_exporter": "python",
   "pygments_lexer": "ipython3",
   "version": "3.5.6"
  }
 },
 "nbformat": 4,
 "nbformat_minor": 2
}
