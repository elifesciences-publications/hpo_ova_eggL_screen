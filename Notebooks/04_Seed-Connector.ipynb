{
 "cells": [
  {
   "cell_type": "code",
   "execution_count": 246,
   "metadata": {},
   "outputs": [],
   "source": [
    "import networkx as nx\n",
    "import numpy as np\n",
    "import seaborn as sns\n",
    "import matplotlib.pyplot as plt\n",
    "import pandas as pd\n",
    "import os\n",
    "import time\n",
    "sns.set()\n",
    "\n",
    "%matplotlib inline"
   ]
  },
  {
   "cell_type": "markdown",
   "metadata": {},
   "source": [
    "# Implementing the Seed-Connector algorithm\n",
    "\n",
    "As per Supp info https://www.ncbi.nlm.nih.gov/pmc/articles/PMC5453712/bin/jciinsight-2-93911-s001.pdf\n",
    "\n",
    "- Step 1. Assume that the seed genes induce a subnetwork. Calculate the size of the largest connected\n",
    "component (LCC) of the subnetwork.\n",
    "- Step 2. Consider all the interactors of the seed genes as identified from the human interactome.\n",
    "Add each interactor temporarily to the seed gene list one-by-one. Obtain the subnetwork induced\n",
    "by this temporary seed gene list and determine the size of its LCC.\n",
    "- Step 3. Select those interactors that can increase the coverage of seeds in the LCC of the\n",
    "subnetwork maximally, and add them to the seed gene list."
   ]
  },
  {
   "cell_type": "code",
   "execution_count": 247,
   "metadata": {},
   "outputs": [],
   "source": [
    "class SeedConnector:\n",
    "    def __init__(self, G, seeds):\n",
    "        \"Seed Connectorm algorithm, takes a PPI and a seed list as initializer\"\n",
    "        self.G = G # That is our PPI\n",
    "        self.seeds = seeds # That is our seed list\n",
    "        \n",
    "    def getLCC(self, subG):\n",
    "        \"Return the largest connect component of a graph\"\n",
    "        largest_cc = max(nx.connected_components(subG), key=len)\n",
    "        return largest_cc\n",
    "    \n",
    "    def getSubG(self, nodes):\n",
    "        \"Return the subgraph from a list of nodes\"\n",
    "        subG = self.G.subgraph(nodes)\n",
    "        return subG\n",
    "    \n",
    "    def getNeighbors(self, subG):\n",
    "        \"Return the list of neighbors of a list of node\"\n",
    "        # Define a buffer array to hold the data\n",
    "        neighbors = []\n",
    "        # iterate over all the node in the subgraph\n",
    "        for node in subG.nodes():\n",
    "            # Grab all connected nodes to that node from the PPI\n",
    "            neig = list(self.G[node].keys())\n",
    "            # Add the new neighbors to the list of neighbors\n",
    "            neighbors += [n for n in neig if n not in neighbors]\n",
    "        # Filter out the nodes that are already in the module (no need to test it twice)\n",
    "        neighbors = [n for n in neighbors if n not in subG.nodes()]\n",
    "        return neighbors\n",
    "    \n",
    "    def run(self):\n",
    "        \"Run the Seed connector algorithm\"\n",
    "        t0 = time.time()\n",
    "        # Get the seed subgraph\n",
    "        subG = self.getSubG(self.seeds)\n",
    "        # Get the seed subgraph LCC\n",
    "        initLCC = self.getLCC(subG)\n",
    "        # Save the size of the LCC as the old coverage (at the moment our LCC is the best we have)\n",
    "        oldCoverage = len(initLCC)\n",
    "        # Init the new size of the Coverage to 0 (will be updated in the update step below) \n",
    "        newCoverage = 0\n",
    "        # Initialize the current module as the seeds\n",
    "        module = [i for i in self.seeds]\n",
    "        # Define a logger dictionary to store the data\n",
    "        progress = {'Coverage':[], 'LCC':[], 'Size':[], 'step':{}}\n",
    "        # Define an iteration counter\n",
    "        c = 0\n",
    "        print(\"Starting with \",len(self.seeds),\" seeds\")\n",
    "        print(\"{} are in the PPI\".format(len(subG)))\n",
    "        # As long as adding nodes to the module increases the Coverage\n",
    "        # Continue with a new iteration step\n",
    "        while newCoverage != oldCoverage:\n",
    "            # If the coverage is OVER the number of seeds we have saturated the module and stop\n",
    "            if newCoverage > len(self.seeds):\n",
    "                break\n",
    "            # Save the newCoverage to the OldCoverage so we can compare between each step\n",
    "            oldCoverage = newCoverage\n",
    "            # Create a temporary result array\n",
    "            result = []\n",
    "            # We get the SubGraph of the current module\n",
    "            subG = self.getSubG(module)\n",
    "            # We get all the neighbors of the module\n",
    "            neighbors = self.getNeighbors(subG)\n",
    "            # Iterate over all the neighbors and calculate the result of adding this node\n",
    "            for neig in neighbors:\n",
    "                # Define the new new module\n",
    "                newmodule = module + [neig]\n",
    "                # Get the subGraph for this new module\n",
    "                newsubG = self.getSubG(newmodule)\n",
    "                # Get the LCC for this new module\n",
    "                neigLCC = self.getLCC(newsubG)\n",
    "                # Now we calculate the coverage of this module, we init coverage at 0\n",
    "                coverage = 0\n",
    "                # Iterate over all the seed genes\n",
    "                for gene in self.seeds:\n",
    "                    # If the seed gene is in the LCC of the new module\n",
    "                    if gene in neigLCC:\n",
    "                        # We increase the coverage by 1 \n",
    "                        coverage += 1\n",
    "                # We save this result into our temporary results list\n",
    "                result.append((neig, coverage, len(neigLCC)))\n",
    "            # We sort the results by coverage lambda x: x[1] -> coverage from above\n",
    "            result = sorted(result, reverse=True, key=lambda x: x[1])\n",
    "            # we select the max coverage -> [0][1] \n",
    "            newCoverage = result[0][1]\n",
    "            # And save the LCC size\n",
    "            LCC = result[0][2]\n",
    "            # And we add the new gene to our module\n",
    "            module.append(result[0][0])\n",
    "            # We log all the values into our logging progress\n",
    "            print(\"New coverage:\", newCoverage, \"Old coverage:\", oldCoverage, \"Module Size:\", len(module), \"LCC:\", LCC)\n",
    "            progress['Coverage'].append(newCoverage)\n",
    "            progress['LCC'].append(LCC)\n",
    "            progress['Size'].append(len(module))\n",
    "            progress['step'][c] = module\n",
    "            # Increase our iteration step\n",
    "            c+=1\n",
    "            # Go back to the top and repeat until we cannot increase the coverage anymore.\n",
    "        # Because the algorithm finishes on adding the \"best\" increase, the last step did not increase the coverage\n",
    "        # But we still added the gene to the module list\n",
    "        # Therefore we must remove the last added element\n",
    "        module.pop()\n",
    "        print(\"Execution time: \", time.time() - t0)\n",
    "        return module, progress"
   ]
  },
  {
   "cell_type": "markdown",
   "metadata": {},
   "source": [
    "# Loading the datasets\n",
    "\n",
    "We load the different results from the 3 screens, the results from the prediction, the *Drodophila melanogaster* PPI network, and the signaling pathway information for each genes.\n",
    "\n",
    "\n",
    "Accross the analysis the following names are used for the 3 screens\n",
    "- ova == Ovariole Number screen\n",
    "- fec == Hippo RNAi EggLaying screen\n",
    "- xRNAi == EggLaying screen"
   ]
  },
  {
   "cell_type": "code",
   "execution_count": 248,
   "metadata": {},
   "outputs": [],
   "source": [
    "datapath = '../../../Paper/Data/'\n",
    "resultpath = '../../../Paper/Results'\n",
    "PPI_ID = \"2017_08\""
   ]
  },
  {
   "cell_type": "code",
   "execution_count": 250,
   "metadata": {},
   "outputs": [],
   "source": [
    "G = nx.read_graphml(os.path.join(datapath,'PPI_{}.graphml'.format(PPI_ID)))\n",
    "# G = nx.read_graphml(os.path.join(\"../../../Data/\",'PPI.graphml'))\n",
    "\n",
    "signaling = pd.read_csv(os.path.join(datapath, 'signaling.csv'))\n",
    "\n",
    "hipo_ova = pd.read_csv(os.path.join(datapath, 'Screen', 'hipo_ova_clean.csv'))\n",
    "hipo_fec = pd.read_csv(os.path.join(datapath, 'Screen', 'hipo_fec_clean.csv'))\n",
    "xRNAi_fec = pd.read_csv(os.path.join(datapath, 'Screen', 'xRNAi_fec_clean.csv'))\n",
    "\n",
    "hipo_fec_pred = pd.read_csv(os.path.join(datapath, 'Screen','pred_hipo_fec_clean.csv')) \n",
    "hipo_ova_pred = pd.read_csv(os.path.join(datapath, 'Screen','pred_hipo_ova_clean.csv'))\n",
    "xRNAi_fec_pred = pd.read_csv(os.path.join(datapath, 'Screen','pred_xRNAi_fec_clean.csv'))"
   ]
  },
  {
   "cell_type": "markdown",
   "metadata": {},
   "source": [
    "## Calculate the mean for all datasets "
   ]
  },
  {
   "cell_type": "code",
   "execution_count": 251,
   "metadata": {},
   "outputs": [],
   "source": [
    "# Ovariole number screen\n",
    "mean_ova_gene = hipo_ova.groupby('FbID', as_index=False).mean()\n",
    "# mean_ova_gene_pred = hipo_ova_pred.groupby('FbID', as_index=False).mean()\n",
    "\n",
    "# Hippo RNAi Egg Laying screen\n",
    "mean_fec_gene = hipo_fec[hipo_fec['Condition'] == 'Sum'].groupby('FbID', as_index=False).mean()\n",
    "# mean_fec_gene_pred = hipo_fec_pred[hipo_fec_pred['Condition'] == 'Sum'].groupby('FbID', as_index=False).mean()\n",
    "\n",
    "# Egg Laying Screen\n",
    "mean_xRNAi_gene = xRNAi_fec[xRNAi_fec['Condition'] == 'Sum'].groupby('FbID', as_index=False).mean()\n",
    "# mean_xRNAi_gene_pred = xRNAi_fec_pred[xRNAi_fec_pred['Condition'] == 'Sum'].groupby('FbID', as_index=False).mean()"
   ]
  },
  {
   "cell_type": "markdown",
   "metadata": {},
   "source": [
    "## Define the list of genes that passes threshold cutoff"
   ]
  },
  {
   "cell_type": "markdown",
   "metadata": {},
   "source": [
    "### Threshold definitions"
   ]
  },
  {
   "cell_type": "code",
   "execution_count": 252,
   "metadata": {},
   "outputs": [],
   "source": [
    "ova_threshold = 2\n",
    "eggl_threshold = 5"
   ]
  },
  {
   "cell_type": "code",
   "execution_count": 253,
   "metadata": {},
   "outputs": [],
   "source": [
    "# Ovariole number screen\n",
    "# Keep only genes with a Zscore over or equal to 2\n",
    "Zposneg_ova = mean_ova_gene[(mean_ova_gene['Z'].abs()>=ova_threshold)]['FbID'].values\n",
    "# Filter out the controls\n",
    "Zposneg_ova = [i for i in Zposneg_ova if 'FBgn' in i]\n",
    "\n",
    "# Hippo RNAi Egg Laying screen\n",
    "# Keep only genes with a Zscore over or equal to 5\n",
    "Zposneg_fec = mean_fec_gene[(mean_fec_gene['Z'].abs()>=eggl_threshold)]['FbID'].values\n",
    "# Filter out the controls\n",
    "Zposneg_fec = [i for i in Zposneg_fec if 'FBgn' in i]\n",
    "\n",
    "# Egg Laying Screen\n",
    "# Keep only genes with a Zscore over or equal to 5\n",
    "Zposneg_xRNAi = mean_xRNAi_gene[(mean_xRNAi_gene['Z'].abs()>=eggl_threshold)]['FbID'].values\n",
    "# Filter out the controls\n",
    "Zposneg_xRNAi = [i for i in Zposneg_xRNAi if 'FBgn' in i]"
   ]
  },
  {
   "cell_type": "markdown",
   "metadata": {},
   "source": [
    "## Assert that we have the right number of positive candidates"
   ]
  },
  {
   "cell_type": "code",
   "execution_count": 254,
   "metadata": {},
   "outputs": [],
   "source": [
    "assert(len(Zposneg_ova) == 67)\n",
    "assert(len(Zposneg_fec) == 59)\n",
    "assert(len(Zposneg_xRNAi) == 49)"
   ]
  },
  {
   "cell_type": "markdown",
   "metadata": {},
   "source": [
    "# Building the modules using the Seed-Connector algorithm"
   ]
  },
  {
   "cell_type": "code",
   "execution_count": 255,
   "metadata": {},
   "outputs": [],
   "source": [
    "def build_module(seed):\n",
    "    \"Build the module from a seed list\"\n",
    "    # Instanciate the algorithm with the PPI and the Ovariole network\n",
    "    S = SeedConnector(G, seed)\n",
    "    # Run the computation\n",
    "    module, progress = S.run()\n",
    "    # Plot the progress to make sure the algorithm worked as expected\n",
    "    plt.plot(np.array(progress['LCC'])/np.array(progress['Size']))\n",
    "    plt.xlabel(\"Algorithm steps\")\n",
    "    plt.ylabel(\"LCC/NetworkSize\")\n",
    "    return module\n",
    "\n",
    "def decorate_module(seed, module, screenResults, pred=[], predResults=None):\n",
    "    \"Decorate the module Sub Graph with metadata\"\n",
    "    # Create the module by taking its subnetwork from the PPI\n",
    "    subG = G.subgraph(module)\n",
    "    # Iterate over the nodes\n",
    "    for node in subG.nodes():\n",
    "        # If the node is in the seeds decorate it as such\n",
    "        if node in seed:\n",
    "            # Grab the corresponding Zscore \n",
    "            Z = screenResults[screenResults['FbID'] == node]['Z'].values[0]\n",
    "            if Z > 0:\n",
    "                # If it's positive decorate \n",
    "                subG.node[node]['Seed'] = \"Seed_Positive\"\n",
    "            else:\n",
    "                # Else decorate \n",
    "                subG.node[node]['Seed'] = \"Seed_Negative\"\n",
    "            # Save the Z value as absolute and real\n",
    "            subG.node[node]['Z'] = float(Z)\n",
    "            subG.node[node]['Zabs'] = abs(float(Z))\n",
    "        # If the node is not in the seeds, it is a connector\n",
    "        else:\n",
    "            # If it is in the tested extra genes measure file\n",
    "            if node in pred:\n",
    "                # Get the Z score value\n",
    "                Z = predResults[predResults['FbID'] == node]['Z'].values[0]\n",
    "                subG.node[node]['Z'] = float(Z)\n",
    "                subG.node[node]['Zabs'] = abs(float(Z))\n",
    "            # Else set it at 0\n",
    "            else:\n",
    "                subG.node[node]['Z'] = 0.0\n",
    "\n",
    "            # If the Z is > 0 decorate as Connector Positive\n",
    "            if subG.node[node]['Z'] > 0:\n",
    "                subG.node[node]['Seed'] = \"Connector_Positive\"\n",
    "            # Or negative\n",
    "            elif subG.node[node]['Z'] < 0:\n",
    "                subG.node[node]['Seed'] = \"Connector_Negative\"\n",
    "            # Or Unkown\n",
    "            else:\n",
    "                subG.node[node]['Seed'] = \"Connector_Unknown\"\n",
    "    return subG"
   ]
  },
  {
   "cell_type": "markdown",
   "metadata": {},
   "source": [
    "## Ovariole number module"
   ]
  },
  {
   "cell_type": "code",
   "execution_count": 256,
   "metadata": {},
   "outputs": [],
   "source": [
    "# Define our seed list as the Ovariole Number Seed List\n",
    "# And our data for decoration as screenResults = mean_ova_gene\n",
    "seed = Zposneg_ova\n",
    "screenResults = mean_ova_gene"
   ]
  },
  {
   "cell_type": "code",
   "execution_count": 257,
   "metadata": {
    "scrolled": false
   },
   "outputs": [
    {
     "name": "stdout",
     "output_type": "stream",
     "text": [
      "Starting with  67  seeds\n",
      "66 are in the PPI\n",
      "New coverage: 46 Old coverage: 0 Module Size: 68 LCC: 47\n",
      "New coverage: 50 Old coverage: 46 Module Size: 69 LCC: 52\n",
      "New coverage: 52 Old coverage: 50 Module Size: 70 LCC: 55\n",
      "New coverage: 54 Old coverage: 52 Module Size: 71 LCC: 58\n",
      "New coverage: 56 Old coverage: 54 Module Size: 72 LCC: 61\n",
      "New coverage: 58 Old coverage: 56 Module Size: 73 LCC: 64\n",
      "New coverage: 60 Old coverage: 58 Module Size: 74 LCC: 67\n",
      "New coverage: 61 Old coverage: 60 Module Size: 75 LCC: 69\n",
      "New coverage: 62 Old coverage: 61 Module Size: 76 LCC: 71\n",
      "New coverage: 63 Old coverage: 62 Module Size: 77 LCC: 73\n",
      "New coverage: 64 Old coverage: 63 Module Size: 78 LCC: 75\n",
      "New coverage: 64 Old coverage: 64 Module Size: 79 LCC: 76\n",
      "Execution time:  74.1070249080658\n"
     ]
    },
    {
     "data": {
      "image/png": "[encoded data removed]",
      "text/plain": [
       "<Figure size 432x288 with 1 Axes>"
      ]
     },
     "metadata": {
      "needs_background": "light"
     },
     "output_type": "display_data"
    }
   ],
   "source": [
    "# Run the Seed Connector Algorithm and get the module\n",
    "module_genes = build_module(seed)\n",
    "# Decorate the module\n",
    "module_network = decorate_module(seed, module_genes, screenResults)\n",
    "# module_network = decorate_module(Zposneg_ova, module_genes, mean_ova_gene, pred=hipo_ova_pred['FbID'].unique(), predResults=mean_ova_gene_pred)"
   ]
  },
  {
   "cell_type": "code",
   "execution_count": 258,
   "metadata": {},
   "outputs": [],
   "source": [
    "# Write the results to a graphml file\n",
    "nx.write_graphml(module_network, os.path.join(resultpath, 'Ova_module_{}.graphml'.format(PPI_ID)))"
   ]
  },
  {
   "cell_type": "markdown",
   "metadata": {},
   "source": [
    "## Hippo RNAi Egg Laying module"
   ]
  },
  {
   "cell_type": "code",
   "execution_count": 192,
   "metadata": {},
   "outputs": [],
   "source": [
    "# Define our seed list as the HpoRNAi EggL Seed List\n",
    "# And our data for decoration as screenResults = mean_fec_gene\n",
    "seed = Zposneg_fec\n",
    "screenResults = mean_fec_gene"
   ]
  },
  {
   "cell_type": "code",
   "execution_count": 193,
   "metadata": {},
   "outputs": [
    {
     "name": "stdout",
     "output_type": "stream",
     "text": [
      "Starting with  59  seeds\n",
      "57 are in the PPI\n",
      "New coverage: 31 Old coverage: 0 Module Size: 60 LCC: 32\n",
      "New coverage: 35 Old coverage: 31 Module Size: 61 LCC: 37\n",
      "New coverage: 37 Old coverage: 35 Module Size: 62 LCC: 40\n",
      "New coverage: 39 Old coverage: 37 Module Size: 63 LCC: 43\n",
      "New coverage: 41 Old coverage: 39 Module Size: 64 LCC: 46\n",
      "New coverage: 43 Old coverage: 41 Module Size: 65 LCC: 49\n",
      "New coverage: 44 Old coverage: 43 Module Size: 66 LCC: 51\n",
      "New coverage: 45 Old coverage: 44 Module Size: 67 LCC: 53\n",
      "New coverage: 46 Old coverage: 45 Module Size: 68 LCC: 55\n",
      "New coverage: 47 Old coverage: 46 Module Size: 69 LCC: 57\n",
      "New coverage: 48 Old coverage: 47 Module Size: 70 LCC: 59\n",
      "New coverage: 49 Old coverage: 48 Module Size: 71 LCC: 61\n",
      "New coverage: 50 Old coverage: 49 Module Size: 72 LCC: 63\n",
      "New coverage: 51 Old coverage: 50 Module Size: 73 LCC: 65\n",
      "New coverage: 52 Old coverage: 51 Module Size: 74 LCC: 67\n",
      "New coverage: 53 Old coverage: 52 Module Size: 75 LCC: 69\n",
      "New coverage: 54 Old coverage: 53 Module Size: 76 LCC: 71\n",
      "New coverage: 55 Old coverage: 54 Module Size: 77 LCC: 73\n",
      "New coverage: 56 Old coverage: 55 Module Size: 78 LCC: 75\n",
      "New coverage: 56 Old coverage: 56 Module Size: 79 LCC: 76\n",
      "Execution time:  131.824805021286\n"
     ]
    },
    {
     "data": {
      "image/png": "[encoded data removed]",
      "text/plain": [
       "<Figure size 432x288 with 1 Axes>"
      ]
     },
     "metadata": {
      "needs_background": "light"
     },
     "output_type": "display_data"
    }
   ],
   "source": [
    "# Run the Seed Connector Algorithm and get the module\n",
    "module_genes = build_module(seed)\n",
    "# Decorate the module\n",
    "module_network = decorate_module(seed, module_genes, screenResults)\n",
    "# module_network = decorate_module(Zposneg_ova, module_genes, mean_ova_gene, pred=hipo_ova_pred['FbID'].unique(), predResults=mean_ova_gene_pred)"
   ]
  },
  {
   "cell_type": "code",
   "execution_count": 194,
   "metadata": {},
   "outputs": [],
   "source": [
    "# Write the results to a graphml file\n",
    "nx.write_graphml(module_network, os.path.join(resultpath, 'Hpo_EggL_module_{}.graphml'.format(PPI_ID)))"
   ]
  },
  {
   "cell_type": "markdown",
   "metadata": {},
   "source": [
    "## Egg Laying module"
   ]
  },
  {
   "cell_type": "code",
   "execution_count": 195,
   "metadata": {},
   "outputs": [],
   "source": [
    "# Define our seed list as the HpoRNAi EggL Seed List\n",
    "# And our data for decoration as screenResults = mean_fec_gene\n",
    "seed = Zposneg_xRNAi\n",
    "screenResults = mean_xRNAi_gene"
   ]
  },
  {
   "cell_type": "code",
   "execution_count": 196,
   "metadata": {},
   "outputs": [
    {
     "name": "stdout",
     "output_type": "stream",
     "text": [
      "Starting with  49  seeds\n",
      "49 are in the PPI\n",
      "New coverage: 29 Old coverage: 0 Module Size: 50 LCC: 30\n",
      "New coverage: 32 Old coverage: 29 Module Size: 51 LCC: 34\n",
      "New coverage: 34 Old coverage: 32 Module Size: 52 LCC: 37\n",
      "New coverage: 36 Old coverage: 34 Module Size: 53 LCC: 40\n",
      "New coverage: 37 Old coverage: 36 Module Size: 54 LCC: 42\n",
      "New coverage: 38 Old coverage: 37 Module Size: 55 LCC: 44\n",
      "New coverage: 39 Old coverage: 38 Module Size: 56 LCC: 46\n",
      "New coverage: 40 Old coverage: 39 Module Size: 57 LCC: 48\n",
      "New coverage: 41 Old coverage: 40 Module Size: 58 LCC: 50\n",
      "New coverage: 42 Old coverage: 41 Module Size: 59 LCC: 52\n",
      "New coverage: 43 Old coverage: 42 Module Size: 60 LCC: 54\n",
      "New coverage: 44 Old coverage: 43 Module Size: 61 LCC: 56\n",
      "New coverage: 45 Old coverage: 44 Module Size: 62 LCC: 58\n",
      "New coverage: 45 Old coverage: 45 Module Size: 63 LCC: 59\n",
      "Execution time:  37.47733521461487\n"
     ]
    },
    {
     "data": {
      "image/png": "[encoded data removed]",
      "text/plain": [
       "<Figure size 432x288 with 1 Axes>"
      ]
     },
     "metadata": {
      "needs_background": "light"
     },
     "output_type": "display_data"
    }
   ],
   "source": [
    "# Run the Seed Connector Algorithm and get the module\n",
    "module_genes = build_module(seed)\n",
    "# Decorate the module\n",
    "module_network = decorate_module(seed, module_genes, screenResults)\n",
    "# module_network = decorate_module(Zposneg_ova, module_genes, mean_ova_gene, pred=hipo_ova_pred['FbID'].unique(), predResults=mean_ova_gene_pred)"
   ]
  },
  {
   "cell_type": "code",
   "execution_count": 197,
   "metadata": {},
   "outputs": [],
   "source": [
    "# Write the results to a graphml file\n",
    "nx.write_graphml(module_network, os.path.join(resultpath, 'EggL_module_{}.graphml'.format(PPI_ID)))"
   ]
  },
  {
   "cell_type": "markdown",
   "metadata": {},
   "source": [
    "## Core Module\n",
    "Core is defined as the module composed of the overlapping set of positive candidate of the 3 screens. Only if the gene was positive in all 3 screens"
   ]
  },
  {
   "cell_type": "code",
   "execution_count": 198,
   "metadata": {},
   "outputs": [],
   "source": [
    "# We take the interesection of the positive canditate of the 3 screens. \n",
    "core_genes = set.intersection(set(Zposneg_ova), set(Zposneg_fec), set(Zposneg_xRNAi))"
   ]
  },
  {
   "cell_type": "code",
   "execution_count": 199,
   "metadata": {},
   "outputs": [],
   "source": [
    "assert(len(mean_ova_gene[mean_ova_gene['FbID'].isin(core_genes)]) == len(mean_xRNAi_gene[mean_xRNAi_gene['FbID'].isin(core_genes)]) == len(mean_fec_gene[mean_fec_gene['FbID'].isin(core_genes)]))"
   ]
  },
  {
   "cell_type": "markdown",
   "metadata": {},
   "source": [
    "### Here we make the decision to decorate the Core module with the Z value from the Ovariole Number Screen"
   ]
  },
  {
   "cell_type": "code",
   "execution_count": 200,
   "metadata": {},
   "outputs": [],
   "source": [
    "seed = core_genes\n",
    "screenResults = mean_ova_gene"
   ]
  },
  {
   "cell_type": "code",
   "execution_count": 201,
   "metadata": {},
   "outputs": [
    {
     "name": "stdout",
     "output_type": "stream",
     "text": [
      "Starting with  27  seeds\n",
      "27 are in the PPI\n",
      "New coverage: 13 Old coverage: 0 Module Size: 28 LCC: 14\n",
      "New coverage: 16 Old coverage: 13 Module Size: 29 LCC: 18\n",
      "New coverage: 19 Old coverage: 16 Module Size: 30 LCC: 22\n",
      "New coverage: 20 Old coverage: 19 Module Size: 31 LCC: 24\n",
      "New coverage: 21 Old coverage: 20 Module Size: 32 LCC: 26\n",
      "New coverage: 22 Old coverage: 21 Module Size: 33 LCC: 28\n",
      "New coverage: 23 Old coverage: 22 Module Size: 34 LCC: 30\n",
      "New coverage: 24 Old coverage: 23 Module Size: 35 LCC: 32\n",
      "New coverage: 25 Old coverage: 24 Module Size: 36 LCC: 34\n",
      "New coverage: 26 Old coverage: 25 Module Size: 37 LCC: 36\n",
      "New coverage: 26 Old coverage: 26 Module Size: 38 LCC: 37\n",
      "Execution time:  23.657522678375244\n"
     ]
    },
    {
     "data": {
      "image/png": "[encoded data removed]",
      "text/plain": [
       "<Figure size 432x288 with 1 Axes>"
      ]
     },
     "metadata": {
      "needs_background": "light"
     },
     "output_type": "display_data"
    }
   ],
   "source": [
    "# Run the Seed Connector Algorithm and get the module\n",
    "module_genes = build_module(seed)\n",
    "# Decorate the module\n",
    "module_network = decorate_module(seed, module_genes, screenResults)\n",
    "# module_network = decorate_module(Zposneg_ova, module_genes, mean_ova_gene, pred=hipo_ova_pred['FbID'].unique(), predResults=mean_ova_gene_pred)"
   ]
  },
  {
   "cell_type": "code",
   "execution_count": 202,
   "metadata": {},
   "outputs": [],
   "source": [
    "nx.write_graphml(module_network, os.path.join(resultpath, 'Core_module_{}.graphml'.format(PPI_ID)))"
   ]
  },
  {
   "cell_type": "markdown",
   "metadata": {},
   "source": [
    "# Stats about the modules"
   ]
  },
  {
   "cell_type": "code",
   "execution_count": 231,
   "metadata": {},
   "outputs": [],
   "source": [
    "PPI_ID = \"2017_08\""
   ]
  },
  {
   "cell_type": "code",
   "execution_count": 232,
   "metadata": {},
   "outputs": [],
   "source": [
    "# Modules computed above\n",
    "ova_module_G = nx.read_graphml(os.path.join(resultpath,'Ova_module_{}.graphml'.format(PPI_ID)))\n",
    "fec_module_G = nx.read_graphml(os.path.join(resultpath,'Hpo_EggL_module_{}.graphml'.format(PPI_ID)))\n",
    "xRNAi_module_G = nx.read_graphml(os.path.join(resultpath,'EggL_module_{}.graphml'.format(PPI_ID)))\n",
    "core_module_G = nx.read_graphml(os.path.join(resultpath,'Core_module_{}.graphml'.format(PPI_ID)))"
   ]
  },
  {
   "cell_type": "code",
   "execution_count": 233,
   "metadata": {},
   "outputs": [
    {
     "name": "stdout",
     "output_type": "stream",
     "text": [
      "HpoRNAi Ovariole Module has 77 genes in it.\n",
      "HpoRNAi EggL Module has 76 genes in it.\n",
      "EggL Module has 62 genes in it.\n",
      "Core Module has 37 genes in it.\n"
     ]
    }
   ],
   "source": [
    "print(\"HpoRNAi Ovariole Module has {} genes in it.\".format(len(ova_module_G)))\n",
    "print(\"HpoRNAi EggL Module has {} genes in it.\".format(len(fec_module_G)))\n",
    "print(\"EggL Module has {} genes in it.\".format(len(xRNAi_module_G)))\n",
    "print(\"Core Module has {} genes in it.\".format(len(core_module_G)))"
   ]
  },
  {
   "cell_type": "code",
   "execution_count": 234,
   "metadata": {},
   "outputs": [],
   "source": [
    "# Here we extract all the connectors\n",
    "connectors = []\n",
    "\n",
    "# For each node in a module graph\n",
    "for node in ova_module_G.node:\n",
    "    # If this node has the Connector Tag in the Seed Tag\n",
    "    if \"Connector\" in ova_module_G.node[node]['Seed']:\n",
    "        # Save it as a connector\n",
    "        connectors.append(['Ova',node])\n",
    "for node in fec_module_G.node:\n",
    "    if \"Connector\" in fec_module_G.node[node]['Seed']:\n",
    "        connectors.append(['HpoFec',node])\n",
    "for node in xRNAi_module_G.node:\n",
    "    if \"Connector\" in xRNAi_module_G.node[node]['Seed']:\n",
    "        connectors.append(['xRNAiFec',node])\n",
    "for node in core_module_G.node:\n",
    "    if \"Connector\" in core_module_G.node[node]['Seed']:\n",
    "        connectors.append(['Core',node])\n",
    "\n",
    "connectors = pd.DataFrame(connectors, columns=['Module', 'FbID'])\n",
    "connectors.to_csv(os.path.join(resultpath,\"ConnectorGeneList_{}.csv\".format(PPI_ID)), index=False)"
   ]
  },
  {
   "cell_type": "code",
   "execution_count": 235,
   "metadata": {},
   "outputs": [
    {
     "name": "stdout",
     "output_type": "stream",
     "text": [
      "There is 42 unique connectors found accross the 4 network modules\n"
     ]
    }
   ],
   "source": [
    "print(\"There is {} unique connectors found accross the 4 network modules\".format(len(connectors['FbID'].unique())))"
   ]
  },
  {
   "cell_type": "code",
   "execution_count": 236,
   "metadata": {
    "scrolled": false
   },
   "outputs": [
    {
     "data": {
      "text/html": [
       "<div>\n",
       "<style>\n",
       "    .dataframe thead tr:only-child th {\n",
       "        text-align: right;\n",
       "    }\n",
       "\n",
       "    .dataframe thead th {\n",
       "        text-align: left;\n",
       "    }\n",
       "\n",
       "    .dataframe tbody tr th {\n",
       "        vertical-align: top;\n",
       "    }\n",
       "</style>\n",
       "<table border=\"1\" class=\"dataframe\">\n",
       "  <thead>\n",
       "    <tr style=\"text-align: right;\">\n",
       "      <th></th>\n",
       "      <th>FbID</th>\n",
       "    </tr>\n",
       "    <tr>\n",
       "      <th>Module</th>\n",
       "      <th></th>\n",
       "    </tr>\n",
       "  </thead>\n",
       "  <tbody>\n",
       "    <tr>\n",
       "      <th>Core</th>\n",
       "      <td>10</td>\n",
       "    </tr>\n",
       "    <tr>\n",
       "      <th>HpoFec</th>\n",
       "      <td>19</td>\n",
       "    </tr>\n",
       "    <tr>\n",
       "      <th>Ova</th>\n",
       "      <td>11</td>\n",
       "    </tr>\n",
       "    <tr>\n",
       "      <th>xRNAiFec</th>\n",
       "      <td>13</td>\n",
       "    </tr>\n",
       "  </tbody>\n",
       "</table>\n",
       "</div>"
      ],
      "text/plain": [
       "          FbID\n",
       "Module        \n",
       "Core        10\n",
       "HpoFec      19\n",
       "Ova         11\n",
       "xRNAiFec    13"
      ]
     },
     "execution_count": 236,
     "metadata": {},
     "output_type": "execute_result"
    }
   ],
   "source": [
    "connectors.groupby(\"Module\").count()"
   ]
  },
  {
   "cell_type": "code",
   "execution_count": 237,
   "metadata": {},
   "outputs": [],
   "source": [
    "PPI_ID = \"2018_08\""
   ]
  },
  {
   "cell_type": "code",
   "execution_count": 209,
   "metadata": {},
   "outputs": [],
   "source": [
    "# Modules computed above\n",
    "ova_module_G = nx.read_graphml(os.path.join(resultpath,'Ova_module_{}.graphml'.format(PPI_ID)))\n",
    "fec_module_G = nx.read_graphml(os.path.join(resultpath,'Hpo_EggL_module_{}.graphml'.format(PPI_ID)))\n",
    "xRNAi_module_G = nx.read_graphml(os.path.join(resultpath,'EggL_module_{}.graphml'.format(PPI_ID)))\n",
    "core_module_G = nx.read_graphml(os.path.join(resultpath,'Core_module_{}.graphml'.format(PPI_ID)))"
   ]
  },
  {
   "cell_type": "code",
   "execution_count": 210,
   "metadata": {},
   "outputs": [
    {
     "name": "stdout",
     "output_type": "stream",
     "text": [
      "HpoRNAi Ovariole Module has 77 genes in it.\n",
      "HpoRNAi EggL Module has 76 genes in it.\n",
      "EggL Module has 61 genes in it.\n",
      "Core Module has 36 genes in it.\n"
     ]
    }
   ],
   "source": [
    "print(\"HpoRNAi Ovariole Module has {} genes in it.\".format(len(ova_module_G)))\n",
    "print(\"HpoRNAi EggL Module has {} genes in it.\".format(len(fec_module_G)))\n",
    "print(\"EggL Module has {} genes in it.\".format(len(xRNAi_module_G)))\n",
    "print(\"Core Module has {} genes in it.\".format(len(core_module_G)))"
   ]
  },
  {
   "cell_type": "code",
   "execution_count": 211,
   "metadata": {},
   "outputs": [],
   "source": [
    "# Here we extract all the connectors\n",
    "connectors = []\n",
    "\n",
    "# For each node in a module graph\n",
    "for node in ova_module_G.node:\n",
    "    # If this node has the Connector Tag in the Seed Tag\n",
    "    if \"Connector\" in ova_module_G.node[node]['Seed']:\n",
    "        # Save it as a connector\n",
    "        connectors.append(['Ova',node])\n",
    "for node in fec_module_G.node:\n",
    "    if \"Connector\" in fec_module_G.node[node]['Seed']:\n",
    "        connectors.append(['HpoFec',node])\n",
    "for node in xRNAi_module_G.node:\n",
    "    if \"Connector\" in xRNAi_module_G.node[node]['Seed']:\n",
    "        connectors.append(['xRNAiFec',node])\n",
    "for node in core_module_G.node:\n",
    "    if \"Connector\" in core_module_G.node[node]['Seed']:\n",
    "        connectors.append(['Core',node])\n",
    "\n",
    "connectors = pd.DataFrame(connectors, columns=['Module', 'FbID'])\n",
    "connectors.to_csv(os.path.join(resultpath,\"ConnectorGeneList_{}.csv\".format(PPI_ID)), index=False)"
   ]
  },
  {
   "cell_type": "code",
   "execution_count": 212,
   "metadata": {},
   "outputs": [
    {
     "name": "stdout",
     "output_type": "stream",
     "text": [
      "There is 40 unique connectors found accross the 4 network modules\n"
     ]
    }
   ],
   "source": [
    "print(\"There is {} unique connectors found accross the 4 network modules\".format(len(connectors['FbID'].unique())))"
   ]
  },
  {
   "cell_type": "code",
   "execution_count": 213,
   "metadata": {
    "scrolled": false
   },
   "outputs": [
    {
     "data": {
      "text/html": [
       "<div>\n",
       "<style>\n",
       "    .dataframe thead tr:only-child th {\n",
       "        text-align: right;\n",
       "    }\n",
       "\n",
       "    .dataframe thead th {\n",
       "        text-align: left;\n",
       "    }\n",
       "\n",
       "    .dataframe tbody tr th {\n",
       "        vertical-align: top;\n",
       "    }\n",
       "</style>\n",
       "<table border=\"1\" class=\"dataframe\">\n",
       "  <thead>\n",
       "    <tr style=\"text-align: right;\">\n",
       "      <th></th>\n",
       "      <th>FbID</th>\n",
       "    </tr>\n",
       "    <tr>\n",
       "      <th>Module</th>\n",
       "      <th></th>\n",
       "    </tr>\n",
       "  </thead>\n",
       "  <tbody>\n",
       "    <tr>\n",
       "      <th>Core</th>\n",
       "      <td>9</td>\n",
       "    </tr>\n",
       "    <tr>\n",
       "      <th>HpoFec</th>\n",
       "      <td>18</td>\n",
       "    </tr>\n",
       "    <tr>\n",
       "      <th>Ova</th>\n",
       "      <td>11</td>\n",
       "    </tr>\n",
       "    <tr>\n",
       "      <th>xRNAiFec</th>\n",
       "      <td>12</td>\n",
       "    </tr>\n",
       "  </tbody>\n",
       "</table>\n",
       "</div>"
      ],
      "text/plain": [
       "          FbID\n",
       "Module        \n",
       "Core         9\n",
       "HpoFec      18\n",
       "Ova         11\n",
       "xRNAiFec    12"
      ]
     },
     "execution_count": 213,
     "metadata": {},
     "output_type": "execute_result"
    }
   ],
   "source": [
    "connectors.groupby(\"Module\").count()"
   ]
  },
  {
   "cell_type": "code",
   "execution_count": 214,
   "metadata": {},
   "outputs": [
    {
     "data": {
      "text/plain": [
       "array(['FBgn0086356', 'FBgn0286198', 'FBgn0261014', 'FBgn0043903',\n",
       "       'FBgn0035213', 'FBgn0016917', 'FBgn0086613', 'FBgn0000499',\n",
       "       'FBgn0015282', 'FBgn0011259', 'FBgn0003430', 'FBgn0262029',\n",
       "       'FBgn0011726', 'FBgn0024846', 'FBgn0028509', 'FBgn0025637',\n",
       "       'FBgn0260632', 'FBgn0259896', 'FBgn0031736', 'FBgn0032400',\n",
       "       'FBgn0020622', 'FBgn0015509', 'FBgn0003041', 'FBgn0039234',\n",
       "       'FBgn0003444', 'FBgn0010905', 'FBgn0000261', 'FBgn0263106',\n",
       "       'FBgn0261385', 'FBgn0020299', 'FBgn0039300', 'FBgn0267378',\n",
       "       'FBgn0038167', 'FBgn0005198', 'FBgn0037874', 'FBgn0003479',\n",
       "       'FBgn0015778', 'FBgn0015268', 'FBgn0000635', 'FBgn0031006'],\n",
       "      dtype=object)"
      ]
     },
     "execution_count": 214,
     "metadata": {},
     "output_type": "execute_result"
    }
   ],
   "source": [
    "connectors['FbID'].unique()"
   ]
  },
  {
   "cell_type": "code",
   "execution_count": 216,
   "metadata": {},
   "outputs": [],
   "source": [
    "hipo_ova = pd.read_csv(os.path.join(datapath,'Screen/Hpo_Ova_Raw_All_Genes.csv'))\n"
   ]
  },
  {
   "cell_type": "code",
   "execution_count": 221,
   "metadata": {},
   "outputs": [
    {
     "data": {
      "text/plain": [
       "{'FBgn0000499',\n",
       " 'FBgn0003430',\n",
       " 'FBgn0003444',\n",
       " 'FBgn0003479',\n",
       " 'FBgn0005198',\n",
       " 'FBgn0015268',\n",
       " 'FBgn0015282',\n",
       " 'FBgn0015509',\n",
       " 'FBgn0020299',\n",
       " 'FBgn0024846',\n",
       " 'FBgn0025637',\n",
       " 'FBgn0031006',\n",
       " 'FBgn0031736',\n",
       " 'FBgn0035213',\n",
       " 'FBgn0037874',\n",
       " 'FBgn0038167',\n",
       " 'FBgn0043903',\n",
       " 'FBgn0259896',\n",
       " 'FBgn0260632',\n",
       " 'FBgn0261014',\n",
       " 'FBgn0261385',\n",
       " 'FBgn0262029',\n",
       " 'FBgn0263106',\n",
       " 'FBgn0286198'}"
      ]
     },
     "execution_count": 221,
     "metadata": {},
     "output_type": "execute_result"
    }
   ],
   "source": [
    "set.intersection(set(hipo_ova['FbID'].unique()), set(connectors['FbID'].unique()))"
   ]
  },
  {
   "cell_type": "code",
   "execution_count": 222,
   "metadata": {},
   "outputs": [
    {
     "data": {
      "text/plain": [
       "{'FBgn0000261',\n",
       " 'FBgn0000635',\n",
       " 'FBgn0003041',\n",
       " 'FBgn0010905',\n",
       " 'FBgn0011259',\n",
       " 'FBgn0011726',\n",
       " 'FBgn0015778',\n",
       " 'FBgn0016917',\n",
       " 'FBgn0020622',\n",
       " 'FBgn0028509',\n",
       " 'FBgn0032400',\n",
       " 'FBgn0039234',\n",
       " 'FBgn0039300',\n",
       " 'FBgn0086356',\n",
       " 'FBgn0086613',\n",
       " 'FBgn0267378'}"
      ]
     },
     "execution_count": 222,
     "metadata": {},
     "output_type": "execute_result"
    }
   ],
   "source": [
    "set.difference(set(connectors['FbID'].unique()), set(hipo_ova['FbID'].unique()))"
   ]
  },
  {
   "cell_type": "code",
   "execution_count": 238,
   "metadata": {},
   "outputs": [
    {
     "data": {
      "text/plain": [
       "{'FBgn0000635',\n",
       " 'FBgn0010905',\n",
       " 'FBgn0011259',\n",
       " 'FBgn0014179',\n",
       " 'FBgn0015774',\n",
       " 'FBgn0015778',\n",
       " 'FBgn0016917',\n",
       " 'FBgn0028509',\n",
       " 'FBgn0032400',\n",
       " 'FBgn0035640',\n",
       " 'FBgn0036790',\n",
       " 'FBgn0039234',\n",
       " 'FBgn0039300',\n",
       " 'FBgn0040929',\n",
       " 'FBgn0086356',\n",
       " 'FBgn0086613',\n",
       " 'FBgn0267378'}"
      ]
     },
     "execution_count": 238,
     "metadata": {},
     "output_type": "execute_result"
    }
   ],
   "source": [
    "set.difference(set(connectors['FbID'].unique()), set(hipo_ova['FbID'].unique()))"
   ]
  },
  {
   "cell_type": "code",
   "execution_count": 239,
   "metadata": {},
   "outputs": [],
   "source": [
    "A = {'FBgn0000261',\n",
    " 'FBgn0000635',\n",
    " 'FBgn0003041',\n",
    " 'FBgn0010905',\n",
    " 'FBgn0011259',\n",
    " 'FBgn0011726',\n",
    " 'FBgn0015778',\n",
    " 'FBgn0016917',\n",
    " 'FBgn0020622',\n",
    " 'FBgn0028509',\n",
    " 'FBgn0032400',\n",
    " 'FBgn0039234',\n",
    " 'FBgn0039300',\n",
    " 'FBgn0086356',\n",
    " 'FBgn0086613',\n",
    " 'FBgn0267378'}"
   ]
  },
  {
   "cell_type": "code",
   "execution_count": 240,
   "metadata": {},
   "outputs": [],
   "source": [
    "B = {'FBgn0000635',\n",
    " 'FBgn0010905',\n",
    " 'FBgn0011259',\n",
    " 'FBgn0014179',\n",
    " 'FBgn0015774',\n",
    " 'FBgn0015778',\n",
    " 'FBgn0016917',\n",
    " 'FBgn0028509',\n",
    " 'FBgn0032400',\n",
    " 'FBgn0035640',\n",
    " 'FBgn0036790',\n",
    " 'FBgn0039234',\n",
    " 'FBgn0039300',\n",
    " 'FBgn0040929',\n",
    " 'FBgn0086356',\n",
    " 'FBgn0086613',\n",
    " 'FBgn0267378'}"
   ]
  },
  {
   "cell_type": "code",
   "execution_count": 243,
   "metadata": {},
   "outputs": [
    {
     "data": {
      "text/plain": [
       "{'FBgn0000635',\n",
       " 'FBgn0010905',\n",
       " 'FBgn0011259',\n",
       " 'FBgn0015778',\n",
       " 'FBgn0016917',\n",
       " 'FBgn0028509',\n",
       " 'FBgn0032400',\n",
       " 'FBgn0039234',\n",
       " 'FBgn0039300',\n",
       " 'FBgn0086356',\n",
       " 'FBgn0086613',\n",
       " 'FBgn0267378'}"
      ]
     },
     "execution_count": 243,
     "metadata": {},
     "output_type": "execute_result"
    }
   ],
   "source": [
    "set.intersection(A, B)"
   ]
  },
  {
   "cell_type": "code",
   "execution_count": 244,
   "metadata": {},
   "outputs": [
    {
     "data": {
      "text/plain": [
       "{'FBgn0000261', 'FBgn0003041', 'FBgn0011726', 'FBgn0020622'}"
      ]
     },
     "execution_count": 244,
     "metadata": {},
     "output_type": "execute_result"
    }
   ],
   "source": [
    "set.difference(A, B)"
   ]
  },
  {
   "cell_type": "code",
   "execution_count": 245,
   "metadata": {},
   "outputs": [
    {
     "data": {
      "text/plain": [
       "{'FBgn0014179', 'FBgn0015774', 'FBgn0035640', 'FBgn0036790', 'FBgn0040929'}"
      ]
     },
     "execution_count": 245,
     "metadata": {},
     "output_type": "execute_result"
    }
   ],
   "source": [
    "set.difference(B, A)"
   ]
  },
  {
   "cell_type": "code",
   "execution_count": null,
   "metadata": {},
   "outputs": [],
   "source": []
  }
 ],
 "metadata": {
  "kernelspec": {
   "display_name": "Python 3",
   "language": "python",
   "name": "python3"
  },
  "language_info": {
   "codemirror_mode": {
    "name": "ipython",
    "version": 3
   },
   "file_extension": ".py",
   "mimetype": "text/x-python",
   "name": "python",
   "nbconvert_exporter": "python",
   "pygments_lexer": "ipython3",
   "version": "3.5.6"
  }
 },
 "nbformat": 4,
 "nbformat_minor": 2
}
