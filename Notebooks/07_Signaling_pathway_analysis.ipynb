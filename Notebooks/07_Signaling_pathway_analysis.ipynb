{
 "cells": [
  {
   "cell_type": "code",
   "execution_count": 1,
   "metadata": {},
   "outputs": [],
   "source": [
    "import networkx as nx\n",
    "import numpy as np\n",
    "import seaborn as sns\n",
    "import matplotlib.pyplot as plt\n",
    "import pandas as pd\n",
    "import os\n",
    "import progressbar\n",
    "from scipy import stats\n",
    "sns.set()\n",
    "\n",
    "%matplotlib inline"
   ]
  },
  {
   "cell_type": "markdown",
   "metadata": {},
   "source": [
    "# Define path and load files \n",
    "\n",
    "Accross the analysis the following names are used for the 3 screens\n",
    "- ova == Ovariole Number screen\n",
    "- fec == Hippo RNAi EggLaying screen\n",
    "- xRNAi == EggLaying screen"
   ]
  },
  {
   "cell_type": "code",
   "execution_count": 2,
   "metadata": {},
   "outputs": [],
   "source": [
    "data = \"../Data\"\n",
    "resultpath = '../Results'\n",
    "PPI_ID = \"2018_08\""
   ]
  },
  {
   "cell_type": "code",
   "execution_count": 3,
   "metadata": {},
   "outputs": [],
   "source": [
    "G = nx.read_graphml(os.path.join(data, 'PPIs', 'PPI_{}.graphml'.format(PPI_ID)))\n",
    "hipo_ova = pd.read_csv(os.path.join(data,'Screen/hipo_ova_clean.csv'))\n",
    "xRNAi_fec = pd.read_csv(os.path.join(data,'Screen/xRNAi_fec_clean.csv'))\n",
    "hipo_fec = pd.read_csv(os.path.join(data,'Screen/hipo_fec_clean.csv'))\n",
    "signaling = pd.read_csv(os.path.join(data,'signaling.csv'))\n",
    "connectors= pd.read_csv(os.path.join(resultpath,\"ConnectorGeneList_{}.csv\".format(PPI_ID)))"
   ]
  },
  {
   "cell_type": "code",
   "execution_count": 4,
   "metadata": {},
   "outputs": [],
   "source": [
    "mean_ova_gene = hipo_ova.groupby('FbID', as_index=False).mean()\n",
    "# We only consider the sum of eggs layed over 5 days, so we restrict the data to the \"Sum\"\n",
    "mean_fec_gene = hipo_fec[hipo_fec['Condition'] == 'Sum'].reset_index(drop=True).groupby('FbID', as_index=False).mean()\n",
    "mean_xRNAi_gene = xRNAi_fec[xRNAi_fec['Condition'] == 'Sum'].reset_index(drop=True).groupby('FbID', as_index=False).mean()"
   ]
  },
  {
   "cell_type": "code",
   "execution_count": 5,
   "metadata": {},
   "outputs": [],
   "source": [
    "# Here we select all the genes that were tested in the screen,\n",
    "# because the first screen was Hipo RNAi EggLaying measurement, this dataset contains all the tested genes\n",
    "screen_genes = mean_fec_gene['FbID'].values"
   ]
  },
  {
   "cell_type": "code",
   "execution_count": 6,
   "metadata": {},
   "outputs": [],
   "source": [
    "# Modules computed in the notebook file: Seed-Connector\n",
    "ova_module_G = nx.read_graphml(os.path.join(resultpath,'Ova_module_{}.graphml'.format(PPI_ID)))\n",
    "fec_module_G = nx.read_graphml(os.path.join(resultpath,'Hpo_EggL_module_{}.graphml'.format(PPI_ID)))\n",
    "xRNAi_module_G = nx.read_graphml(os.path.join(resultpath,'EggL_module_{}.graphml'.format(PPI_ID)))\n",
    "core_module_G = nx.read_graphml(os.path.join(resultpath,'Core_module_{}.graphml'.format(PPI_ID)))"
   ]
  },
  {
   "cell_type": "code",
   "execution_count": 7,
   "metadata": {},
   "outputs": [],
   "source": [
    "ova_module = ova_module_G.nodes()\n",
    "fec_module = fec_module_G.nodes()\n",
    "xRNAi_module = xRNAi_module_G.nodes()\n",
    "core_module = core_module_G.nodes()"
   ]
  },
  {
   "cell_type": "code",
   "execution_count": 8,
   "metadata": {},
   "outputs": [],
   "source": [
    "# Ovariole number screen\n",
    "mean_ova_gene = hipo_ova.groupby('FbID', as_index=False).mean()\n",
    "# Hippo RNAi Egg Laying screen\n",
    "mean_fec_gene = hipo_fec[hipo_fec['Condition'] == 'Sum'].groupby('FbID', as_index=False).mean()\n",
    "# Egg Laying Screen\n",
    "mean_xRNAi_gene = xRNAi_fec[xRNAi_fec['Condition'] == 'Sum'].groupby('FbID', as_index=False).mean()"
   ]
  },
  {
   "cell_type": "code",
   "execution_count": 9,
   "metadata": {},
   "outputs": [],
   "source": [
    "ova_threshold = 2\n",
    "eggl_threshold = 5"
   ]
  },
  {
   "cell_type": "code",
   "execution_count": 10,
   "metadata": {},
   "outputs": [],
   "source": [
    "# Ovariole number screen\n",
    "# Keep only genes with a Zscore over or equal to 2\n",
    "Zposneg_ova = mean_ova_gene[(mean_ova_gene['Z'].abs()>=ova_threshold)]['FbID'].values\n",
    "# Filter out the controls\n",
    "Zposneg_ova = [i for i in Zposneg_ova if 'FBgn' in i]\n",
    "\n",
    "# Hippo RNAi Egg Laying screen\n",
    "# Keep only genes with a Zscore over or equal to 5\n",
    "Zposneg_fec = mean_fec_gene[(mean_fec_gene['Z'].abs()>=eggl_threshold)]['FbID'].values\n",
    "# Filter out the controls\n",
    "Zposneg_fec = [i for i in Zposneg_fec if 'FBgn' in i]\n",
    "\n",
    "# Egg Laying Screen\n",
    "# Keep only genes with a Zscore over or equal to 5\n",
    "Zposneg_xRNAi = mean_xRNAi_gene[(mean_xRNAi_gene['Z'].abs()>=eggl_threshold)]['FbID'].values\n",
    "# Filter out the controls\n",
    "Zposneg_xRNAi = [i for i in Zposneg_xRNAi if 'FBgn' in i]"
   ]
  },
  {
   "cell_type": "markdown",
   "metadata": {},
   "source": [
    "## Making the Signaling Table breakdown"
   ]
  },
  {
   "cell_type": "code",
   "execution_count": 11,
   "metadata": {
    "scrolled": true
   },
   "outputs": [
    {
     "data": {
      "text/plain": [
       "Sig\n",
       "EGF          45\n",
       "FGF          25\n",
       "FOXO         67\n",
       "Hippo        60\n",
       "JAK/STAT     31\n",
       "JNK          28\n",
       "MAPK         29\n",
       "Notch        48\n",
       "SHH          54\n",
       "TGF B        52\n",
       "Toll         36\n",
       "VEGF         17\n",
       "Wnt         125\n",
       "mTOR         36\n",
       "Name: CG, dtype: int64"
      ]
     },
     "execution_count": 11,
     "metadata": {},
     "output_type": "execute_result"
    }
   ],
   "source": [
    "signaling.groupby('Sig').count()['CG']"
   ]
  },
  {
   "cell_type": "markdown",
   "metadata": {},
   "source": [
    "# Defining colors for signaling pathways"
   ]
  },
  {
   "cell_type": "code",
   "execution_count": 12,
   "metadata": {},
   "outputs": [],
   "source": [
    "colors14 = [(0.89411764705882357, 0.10196078431372549, 0.10980392156862745),\n",
    " (0.21568627450980393, 0.49411764705882355, 0.72156862745098038),\n",
    " (0.30196078431372547, 0.68627450980392157, 0.29019607843137257),\n",
    " (0.9882352941176471, 0.55294117647058827, 0.3843137254901961),\n",
    " (0.59607843137254901, 0.30588235294117649, 0.63921568627450975),\n",
    " (1.0, 0.49803921568627452, 0.0),\n",
    " (1.0, 1.0, 0.20000000000000001),\n",
    " (0.65098039215686276, 0.33725490196078434, 0.15686274509803921),\n",
    " (0.96862745098039216, 0.50588235294117645, 0.74901960784313726),\n",
    " (0.40000000000000002, 0.76078431372549016, 0.6470588235294118),\n",
    " (0.55294117647058827, 0.62745098039215685, 0.79607843137254897),\n",
    " (0.90588235294117647, 0.54117647058823526, 0.76470588235294112),\n",
    " (0.65098039215686276, 0.84705882352941175, 0.32941176470588235),\n",
    " (1.0, 0.85098039215686272, 0.18431372549019609)]\n",
    "\n",
    "sig = ['FGF', 'VEGF', 'Toll', 'JNK', 'EGF', 'mTOR', 'FOXO', 'SHH', 'Hippo',\n",
    "       'JAK/STAT', 'Wnt', 'Notch', 'TGF B', 'MAPK']\n",
    "colormap = {}\n",
    "for i in range(len(sig)):\n",
    "    colormap[sig[i]] = colors14[i]\n",
    "colormap['None'] = (0.5,0.5,0.5)"
   ]
  },
  {
   "cell_type": "markdown",
   "metadata": {},
   "source": [
    "# Calculating the signaling pathway enrichment per module"
   ]
  },
  {
   "cell_type": "markdown",
   "metadata": {},
   "source": [
    "## Calculating the enrichment with Bootstrap and distance to null distribution"
   ]
  },
  {
   "cell_type": "code",
   "execution_count": 13,
   "metadata": {},
   "outputs": [],
   "source": [
    "# order = signaling['Sig'].unique()\n",
    "order = ['Toll', 'MAPK', 'Wnt', 'FGF', 'VEGF', 'EGF', 'JNK', 'TGF B',\n",
    "       'Hippo', 'FOXO', 'JAK/STAT', 'mTOR', 'Notch', 'SHH']"
   ]
  },
  {
   "cell_type": "code",
   "execution_count": 14,
   "metadata": {},
   "outputs": [],
   "source": [
    "def Calculate_Bootsrap_Probability(n_gene, sigs, n_bootstrap=1000, base=screen_genes):\n",
    "    \"This function calculate the probability of n genes to have m member of a signaling pathway sig\"\n",
    "    distribution = {}\n",
    "    probability = {}\n",
    "    for sig in sigs:\n",
    "        distribution[sig] = []\n",
    "        probability[sig] = []\n",
    "    for i in progressbar.progressbar(range(n_bootstrap)):\n",
    "        seed = np.random.choice(base, n_gene)\n",
    "        sig_counts = signaling[signaling['FbID'].isin(seed)].groupby('Sig',as_index=False).count()\n",
    "        for j in range(len(sig_counts)):\n",
    "            sig = sig_counts['Sig'][j]\n",
    "            count = sig_counts['CG'][j]\n",
    "            distribution[sig].append(count)\n",
    "    for sig in distribution:\n",
    "        distribution[sig] = np.array(distribution[sig])\n",
    "        probability[sig] = np.histogram(distribution[sig], bins=range(0, distribution[sig].max()+10), density=True)[0]\n",
    "    return distribution, probability"
   ]
  },
  {
   "cell_type": "code",
   "execution_count": 15,
   "metadata": {},
   "outputs": [],
   "source": [
    "boostrapnb = 10000"
   ]
  },
  {
   "cell_type": "code",
   "execution_count": 16,
   "metadata": {},
   "outputs": [
    {
     "name": "stderr",
     "output_type": "stream",
     "text": [
      "  0% (18 of 10000) |                     | Elapsed Time: 0:00:00 ETA:   0:00:55"
     ]
    },
    {
     "name": "stdout",
     "output_type": "stream",
     "text": [
      "Calculating Module: Ovariole\n"
     ]
    },
    {
     "name": "stderr",
     "output_type": "stream",
     "text": [
      "100% (10000 of 10000) |##################| Elapsed Time: 0:01:14 Time:  0:01:14\n",
      "  0% (16 of 10000) |                     | Elapsed Time: 0:00:00 ETA:   0:01:04"
     ]
    },
    {
     "name": "stdout",
     "output_type": "stream",
     "text": [
      "Calculating Module: Hippo RNAi EggLaying\n"
     ]
    },
    {
     "name": "stderr",
     "output_type": "stream",
     "text": [
      "100% (10000 of 10000) |##################| Elapsed Time: 0:01:20 Time:  0:01:20\n",
      "  0% (22 of 10000) |                     | Elapsed Time: 0:00:00 ETA:   0:00:47"
     ]
    },
    {
     "name": "stdout",
     "output_type": "stream",
     "text": [
      "Calculating Module: EggLaying\n"
     ]
    },
    {
     "name": "stderr",
     "output_type": "stream",
     "text": [
      "100% (10000 of 10000) |##################| Elapsed Time: 0:01:11 Time:  0:01:11\n",
      "  0% (16 of 10000) |                     | Elapsed Time: 0:00:00 ETA:   0:01:06"
     ]
    },
    {
     "name": "stdout",
     "output_type": "stream",
     "text": [
      "Calculating Module: Core\n"
     ]
    },
    {
     "name": "stderr",
     "output_type": "stream",
     "text": [
      "100% (10000 of 10000) |##################| Elapsed Time: 0:01:04 Time:  0:01:04\n"
     ]
    }
   ],
   "source": [
    "# Define our result list\n",
    "enrichment = []\n",
    "# Define our 4 modules\n",
    "modules = {'Ovariole':ova_module, \"Hippo RNAi EggLaying\":fec_module, \"EggLaying\":xRNAi_module, \"Core\":core_module}\n",
    "# Iterate over all modules\n",
    "for module in modules:\n",
    "    print(\"Calculating Module:\", module)\n",
    "    # Calculate the random distribution of signaling networks\n",
    "    dist, prob = Calculate_Bootsrap_Probability(len(modules[module]), signaling['Sig'].unique(), n_bootstrap=boostrapnb)\n",
    "    module_counts = signaling[signaling['FbID'].isin(modules[module])].groupby('Sig',as_index=False).count()\n",
    "    for sig in module_counts['Sig'].unique():\n",
    "        c = module_counts[module_counts['Sig'] == sig]['CG'].values[0]\n",
    "        Z = (c - np.mean(dist[sig])) / np.std(dist[sig])\n",
    "        p = prob[sig][c]\n",
    "        enrichment.append([module, sig, Z, p])\n",
    "enrichment = pd.DataFrame(enrichment, columns=['Module','Pathway','Z_enrichment', 'Probability'])\n",
    "toadd = []\n",
    "for module in modules:\n",
    "    for sig in signaling['Sig'].unique():\n",
    "        if sig not in enrichment[enrichment['Module'] == module]['Pathway'].values:\n",
    "            Z = (0 - np.mean(dist[sig])) / np.std(dist[sig])\n",
    "            p = prob[sig][c]\n",
    "            toadd.append([module,sig,Z, p])\n",
    "toadd = pd.DataFrame(toadd, columns=['Module','Pathway','Z_enrichment', 'Probability'])\n",
    "enrichment = enrichment.append(toadd)"
   ]
  },
  {
   "cell_type": "code",
   "execution_count": 17,
   "metadata": {
    "scrolled": true
   },
   "outputs": [
    {
     "data": {
      "image/png": "[encoded data removed]",
      "text/plain": [
       "<Figure size 864x288 with 4 Axes>"
      ]
     },
     "metadata": {
      "needs_background": "light"
     },
     "output_type": "display_data"
    }
   ],
   "source": [
    "fig = plt.figure(figsize=(12,4))\n",
    "i = 1\n",
    "colors = []\n",
    "for s in order:\n",
    "    colors.append(colormap[s])\n",
    "for module in modules:\n",
    "    ax = fig.add_subplot(1,4,i)\n",
    "    sns.barplot(data=enrichment[enrichment['Module'] == module], y='Pathway', x='Z_enrichment', palette=colors, order=order)\n",
    "    plt.plot([0,0], [ax.get_xlim()[0]+3,ax.get_xlim()[1]], 'r--', alpha = 0.3)\n",
    "    plt.title(module)\n",
    "    if i != 1:\n",
    "        plt.yticks([])\n",
    "        plt.ylabel(\"\")\n",
    "    plt.xlim(-4,4)\n",
    "    i+=1\n",
    "fig.savefig(os.path.join(resultpath, 'Figures/Signaling_enrichment_modules_bootstrap_zscore.svg'))"
   ]
  },
  {
   "cell_type": "markdown",
   "metadata": {},
   "source": [
    "## Calculating enrichment with HyperGeometric p-value \n",
    "from http://pedagogix-tagc.univ-mrs.fr/courses/ASG1/practicals/go_statistics_td/go_statistics_td_2015.html\n",
    "and https://blog.alexlenail.me/understanding-and-implementing-the-hypergeometric-test-in-python-a7db688a7458"
   ]
  },
  {
   "cell_type": "code",
   "execution_count": 18,
   "metadata": {},
   "outputs": [],
   "source": [
    "from scipy.stats import hypergeom"
   ]
  },
  {
   "cell_type": "code",
   "execution_count": 19,
   "metadata": {},
   "outputs": [],
   "source": [
    "def CalculateHyperGeometricProbability(geneset, sigs, base=screen_genes):\n",
    "    k = len(geneset) ## Size of the selection\n",
    "    N = len(base) ## Total number of genes.\n",
    "    proba = {}\n",
    "    values = {}\n",
    "    res = []\n",
    "    for sig in sigs:\n",
    "        # Number of \"marked\" elements, i.e. genes associated to this signaling pathway\n",
    "        m = len(signaling[(signaling['FbID'].isin(base)) & (signaling['Sig'] == sig)]) \n",
    "        # Number of \"non-marked\" elements, i.e. genes not associated to this biological process\n",
    "        n = N - m \n",
    "        # Number of \"marked\" elements in the selection, i.e. genes of the group of interest that are associated to this biological process\n",
    "        x = len(signaling[(signaling['FbID'].isin(geneset)) & (signaling['Sig'] == sig)]) \n",
    "        # Calculate the Fold Enrichment\n",
    "        fold_enrichment =  (x / k ) / (m / N)\n",
    "        # Generate the PDF for each Hyper Geometric distributions\n",
    "        X = np.arange(0, min(k, m))\n",
    "        H = stats.hypergeom(n, m, k)\n",
    "        p = H.pmf(X)\n",
    "        \n",
    "        proba[sig] = p\n",
    "        values[sig] = x\n",
    "        pval = H.sf(x-1)\n",
    "        res.append([sig, fold_enrichment, pval])\n",
    "    enrichment = pd.DataFrame(res, columns=['Pathway', 'Fold Enrichment', 'p-value'])\n",
    "    return proba, values, enrichment"
   ]
  },
  {
   "cell_type": "code",
   "execution_count": 20,
   "metadata": {
    "scrolled": true
   },
   "outputs": [],
   "source": [
    "# Uncomment this code to see the hypergeometric distribution and the x value on each\n",
    "\n",
    "\n",
    "# fig = plt.figure(figsize=(15,20))\n",
    "# for module in modules:\n",
    "#     genes = modules[module]\n",
    "#     proba, values, enrichment = CalculateHyperGeometricProbability(genes, signaling['Sig'].unique())\n",
    "#     i = 1\n",
    "#     for sig in signaling['Sig'].unique():\n",
    "#         ax = fig.add_subplot(5,3,i)\n",
    "#         plt.plot(proba[sig])\n",
    "#         plt.plot([values[sig]], [proba[sig][values[sig]]], 'ro')\n",
    "#         plt.title(\"{}\".format(sig))\n",
    "#         i += 1"
   ]
  },
  {
   "cell_type": "code",
   "execution_count": 21,
   "metadata": {},
   "outputs": [
    {
     "name": "stdout",
     "output_type": "stream",
     "text": [
      "Ovariole\n",
      "     Pathway  Fold Enrichment   p-value\n",
      "0        FGF         0.482078  0.953654\n",
      "1       VEGF         0.354469  0.962335\n",
      "2       Toll         0.354469  0.991719\n",
      "3        JNK         1.115921  0.533265\n",
      "4        EGF         0.669553  0.944975\n",
      "5       mTOR         1.506494  0.177411\n",
      "6       FOXO         1.019780  0.754677\n",
      "7        SHH         1.536033  0.126728\n",
      "8      Hippo         0.817081  0.913126\n",
      "9   JAK/STAT         1.205195  0.446641\n",
      "10       Wnt         0.642112  0.999988\n",
      "11     Notch         1.538547  0.131320\n",
      "12     TGF B         1.158841  0.521111\n",
      "13      MAPK         0.415584  0.977869\n",
      "Hippo RNAi EggLaying\n",
      "     Pathway  Fold Enrichment   p-value\n",
      "0        FGF         0.488421  0.950899\n",
      "1       VEGF         1.077399  0.574742\n",
      "2       Toll         0.538700  0.960100\n",
      "3        JNK         0.678363  0.880050\n",
      "4        EGF         0.542690  0.979375\n",
      "5       mTOR         1.356725  0.296469\n",
      "6       FOXO         0.845344  0.913667\n",
      "7        SHH         1.316821  0.324586\n",
      "8      Hippo         1.138269  0.571372\n",
      "9   JAK/STAT         1.831579  0.059149\n",
      "10       Wnt         0.600518  0.999996\n",
      "11     Notch         1.298992  0.343628\n",
      "12     TGF B         0.704453  0.947715\n",
      "13      MAPK         0.631579  0.910977\n",
      "EggLaying\n",
      "     Pathway  Fold Enrichment   p-value\n",
      "0        FGF         0.618667  0.881553\n",
      "1       VEGF         0.454902  0.917811\n",
      "2       Toll         0.000000  1.000000\n",
      "3        JNK         1.145679  0.522336\n",
      "4        EGF         0.515556  0.972152\n",
      "5       mTOR         1.288889  0.391671\n",
      "6       FOXO         1.189744  0.529437\n",
      "7        SHH         2.122876  0.007507\n",
      "8      Hippo         1.179661  0.524691\n",
      "9   JAK/STAT         1.546667  0.221234\n",
      "10       Wnt         0.824044  0.996762\n",
      "11     Notch         1.316312  0.358916\n",
      "12     TGF B         0.892308  0.805839\n",
      "13      MAPK         0.533333  0.930526\n",
      "Core\n",
      "     Pathway  Fold Enrichment   p-value\n",
      "0        FGF         0.501622  0.896340\n",
      "1       VEGF         0.737679  0.776201\n",
      "2       Toll         0.000000  1.000000\n",
      "3        JNK         0.928929  0.688312\n",
      "4        EGF         0.557357  0.927800\n",
      "5       mTOR         1.393393  0.379040\n",
      "6       FOXO         0.964657  0.755210\n",
      "7        SHH         2.213037  0.026385\n",
      "8      Hippo         0.850206  0.820615\n",
      "9   JAK/STAT         2.090090  0.100072\n",
      "10       Wnt         0.822331  0.983681\n",
      "11     Notch         1.600920  0.225888\n",
      "12     TGF B         0.964657  0.715652\n",
      "13      MAPK         0.864865  0.729613\n"
     ]
    },
    {
     "data": {
      "image/png": "[encoded data removed]",
      "text/plain": [
       "<Figure size 864x288 with 4 Axes>"
      ]
     },
     "metadata": {
      "needs_background": "light"
     },
     "output_type": "display_data"
    }
   ],
   "source": [
    "# Define our 4 modules\n",
    "modules = {'Ovariole':ova_module, \"Hippo RNAi EggLaying\":fec_module, \"EggLaying\":xRNAi_module, \"Core\":core_module}\n",
    "fig = plt.figure(figsize=(12,4))\n",
    "i = 1\n",
    "for module in modules:\n",
    "    genes = modules[module]\n",
    "    colors = []\n",
    "    proba, values, enrichment = CalculateHyperGeometricProbability(genes, signaling['Sig'].unique())\n",
    "    print(module)\n",
    "    print(enrichment)\n",
    "    for s in order:\n",
    "        if enrichment[enrichment['Pathway'] == s]['p-value'].values[0] < 0.05:\n",
    "            colors.append(colormap[s])\n",
    "        else:\n",
    "            colors.append((0.2,0.2,0.2))\n",
    "    ax = fig.add_subplot(1,4,i)\n",
    "    plt.plot([1,1],[-20, 20], 'r--', alpha=0.3)\n",
    "    sns.barplot(data=enrichment, y='Pathway', x='Fold Enrichment', palette=colors, order=order)\n",
    "    \n",
    "    plt.title(module)\n",
    "    if i != 1:\n",
    "        plt.yticks([])\n",
    "        plt.ylabel(\"\")\n",
    "    plt.xlim(0,2.5)\n",
    "    i+=1\n",
    "fig.savefig(os.path.join(resultpath, 'Figures/Signaling_enrichment_modules_HyperGeometric.svg'))"
   ]
  },
  {
   "cell_type": "markdown",
   "metadata": {},
   "source": [
    "# Re doing the analysis but with the seeds instead"
   ]
  },
  {
   "cell_type": "markdown",
   "metadata": {},
   "source": [
    "## Bootstrap analysis"
   ]
  },
  {
   "cell_type": "code",
   "execution_count": 22,
   "metadata": {},
   "outputs": [],
   "source": [
    "modules = {'Ovariole':Zposneg_ova, \"Hippo RNAi EggLaying\":Zposneg_fec, \"EggLaying\":Zposneg_xRNAi}"
   ]
  },
  {
   "cell_type": "code",
   "execution_count": 23,
   "metadata": {},
   "outputs": [
    {
     "name": "stderr",
     "output_type": "stream",
     "text": [
      "  0% (19 of 10000) |                     | Elapsed Time: 0:00:00 ETA:   0:01:47"
     ]
    },
    {
     "name": "stdout",
     "output_type": "stream",
     "text": [
      "Calculating Module: Ovariole\n"
     ]
    },
    {
     "name": "stderr",
     "output_type": "stream",
     "text": [
      "100% (10000 of 10000) |##################| Elapsed Time: 0:01:16 Time:  0:01:16\n",
      "  0% (11 of 10000) |                     | Elapsed Time: 0:00:00 ETA:   0:01:42"
     ]
    },
    {
     "name": "stdout",
     "output_type": "stream",
     "text": [
      "Calculating Module: Hippo RNAi EggLaying\n"
     ]
    },
    {
     "name": "stderr",
     "output_type": "stream",
     "text": [
      "100% (10000 of 10000) |##################| Elapsed Time: 0:01:09 Time:  0:01:09\n",
      "  0% (26 of 10000) |                     | Elapsed Time: 0:00:00 ETA:   0:00:38"
     ]
    },
    {
     "name": "stdout",
     "output_type": "stream",
     "text": [
      "Calculating Module: EggLaying\n"
     ]
    },
    {
     "name": "stderr",
     "output_type": "stream",
     "text": [
      "100% (10000 of 10000) |##################| Elapsed Time: 0:01:13 Time:  0:01:13\n"
     ]
    }
   ],
   "source": [
    "# Define our result list\n",
    "enrichment = []\n",
    "# Iterate over all modules\n",
    "for module in modules:\n",
    "    print(\"Calculating Module:\", module)\n",
    "    # Calculate the random distribution of signaling networks\n",
    "    dist, prob = Calculate_Bootsrap_Probability(len(modules[module]), signaling['Sig'].unique(), n_bootstrap=boostrapnb)\n",
    "    module_counts = signaling[signaling['FbID'].isin(modules[module])].groupby('Sig',as_index=False).count()\n",
    "    for sig in module_counts['Sig'].unique():\n",
    "        c = module_counts[module_counts['Sig'] == sig]['CG'].values[0]\n",
    "        Z = (c - np.mean(dist[sig])) / np.std(dist[sig])\n",
    "        p = prob[sig][c]\n",
    "        enrichment.append([module, sig, Z, p])\n",
    "enrichment = pd.DataFrame(enrichment, columns=['Module','Pathway','Z_enrichment', 'Probability'])\n",
    "toadd = []\n",
    "for module in modules:\n",
    "    for sig in signaling['Sig'].unique():\n",
    "        if sig not in enrichment[enrichment['Module'] == module]['Pathway'].values:\n",
    "            Z = (0 - np.mean(dist[sig])) / np.std(dist[sig])\n",
    "            p = prob[sig][c]\n",
    "            toadd.append([module,sig,Z, p])\n",
    "toadd = pd.DataFrame(toadd, columns=['Module','Pathway','Z_enrichment', 'Probability'])\n",
    "enrichment = enrichment.append(toadd)"
   ]
  },
  {
   "cell_type": "code",
   "execution_count": 24,
   "metadata": {},
   "outputs": [
    {
     "data": {
      "image/png": "[encoded data removed]",
      "text/plain": [
       "<Figure size 576x288 with 3 Axes>"
      ]
     },
     "metadata": {
      "needs_background": "light"
     },
     "output_type": "display_data"
    }
   ],
   "source": [
    "fig = plt.figure(figsize=(8,4))\n",
    "i = 1\n",
    "colors = []\n",
    "for s in order:\n",
    "    colors.append(colormap[s])\n",
    "for module in modules:\n",
    "    ax = fig.add_subplot(1,3,i)\n",
    "    sns.barplot(data=enrichment[enrichment['Module'] == module], y='Pathway', x='Z_enrichment', palette=colors, order=order)\n",
    "    plt.plot([0,0], [ax.get_xlim()[0]+3,ax.get_xlim()[1]], 'r--', alpha = 0.3)\n",
    "    plt.title(module)\n",
    "    if i != 1:\n",
    "        plt.yticks([])\n",
    "        plt.ylabel(\"\")\n",
    "    plt.xlim(-4,4)\n",
    "    i+=1\n",
    "fig.savefig(os.path.join(resultpath, 'Figures/Signaling_enrichment_bootstrap_zscore.svg'))"
   ]
  },
  {
   "cell_type": "markdown",
   "metadata": {},
   "source": [
    "## HyperGeometric"
   ]
  },
  {
   "cell_type": "code",
   "execution_count": 25,
   "metadata": {
    "scrolled": false
   },
   "outputs": [
    {
     "name": "stdout",
     "output_type": "stream",
     "text": [
      "Ovariole\n",
      "     Pathway  Fold Enrichment   p-value\n",
      "0        FGF         0.554030  0.918595\n",
      "1       VEGF         0.407375  0.940138\n",
      "2       Toll         0.407375  0.980690\n",
      "3        JNK         1.282477  0.400195\n",
      "4        EGF         0.769486  0.880775\n",
      "5       mTOR         1.731343  0.089538\n",
      "6       FOXO         1.171986  0.549038\n",
      "7        SHH         1.765291  0.048139\n",
      "8      Hippo         0.939034  0.801955\n",
      "9   JAK/STAT         1.385075  0.310034\n",
      "10       Wnt         0.624419  0.999968\n",
      "11     Notch         1.915529  0.023055\n",
      "12     TGF B         1.331803  0.327425\n",
      "13      MAPK         0.477612  0.956055\n",
      "Hippo RNAi EggLaying\n",
      "     Pathway  Fold Enrichment   p-value\n",
      "0        FGF         0.314576  0.975736\n",
      "1       VEGF         0.925224  0.682291\n",
      "2       Toll         0.462612  0.963160\n",
      "3        JNK         0.873823  0.734567\n",
      "4        EGF         0.524294  0.969281\n",
      "5       mTOR         1.747646  0.103939\n",
      "6       FOXO         0.846936  0.885810\n",
      "7        SHH         1.696245  0.088800\n",
      "8      Hippo         1.332950  0.348259\n",
      "9   JAK/STAT         1.572881  0.209409\n",
      "10       Wnt         0.838011  0.995704\n",
      "11     Notch         1.505950  0.201530\n",
      "12     TGF B         0.907432  0.791517\n",
      "13      MAPK         0.271186  0.987483\n",
      "EggLaying\n",
      "     Pathway  Fold Enrichment   p-value\n",
      "0        FGF         0.757551  0.793766\n",
      "1       VEGF         0.557023  0.866316\n",
      "2       Toll         0.000000  1.000000\n",
      "3        JNK         1.052154  0.603431\n",
      "4        EGF         0.631293  0.921707\n",
      "5       mTOR         1.315193  0.396102\n",
      "6       FOXO         1.311146  0.402399\n",
      "7        SHH         2.228091  0.009266\n",
      "8      Hippo         1.283985  0.423029\n",
      "9   JAK/STAT         1.893878  0.107681\n",
      "10       Wnt         0.776179  0.996135\n",
      "11     Notch         1.611811  0.169034\n",
      "12     TGF B         0.910518  0.774271\n",
      "13      MAPK         0.653061  0.862862\n"
     ]
    },
    {
     "data": {
      "image/png": "[encoded data removed]",
      "text/plain": [
       "<Figure size 576x288 with 3 Axes>"
      ]
     },
     "metadata": {
      "needs_background": "light"
     },
     "output_type": "display_data"
    }
   ],
   "source": [
    "# Define our 4 modules\n",
    "fig = plt.figure(figsize=(8,4))\n",
    "i = 1\n",
    "for module in modules:\n",
    "    genes = modules[module]\n",
    "    colors = []\n",
    "    proba, values, enrichment = CalculateHyperGeometricProbability(genes, signaling['Sig'].unique())\n",
    "    print(module)\n",
    "    print(enrichment)\n",
    "    for s in order:\n",
    "        if enrichment[enrichment['Pathway'] == s]['p-value'].values[0] < 0.05:\n",
    "            colors.append(colormap[s])\n",
    "        else:\n",
    "            colors.append((0.2,0.2,0.2))\n",
    "    ax = fig.add_subplot(1,3,i)\n",
    "    plt.plot([1,1],[-20, 20], 'r--', alpha=0.3)\n",
    "    sns.barplot(data=enrichment, y='Pathway', x='Fold Enrichment', palette=colors, order=order)\n",
    "    \n",
    "    plt.title(module)\n",
    "    if i != 1:\n",
    "        plt.yticks([])\n",
    "        plt.ylabel(\"\")\n",
    "    plt.xlim(0,2.5)\n",
    "    i+=1\n",
    "fig.savefig(os.path.join(resultpath, 'Figures/Signaling_enrichment_HyperGeometric.svg'))"
   ]
  },
  {
   "cell_type": "markdown",
   "metadata": {},
   "source": [
    "## Rerunning the analysis with only the 273 candiate post first screen"
   ]
  },
  {
   "cell_type": "code",
   "execution_count": 26,
   "metadata": {},
   "outputs": [
    {
     "ename": "AssertionError",
     "evalue": "",
     "output_type": "error",
     "traceback": [
      "\u001b[0;31m---------------------------------------------------------------------------\u001b[0m",
      "\u001b[0;31mAssertionError\u001b[0m                            Traceback (most recent call last)",
      "\u001b[0;32m<ipython-input-26-10a11260a827>\u001b[0m in \u001b[0;36m<module>\u001b[0;34m()\u001b[0m\n\u001b[0;32m----> 1\u001b[0;31m \u001b[0;32massert\u001b[0m\u001b[0;34m(\u001b[0m\u001b[0mlen\u001b[0m\u001b[0;34m(\u001b[0m\u001b[0mmean_ova_gene\u001b[0m\u001b[0;34m[\u001b[0m\u001b[0;34m'FbID'\u001b[0m\u001b[0;34m]\u001b[0m\u001b[0;34m.\u001b[0m\u001b[0munique\u001b[0m\u001b[0;34m(\u001b[0m\u001b[0;34m)\u001b[0m\u001b[0;34m)\u001b[0m \u001b[0;34m==\u001b[0m \u001b[0;36m273\u001b[0m\u001b[0;34m)\u001b[0m\u001b[0;34m\u001b[0m\u001b[0;34m\u001b[0m\u001b[0m\n\u001b[0m",
      "\u001b[0;31mAssertionError\u001b[0m: "
     ]
    }
   ],
   "source": [
    "assert(len(mean_ova_gene['FbID'].unique()) == 273)"
   ]
  },
  {
   "cell_type": "code",
   "execution_count": null,
   "metadata": {},
   "outputs": [],
   "source": [
    "modules = {'Ovariole':Zposneg_ova, 'Selected Candidates':mean_ova_gene['FbID'].unique(), \"EggLaying\":Zposneg_xRNAi}"
   ]
  },
  {
   "cell_type": "markdown",
   "metadata": {},
   "source": [
    "### Bootstrap analysis"
   ]
  },
  {
   "cell_type": "code",
   "execution_count": null,
   "metadata": {},
   "outputs": [],
   "source": [
    "module = \"Selected Candidates\""
   ]
  },
  {
   "cell_type": "code",
   "execution_count": null,
   "metadata": {},
   "outputs": [],
   "source": [
    "module_counts = signaling[signaling['FbID'].isin(modules[module])].groupby('Sig',as_index=False).count()"
   ]
  },
  {
   "cell_type": "code",
   "execution_count": null,
   "metadata": {},
   "outputs": [],
   "source": [
    "# Define our 4 modules\n",
    "fig = plt.figure(figsize=(12,4))\n",
    "i = 1\n",
    "for module in modules:\n",
    "    genes = modules[module]\n",
    "    colors = []\n",
    "    if module != \"Selected Candidates\":\n",
    "        proba, values, enrichment = CalculateHyperGeometricProbability(genes, signaling['Sig'].unique(), base=mean_ova_gene['FbID'].unique())\n",
    "    else:\n",
    "        proba, values, enrichment = CalculateHyperGeometricProbability(genes, signaling['Sig'].unique())\n",
    "    print(module)\n",
    "    print(enrichment)\n",
    "    for s in order:\n",
    "        if enrichment[enrichment['Pathway'] == s]['p-value'].values[0] < 0.05:\n",
    "            colors.append(colormap[s])\n",
    "        else:\n",
    "            colors.append((0.2,0.2,0.2))\n",
    "    ax = fig.add_subplot(1,3,i)\n",
    "    plt.plot([1,1],[-20, 20], 'r--', alpha=0.3)\n",
    "    sns.barplot(data=enrichment, y='Pathway', x='Fold Enrichment', palette=colors, order=order)\n",
    "    \n",
    "    plt.title(module)\n",
    "    if i != 1:\n",
    "        plt.yticks([])\n",
    "        plt.ylabel(\"\")\n",
    "    plt.xlim(0,2.5)\n",
    "    i+=1\n",
    "fig.savefig(os.path.join(resultpath, 'Figures/Signaling_enrichment_HyperGeometric_Normed.svg'))"
   ]
  },
  {
   "cell_type": "markdown",
   "metadata": {},
   "source": [
    "# Epistasy between pathways and Hippo analysis"
   ]
  },
  {
   "cell_type": "code",
   "execution_count": null,
   "metadata": {},
   "outputs": [],
   "source": [
    "fig = plt.figure(figsize=(10,17))\n",
    "i = 1\n",
    "for sig in signaling['Sig'].unique():\n",
    "    ax = fig.add_subplot(5,3,i)\n",
    "    color = colormap[sig]\n",
    "    # Select the genes that belong to signaling pathway sig, and are in xRNAi\n",
    "    xRNAi = mean_xRNAi_gene[mean_xRNAi_gene['FbID'].isin(signaling[signaling['Sig'] == sig]['FbID'].values)]['Z'].values\n",
    "    # Select the genes that are common to xRNAi and are member of sig\n",
    "    fec = mean_fec_gene[mean_fec_gene['FbID'].isin(mean_xRNAi_gene[mean_xRNAi_gene['FbID'].isin(signaling[signaling['Sig'] == sig]['FbID'].values)]['FbID'].values)]['Z'].values\n",
    "    \n",
    "    # Plot the Kernel density estimate\n",
    "    ax = sns.kdeplot(xRNAi, fec, n_levels=2)\n",
    "    # Needed to make the color right because seaborn just can't handle it somehow ...\n",
    "    l = ax.get_children()[0]\n",
    "    l.set_color(colormap[sig])\n",
    "    l = ax.get_children()[1]\n",
    "    l.set_color(colormap[sig])\n",
    "    \n",
    "    # Plot the scatter plot of each datapoint \n",
    "    color = colormap[sig]\n",
    "    ax.scatter(xRNAi, fec, c=color, alpha=0.7, label=sig)\n",
    "    ax.plot([-15,15],[-15,15],'r--', alpha=0.3)\n",
    "    if i == 7:\n",
    "        ax.set_ylabel('Hippo RNAi Egg Laying Zscore')\n",
    "    if i == 14:\n",
    "        ax.set_xlabel('Egg Laying Zscore')\n",
    "    ax.set_title(sig)\n",
    "    i += 1\n",
    "    plt.xlim(-12,12)\n",
    "    plt.ylim(-12,12)\n",
    "fig.savefig(os.path.join(resultpath, 'Figures/HippoEpistasy_Signaling_KDE.svg'))"
   ]
  },
  {
   "cell_type": "code",
   "execution_count": null,
   "metadata": {},
   "outputs": [],
   "source": [
    "fig.savefig(os.path.join(resultpath, 'Figures/HippoEpistasy_Signaling_KDE.svg'))"
   ]
  }
 ],
 "metadata": {
  "kernelspec": {
   "display_name": "Python 3",
   "language": "python",
   "name": "python3"
  },
  "language_info": {
   "codemirror_mode": {
    "name": "ipython",
    "version": 3
   },
   "file_extension": ".py",
   "mimetype": "text/x-python",
   "name": "python",
   "nbconvert_exporter": "python",
   "pygments_lexer": "ipython3",
   "version": "3.7.3"
  }
 },
 "nbformat": 4,
 "nbformat_minor": 2
}
