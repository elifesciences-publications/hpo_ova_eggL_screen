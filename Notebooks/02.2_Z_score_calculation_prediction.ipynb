{
 "cells": [
  {
   "cell_type": "code",
   "execution_count": 1,
   "metadata": {},
   "outputs": [],
   "source": [
    "import seaborn as sns\n",
    "sns.set()\n",
    "import matplotlib.pyplot as plt\n",
    "import pandas as pd\n",
    "import numpy as np\n",
    "from scipy import stats\n",
    "import re\n",
    "import os\n",
    "%matplotlib inline"
   ]
  },
  {
   "cell_type": "markdown",
   "metadata": {},
   "source": [
    "# Define paths\n",
    "\n",
    "Accross the analysis the following names are used for the 3 screens\n",
    "- ova == Hippo RNAi Ovariole Number screen\n",
    "- fec == Hippo RNAi EggLaying screen\n",
    "- xRNAi == EggLaying screen"
   ]
  },
  {
   "cell_type": "code",
   "execution_count": 2,
   "metadata": {},
   "outputs": [],
   "source": [
    "# Define the path where all the primary data are\n",
    "\n",
    "data = '../Data/'\n",
    "\n",
    "# Result path containing all the results from the analysisi\n",
    "resultpath = '../Results/'"
   ]
  },
  {
   "cell_type": "markdown",
   "metadata": {},
   "source": [
    "# Load the datasets"
   ]
  },
  {
   "cell_type": "code",
   "execution_count": 3,
   "metadata": {},
   "outputs": [],
   "source": [
    "# Loading the raw data for the 3 screens\n",
    "# HippoRNAi EggLaying\n",
    "hipo_fec = pd.read_csv(os.path.join(data,'Screen', 'Raw', 'Raw_EggLaying_HpoRNAi_Pred.csv'))\n",
    "# HippoRNAi Ovariole Number\n",
    "hipo_ova = pd.read_csv(os.path.join(data,'Screen', 'Raw', 'Raw_Ova_HpoRNAi_Pred.csv'))\n",
    "# Egg Laying\n",
    "xRNAi_fec = pd.read_csv(os.path.join(data,'Screen', 'Raw', 'Raw_EggLaying_Pred.csv'))\n",
    "\n",
    "# And we load the signaling table that contains the mapping for all the FbID to signaling pathway\n",
    "signaling = pd.read_csv(os.path.join(data,'signaling.csv'))"
   ]
  },
  {
   "cell_type": "code",
   "execution_count": 4,
   "metadata": {},
   "outputs": [
    {
     "data": {
      "text/plain": [
       "43"
      ]
     },
     "execution_count": 4,
     "metadata": {},
     "output_type": "execute_result"
    }
   ],
   "source": [
    "len(xRNAi_fec['FbID'].unique())"
   ]
  },
  {
   "cell_type": "markdown",
   "metadata": {},
   "source": [
    "## Checking that we have the correct number of genes"
   ]
  },
  {
   "cell_type": "code",
   "execution_count": 5,
   "metadata": {},
   "outputs": [],
   "source": [
    "# Assert that the number of gene in the screen, that are in the signaling table (which contains the gene tested) is 463\n",
    "assert(len(hipo_fec['FbID'].unique()) == 43)"
   ]
  },
  {
   "cell_type": "code",
   "execution_count": 6,
   "metadata": {},
   "outputs": [],
   "source": [
    "# Assert that the number of gene in the screen, that are in the signaling table (which contains the gene tested) is 273\n",
    "assert len(hipo_ova['FbID'].unique()) == 43"
   ]
  },
  {
   "cell_type": "code",
   "execution_count": 7,
   "metadata": {},
   "outputs": [],
   "source": [
    "# Assert that the number of gene in the screen, that are in the signaling table (which contains the gene tested) is 273\n",
    "assert len(xRNAi_fec['FbID'].unique()) == 43"
   ]
  },
  {
   "cell_type": "markdown",
   "metadata": {},
   "source": [
    "# Cleaning Ovariole Number data\n",
    "## Tidy Data for Ovariole Database"
   ]
  },
  {
   "cell_type": "code",
   "execution_count": 8,
   "metadata": {},
   "outputs": [],
   "source": [
    "# Create the mapping table for Fly ID to column name\n",
    "map_FlyId = {'Fly 1':1,\n",
    "             'Fly 1.1':1,\n",
    "             'Fly 2':2,\n",
    "             'Fly 2.1':2,\n",
    "             'Fly 3':3,\n",
    "             'Fly 3.1':3,\n",
    "             'Fly 4':4,\n",
    "             'Fly 4.1':4,\n",
    "             'Fly 5':5,\n",
    "             'Fly 5.1':5,\n",
    "             'Fly 6':6,\n",
    "             'Fly 6.1':6,\n",
    "             'Fly 7':7,\n",
    "             'Fly 7.1':7,\n",
    "             'Fly 8':8,\n",
    "             'Fly 8.1':8,\n",
    "             'Fly 9':9,\n",
    "             'Fly 9.1':9,\n",
    "             'Fly 10':10,\n",
    "             'Fly 10.1':10\n",
    "            }"
   ]
  },
  {
   "cell_type": "code",
   "execution_count": 9,
   "metadata": {},
   "outputs": [],
   "source": [
    "# Here we Tidy the data, aka we transform the 2 entry table into a tidy dataframe format\n",
    "# Create an array to hold the reults\n",
    "\n",
    "result = []\n",
    "# For each row\n",
    "for i in range(len(hipo_ova)):\n",
    "    # collect meta information \n",
    "    FbID = hipo_ova['FbID'][i]\n",
    "    Condition = hipo_ova['Condition'][i]\n",
    "    batch = hipo_ova['BATCH'][i]\n",
    "    # For each ovary\n",
    "    for ovary in map_FlyId:\n",
    "        # Define FlyID\n",
    "        FlyID = map_FlyId[ovary]\n",
    "        # Collect ovariole number\n",
    "        ovanb = hipo_ova[ovary][i]\n",
    "        # Add the result as a new line to the result array\n",
    "        result.append([Condition, batch, FbID, FlyID, ovanb])\n",
    "        \n",
    "# Save the array into a dataframe \n",
    "hipo_ova_clean = pd.DataFrame(result, columns=['Gene', 'Batch','FbID','FlyId','OvarioleNb'])"
   ]
  },
  {
   "cell_type": "code",
   "execution_count": 10,
   "metadata": {},
   "outputs": [
    {
     "data": {
      "text/plain": [
       "134.0"
      ]
     },
     "execution_count": 10,
     "metadata": {},
     "output_type": "execute_result"
    }
   ],
   "source": [
    "len(hipo_ova_clean) / 20"
   ]
  },
  {
   "cell_type": "code",
   "execution_count": 11,
   "metadata": {},
   "outputs": [],
   "source": [
    "#Assert that all the rows have been succesfully converted\n",
    "# 134 rows and 20 measurement points -> 2680\n",
    "assert(len(hipo_ova_clean) == 2680)"
   ]
  },
  {
   "cell_type": "code",
   "execution_count": 12,
   "metadata": {},
   "outputs": [],
   "source": [
    "#Assert that we have 43 unique FbID in the table\n",
    "assert(len(hipo_ova_clean['FbID'].unique()) == 43)"
   ]
  },
  {
   "cell_type": "code",
   "execution_count": 13,
   "metadata": {},
   "outputs": [],
   "source": [
    "# Test that we have data for all ovaries for all the flies\n",
    "for gene in hipo_ova_clean['FbID'].unique():\n",
    "    assert(len(hipo_ova_clean[hipo_ova_clean['FbID']==gene]) % 20 == 0)"
   ]
  },
  {
   "cell_type": "markdown",
   "metadata": {},
   "source": [
    "## Z Score calculation"
   ]
  },
  {
   "cell_type": "code",
   "execution_count": 14,
   "metadata": {},
   "outputs": [],
   "source": [
    "# We select only the control data\n",
    "control = hipo_ova_clean[hipo_ova_clean['Gene'] == 'Tj>HpoRNAi']"
   ]
  },
  {
   "cell_type": "code",
   "execution_count": 15,
   "metadata": {},
   "outputs": [],
   "source": [
    "# We should have 22 controls in this dataset\n",
    "assert(len(control)/20 == 22)"
   ]
  },
  {
   "cell_type": "code",
   "execution_count": 16,
   "metadata": {},
   "outputs": [],
   "source": [
    "# Here we calculate the mean ovariole number for each batch\n",
    "# We group the dataset by batch, then we calculate the mean for each group \n",
    "# considering each ovary an independant variable\n",
    "# Then we reset the index to have a clean dataframe\n",
    "control_mean = control.groupby(['Batch']).mean().reset_index()\n",
    "# And the same for the standard deviation\n",
    "control_std = control.groupby(['Batch']).std().reset_index()"
   ]
  },
  {
   "cell_type": "code",
   "execution_count": 17,
   "metadata": {},
   "outputs": [],
   "source": [
    "# Making sure we have 11 controls for the 11 batches\n",
    "assert(len(control_mean) == 11)"
   ]
  },
  {
   "cell_type": "code",
   "execution_count": 18,
   "metadata": {},
   "outputs": [],
   "source": [
    "# Now we calculate the Z score for all the non control values\n",
    "\n",
    "# Define an array to hold our Z scores\n",
    "Zs = []\n",
    "# For each line of our tidy table\n",
    "for i in range(len(hipo_ova_clean)):\n",
    "    # Get the batch value\n",
    "    batch = hipo_ova_clean['Batch'][i]\n",
    "    # get the ovariole nb counts\n",
    "    count = hipo_ova_clean['OvarioleNb'][i]\n",
    "    # Get the mean value for the batch\n",
    "    mu = control_mean[control_mean['Batch'] == batch]['OvarioleNb'].values[0]\n",
    "    # Get the std for the batch\n",
    "    std = control_std[control_std['Batch'] == batch]['OvarioleNb'].values[0]\n",
    "    # Calculate Z as Z = x-mu / std\n",
    "    Z = (count-mu)/std\n",
    "    # save Z\n",
    "    Zs.append(Z)"
   ]
  },
  {
   "cell_type": "code",
   "execution_count": 19,
   "metadata": {},
   "outputs": [],
   "source": [
    "hipo_ova_clean['Z'] = Zs"
   ]
  },
  {
   "cell_type": "markdown",
   "metadata": {},
   "source": [
    "## Saving results"
   ]
  },
  {
   "cell_type": "code",
   "execution_count": 20,
   "metadata": {},
   "outputs": [],
   "source": [
    "hipo_ova_clean.to_csv(os.path.join(data,'Screen', 'hipo_ova_clean_pred.csv'), index=False)"
   ]
  },
  {
   "cell_type": "markdown",
   "metadata": {},
   "source": [
    "# Cleaning Egg Laying Hippo RNAi\n",
    "## Tidy Data for Ovariole Database"
   ]
  },
  {
   "cell_type": "code",
   "execution_count": 21,
   "metadata": {},
   "outputs": [],
   "source": [
    "hipo_fec['Sum'] = hipo_fec['Day 1'] + hipo_fec['Day 2 '] + hipo_fec['Day 3'] + hipo_fec['Day 4 '] + hipo_fec['Day 5']"
   ]
  },
  {
   "cell_type": "code",
   "execution_count": 22,
   "metadata": {},
   "outputs": [],
   "source": [
    "Conditions = ['Day 1',\n",
    " 'Day 2 ',\n",
    " 'Day 3',\n",
    " 'Day 4 ',\n",
    " 'Day 5',\n",
    " 'Sum']"
   ]
  },
  {
   "cell_type": "code",
   "execution_count": 23,
   "metadata": {},
   "outputs": [],
   "source": [
    "results = []\n",
    "for i in range(len(hipo_fec)):\n",
    "    condition = hipo_fec['Condition'][i]\n",
    "    batch = hipo_fec['BATCH'][i]\n",
    "    FbID = hipo_fec['FbID'][i]\n",
    "    for c in Conditions:\n",
    "        count = hipo_fec[c][i]\n",
    "        results.append([condition, batch, FbID, c, count])                          \n",
    "hipo_fec_clean = pd.DataFrame(results, columns=['Gene', 'Batch', 'FbID', 'Condition', 'Count'])"
   ]
  },
  {
   "cell_type": "code",
   "execution_count": 24,
   "metadata": {},
   "outputs": [
    {
     "data": {
      "text/plain": [
       "258.0"
      ]
     },
     "execution_count": 24,
     "metadata": {},
     "output_type": "execute_result"
    }
   ],
   "source": [
    "len(hipo_fec_clean) / 5"
   ]
  },
  {
   "cell_type": "code",
   "execution_count": 25,
   "metadata": {
    "scrolled": true
   },
   "outputs": [],
   "source": [
    "#Assert that all the rows have been succesfully converted\n",
    "# 258 rows and 5 measurement points and the sum -> 258 * (5+1) = 1290\n",
    "assert(len(hipo_fec_clean) == 1290)"
   ]
  },
  {
   "cell_type": "code",
   "execution_count": 26,
   "metadata": {},
   "outputs": [],
   "source": [
    "#Assert that we have 43 unique FbID in the table\n",
    "assert(len(hipo_fec_clean['FbID'].unique()) == 43) #"
   ]
  },
  {
   "cell_type": "code",
   "execution_count": 27,
   "metadata": {},
   "outputs": [],
   "source": [
    "# Test that we have data for all datapoints for all the flies\n",
    "for gene in hipo_fec_clean['FbID'].unique():\n",
    "    assert(len(hipo_fec_clean[hipo_fec_clean['FbID']==gene]) % 6 == 0)"
   ]
  },
  {
   "cell_type": "markdown",
   "metadata": {},
   "source": [
    "## Z Score calculation"
   ]
  },
  {
   "cell_type": "code",
   "execution_count": 28,
   "metadata": {},
   "outputs": [],
   "source": [
    "control = hipo_fec_clean[hipo_fec_clean['Gene'] == 'Tj>HpoRNAi']"
   ]
  },
  {
   "cell_type": "code",
   "execution_count": 29,
   "metadata": {},
   "outputs": [],
   "source": [
    "# We should have 13 controls in this dataset\n",
    "assert(len(control)/6 == 58)"
   ]
  },
  {
   "cell_type": "code",
   "execution_count": 30,
   "metadata": {},
   "outputs": [],
   "source": [
    "# Here we group again by batch AND by condition this time and calculate the mean and std\n",
    "control_mean = control[['Batch','Condition','Count']].groupby(['Batch','Condition']).mean().reset_index()\n",
    "control_std = control[['Batch','Condition','Count']].groupby(['Batch','Condition']).std().reset_index()"
   ]
  },
  {
   "cell_type": "code",
   "execution_count": 31,
   "metadata": {},
   "outputs": [],
   "source": [
    "# Making sure we have 9 controls for the 9 batches * 6 condition\n",
    "assert(len(control_mean) == 12*6)"
   ]
  },
  {
   "cell_type": "code",
   "execution_count": 32,
   "metadata": {},
   "outputs": [],
   "source": [
    "# exact same code as above for Z score\n",
    "res = []\n",
    "for i in range(len(hipo_fec_clean)):\n",
    "    batch = hipo_fec_clean['Batch'][i]\n",
    "    condition = hipo_fec_clean['Condition'][i]\n",
    "    count = hipo_fec_clean['Count'][i]\n",
    "    mu = control_mean[(control_mean['Batch'] == batch) & (control_mean['Condition'] == condition)]['Count'].values[0]\n",
    "    std = control_std[(control_std['Batch'] == batch) & (control_std['Condition'] == condition)]['Count'].values[0]\n",
    "    Z = (count-mu)/std\n",
    "    res.append(Z)"
   ]
  },
  {
   "cell_type": "code",
   "execution_count": 33,
   "metadata": {},
   "outputs": [],
   "source": [
    "hipo_fec_clean['Z'] = res"
   ]
  },
  {
   "cell_type": "markdown",
   "metadata": {},
   "source": [
    "## Saving results"
   ]
  },
  {
   "cell_type": "code",
   "execution_count": 34,
   "metadata": {},
   "outputs": [],
   "source": [
    "hipo_fec_clean.to_csv(os.path.join(data,'Screen', 'hipo_fec_clean_pred.csv'), index=False)"
   ]
  },
  {
   "cell_type": "markdown",
   "metadata": {},
   "source": [
    "# Cleaning Egg Laying\n",
    "## Tidy Data for Ovariole Database"
   ]
  },
  {
   "cell_type": "code",
   "execution_count": 35,
   "metadata": {},
   "outputs": [],
   "source": [
    "xRNAi_fec['Sum'] = xRNAi_fec['Day 1'] + xRNAi_fec['Day 2 '] + xRNAi_fec['Day 3'] + xRNAi_fec['Day 4 '] + xRNAi_fec['Day 5']"
   ]
  },
  {
   "cell_type": "code",
   "execution_count": 36,
   "metadata": {},
   "outputs": [],
   "source": [
    "Conditions = ['Day 1',\n",
    " 'Day 2 ',\n",
    " 'Day 3',\n",
    " 'Day 4 ',\n",
    " 'Day 5',\n",
    " 'Sum']"
   ]
  },
  {
   "cell_type": "code",
   "execution_count": 37,
   "metadata": {},
   "outputs": [],
   "source": [
    "results = []\n",
    "for i in range(len(xRNAi_fec)):\n",
    "    condition = xRNAi_fec['Condition'][i]\n",
    "    batch = xRNAi_fec['BATCH'][i]\n",
    "    FbID = xRNAi_fec['FbID'][i]\n",
    "    for c in Conditions:\n",
    "        count = xRNAi_fec[c][i]\n",
    "        results.append([condition, batch, FbID, c, count])                          \n",
    "xRNAi_fec_clean = pd.DataFrame(results, columns=['Gene', 'Batch', 'FbID', 'Condition', 'Count'])"
   ]
  },
  {
   "cell_type": "code",
   "execution_count": 38,
   "metadata": {},
   "outputs": [],
   "source": [
    "#Assert that all the rows have been succesfully converted\n",
    "# 355 rows and 6 measurement points -> 2130\n",
    "assert(len(xRNAi_fec_clean) == 1068)"
   ]
  },
  {
   "cell_type": "code",
   "execution_count": 39,
   "metadata": {},
   "outputs": [],
   "source": [
    "#Assert that we have 273 unique FbID in the table\n",
    "assert(len(xRNAi_fec_clean['FbID'].unique()) == 43) # +1 for the control genes -> NaN"
   ]
  },
  {
   "cell_type": "code",
   "execution_count": 40,
   "metadata": {},
   "outputs": [],
   "source": [
    "# Test that we have data for all egglay for all the flies\n",
    "for gene in xRNAi_fec_clean['FbID'].unique():\n",
    "    assert(len(xRNAi_fec_clean[xRNAi_fec_clean['FbID']==gene]) % 6 == 0)"
   ]
  },
  {
   "cell_type": "code",
   "execution_count": 41,
   "metadata": {},
   "outputs": [],
   "source": [
    "control = xRNAi_fec_clean[xRNAi_fec_clean['Gene'] == 'Tj>']"
   ]
  },
  {
   "cell_type": "code",
   "execution_count": 42,
   "metadata": {},
   "outputs": [],
   "source": [
    "# We should have 13 controls in this dataset\n",
    "assert(len(control)/6 == 46)"
   ]
  },
  {
   "cell_type": "code",
   "execution_count": 43,
   "metadata": {},
   "outputs": [],
   "source": [
    "control_mean = control[['Batch','Condition','Count']].groupby(['Batch','Condition']).mean().reset_index()\n",
    "control_std = control[['Batch','Condition','Count']].groupby(['Batch','Condition']).std().reset_index()"
   ]
  },
  {
   "cell_type": "code",
   "execution_count": 44,
   "metadata": {},
   "outputs": [],
   "source": [
    "res = []\n",
    "for i in range(len(xRNAi_fec_clean)):\n",
    "    batch = xRNAi_fec_clean['Batch'][i]\n",
    "    condition = xRNAi_fec_clean['Condition'][i]\n",
    "    count = xRNAi_fec_clean['Count'][i]\n",
    "    mu = control_mean[(control_mean['Batch'] == batch) & (control_mean['Condition'] == condition)]['Count'].values[0]\n",
    "    std = control_std[(control_std['Batch'] == batch) & (control_std['Condition'] == condition)]['Count'].values[0]\n",
    "    Z = (count-mu)/std\n",
    "    res.append(Z)"
   ]
  },
  {
   "cell_type": "code",
   "execution_count": 45,
   "metadata": {},
   "outputs": [],
   "source": [
    "xRNAi_fec_clean['Z'] = res"
   ]
  },
  {
   "cell_type": "markdown",
   "metadata": {},
   "source": [
    "## Saving results"
   ]
  },
  {
   "cell_type": "code",
   "execution_count": 46,
   "metadata": {},
   "outputs": [],
   "source": [
    "xRNAi_fec_clean.to_csv(os.path.join(data,'Screen', 'xRNAi_fec_clean_pred.csv'), index=False)"
   ]
  },
  {
   "cell_type": "markdown",
   "metadata": {},
   "source": [
    "# Selecting genes above and below Zscore threshold"
   ]
  },
  {
   "cell_type": "code",
   "execution_count": 47,
   "metadata": {},
   "outputs": [],
   "source": [
    "# We load the CSV files we just created\n",
    "hipo_ova = pd.read_csv(os.path.join(data, 'Screen', 'hipo_ova_clean_pred.csv'))\n",
    "hipo_fec = pd.read_csv(os.path.join(data, 'Screen', 'hipo_fec_clean_pred.csv'))\n",
    "xRNAi_fec = pd.read_csv(os.path.join(data, 'Screen', 'xRNAi_fec_clean_pred.csv'))"
   ]
  },
  {
   "cell_type": "code",
   "execution_count": 48,
   "metadata": {},
   "outputs": [],
   "source": [
    "# Next we calculate all the Zscore means \n",
    "# We group the dataset by gene (FbID) and we take the mean for each.\n",
    "\n",
    "# Ovariole number screen\n",
    "mean_ova_gene = hipo_ova.groupby('FbID', as_index=False).mean()\n",
    "\n",
    "# Here we only consider the sum of egg layed for 5 days\n",
    "\n",
    "# Hippo RNAi Egg Laying screen\n",
    "mean_fec_gene = hipo_fec[hipo_fec['Condition'] == 'Sum'].groupby('FbID', as_index=False).mean()\n",
    "\n",
    "# Egg Laying Screen\n",
    "mean_xRNAi_gene = xRNAi_fec[xRNAi_fec['Condition'] == 'Sum'].groupby('FbID', as_index=False).mean()\n"
   ]
  },
  {
   "cell_type": "markdown",
   "metadata": {},
   "source": [
    "## Define threshold"
   ]
  },
  {
   "cell_type": "code",
   "execution_count": 49,
   "metadata": {},
   "outputs": [],
   "source": [
    "# We define the thresholds for selecting a candidate \n",
    "# Ovariole number at 2 and EggL at 5\n",
    "ova_threshold = 2\n",
    "eggl_threshold = 5"
   ]
  },
  {
   "cell_type": "code",
   "execution_count": 50,
   "metadata": {},
   "outputs": [],
   "source": [
    "# Ovariole number screen\n",
    "# Keep only genes with a Zscore over or equal to 2\n",
    "Zposneg_ova = mean_ova_gene[(mean_ova_gene['Z'].abs()>=ova_threshold)]['FbID'].values\n",
    "# Filter out the controls\n",
    "Zposneg_ova = [i for i in Zposneg_ova if 'FBgn' in i]\n",
    "\n",
    "# Hippo RNAi Egg Laying screen\n",
    "# Keep only genes with a Zscore over or equal to 5\n",
    "Zposneg_fec = mean_fec_gene[(mean_fec_gene['Z'].abs()>=eggl_threshold)]['FbID'].values\n",
    "# Filter out the controls\n",
    "Zposneg_fec = [i for i in Zposneg_fec if 'FBgn' in i]\n",
    "\n",
    "# Egg Laying Screen\n",
    "# Keep only genes with a Zscore over or equal to 5\n",
    "Zposneg_xRNAi = mean_xRNAi_gene[(mean_xRNAi_gene['Z'].abs()>=eggl_threshold)]['FbID'].values\n",
    "# Filter out the controls\n",
    "Zposneg_xRNAi = [i for i in Zposneg_xRNAi if 'FBgn' in i]"
   ]
  },
  {
   "cell_type": "code",
   "execution_count": 51,
   "metadata": {},
   "outputs": [
    {
     "name": "stdout",
     "output_type": "stream",
     "text": [
      "Ovariole number positive candidates: 14\n",
      "Hippo RNAi Egg Laying positive candidates: 13\n",
      "Egg Laying positive candidates: 10\n"
     ]
    }
   ],
   "source": [
    "print(\"Ovariole number positive candidates:\", len(Zposneg_ova))\n",
    "print(\"Hippo RNAi Egg Laying positive candidates:\", len(Zposneg_fec))\n",
    "print(\"Egg Laying positive candidates:\", len(Zposneg_xRNAi))"
   ]
  },
  {
   "cell_type": "code",
   "execution_count": 52,
   "metadata": {},
   "outputs": [],
   "source": [
    "assert(len(Zposneg_ova) == 14)\n",
    "assert(len(Zposneg_fec) == 13)\n",
    "assert(len(Zposneg_xRNAi) == 10)"
   ]
  },
  {
   "cell_type": "markdown",
   "metadata": {},
   "source": [
    "# Plotting the prediction accuracy"
   ]
  },
  {
   "cell_type": "code",
   "execution_count": 181,
   "metadata": {},
   "outputs": [],
   "source": [
    "data = mean_ova_gene[['FbID','Z']].merge(mean_fec_gene[['FbID','Z']], on='FbID').merge(mean_xRNAi_gene[['FbID','Z']], on='FbID')"
   ]
  },
  {
   "cell_type": "code",
   "execution_count": 182,
   "metadata": {},
   "outputs": [],
   "source": [
    "data.columns = ['FbID', 'Ova#', 'HpoEggL', 'EggL']"
   ]
  },
  {
   "cell_type": "code",
   "execution_count": 183,
   "metadata": {},
   "outputs": [],
   "source": [
    "data = data.melt(id_vars =['FbID'])  "
   ]
  },
  {
   "cell_type": "code",
   "execution_count": 184,
   "metadata": {},
   "outputs": [],
   "source": [
    "data = data[data['FbID'] != 'Control']"
   ]
  },
  {
   "cell_type": "code",
   "execution_count": 185,
   "metadata": {},
   "outputs": [],
   "source": [
    "data.columns = ['FbID', 'Screen', 'Z']"
   ]
  },
  {
   "cell_type": "code",
   "execution_count": 186,
   "metadata": {},
   "outputs": [],
   "source": [
    "gray = \"#AAAAAA\"\n",
    "green = \"#77cc77\""
   ]
  },
  {
   "cell_type": "code",
   "execution_count": 187,
   "metadata": {
    "scrolled": true
   },
   "outputs": [
    {
     "data": {
      "image/png": "[encoded data removed]",
      "text/plain": [
       "<Figure size 576x288 with 1 Axes>"
      ]
     },
     "metadata": {
      "needs_background": "light"
     },
     "output_type": "display_data"
    }
   ],
   "source": [
    "fig = plt.figure(figsize=(8,4))\n",
    "d = data[((data['Z'].abs() < 2) & (data['Screen'] == 'Ova#')) | ((data['Z'].abs() < 5) & (data['Screen'] != 'Ova#'))]\n",
    "sns.swarmplot(data=d, x='Z', y='Screen', color=gray)\n",
    "d = data[((data['Z'].abs() >= 2) & (data['Screen'] == 'Ova#')) | ((data['Z'].abs() >= 5) & (data['Screen'] != 'Ova#'))]\n",
    "sns.swarmplot(data=d, x='Z', y='Screen', color=green)\n",
    "fig.savefig(os.path.join(resultpath,\"Figures\", \"Pred_Results.svg\"))"
   ]
  },
  {
   "cell_type": "code",
   "execution_count": 188,
   "metadata": {},
   "outputs": [],
   "source": [
    "d_neg = data[((data['Z'].abs() < 2) & (data['Screen'] == 'Ova#')) | ((data['Z'].abs() < 5) & (data['Screen'] != 'Ova#'))]"
   ]
  },
  {
   "cell_type": "code",
   "execution_count": 189,
   "metadata": {},
   "outputs": [
    {
     "data": {
      "text/html": [
       "<div>\n",
       "<style>\n",
       "    .dataframe thead tr:only-child th {\n",
       "        text-align: right;\n",
       "    }\n",
       "\n",
       "    .dataframe thead th {\n",
       "        text-align: left;\n",
       "    }\n",
       "\n",
       "    .dataframe tbody tr th {\n",
       "        vertical-align: top;\n",
       "    }\n",
       "</style>\n",
       "<table border=\"1\" class=\"dataframe\">\n",
       "  <thead>\n",
       "    <tr style=\"text-align: right;\">\n",
       "      <th></th>\n",
       "      <th>FbID</th>\n",
       "      <th>Z</th>\n",
       "    </tr>\n",
       "    <tr>\n",
       "      <th>Screen</th>\n",
       "      <th></th>\n",
       "      <th></th>\n",
       "    </tr>\n",
       "  </thead>\n",
       "  <tbody>\n",
       "    <tr>\n",
       "      <th>EggL</th>\n",
       "      <td>32</td>\n",
       "      <td>32</td>\n",
       "    </tr>\n",
       "    <tr>\n",
       "      <th>HpoEggL</th>\n",
       "      <td>29</td>\n",
       "      <td>29</td>\n",
       "    </tr>\n",
       "    <tr>\n",
       "      <th>Ova#</th>\n",
       "      <td>28</td>\n",
       "      <td>28</td>\n",
       "    </tr>\n",
       "  </tbody>\n",
       "</table>\n",
       "</div>"
      ],
      "text/plain": [
       "         FbID   Z\n",
       "Screen           \n",
       "EggL       32  32\n",
       "HpoEggL    29  29\n",
       "Ova#       28  28"
      ]
     },
     "execution_count": 189,
     "metadata": {},
     "output_type": "execute_result"
    }
   ],
   "source": [
    "d_neg.groupby('Screen').count()"
   ]
  },
  {
   "cell_type": "code",
   "execution_count": 190,
   "metadata": {},
   "outputs": [],
   "source": [
    "d_pos = data[((data['Z'].abs() >= 2) & (data['Screen'] == 'Ova#')) | ((data['Z'].abs() >= 5) & (data['Screen'] != 'Ova#'))]"
   ]
  },
  {
   "cell_type": "code",
   "execution_count": 191,
   "metadata": {
    "scrolled": true
   },
   "outputs": [
    {
     "data": {
      "text/html": [
       "<div>\n",
       "<style>\n",
       "    .dataframe thead tr:only-child th {\n",
       "        text-align: right;\n",
       "    }\n",
       "\n",
       "    .dataframe thead th {\n",
       "        text-align: left;\n",
       "    }\n",
       "\n",
       "    .dataframe tbody tr th {\n",
       "        vertical-align: top;\n",
       "    }\n",
       "</style>\n",
       "<table border=\"1\" class=\"dataframe\">\n",
       "  <thead>\n",
       "    <tr style=\"text-align: right;\">\n",
       "      <th></th>\n",
       "      <th>FbID</th>\n",
       "      <th>Z</th>\n",
       "    </tr>\n",
       "    <tr>\n",
       "      <th>Screen</th>\n",
       "      <th></th>\n",
       "      <th></th>\n",
       "    </tr>\n",
       "  </thead>\n",
       "  <tbody>\n",
       "    <tr>\n",
       "      <th>EggL</th>\n",
       "      <td>10</td>\n",
       "      <td>10</td>\n",
       "    </tr>\n",
       "    <tr>\n",
       "      <th>HpoEggL</th>\n",
       "      <td>13</td>\n",
       "      <td>13</td>\n",
       "    </tr>\n",
       "    <tr>\n",
       "      <th>Ova#</th>\n",
       "      <td>14</td>\n",
       "      <td>14</td>\n",
       "    </tr>\n",
       "  </tbody>\n",
       "</table>\n",
       "</div>"
      ],
      "text/plain": [
       "         FbID   Z\n",
       "Screen           \n",
       "EggL       10  10\n",
       "HpoEggL    13  13\n",
       "Ova#       14  14"
      ]
     },
     "execution_count": 191,
     "metadata": {},
     "output_type": "execute_result"
    }
   ],
   "source": [
    "d_pos.groupby('Screen').count()"
   ]
  },
  {
   "cell_type": "code",
   "execution_count": null,
   "metadata": {},
   "outputs": [],
   "source": []
  },
  {
   "cell_type": "code",
   "execution_count": 192,
   "metadata": {},
   "outputs": [],
   "source": [
    "PPI_ID = \"2018_08\""
   ]
  },
  {
   "cell_type": "code",
   "execution_count": 193,
   "metadata": {},
   "outputs": [],
   "source": [
    "connectors = pd.read_csv(os.path.join(resultpath,\"ConnectorGeneList_{}.csv\".format(PPI_ID)))"
   ]
  },
  {
   "cell_type": "code",
   "execution_count": 194,
   "metadata": {},
   "outputs": [],
   "source": [
    "predrate = d_pos.groupby('Screen').count() / data.groupby('Screen').count()"
   ]
  },
  {
   "cell_type": "code",
   "execution_count": 195,
   "metadata": {},
   "outputs": [],
   "source": [
    "predrate = predrate.reset_index()"
   ]
  },
  {
   "cell_type": "code",
   "execution_count": 196,
   "metadata": {
    "scrolled": true
   },
   "outputs": [
    {
     "data": {
      "image/png": "[encoded data removed]",
      "text/plain": [
       "<Figure size 288x288 with 1 Axes>"
      ]
     },
     "metadata": {
      "needs_background": "light"
     },
     "output_type": "display_data"
    }
   ],
   "source": [
    "fig = plt.figure(figsize=(4,4))\n",
    "sns.barplot(data=predrate, x='Screen', y='Z', color=\"Gray\")\n",
    "plt.title(\"Positive candidate / number of genes\")\n",
    "plt.ylabel('Above Threshold percent')\n",
    "fig.savefig(os.path.join(resultpath, \"Pred_inscreen_percent_above_thresh.svg\"))\n",
    "fig.savefig(os.path.join(resultpath, \"Pred_inscreen_percent_above_thresh.png\"))\n",
    "fig.savefig(os.path.join(resultpath, \"Pred_inscreen_percent_above_thresh.pdf\"))"
   ]
  },
  {
   "cell_type": "code",
   "execution_count": 197,
   "metadata": {},
   "outputs": [],
   "source": [
    "d = data[(data['FbID'].isin(connectors[connectors['Module'] == 'Ova']['FbID'].values)) & (data['Screen'] == 'Ova#')]"
   ]
  },
  {
   "cell_type": "code",
   "execution_count": 198,
   "metadata": {},
   "outputs": [],
   "source": [
    "ova_pred= len(d[d['Z'].abs() >= 2])/len(d)\n",
    "ova_pred_tot= len(d[d['Z'].abs() >= 2])\n"
   ]
  },
  {
   "cell_type": "code",
   "execution_count": 199,
   "metadata": {},
   "outputs": [
    {
     "data": {
      "text/plain": [
       "11"
      ]
     },
     "execution_count": 199,
     "metadata": {},
     "output_type": "execute_result"
    }
   ],
   "source": [
    "len(d)"
   ]
  },
  {
   "cell_type": "code",
   "execution_count": 200,
   "metadata": {},
   "outputs": [],
   "source": [
    "d = data[(data['FbID'].isin(connectors[connectors['Module'] == 'HpoFec']['FbID'].values)) & (data['Screen'] == 'HpoEggL')]"
   ]
  },
  {
   "cell_type": "code",
   "execution_count": 201,
   "metadata": {},
   "outputs": [],
   "source": [
    "hpoeggl_pred= len(d[d['Z'].abs() >= 5])/len(d)\n",
    "hpoeggl_pred_tot= len(d[d['Z'].abs() >= 5])\n"
   ]
  },
  {
   "cell_type": "code",
   "execution_count": 202,
   "metadata": {
    "scrolled": true
   },
   "outputs": [
    {
     "data": {
      "text/plain": [
       "17"
      ]
     },
     "execution_count": 202,
     "metadata": {},
     "output_type": "execute_result"
    }
   ],
   "source": [
    "len(d)"
   ]
  },
  {
   "cell_type": "code",
   "execution_count": 203,
   "metadata": {},
   "outputs": [
    {
     "data": {
      "text/html": [
       "<div>\n",
       "<style>\n",
       "    .dataframe thead tr:only-child th {\n",
       "        text-align: right;\n",
       "    }\n",
       "\n",
       "    .dataframe thead th {\n",
       "        text-align: left;\n",
       "    }\n",
       "\n",
       "    .dataframe tbody tr th {\n",
       "        vertical-align: top;\n",
       "    }\n",
       "</style>\n",
       "<table border=\"1\" class=\"dataframe\">\n",
       "  <thead>\n",
       "    <tr style=\"text-align: right;\">\n",
       "      <th></th>\n",
       "      <th>FbID</th>\n",
       "      <th>Screen</th>\n",
       "      <th>Z</th>\n",
       "    </tr>\n",
       "  </thead>\n",
       "  <tbody>\n",
       "    <tr>\n",
       "      <th>47</th>\n",
       "      <td>FBgn0003041</td>\n",
       "      <td>HpoEggL</td>\n",
       "      <td>-12.156343</td>\n",
       "    </tr>\n",
       "    <tr>\n",
       "      <th>55</th>\n",
       "      <td>FBgn0011726</td>\n",
       "      <td>HpoEggL</td>\n",
       "      <td>-10.703588</td>\n",
       "    </tr>\n",
       "    <tr>\n",
       "      <th>60</th>\n",
       "      <td>FBgn0016917</td>\n",
       "      <td>HpoEggL</td>\n",
       "      <td>-10.703588</td>\n",
       "    </tr>\n",
       "    <tr>\n",
       "      <th>63</th>\n",
       "      <td>FBgn0023540</td>\n",
       "      <td>HpoEggL</td>\n",
       "      <td>-10.703588</td>\n",
       "    </tr>\n",
       "    <tr>\n",
       "      <th>71</th>\n",
       "      <td>FBgn0035640</td>\n",
       "      <td>HpoEggL</td>\n",
       "      <td>-5.655873</td>\n",
       "    </tr>\n",
       "    <tr>\n",
       "      <th>72</th>\n",
       "      <td>FBgn0036136</td>\n",
       "      <td>HpoEggL</td>\n",
       "      <td>-10.703588</td>\n",
       "    </tr>\n",
       "    <tr>\n",
       "      <th>80</th>\n",
       "      <td>FBgn0043903</td>\n",
       "      <td>HpoEggL</td>\n",
       "      <td>-5.630508</td>\n",
       "    </tr>\n",
       "  </tbody>\n",
       "</table>\n",
       "</div>"
      ],
      "text/plain": [
       "           FbID   Screen          Z\n",
       "47  FBgn0003041  HpoEggL -12.156343\n",
       "55  FBgn0011726  HpoEggL -10.703588\n",
       "60  FBgn0016917  HpoEggL -10.703588\n",
       "63  FBgn0023540  HpoEggL -10.703588\n",
       "71  FBgn0035640  HpoEggL  -5.655873\n",
       "72  FBgn0036136  HpoEggL -10.703588\n",
       "80  FBgn0043903  HpoEggL  -5.630508"
      ]
     },
     "execution_count": 203,
     "metadata": {},
     "output_type": "execute_result"
    }
   ],
   "source": [
    "d[d['Z'].abs() >= 5]"
   ]
  },
  {
   "cell_type": "code",
   "execution_count": 204,
   "metadata": {},
   "outputs": [],
   "source": [
    "d = data[(data['FbID'].isin(connectors[connectors['Module'] == 'xRNAiFec']['FbID'].values)) & (data['Screen'] == 'EggL')]"
   ]
  },
  {
   "cell_type": "code",
   "execution_count": 205,
   "metadata": {},
   "outputs": [],
   "source": [
    "eggl_pred= len(d[d['Z'].abs() >= 5])/len(d)\n",
    "eggl_pred_tot= len(d[d['Z'].abs() >= 5])\n",
    "eggl_genes = set(d['FbID'].values)"
   ]
  },
  {
   "cell_type": "code",
   "execution_count": 206,
   "metadata": {},
   "outputs": [
    {
     "data": {
      "text/plain": [
       "11"
      ]
     },
     "execution_count": 206,
     "metadata": {},
     "output_type": "execute_result"
    }
   ],
   "source": [
    "len(d)"
   ]
  },
  {
   "cell_type": "code",
   "execution_count": 207,
   "metadata": {},
   "outputs": [],
   "source": [
    "results = [\n",
    "    ['Ova#', ova_pred, ova_pred_tot],\n",
    "    ['HpoEggL', hpoeggl_pred, hpoeggl_pred_tot],\n",
    "    ['EggL', eggl_pred, eggl_pred_tot]\n",
    "]\n",
    "results = pd.DataFrame(results, columns=['Screen', 'Prediction Rate', 'Total nb genes'])"
   ]
  },
  {
   "cell_type": "code",
   "execution_count": 208,
   "metadata": {},
   "outputs": [
    {
     "data": {
      "text/html": [
       "<div>\n",
       "<style>\n",
       "    .dataframe thead tr:only-child th {\n",
       "        text-align: right;\n",
       "    }\n",
       "\n",
       "    .dataframe thead th {\n",
       "        text-align: left;\n",
       "    }\n",
       "\n",
       "    .dataframe tbody tr th {\n",
       "        vertical-align: top;\n",
       "    }\n",
       "</style>\n",
       "<table border=\"1\" class=\"dataframe\">\n",
       "  <thead>\n",
       "    <tr style=\"text-align: right;\">\n",
       "      <th></th>\n",
       "      <th>Screen</th>\n",
       "      <th>Prediction Rate</th>\n",
       "      <th>Total nb genes</th>\n",
       "    </tr>\n",
       "  </thead>\n",
       "  <tbody>\n",
       "    <tr>\n",
       "      <th>0</th>\n",
       "      <td>Ova#</td>\n",
       "      <td>0.272727</td>\n",
       "      <td>3</td>\n",
       "    </tr>\n",
       "    <tr>\n",
       "      <th>1</th>\n",
       "      <td>HpoEggL</td>\n",
       "      <td>0.411765</td>\n",
       "      <td>7</td>\n",
       "    </tr>\n",
       "    <tr>\n",
       "      <th>2</th>\n",
       "      <td>EggL</td>\n",
       "      <td>0.000000</td>\n",
       "      <td>0</td>\n",
       "    </tr>\n",
       "  </tbody>\n",
       "</table>\n",
       "</div>"
      ],
      "text/plain": [
       "    Screen  Prediction Rate  Total nb genes\n",
       "0     Ova#         0.272727               3\n",
       "1  HpoEggL         0.411765               7\n",
       "2     EggL         0.000000               0"
      ]
     },
     "execution_count": 208,
     "metadata": {},
     "output_type": "execute_result"
    }
   ],
   "source": [
    "results"
   ]
  },
  {
   "cell_type": "code",
   "execution_count": 209,
   "metadata": {},
   "outputs": [
    {
     "data": {
      "image/png": "[encoded data removed]",
      "text/plain": [
       "<Figure size 288x288 with 1 Axes>"
      ]
     },
     "metadata": {
      "needs_background": "light"
     },
     "output_type": "display_data"
    }
   ],
   "source": [
    "\n",
    "fig = plt.figure(figsize=(4,4))\n",
    "sns.barplot(data=results, x='Screen', y='Prediction Rate', color=\"Gray\")\n",
    "plt.title(\"Module Prediction Rate\")\n",
    "plt.ylabel('Prediction rate')\n",
    "fig.savefig(os.path.join(resultpath, \"Pred_Module_rate.svg\"))\n",
    "fig.savefig(os.path.join(resultpath, \"Pred_Module_rate.png\"))\n",
    "fig.savefig(os.path.join(resultpath, \"Pred_Module_rate.pdf\"))"
   ]
  },
  {
   "cell_type": "code",
   "execution_count": 210,
   "metadata": {},
   "outputs": [
    {
     "data": {
      "text/plain": [
       "10"
      ]
     },
     "execution_count": 210,
     "metadata": {},
     "output_type": "execute_result"
    }
   ],
   "source": [
    "len(connectors[connectors['Module'] == 'Core']['FbID'].values)"
   ]
  },
  {
   "cell_type": "code",
   "execution_count": 211,
   "metadata": {},
   "outputs": [],
   "source": [
    "d = data[data['Screen'] == 'Ova#']\n",
    "ova_genes= set(d[d['Z'].abs() >= 2]['FbID'])\n",
    "d = data[data['Screen'] == 'HpoEggL']\n",
    "hpoeggl_genes= set(d[d['Z'].abs() >= 5]['FbID'])\n",
    "d = data[data['Screen'] == 'EggL']\n",
    "eggl_genes= set(d[d['Z'].abs() >= 5]['FbID'])"
   ]
  },
  {
   "cell_type": "code",
   "execution_count": 212,
   "metadata": {
    "scrolled": true
   },
   "outputs": [
    {
     "name": "stdout",
     "output_type": "stream",
     "text": [
      "Number of Core Positive genes accorss all tested genes (not module restricted)\n"
     ]
    },
    {
     "data": {
      "text/plain": [
       "8"
      ]
     },
     "execution_count": 212,
     "metadata": {},
     "output_type": "execute_result"
    }
   ],
   "source": [
    "print(\"Number of Core Positive genes accorss all tested genes (not module restricted)\")\n",
    "len(set.intersection(ova_genes, hpoeggl_genes, eggl_genes))"
   ]
  },
  {
   "cell_type": "code",
   "execution_count": 213,
   "metadata": {},
   "outputs": [],
   "source": [
    "d = data[(data['FbID'].isin(connectors[connectors['Module'] == 'Core']['FbID'].values))]"
   ]
  },
  {
   "cell_type": "code",
   "execution_count": 214,
   "metadata": {},
   "outputs": [],
   "source": [
    "d_pos = d[((d['Z'].abs() >= 2) & (d['Screen'] == 'Ova#')) | ((d['Z'].abs() >= 5) & (d['Screen'] != 'Ova#'))]"
   ]
  },
  {
   "cell_type": "code",
   "execution_count": 215,
   "metadata": {},
   "outputs": [],
   "source": [
    "core_pred = d_pos.groupby('Screen').count()/d.groupby('Screen').count()\n",
    "core_pred_tot = d_pos.groupby('Screen').count()"
   ]
  },
  {
   "cell_type": "code",
   "execution_count": 216,
   "metadata": {},
   "outputs": [
    {
     "data": {
      "text/html": [
       "<div>\n",
       "<style>\n",
       "    .dataframe thead tr:only-child th {\n",
       "        text-align: right;\n",
       "    }\n",
       "\n",
       "    .dataframe thead th {\n",
       "        text-align: left;\n",
       "    }\n",
       "\n",
       "    .dataframe tbody tr th {\n",
       "        vertical-align: top;\n",
       "    }\n",
       "</style>\n",
       "<table border=\"1\" class=\"dataframe\">\n",
       "  <thead>\n",
       "    <tr style=\"text-align: right;\">\n",
       "      <th></th>\n",
       "      <th>FbID</th>\n",
       "      <th>Z</th>\n",
       "    </tr>\n",
       "    <tr>\n",
       "      <th>Screen</th>\n",
       "      <th></th>\n",
       "      <th></th>\n",
       "    </tr>\n",
       "  </thead>\n",
       "  <tbody>\n",
       "    <tr>\n",
       "      <th>EggL</th>\n",
       "      <td>1</td>\n",
       "      <td>1</td>\n",
       "    </tr>\n",
       "    <tr>\n",
       "      <th>HpoEggL</th>\n",
       "      <td>2</td>\n",
       "      <td>2</td>\n",
       "    </tr>\n",
       "    <tr>\n",
       "      <th>Ova#</th>\n",
       "      <td>5</td>\n",
       "      <td>5</td>\n",
       "    </tr>\n",
       "  </tbody>\n",
       "</table>\n",
       "</div>"
      ],
      "text/plain": [
       "         FbID  Z\n",
       "Screen          \n",
       "EggL        1  1\n",
       "HpoEggL     2  2\n",
       "Ova#        5  5"
      ]
     },
     "execution_count": 216,
     "metadata": {},
     "output_type": "execute_result"
    }
   ],
   "source": [
    "core_pred_tot"
   ]
  },
  {
   "cell_type": "code",
   "execution_count": 217,
   "metadata": {},
   "outputs": [],
   "source": [
    "core_pred = core_pred.reset_index()"
   ]
  },
  {
   "cell_type": "code",
   "execution_count": 218,
   "metadata": {},
   "outputs": [],
   "source": [
    "toadd = pd.DataFrame([['All3', 0.1, 0.1]], columns=core_pred.columns)\n",
    "core_pred = core_pred.append(toadd)"
   ]
  },
  {
   "cell_type": "code",
   "execution_count": 219,
   "metadata": {},
   "outputs": [
    {
     "data": {
      "image/png": "[encoded data removed]",
      "text/plain": [
       "<Figure size 288x288 with 1 Axes>"
      ]
     },
     "metadata": {
      "needs_background": "light"
     },
     "output_type": "display_data"
    }
   ],
   "source": [
    "fig = plt.figure(figsize=(4,4))\n",
    "\n",
    "sns.barplot(data=core_pred, x='Screen', y='Z', color='Gray')\n",
    "plt.ylabel('Prediction Rate per screen')\n",
    "plt.title(\"Core Module prediction rate breakdown\")\n",
    "fig.savefig(os.path.join(resultpath, \"Pred_Core_Module_breakdown.svg\"))\n",
    "fig.savefig(os.path.join(resultpath, \"Pred_Core_Module_breakdown.png\"))\n",
    "fig.savefig(os.path.join(resultpath, \"Pred_Core_Module_breakdown.pdf\"))"
   ]
  },
  {
   "cell_type": "code",
   "execution_count": null,
   "metadata": {},
   "outputs": [],
   "source": [
    "screen_background_pred = [\n",
    "    \"EggL\": 273-\n",
    "]"
   ]
  },
  {
   "cell_type": "code",
   "execution_count": 88,
   "metadata": {},
   "outputs": [
    {
     "data": {
      "text/plain": [
       "10"
      ]
     },
     "execution_count": 88,
     "metadata": {},
     "output_type": "execute_result"
    }
   ],
   "source": [
    "len(Zposneg_xRNAi)"
   ]
  },
  {
   "cell_type": "markdown",
   "metadata": {},
   "source": [
    "# Prediction accuracy with connector removed if |Z| < 1 in the Hpo Eggl "
   ]
  },
  {
   "cell_type": "code",
   "execution_count": 220,
   "metadata": {},
   "outputs": [],
   "source": [
    "data = mean_ova_gene[['FbID','Z']].merge(mean_fec_gene[['FbID','Z']], on='FbID').merge(mean_xRNAi_gene[['FbID','Z']], on='FbID')"
   ]
  },
  {
   "cell_type": "code",
   "execution_count": 221,
   "metadata": {},
   "outputs": [],
   "source": [
    "data.columns = ['FbID', 'Ova#', 'HpoEggL', 'EggL']"
   ]
  },
  {
   "cell_type": "code",
   "execution_count": 222,
   "metadata": {},
   "outputs": [],
   "source": [
    "data = data.melt(id_vars =['FbID'])  "
   ]
  },
  {
   "cell_type": "code",
   "execution_count": 223,
   "metadata": {},
   "outputs": [],
   "source": [
    "data = data[data['FbID'] != 'Control']"
   ]
  },
  {
   "cell_type": "code",
   "execution_count": 224,
   "metadata": {},
   "outputs": [],
   "source": [
    "data.columns = ['FbID', 'Screen', 'Z']"
   ]
  },
  {
   "cell_type": "code",
   "execution_count": 225,
   "metadata": {},
   "outputs": [],
   "source": [
    "gray = \"#AAAAAA\"\n",
    "green = \"#77cc77\""
   ]
  },
  {
   "cell_type": "code",
   "execution_count": 226,
   "metadata": {
    "scrolled": true
   },
   "outputs": [
    {
     "data": {
      "image/png": "[encoded data removed]",
      "text/plain": [
       "<Figure size 576x288 with 1 Axes>"
      ]
     },
     "metadata": {
      "needs_background": "light"
     },
     "output_type": "display_data"
    }
   ],
   "source": [
    "fig = plt.figure(figsize=(8,4))\n",
    "d = data[((data['Z'].abs() < 2) & (data['Screen'] == 'Ova#')) | ((data['Z'].abs() < 5) & (data['Screen'] != 'Ova#'))]\n",
    "sns.swarmplot(data=d, x='Z', y='Screen', color=gray)\n",
    "d = data[((data['Z'].abs() >= 2) & (data['Screen'] == 'Ova#')) | ((data['Z'].abs() >= 5) & (data['Screen'] != 'Ova#'))]\n",
    "sns.swarmplot(data=d, x='Z', y='Screen', color=green)\n",
    "fig.savefig(os.path.join(resultpath,\"Figures\", \"Pred_Results.svg\"))"
   ]
  },
  {
   "cell_type": "code",
   "execution_count": 227,
   "metadata": {},
   "outputs": [],
   "source": [
    "to_keep = data[(data[\"Screen\"] == \"HpoEggL\") & (data['Z'].abs() > 1)]['FbID']\n",
    "data = pd.concat([data[(data['FbID'].isin(to_keep)) & (data[\"Screen\"] != \"HpoEggL\")], data[(data[\"Screen\"] == \"HpoEggL\")]])"
   ]
  },
  {
   "cell_type": "code",
   "execution_count": 228,
   "metadata": {},
   "outputs": [],
   "source": [
    "d_neg = data[((data['Z'].abs() < 2) & (data['Screen'] == 'Ova#')) | ((data['Z'].abs() < 5) & (data['Screen'] != 'Ova#'))]"
   ]
  },
  {
   "cell_type": "code",
   "execution_count": 229,
   "metadata": {},
   "outputs": [
    {
     "data": {
      "text/html": [
       "<div>\n",
       "<style>\n",
       "    .dataframe thead tr:only-child th {\n",
       "        text-align: right;\n",
       "    }\n",
       "\n",
       "    .dataframe thead th {\n",
       "        text-align: left;\n",
       "    }\n",
       "\n",
       "    .dataframe tbody tr th {\n",
       "        vertical-align: top;\n",
       "    }\n",
       "</style>\n",
       "<table border=\"1\" class=\"dataframe\">\n",
       "  <thead>\n",
       "    <tr style=\"text-align: right;\">\n",
       "      <th></th>\n",
       "      <th>FbID</th>\n",
       "      <th>Z</th>\n",
       "    </tr>\n",
       "    <tr>\n",
       "      <th>Screen</th>\n",
       "      <th></th>\n",
       "      <th></th>\n",
       "    </tr>\n",
       "  </thead>\n",
       "  <tbody>\n",
       "    <tr>\n",
       "      <th>EggL</th>\n",
       "      <td>22</td>\n",
       "      <td>22</td>\n",
       "    </tr>\n",
       "    <tr>\n",
       "      <th>HpoEggL</th>\n",
       "      <td>29</td>\n",
       "      <td>29</td>\n",
       "    </tr>\n",
       "    <tr>\n",
       "      <th>Ova#</th>\n",
       "      <td>20</td>\n",
       "      <td>20</td>\n",
       "    </tr>\n",
       "  </tbody>\n",
       "</table>\n",
       "</div>"
      ],
      "text/plain": [
       "         FbID   Z\n",
       "Screen           \n",
       "EggL       22  22\n",
       "HpoEggL    29  29\n",
       "Ova#       20  20"
      ]
     },
     "execution_count": 229,
     "metadata": {},
     "output_type": "execute_result"
    }
   ],
   "source": [
    "d_neg.groupby('Screen').count()"
   ]
  },
  {
   "cell_type": "code",
   "execution_count": 230,
   "metadata": {},
   "outputs": [],
   "source": [
    "d_pos = data[((data['Z'].abs() >= 2) & (data['Screen'] == 'Ova#')) | ((data['Z'].abs() >= 5) & (data['Screen'] != 'Ova#'))]"
   ]
  },
  {
   "cell_type": "code",
   "execution_count": 231,
   "metadata": {
    "scrolled": true
   },
   "outputs": [
    {
     "data": {
      "text/html": [
       "<div>\n",
       "<style>\n",
       "    .dataframe thead tr:only-child th {\n",
       "        text-align: right;\n",
       "    }\n",
       "\n",
       "    .dataframe thead th {\n",
       "        text-align: left;\n",
       "    }\n",
       "\n",
       "    .dataframe tbody tr th {\n",
       "        vertical-align: top;\n",
       "    }\n",
       "</style>\n",
       "<table border=\"1\" class=\"dataframe\">\n",
       "  <thead>\n",
       "    <tr style=\"text-align: right;\">\n",
       "      <th></th>\n",
       "      <th>FbID</th>\n",
       "      <th>Z</th>\n",
       "    </tr>\n",
       "    <tr>\n",
       "      <th>Screen</th>\n",
       "      <th></th>\n",
       "      <th></th>\n",
       "    </tr>\n",
       "  </thead>\n",
       "  <tbody>\n",
       "    <tr>\n",
       "      <th>EggL</th>\n",
       "      <td>10</td>\n",
       "      <td>10</td>\n",
       "    </tr>\n",
       "    <tr>\n",
       "      <th>HpoEggL</th>\n",
       "      <td>13</td>\n",
       "      <td>13</td>\n",
       "    </tr>\n",
       "    <tr>\n",
       "      <th>Ova#</th>\n",
       "      <td>12</td>\n",
       "      <td>12</td>\n",
       "    </tr>\n",
       "  </tbody>\n",
       "</table>\n",
       "</div>"
      ],
      "text/plain": [
       "         FbID   Z\n",
       "Screen           \n",
       "EggL       10  10\n",
       "HpoEggL    13  13\n",
       "Ova#       12  12"
      ]
     },
     "execution_count": 231,
     "metadata": {},
     "output_type": "execute_result"
    }
   ],
   "source": [
    "d_pos.groupby('Screen').count()"
   ]
  },
  {
   "cell_type": "code",
   "execution_count": 232,
   "metadata": {},
   "outputs": [],
   "source": [
    "PPI_ID = \"2018_08\""
   ]
  },
  {
   "cell_type": "code",
   "execution_count": 233,
   "metadata": {},
   "outputs": [],
   "source": [
    "connectors = pd.read_csv(os.path.join(resultpath,\"ConnectorGeneList_{}.csv\".format(PPI_ID)))"
   ]
  },
  {
   "cell_type": "code",
   "execution_count": 234,
   "metadata": {},
   "outputs": [],
   "source": [
    "predrate = d_pos.groupby('Screen').count() / data.groupby('Screen').count()"
   ]
  },
  {
   "cell_type": "code",
   "execution_count": 235,
   "metadata": {},
   "outputs": [],
   "source": [
    "predrate = predrate.reset_index()"
   ]
  },
  {
   "cell_type": "code",
   "execution_count": 236,
   "metadata": {
    "scrolled": true
   },
   "outputs": [
    {
     "data": {
      "image/png": "[encoded data removed]",
      "text/plain": [
       "<Figure size 288x288 with 1 Axes>"
      ]
     },
     "metadata": {
      "needs_background": "light"
     },
     "output_type": "display_data"
    }
   ],
   "source": [
    "fig = plt.figure(figsize=(4,4))\n",
    "sns.barplot(data=predrate, x='Screen', y='Z', color=\"Gray\")\n",
    "plt.title(\"Positive connectors per screen \\ndivided by all tested connectors\")\n",
    "plt.ylabel('Above Threshold percent')\n",
    "fig.savefig(os.path.join(resultpath, \"Pred_inscreen_percent_above_thresh.svg\"))\n",
    "fig.savefig(os.path.join(resultpath, \"Pred_inscreen_percent_above_thresh.png\"))\n",
    "fig.savefig(os.path.join(resultpath, \"Pred_inscreen_percent_above_thresh.pdf\"))"
   ]
  },
  {
   "cell_type": "code",
   "execution_count": 237,
   "metadata": {},
   "outputs": [],
   "source": [
    "d = data[(data['FbID'].isin(connectors[connectors['Module'] == 'Ova']['FbID'].values)) & (data['Screen'] == 'Ova#')]"
   ]
  },
  {
   "cell_type": "code",
   "execution_count": 238,
   "metadata": {},
   "outputs": [],
   "source": [
    "ova_pred= len(d[d['Z'].abs() >= 2])/len(d)\n",
    "ova_pred_tot= len(d[d['Z'].abs() >= 2])\n"
   ]
  },
  {
   "cell_type": "code",
   "execution_count": 239,
   "metadata": {},
   "outputs": [
    {
     "data": {
      "text/plain": [
       "7"
      ]
     },
     "execution_count": 239,
     "metadata": {},
     "output_type": "execute_result"
    }
   ],
   "source": [
    "len(d)"
   ]
  },
  {
   "cell_type": "code",
   "execution_count": 240,
   "metadata": {},
   "outputs": [],
   "source": [
    "d = data[(data['FbID'].isin(connectors[connectors['Module'] == 'HpoFec']['FbID'].values)) & (data['Screen'] == 'HpoEggL')]"
   ]
  },
  {
   "cell_type": "code",
   "execution_count": 241,
   "metadata": {},
   "outputs": [],
   "source": [
    "hpoeggl_pred= len(d[d['Z'].abs() >= 5])/len(d)\n",
    "hpoeggl_pred_tot= len(d[d['Z'].abs() >= 5])\n"
   ]
  },
  {
   "cell_type": "code",
   "execution_count": 242,
   "metadata": {
    "scrolled": true
   },
   "outputs": [
    {
     "data": {
      "text/plain": [
       "17"
      ]
     },
     "execution_count": 242,
     "metadata": {},
     "output_type": "execute_result"
    }
   ],
   "source": [
    "len(d)"
   ]
  },
  {
   "cell_type": "code",
   "execution_count": 243,
   "metadata": {},
   "outputs": [
    {
     "data": {
      "text/html": [
       "<div>\n",
       "<style>\n",
       "    .dataframe thead tr:only-child th {\n",
       "        text-align: right;\n",
       "    }\n",
       "\n",
       "    .dataframe thead th {\n",
       "        text-align: left;\n",
       "    }\n",
       "\n",
       "    .dataframe tbody tr th {\n",
       "        vertical-align: top;\n",
       "    }\n",
       "</style>\n",
       "<table border=\"1\" class=\"dataframe\">\n",
       "  <thead>\n",
       "    <tr style=\"text-align: right;\">\n",
       "      <th></th>\n",
       "      <th>FbID</th>\n",
       "      <th>Screen</th>\n",
       "      <th>Z</th>\n",
       "    </tr>\n",
       "  </thead>\n",
       "  <tbody>\n",
       "    <tr>\n",
       "      <th>47</th>\n",
       "      <td>FBgn0003041</td>\n",
       "      <td>HpoEggL</td>\n",
       "      <td>-12.156343</td>\n",
       "    </tr>\n",
       "    <tr>\n",
       "      <th>55</th>\n",
       "      <td>FBgn0011726</td>\n",
       "      <td>HpoEggL</td>\n",
       "      <td>-10.703588</td>\n",
       "    </tr>\n",
       "    <tr>\n",
       "      <th>60</th>\n",
       "      <td>FBgn0016917</td>\n",
       "      <td>HpoEggL</td>\n",
       "      <td>-10.703588</td>\n",
       "    </tr>\n",
       "    <tr>\n",
       "      <th>63</th>\n",
       "      <td>FBgn0023540</td>\n",
       "      <td>HpoEggL</td>\n",
       "      <td>-10.703588</td>\n",
       "    </tr>\n",
       "    <tr>\n",
       "      <th>71</th>\n",
       "      <td>FBgn0035640</td>\n",
       "      <td>HpoEggL</td>\n",
       "      <td>-5.655873</td>\n",
       "    </tr>\n",
       "    <tr>\n",
       "      <th>72</th>\n",
       "      <td>FBgn0036136</td>\n",
       "      <td>HpoEggL</td>\n",
       "      <td>-10.703588</td>\n",
       "    </tr>\n",
       "    <tr>\n",
       "      <th>80</th>\n",
       "      <td>FBgn0043903</td>\n",
       "      <td>HpoEggL</td>\n",
       "      <td>-5.630508</td>\n",
       "    </tr>\n",
       "  </tbody>\n",
       "</table>\n",
       "</div>"
      ],
      "text/plain": [
       "           FbID   Screen          Z\n",
       "47  FBgn0003041  HpoEggL -12.156343\n",
       "55  FBgn0011726  HpoEggL -10.703588\n",
       "60  FBgn0016917  HpoEggL -10.703588\n",
       "63  FBgn0023540  HpoEggL -10.703588\n",
       "71  FBgn0035640  HpoEggL  -5.655873\n",
       "72  FBgn0036136  HpoEggL -10.703588\n",
       "80  FBgn0043903  HpoEggL  -5.630508"
      ]
     },
     "execution_count": 243,
     "metadata": {},
     "output_type": "execute_result"
    }
   ],
   "source": [
    "d[d['Z'].abs() >= 5]"
   ]
  },
  {
   "cell_type": "code",
   "execution_count": 244,
   "metadata": {},
   "outputs": [],
   "source": [
    "d = data[(data['FbID'].isin(connectors[connectors['Module'] == 'xRNAiFec']['FbID'].values)) & (data['Screen'] == 'EggL')]"
   ]
  },
  {
   "cell_type": "code",
   "execution_count": 245,
   "metadata": {},
   "outputs": [],
   "source": [
    "eggl_pred= len(d[d['Z'].abs() >= 5])/len(d)\n",
    "eggl_pred_tot= len(d[d['Z'].abs() >= 5])\n",
    "eggl_genes = set(d['FbID'].values)"
   ]
  },
  {
   "cell_type": "code",
   "execution_count": 246,
   "metadata": {},
   "outputs": [
    {
     "data": {
      "text/plain": [
       "10"
      ]
     },
     "execution_count": 246,
     "metadata": {},
     "output_type": "execute_result"
    }
   ],
   "source": [
    "len(d)"
   ]
  },
  {
   "cell_type": "code",
   "execution_count": 247,
   "metadata": {},
   "outputs": [],
   "source": [
    "results = [\n",
    "    ['Ova#', ova_pred, ova_pred_tot],\n",
    "    ['HpoEggL', hpoeggl_pred, hpoeggl_pred_tot],\n",
    "    ['EggL', eggl_pred, eggl_pred_tot]\n",
    "]\n",
    "results = pd.DataFrame(results, columns=['Screen', 'Prediction Rate', 'Total nb genes'])"
   ]
  },
  {
   "cell_type": "code",
   "execution_count": 248,
   "metadata": {},
   "outputs": [
    {
     "data": {
      "text/html": [
       "<div>\n",
       "<style>\n",
       "    .dataframe thead tr:only-child th {\n",
       "        text-align: right;\n",
       "    }\n",
       "\n",
       "    .dataframe thead th {\n",
       "        text-align: left;\n",
       "    }\n",
       "\n",
       "    .dataframe tbody tr th {\n",
       "        vertical-align: top;\n",
       "    }\n",
       "</style>\n",
       "<table border=\"1\" class=\"dataframe\">\n",
       "  <thead>\n",
       "    <tr style=\"text-align: right;\">\n",
       "      <th></th>\n",
       "      <th>Screen</th>\n",
       "      <th>Prediction Rate</th>\n",
       "      <th>Total nb genes</th>\n",
       "    </tr>\n",
       "  </thead>\n",
       "  <tbody>\n",
       "    <tr>\n",
       "      <th>0</th>\n",
       "      <td>Ova#</td>\n",
       "      <td>0.285714</td>\n",
       "      <td>2</td>\n",
       "    </tr>\n",
       "    <tr>\n",
       "      <th>1</th>\n",
       "      <td>HpoEggL</td>\n",
       "      <td>0.411765</td>\n",
       "      <td>7</td>\n",
       "    </tr>\n",
       "    <tr>\n",
       "      <th>2</th>\n",
       "      <td>EggL</td>\n",
       "      <td>0.000000</td>\n",
       "      <td>0</td>\n",
       "    </tr>\n",
       "  </tbody>\n",
       "</table>\n",
       "</div>"
      ],
      "text/plain": [
       "    Screen  Prediction Rate  Total nb genes\n",
       "0     Ova#         0.285714               2\n",
       "1  HpoEggL         0.411765               7\n",
       "2     EggL         0.000000               0"
      ]
     },
     "execution_count": 248,
     "metadata": {},
     "output_type": "execute_result"
    }
   ],
   "source": [
    "results"
   ]
  },
  {
   "cell_type": "code",
   "execution_count": 249,
   "metadata": {},
   "outputs": [
    {
     "data": {
      "image/png": "[encoded data removed]",
      "text/plain": [
       "<Figure size 288x288 with 1 Axes>"
      ]
     },
     "metadata": {
      "needs_background": "light"
     },
     "output_type": "display_data"
    }
   ],
   "source": [
    "\n",
    "fig = plt.figure(figsize=(4,4))\n",
    "sns.barplot(data=results, x='Screen', y='Prediction Rate', color=\"Gray\")\n",
    "plt.title(\"Module Prediction Rate\")\n",
    "plt.ylabel('Prediction rate')\n",
    "fig.savefig(os.path.join(resultpath, \"Pred_Module_rate.svg\"))\n",
    "fig.savefig(os.path.join(resultpath, \"Pred_Module_rate.png\"))\n",
    "fig.savefig(os.path.join(resultpath, \"Pred_Module_rate.pdf\"))"
   ]
  },
  {
   "cell_type": "code",
   "execution_count": 250,
   "metadata": {},
   "outputs": [
    {
     "data": {
      "text/plain": [
       "10"
      ]
     },
     "execution_count": 250,
     "metadata": {},
     "output_type": "execute_result"
    }
   ],
   "source": [
    "len(connectors[connectors['Module'] == 'Core']['FbID'].values)"
   ]
  },
  {
   "cell_type": "code",
   "execution_count": 251,
   "metadata": {},
   "outputs": [],
   "source": [
    "d = data[data['Screen'] == 'Ova#']\n",
    "ova_genes= set(d[d['Z'].abs() >= 2]['FbID'])\n",
    "d = data[data['Screen'] == 'HpoEggL']\n",
    "hpoeggl_genes= set(d[d['Z'].abs() >= 5]['FbID'])\n",
    "d = data[data['Screen'] == 'EggL']\n",
    "eggl_genes= set(d[d['Z'].abs() >= 5]['FbID'])"
   ]
  },
  {
   "cell_type": "code",
   "execution_count": 252,
   "metadata": {
    "scrolled": true
   },
   "outputs": [
    {
     "name": "stdout",
     "output_type": "stream",
     "text": [
      "Number of Core Positive genes accorss all tested genes (not module restricted)\n"
     ]
    },
    {
     "data": {
      "text/plain": [
       "8"
      ]
     },
     "execution_count": 252,
     "metadata": {},
     "output_type": "execute_result"
    }
   ],
   "source": [
    "print(\"Number of Core Positive genes accorss all tested genes (not module restricted)\")\n",
    "len(set.intersection(ova_genes, hpoeggl_genes, eggl_genes))"
   ]
  },
  {
   "cell_type": "code",
   "execution_count": 253,
   "metadata": {},
   "outputs": [],
   "source": [
    "d = data[(data['FbID'].isin(connectors[connectors['Module'] == 'Core']['FbID'].values))]"
   ]
  },
  {
   "cell_type": "code",
   "execution_count": 254,
   "metadata": {},
   "outputs": [],
   "source": [
    "d_pos = d[((d['Z'].abs() >= 2) & (d['Screen'] == 'Ova#')) | ((d['Z'].abs() >= 5) & (d['Screen'] != 'Ova#'))]"
   ]
  },
  {
   "cell_type": "code",
   "execution_count": 255,
   "metadata": {},
   "outputs": [],
   "source": [
    "core_pred = d_pos.groupby('Screen').count()/d.groupby('Screen').count()\n",
    "core_pred_tot = d_pos.groupby('Screen').count()"
   ]
  },
  {
   "cell_type": "code",
   "execution_count": 256,
   "metadata": {},
   "outputs": [
    {
     "data": {
      "text/html": [
       "<div>\n",
       "<style>\n",
       "    .dataframe thead tr:only-child th {\n",
       "        text-align: right;\n",
       "    }\n",
       "\n",
       "    .dataframe thead th {\n",
       "        text-align: left;\n",
       "    }\n",
       "\n",
       "    .dataframe tbody tr th {\n",
       "        vertical-align: top;\n",
       "    }\n",
       "</style>\n",
       "<table border=\"1\" class=\"dataframe\">\n",
       "  <thead>\n",
       "    <tr style=\"text-align: right;\">\n",
       "      <th></th>\n",
       "      <th>FbID</th>\n",
       "      <th>Z</th>\n",
       "    </tr>\n",
       "    <tr>\n",
       "      <th>Screen</th>\n",
       "      <th></th>\n",
       "      <th></th>\n",
       "    </tr>\n",
       "  </thead>\n",
       "  <tbody>\n",
       "    <tr>\n",
       "      <th>EggL</th>\n",
       "      <td>1</td>\n",
       "      <td>1</td>\n",
       "    </tr>\n",
       "    <tr>\n",
       "      <th>HpoEggL</th>\n",
       "      <td>2</td>\n",
       "      <td>2</td>\n",
       "    </tr>\n",
       "    <tr>\n",
       "      <th>Ova#</th>\n",
       "      <td>4</td>\n",
       "      <td>4</td>\n",
       "    </tr>\n",
       "  </tbody>\n",
       "</table>\n",
       "</div>"
      ],
      "text/plain": [
       "         FbID  Z\n",
       "Screen          \n",
       "EggL        1  1\n",
       "HpoEggL     2  2\n",
       "Ova#        4  4"
      ]
     },
     "execution_count": 256,
     "metadata": {},
     "output_type": "execute_result"
    }
   ],
   "source": [
    "core_pred_tot"
   ]
  },
  {
   "cell_type": "code",
   "execution_count": 257,
   "metadata": {},
   "outputs": [],
   "source": [
    "core_pred = core_pred.reset_index()"
   ]
  },
  {
   "cell_type": "code",
   "execution_count": 258,
   "metadata": {},
   "outputs": [],
   "source": [
    "toadd = pd.DataFrame([['All3', 0.1, 0.1]], columns=core_pred.columns)\n",
    "core_pred = core_pred.append(toadd)"
   ]
  },
  {
   "cell_type": "code",
   "execution_count": 259,
   "metadata": {},
   "outputs": [
    {
     "data": {
      "image/png": "[encoded data removed]",
      "text/plain": [
       "<Figure size 288x288 with 1 Axes>"
      ]
     },
     "metadata": {
      "needs_background": "light"
     },
     "output_type": "display_data"
    }
   ],
   "source": [
    "fig = plt.figure(figsize=(4,4))\n",
    "\n",
    "sns.barplot(data=core_pred, x='Screen', y='Z', color='Gray')\n",
    "plt.ylabel('Prediction Rate per screen')\n",
    "plt.title(\"Core Module prediction rate breakdown\")\n",
    "fig.savefig(os.path.join(resultpath, \"Pred_Core_Module_breakdown.svg\"))\n",
    "fig.savefig(os.path.join(resultpath, \"Pred_Core_Module_breakdown.png\"))\n",
    "fig.savefig(os.path.join(resultpath, \"Pred_Core_Module_breakdown.pdf\"))"
   ]
  },
  {
   "cell_type": "markdown",
   "metadata": {},
   "source": [
    "# Calculating the binomial test p-value to see if the predictions has a higher than expected probability "
   ]
  },
  {
   "cell_type": "code",
   "execution_count": 330,
   "metadata": {},
   "outputs": [],
   "source": [
    "from scipy.stats import binom_test"
   ]
  },
  {
   "cell_type": "code",
   "execution_count": 353,
   "metadata": {},
   "outputs": [],
   "source": [
    "data = mean_ova_gene[['FbID','Z']].merge(mean_fec_gene[['FbID','Z']], on='FbID').merge(mean_xRNAi_gene[['FbID','Z']], on='FbID')\n",
    "data.columns = ['FbID', 'Ova#', 'HpoEggL', 'EggL']\n",
    "data = data.melt(id_vars =['FbID'])  \n",
    "data = data[data['FbID'] != 'Control']\n",
    "data.columns = ['FbID', 'Screen', 'Z']\n",
    "to_keep = data[(data[\"Screen\"] == \"HpoEggL\") & (data['Z'].abs() > 1)]['FbID']\n",
    "data = pd.concat([data[(data['FbID'].isin(to_keep)) & (data[\"Screen\"] != \"HpoEggL\")], data[(data[\"Screen\"] == \"HpoEggL\")]])\n",
    "d_neg = data[((data['Z'].abs() < 2) & (data['Screen'] == 'Ova#')) | ((data['Z'].abs() < 5) & (data['Screen'] != 'Ova#'))]\n",
    "d_pos = data[((data['Z'].abs() >= 2) & (data['Screen'] == 'Ova#')) | ((data['Z'].abs() >= 5) & (data['Screen'] != 'Ova#'))]\n",
    "predrate = d_pos.groupby('Screen').count() / data.groupby('Screen').count()\n",
    "predrate = predrate.reset_index()"
   ]
  },
  {
   "cell_type": "code",
   "execution_count": 354,
   "metadata": {},
   "outputs": [],
   "source": [
    "ova_pos = d_pos[d_pos['Screen'] == \"Ova#\"]['FbID'].values\n",
    "fec_pos = d_pos[d_pos['Screen'] == \"HpoEggL\"]['FbID'].values\n",
    "xRNAi_pos = d_pos[d_pos['Screen'] == \"EggL\"]['FbID'].values"
   ]
  },
  {
   "cell_type": "code",
   "execution_count": 355,
   "metadata": {},
   "outputs": [],
   "source": [
    "core_pos = set.intersection(set(xRNAi_pos), set(ova_pos), set(fec_pos))"
   ]
  },
  {
   "cell_type": "code",
   "execution_count": 369,
   "metadata": {},
   "outputs": [],
   "source": [
    "core_predrate = [['Core', len(core_pos)/len(data[data['Screen'] == 'EggL']), len(core_pos)/len(data[data['Screen'] == 'EggL'])]]\n",
    "core_predrate = pd.DataFrame(core_predrate, columns=predrate.columns)"
   ]
  },
  {
   "cell_type": "code",
   "execution_count": 371,
   "metadata": {},
   "outputs": [],
   "source": [
    "predrate = predrate.append(core_predrate).reset_index(drop=True)"
   ]
  },
  {
   "cell_type": "code",
   "execution_count": 275,
   "metadata": {},
   "outputs": [],
   "source": [
    "data_path = '../Data/'"
   ]
  },
  {
   "cell_type": "code",
   "execution_count": 373,
   "metadata": {},
   "outputs": [],
   "source": [
    "# We load the CSV files we just created\n",
    "hipo_ova_screen = pd.read_csv(os.path.join(data_path, 'Screen', 'hipo_ova_clean.csv'))\n",
    "hipo_fec_screen = pd.read_csv(os.path.join(data_path, 'Screen', 'hipo_fec_clean.csv'))\n",
    "xRNAi_fec_screen = pd.read_csv(os.path.join(data_path, 'Screen', 'xRNAi_fec_clean.csv'))"
   ]
  },
  {
   "cell_type": "code",
   "execution_count": 374,
   "metadata": {},
   "outputs": [],
   "source": [
    "# Next we calculate all the Zscore means \n",
    "# We group the dataset by gene (FbID) and we take the mean for each.\n",
    "\n",
    "# Ovariole number screen\n",
    "mean_ova_gene_screen = hipo_ova_screen.groupby('FbID', as_index=False).mean()\n",
    "\n",
    "# Here we only consider the sum of egg layed for 5 days\n",
    "\n",
    "# Hippo RNAi Egg Laying screen\n",
    "mean_fec_gene_screen = hipo_fec_screen[hipo_fec_screen['Condition'] == 'Sum'].groupby('FbID', as_index=False).mean()\n",
    "\n",
    "# Egg Laying Screen\n",
    "mean_xRNAi_gene_screen = xRNAi_fec_screen[xRNAi_fec_screen['Condition'] == 'Sum'].groupby('FbID', as_index=False).mean()\n"
   ]
  },
  {
   "cell_type": "code",
   "execution_count": 375,
   "metadata": {},
   "outputs": [],
   "source": [
    "# We define the thresholds for selecting a candidate \n",
    "# Ovariole number at 2 and EggL at 5\n",
    "ova_threshold = 2\n",
    "eggl_threshold = 5"
   ]
  },
  {
   "cell_type": "code",
   "execution_count": 294,
   "metadata": {},
   "outputs": [],
   "source": [
    "# Ovariole number screen\n",
    "# Keep only genes with a Zscore over or equal to 2\n",
    "Zposneg_ova_screen = mean_ova_gene_screen[(mean_ova_gene_screen['Z'].abs()>=ova_threshold)]['FbID'].values\n",
    "# Filter out the controls\n",
    "Zposneg_ova_screen = [i for i in Zposneg_ova_screen if 'FBgn' in i]\n",
    "\n",
    "# Hippo RNAi Egg Laying screen\n",
    "# Keep only genes with a Zscore over or equal to 5\n",
    "Zposneg_fec_screen = mean_fec_gene_screen[(mean_fec_gene_screen['Z'].abs()>=eggl_threshold)]['FbID'].values\n",
    "# Filter out the controls\n",
    "Zposneg_fec_screen = [i for i in Zposneg_fec_screen if 'FBgn' in i]\n",
    "\n",
    "# Egg Laying Screen\n",
    "# Keep only genes with a Zscore over or equal to 5\n",
    "Zposneg_xRNAi_screen = mean_xRNAi_gene_screen[(mean_xRNAi_gene_screen['Z'].abs()>=eggl_threshold)]['FbID'].values\n",
    "# Filter out the controls\n",
    "Zposneg_xRNAi_screen = [i for i in Zposneg_xRNAi_screen if 'FBgn' in i]"
   ]
  },
  {
   "cell_type": "code",
   "execution_count": 376,
   "metadata": {},
   "outputs": [],
   "source": [
    "core_posneg = set.intersection(set(Zposneg_ova_screen), set(Zposneg_fec_screen), set(Zposneg_xRNAi_screen))"
   ]
  },
  {
   "cell_type": "code",
   "execution_count": 378,
   "metadata": {},
   "outputs": [
    {
     "data": {
      "text/plain": [
       "27"
      ]
     },
     "execution_count": 378,
     "metadata": {},
     "output_type": "execute_result"
    }
   ],
   "source": [
    "len(core_posneg)"
   ]
  },
  {
   "cell_type": "code",
   "execution_count": 379,
   "metadata": {},
   "outputs": [],
   "source": [
    "screen_background_pred = [\n",
    "    [\"EggL\", len(Zposneg_xRNAi_screen)/(len(mean_xRNAi_gene_screen['FbID'].unique()) - 1)],\n",
    "    [\"HpoEggL\", len(Zposneg_fec_screen)/(len(mean_fec_gene_screen['FbID'].unique()) - 1)],\n",
    "    [\"Ova#\", len(Zposneg_ova_screen)/(len(mean_ova_gene_screen['FbID'].unique()) - 1)],\n",
    "    [\"Core\", len(core_posneg)/(len(mean_ova_gene_screen['FbID'].unique()) - 1)]\n",
    "]"
   ]
  },
  {
   "cell_type": "code",
   "execution_count": 380,
   "metadata": {},
   "outputs": [
    {
     "data": {
      "text/html": [
       "<div>\n",
       "<style>\n",
       "    .dataframe thead tr:only-child th {\n",
       "        text-align: right;\n",
       "    }\n",
       "\n",
       "    .dataframe thead th {\n",
       "        text-align: left;\n",
       "    }\n",
       "\n",
       "    .dataframe tbody tr th {\n",
       "        vertical-align: top;\n",
       "    }\n",
       "</style>\n",
       "<table border=\"1\" class=\"dataframe\">\n",
       "  <thead>\n",
       "    <tr style=\"text-align: right;\">\n",
       "      <th></th>\n",
       "      <th>Screen</th>\n",
       "      <th>Prediction Rate</th>\n",
       "    </tr>\n",
       "  </thead>\n",
       "  <tbody>\n",
       "    <tr>\n",
       "      <th>0</th>\n",
       "      <td>EggL</td>\n",
       "      <td>0.179487</td>\n",
       "    </tr>\n",
       "    <tr>\n",
       "      <th>1</th>\n",
       "      <td>HpoEggL</td>\n",
       "      <td>0.127430</td>\n",
       "    </tr>\n",
       "    <tr>\n",
       "      <th>2</th>\n",
       "      <td>Ova#</td>\n",
       "      <td>0.245421</td>\n",
       "    </tr>\n",
       "    <tr>\n",
       "      <th>3</th>\n",
       "      <td>Core</td>\n",
       "      <td>0.098901</td>\n",
       "    </tr>\n",
       "  </tbody>\n",
       "</table>\n",
       "</div>"
      ],
      "text/plain": [
       "    Screen  Prediction Rate\n",
       "0     EggL         0.179487\n",
       "1  HpoEggL         0.127430\n",
       "2     Ova#         0.245421\n",
       "3     Core         0.098901"
      ]
     },
     "execution_count": 380,
     "metadata": {},
     "output_type": "execute_result"
    }
   ],
   "source": [
    "screen_background_pred = pd.DataFrame(screen_background_pred, columns=['Screen', 'Prediction Rate'])\n",
    "screen_background_pred"
   ]
  },
  {
   "cell_type": "code",
   "execution_count": 381,
   "metadata": {},
   "outputs": [
    {
     "data": {
      "text/html": [
       "<div>\n",
       "<style>\n",
       "    .dataframe thead tr:only-child th {\n",
       "        text-align: right;\n",
       "    }\n",
       "\n",
       "    .dataframe thead th {\n",
       "        text-align: left;\n",
       "    }\n",
       "\n",
       "    .dataframe tbody tr th {\n",
       "        vertical-align: top;\n",
       "    }\n",
       "</style>\n",
       "<table border=\"1\" class=\"dataframe\">\n",
       "  <thead>\n",
       "    <tr style=\"text-align: right;\">\n",
       "      <th></th>\n",
       "      <th>Screen</th>\n",
       "      <th>FbID</th>\n",
       "      <th>Z</th>\n",
       "    </tr>\n",
       "  </thead>\n",
       "  <tbody>\n",
       "    <tr>\n",
       "      <th>0</th>\n",
       "      <td>EggL</td>\n",
       "      <td>0.312500</td>\n",
       "      <td>0.312500</td>\n",
       "    </tr>\n",
       "    <tr>\n",
       "      <th>1</th>\n",
       "      <td>HpoEggL</td>\n",
       "      <td>0.309524</td>\n",
       "      <td>0.309524</td>\n",
       "    </tr>\n",
       "    <tr>\n",
       "      <th>2</th>\n",
       "      <td>Ova#</td>\n",
       "      <td>0.375000</td>\n",
       "      <td>0.375000</td>\n",
       "    </tr>\n",
       "    <tr>\n",
       "      <th>3</th>\n",
       "      <td>Core</td>\n",
       "      <td>0.250000</td>\n",
       "      <td>0.250000</td>\n",
       "    </tr>\n",
       "  </tbody>\n",
       "</table>\n",
       "</div>"
      ],
      "text/plain": [
       "    Screen      FbID         Z\n",
       "0     EggL  0.312500  0.312500\n",
       "1  HpoEggL  0.309524  0.309524\n",
       "2     Ova#  0.375000  0.375000\n",
       "3     Core  0.250000  0.250000"
      ]
     },
     "execution_count": 381,
     "metadata": {},
     "output_type": "execute_result"
    }
   ],
   "source": [
    "predrate"
   ]
  },
  {
   "cell_type": "code",
   "execution_count": 384,
   "metadata": {},
   "outputs": [
    {
     "name": "stdout",
     "output_type": "stream",
     "text": [
      "EggL 0.0485435124625\n",
      "HpoEggL 0.00161476408325\n",
      "Ova# 0.0714195303891\n",
      "Core 0.0109652569482\n"
     ]
    }
   ],
   "source": [
    "for screen in screen_background_pred['Screen']:\n",
    "    if screen != 'Core':\n",
    "        pos = len(d_pos[d_pos['Screen'] == screen])\n",
    "        trials = len(data[data['Screen'] == screen])\n",
    "    else:\n",
    "        pos = len(core_pos)\n",
    "        trials = 32\n",
    "    p = screen_background_pred[screen_background_pred['Screen'] == screen]['Prediction Rate'].values[0]\n",
    "    print(screen, binom_test(pos, trials, p, alternative='greater'))"
   ]
  },
  {
   "cell_type": "markdown",
   "metadata": {},
   "source": [
    "### New version of Figure 7 merging c and d"
   ]
  },
  {
   "cell_type": "code",
   "execution_count": 385,
   "metadata": {},
   "outputs": [],
   "source": [
    "predrate['Prediction Rate'] = predrate['Z']"
   ]
  },
  {
   "cell_type": "code",
   "execution_count": 386,
   "metadata": {},
   "outputs": [],
   "source": [
    "del predrate['FbID']\n",
    "del predrate['Z']"
   ]
  },
  {
   "cell_type": "code",
   "execution_count": 387,
   "metadata": {},
   "outputs": [],
   "source": [
    "predrate['Type'] = \"Predicted\"\n",
    "screen_background_pred['Type'] = \"Signaling Screen\""
   ]
  },
  {
   "cell_type": "code",
   "execution_count": 388,
   "metadata": {},
   "outputs": [],
   "source": [
    "d = predrate.append(screen_background_pred)"
   ]
  },
  {
   "cell_type": "code",
   "execution_count": 389,
   "metadata": {},
   "outputs": [
    {
     "data": {
      "text/html": [
       "<div>\n",
       "<style>\n",
       "    .dataframe thead tr:only-child th {\n",
       "        text-align: right;\n",
       "    }\n",
       "\n",
       "    .dataframe thead th {\n",
       "        text-align: left;\n",
       "    }\n",
       "\n",
       "    .dataframe tbody tr th {\n",
       "        vertical-align: top;\n",
       "    }\n",
       "</style>\n",
       "<table border=\"1\" class=\"dataframe\">\n",
       "  <thead>\n",
       "    <tr style=\"text-align: right;\">\n",
       "      <th></th>\n",
       "      <th>Screen</th>\n",
       "      <th>Prediction Rate</th>\n",
       "      <th>Type</th>\n",
       "    </tr>\n",
       "  </thead>\n",
       "  <tbody>\n",
       "    <tr>\n",
       "      <th>0</th>\n",
       "      <td>EggL</td>\n",
       "      <td>0.312500</td>\n",
       "      <td>Predicted</td>\n",
       "    </tr>\n",
       "    <tr>\n",
       "      <th>1</th>\n",
       "      <td>HpoEggL</td>\n",
       "      <td>0.309524</td>\n",
       "      <td>Predicted</td>\n",
       "    </tr>\n",
       "    <tr>\n",
       "      <th>2</th>\n",
       "      <td>Ova#</td>\n",
       "      <td>0.375000</td>\n",
       "      <td>Predicted</td>\n",
       "    </tr>\n",
       "    <tr>\n",
       "      <th>3</th>\n",
       "      <td>Core</td>\n",
       "      <td>0.250000</td>\n",
       "      <td>Predicted</td>\n",
       "    </tr>\n",
       "    <tr>\n",
       "      <th>0</th>\n",
       "      <td>EggL</td>\n",
       "      <td>0.179487</td>\n",
       "      <td>Signaling Screen</td>\n",
       "    </tr>\n",
       "    <tr>\n",
       "      <th>1</th>\n",
       "      <td>HpoEggL</td>\n",
       "      <td>0.127430</td>\n",
       "      <td>Signaling Screen</td>\n",
       "    </tr>\n",
       "    <tr>\n",
       "      <th>2</th>\n",
       "      <td>Ova#</td>\n",
       "      <td>0.245421</td>\n",
       "      <td>Signaling Screen</td>\n",
       "    </tr>\n",
       "    <tr>\n",
       "      <th>3</th>\n",
       "      <td>Core</td>\n",
       "      <td>0.098901</td>\n",
       "      <td>Signaling Screen</td>\n",
       "    </tr>\n",
       "  </tbody>\n",
       "</table>\n",
       "</div>"
      ],
      "text/plain": [
       "    Screen  Prediction Rate              Type\n",
       "0     EggL         0.312500         Predicted\n",
       "1  HpoEggL         0.309524         Predicted\n",
       "2     Ova#         0.375000         Predicted\n",
       "3     Core         0.250000         Predicted\n",
       "0     EggL         0.179487  Signaling Screen\n",
       "1  HpoEggL         0.127430  Signaling Screen\n",
       "2     Ova#         0.245421  Signaling Screen\n",
       "3     Core         0.098901  Signaling Screen"
      ]
     },
     "execution_count": 389,
     "metadata": {},
     "output_type": "execute_result"
    }
   ],
   "source": [
    "d"
   ]
  },
  {
   "cell_type": "code",
   "execution_count": 390,
   "metadata": {},
   "outputs": [
    {
     "data": {
      "image/png": "[encoded data removed]",
      "text/plain": [
       "<Figure size 576x288 with 1 Axes>"
      ]
     },
     "metadata": {
      "needs_background": "light"
     },
     "output_type": "display_data"
    }
   ],
   "source": [
    "fig = plt.figure(figsize=(8, 4))\n",
    "\n",
    "sns.barplot(data=d, x=\"Screen\", y=\"Prediction Rate\", hue=\"Type\")\n",
    "\n",
    "fig.savefig(os.path.join(resultpath, \"Figures\", \"Pred_Screen_VS_Predicted.svg\"))"
   ]
  },
  {
   "cell_type": "code",
   "execution_count": null,
   "metadata": {},
   "outputs": [],
   "source": [
    "sns.barplot(data=core_pred, x='Screen', y='Z', color='Gray')\n",
    "plt.ylabel('Prediction Rate per screen')\n",
    "plt.title(\"Core Module prediction rate breakdown\")\n",
    "fig.savefig(os.path.join(resultpath, \"Pred_Core_Module_breakdown.png\"))\n",
    "fig.savefig(os.path.join(resultpath, \"Pred_Core_Module_breakdown.pdf\"))"
   ]
  }
 ],
 "metadata": {
  "kernelspec": {
   "display_name": "Python 3",
   "language": "python",
   "name": "python3"
  },
  "language_info": {
   "codemirror_mode": {
    "name": "ipython",
    "version": 3
   },
   "file_extension": ".py",
   "mimetype": "text/x-python",
   "name": "python",
   "nbconvert_exporter": "python",
   "pygments_lexer": "ipython3",
   "version": "3.5.6"
  }
 },
 "nbformat": 4,
 "nbformat_minor": 2
}
