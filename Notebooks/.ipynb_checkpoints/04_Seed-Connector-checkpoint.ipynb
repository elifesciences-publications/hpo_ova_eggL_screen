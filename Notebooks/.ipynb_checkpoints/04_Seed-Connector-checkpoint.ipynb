{
 "cells": [
  {
   "cell_type": "code",
   "execution_count": 1,
   "metadata": {},
   "outputs": [],
   "source": [
    "import networkx as nx\n",
    "import numpy as np\n",
    "import seaborn as sns\n",
    "import matplotlib.pyplot as plt\n",
    "import pandas as pd\n",
    "import os\n",
    "import time\n",
    "sns.set()\n",
    "\n",
    "%matplotlib inline"
   ]
  },
  {
   "cell_type": "markdown",
   "metadata": {},
   "source": [
    "# Implementing the Seed-Connector algorithm\n",
    "\n",
    "As per Supp info https://www.ncbi.nlm.nih.gov/pmc/articles/PMC5453712/bin/jciinsight-2-93911-s001.pdf\n",
    "\n",
    "- Step 1. Assume that the seed genes induce a subnetwork. Calculate the size of the largest connected\n",
    "component (LCC) of the subnetwork.\n",
    "- Step 2. Consider all the interactors of the seed genes as identified from the human interactome.\n",
    "Add each interactor temporarily to the seed gene list one-by-one. Obtain the subnetwork induced\n",
    "by this temporary seed gene list and determine the size of its LCC.\n",
    "- Step 3. Select those interactors that can increase the coverage of seeds in the LCC of the\n",
    "subnetwork maximally, and add them to the seed gene list."
   ]
  },
  {
   "cell_type": "code",
   "execution_count": 2,
   "metadata": {},
   "outputs": [],
   "source": [
    "class SeedConnector:\n",
    "    def __init__(self, G, seeds):\n",
    "        \"Seed Connectorm algorithm, takes a PPI and a seed list as initializer\"\n",
    "        self.G = G # That is our PPI\n",
    "        self.seeds = seeds # That is our seed list\n",
    "        \n",
    "    def getLCC(self, subG):\n",
    "        \"Return the largest connect component of a graph\"\n",
    "        largest_cc = max(nx.connected_components(subG), key=len)\n",
    "        return largest_cc\n",
    "    \n",
    "    def getSubG(self, nodes):\n",
    "        \"Return the subgraph from a list of nodes\"\n",
    "        subG = self.G.subgraph(nodes)\n",
    "        return subG\n",
    "    \n",
    "    def getNeighbors(self, subG):\n",
    "        \"Return the list of neighbors of a list of node\"\n",
    "        # Define a buffer array to hold the data\n",
    "        neighbors = []\n",
    "        # iterate over all the node in the subgraph\n",
    "        for node in subG.nodes():\n",
    "            # Grab all connected nodes to that node from the PPI\n",
    "            neig = list(self.G[node].keys())\n",
    "            # Add the new neighbors to the list of neighbors\n",
    "            neighbors += [n for n in neig if n not in neighbors]\n",
    "        # Filter out the nodes that are already in the module (no need to test it twice)\n",
    "        neighbors = [n for n in neighbors if n not in subG.nodes()]\n",
    "        return neighbors\n",
    "    \n",
    "    def run(self):\n",
    "        \"Run the Seed connector algorithm\"\n",
    "        t0 = time.time()\n",
    "        # Get the seed subgraph\n",
    "        subG = self.getSubG(self.seeds)\n",
    "        # Get the seed subgraph LCC\n",
    "        initLCC = self.getLCC(subG)\n",
    "        # Save the size of the LCC as the old coverage (at the moment our LCC is the best we have)\n",
    "        oldCoverage = len(initLCC)\n",
    "        # Init the new size of the Coverage to 0 (will be updated in the update step below) \n",
    "        newCoverage = 0\n",
    "        # Initialize the current module as the seeds\n",
    "        module = [i for i in self.seeds]\n",
    "        # Define a logger dictionary to store the data\n",
    "        progress = {'Coverage':[], 'LCC':[], 'Size':[], 'step':{}, 'path':[]}\n",
    "        # Define an iteration counter\n",
    "        c = 0\n",
    "        print(\"Starting with \",len(self.seeds),\" seeds\")\n",
    "        print(\"{} are in the PPI\".format(len(subG)))\n",
    "        print(\"{} are missing\".format([s for s in self.seeds if s not in subG]))\n",
    "        # As long as adding nodes to the module increases the Coverage\n",
    "        # Continue with a new iteration step\n",
    "        while newCoverage != oldCoverage:\n",
    "            # If the coverage is OVER the number of seeds we have saturated the module and stop\n",
    "            if newCoverage > len(self.seeds):\n",
    "                break\n",
    "            # Save the newCoverage to the OldCoverage so we can compare between each step\n",
    "            oldCoverage = newCoverage\n",
    "            # Create a temporary result array\n",
    "            result = []\n",
    "            # We get the SubGraph of the current module\n",
    "            subG = self.getSubG(module)\n",
    "            # We get all the neighbors of the module\n",
    "            neighbors = self.getNeighbors(subG)\n",
    "            # Iterate over all the neighbors and calculate the result of adding this node\n",
    "            for neig in neighbors:\n",
    "                # Define the new new module\n",
    "                newmodule = module + [neig]\n",
    "                # Get the subGraph for this new module\n",
    "                newsubG = self.getSubG(newmodule)\n",
    "                # Get the LCC for this new module\n",
    "                neigLCC = self.getLCC(newsubG)\n",
    "                # Now we calculate the coverage of this module, we init coverage at 0\n",
    "                coverage = 0\n",
    "                # Iterate over all the seed genes\n",
    "                for gene in self.seeds:\n",
    "                    # If the seed gene is in the LCC of the new module\n",
    "                    if gene in neigLCC:\n",
    "                        # We increase the coverage by 1 \n",
    "                        coverage += 1\n",
    "                # We save this result into our temporary results list\n",
    "                result.append((neig, coverage, len(neigLCC)))\n",
    "            # We sort the results by coverage lambda x: x[0] -> gene name from above\n",
    "            result = sorted(result, reverse=True, key=lambda x: x[0])\n",
    "            # We grab the best coverage\n",
    "            bestcoverage = max(result, key=lambda x: x[1])[1]\n",
    "            # We fix the seed so we get repeatable randomness\n",
    "            np.random.seed(65165744)\n",
    "            # We take a random gene from the list of best genes, if there are multiple best genes\n",
    "            bestgene = np.random.choice([gene[0] for gene in result if gene[1] == bestcoverage])\n",
    "            # we select the max coverage -> [0][1] \n",
    "            newCoverage = bestcoverage\n",
    "            # And save the LCC size\n",
    "            LCC = [gene[2] for gene in result if gene[0] == bestgene][0]\n",
    "            # And we add the new gene to our module\n",
    "            module.append(bestgene)\n",
    "            # We log all the values into our logging progress\n",
    "            print(\"New coverage:\", newCoverage, \"Old coverage:\", oldCoverage, \"Module Size:\", len(module), \"LCC:\", LCC)\n",
    "            progress['Coverage'].append(newCoverage)\n",
    "            progress['LCC'].append(LCC)\n",
    "            progress['Size'].append(len(module))\n",
    "            progress['step'][c] = module\n",
    "            progress['path'].append(bestgene)\n",
    "            # Increase our iteration step\n",
    "            c+=1\n",
    "            # Go back to the top and repeat until we cannot increase the coverage anymore.\n",
    "        # Because the algorithm finishes on adding the \"best\" increase, the last step did not increase the coverage\n",
    "        # But we still added the gene to the module list\n",
    "        # Therefore we must remove the last added element\n",
    "        module.pop()\n",
    "        print(\"Execution time: \", time.time() - t0)\n",
    "        return module, progress"
   ]
  },
  {
   "cell_type": "markdown",
   "metadata": {},
   "source": [
    "# Loading the datasets\n",
    "\n",
    "We load the different results from the 3 screens, the results from the prediction, the *Drodophila melanogaster* PPI network, and the signaling pathway information for each genes.\n",
    "\n",
    "\n",
    "Accross the analysis the following names are used for the 3 screens\n",
    "- ova == Ovariole Number screen\n",
    "- fec == Hippo RNAi EggLaying screen\n",
    "- xRNAi == EggLaying screen"
   ]
  },
  {
   "cell_type": "code",
   "execution_count": 3,
   "metadata": {},
   "outputs": [],
   "source": [
    "datapath = '../Data/'\n",
    "resultpath = '../Results'\n",
    "PPI_ID = \"2018_08\""
   ]
  },
  {
   "cell_type": "code",
   "execution_count": 4,
   "metadata": {},
   "outputs": [],
   "source": [
    "G = nx.read_graphml(os.path.join(datapath, 'PPIs', 'PPI_{}.graphml'.format(PPI_ID)))\n",
    "# G = nx.read_graphml(os.path.join(\"../../../Data/\",'PPI.graphml'))\n",
    "\n",
    "signaling = pd.read_csv(os.path.join(datapath, 'signaling.csv'))\n",
    "\n",
    "hipo_ova = pd.read_csv(os.path.join(datapath, 'Screen', 'hipo_ova_clean.csv'))\n",
    "hipo_fec = pd.read_csv(os.path.join(datapath, 'Screen', 'hipo_fec_clean.csv'))\n",
    "xRNAi_fec = pd.read_csv(os.path.join(datapath, 'Screen', 'xRNAi_fec_clean.csv'))\n",
    "\n",
    "hipo_fec_pred = pd.read_csv(os.path.join(datapath, 'Screen','hipo_fec_clean_pred.csv')) \n",
    "hipo_ova_pred = pd.read_csv(os.path.join(datapath, 'Screen','hipo_ova_clean_pred.csv'))\n",
    "xRNAi_fec_pred = pd.read_csv(os.path.join(datapath, 'Screen','xRNAi_fec_clean_pred.csv'))"
   ]
  },
  {
   "cell_type": "markdown",
   "metadata": {},
   "source": [
    "## Calculate the mean for all datasets "
   ]
  },
  {
   "cell_type": "code",
   "execution_count": 5,
   "metadata": {},
   "outputs": [],
   "source": [
    "# Ovariole number screen\n",
    "mean_ova_gene = hipo_ova.groupby('FbID', as_index=False).mean()\n",
    "mean_ova_gene_pred = hipo_ova_pred.groupby('FbID', as_index=False).mean()\n",
    "\n",
    "# Hippo RNAi Egg Laying screen\n",
    "mean_fec_gene = hipo_fec[hipo_fec['Condition'] == 'Sum'].groupby('FbID', as_index=False).mean()\n",
    "mean_fec_gene_pred = hipo_fec_pred[hipo_fec_pred['Condition'] == 'Sum'].groupby('FbID', as_index=False).mean()\n",
    "\n",
    "# Egg Laying Screen\n",
    "mean_xRNAi_gene = xRNAi_fec[xRNAi_fec['Condition'] == 'Sum'].groupby('FbID', as_index=False).mean()\n",
    "mean_xRNAi_gene_pred = xRNAi_fec_pred[xRNAi_fec_pred['Condition'] == 'Sum'].groupby('FbID', as_index=False).mean()"
   ]
  },
  {
   "cell_type": "markdown",
   "metadata": {},
   "source": [
    "## Define the list of genes that passes threshold cutoff"
   ]
  },
  {
   "cell_type": "markdown",
   "metadata": {},
   "source": [
    "### Threshold definitions"
   ]
  },
  {
   "cell_type": "code",
   "execution_count": 6,
   "metadata": {},
   "outputs": [],
   "source": [
    "ova_threshold = 2\n",
    "eggl_threshold = 5"
   ]
  },
  {
   "cell_type": "code",
   "execution_count": 7,
   "metadata": {},
   "outputs": [],
   "source": [
    "# Ovariole number screen\n",
    "# Keep only genes with a Zscore over or equal to 2\n",
    "Zposneg_ova = mean_ova_gene[(mean_ova_gene['Z'].abs()>=ova_threshold)]['FbID'].values\n",
    "# Filter out the controls\n",
    "Zposneg_ova = [i for i in Zposneg_ova if 'FBgn' in i]\n",
    "\n",
    "# Hippo RNAi Egg Laying screen\n",
    "# Keep only genes with a Zscore over or equal to 5\n",
    "Zposneg_fec = mean_fec_gene[(mean_fec_gene['Z'].abs()>=eggl_threshold)]['FbID'].values\n",
    "# Filter out the controls\n",
    "Zposneg_fec = [i for i in Zposneg_fec if 'FBgn' in i]\n",
    "\n",
    "# Egg Laying Screen\n",
    "# Keep only genes with a Zscore over or equal to 5\n",
    "Zposneg_xRNAi = mean_xRNAi_gene[(mean_xRNAi_gene['Z'].abs()>=eggl_threshold)]['FbID'].values\n",
    "# Filter out the controls\n",
    "Zposneg_xRNAi = [i for i in Zposneg_xRNAi if 'FBgn' in i]"
   ]
  },
  {
   "cell_type": "markdown",
   "metadata": {},
   "source": [
    "## Assert that we have the right number of positive candidates"
   ]
  },
  {
   "cell_type": "code",
   "execution_count": 8,
   "metadata": {},
   "outputs": [],
   "source": [
    "assert(len(Zposneg_ova) == 67)\n",
    "assert(len(Zposneg_fec) == 59)\n",
    "assert(len(Zposneg_xRNAi) == 49)"
   ]
  },
  {
   "cell_type": "markdown",
   "metadata": {},
   "source": [
    "# Building the modules using the Seed-Connector algorithm"
   ]
  },
  {
   "cell_type": "code",
   "execution_count": 12,
   "metadata": {},
   "outputs": [],
   "source": [
    "def build_module(seed):\n",
    "    \"Build the module from a seed list\"\n",
    "    # Instanciate the algorithm with the PPI and the Ovariole network\n",
    "    S = SeedConnector(G, seed)\n",
    "    # Run the computation\n",
    "    module, progress = S.run()\n",
    "    # Plot the progress to make sure the algorithm worked as expected\n",
    "    plt.plot(np.array(progress['LCC'])/np.array(progress['Size']))\n",
    "    plt.xlabel(\"Algorithm steps\")\n",
    "    plt.ylabel(\"LCC/NetworkSize\")\n",
    "    return module\n",
    "\n",
    "def decorate_module(seed, module, screenResults, Zt, predResults=None):\n",
    "    \"Decorate the module Sub Graph with metadata\"\n",
    "    # Create the module by taking its subnetwork from the PPI\n",
    "    subG = G.subgraph(module)\n",
    "    # Iterate over the nodes\n",
    "    for node in subG.nodes():\n",
    "        # If the node is in the seeds decorate it as such\n",
    "        if node in seed:\n",
    "            # Grab the corresponding Zscore \n",
    "            Z = screenResults[screenResults['FbID'] == node]['Z'].values[0]\n",
    "            if Z > 0:\n",
    "                # If it's positive decorate \n",
    "                subG.node[node]['Seed'] = \"Seed_Positive\"\n",
    "            else:\n",
    "                # Else decorate \n",
    "                subG.node[node]['Seed'] = \"Seed_Negative\"\n",
    "            # Save the Z value as absolute and real\n",
    "            subG.node[node]['Z'] = float(Z)\n",
    "            subG.node[node]['Zabs'] = abs(float(Z))\n",
    "        # If the node is not in the seeds, it is a connector\n",
    "        else:\n",
    "            # If it is in the tested extra genes measure file\n",
    "            if node in predResults['FbID'].unique():\n",
    "                # Get the Z score value\n",
    "                Z = predResults[predResults['FbID'] == node]['Z'].values[0]\n",
    "                subG.node[node]['Z'] = float(Z)\n",
    "                subG.node[node]['Zabs'] = abs(float(Z))\n",
    "            # Else set it at 0\n",
    "            else:\n",
    "                print(\"NODE MISSING\", node)\n",
    "                \n",
    "                subG.node[node]['Z'] = 0.0\n",
    "\n",
    "            # If the Z is > 0 decorate as Connector Positive\n",
    "            if subG.node[node]['Z'] > Zt:\n",
    "                subG.node[node]['Seed'] = \"Connector_Positive\"\n",
    "            # Or negative\n",
    "            elif subG.node[node]['Z'] < -Zt:\n",
    "                subG.node[node]['Seed'] = \"Connector_Negative\"\n",
    "            # Or Unkown\n",
    "            elif subG.node[node]['Z'] != 0.0:\n",
    "                subG.node[node]['Seed'] = \"Connector_NS\"\n",
    "            else:\n",
    "                subG.node[node]['Seed'] = \"Connector_Uknw\"\n",
    "    return subG"
   ]
  },
  {
   "cell_type": "markdown",
   "metadata": {},
   "source": [
    "## Ovariole number module"
   ]
  },
  {
   "cell_type": "code",
   "execution_count": 13,
   "metadata": {},
   "outputs": [],
   "source": [
    "# Define our seed list as the Ovariole Number Seed List\n",
    "# And our data for decoration as screenResults = mean_ova_gene\n",
    "seed = Zposneg_ova\n",
    "screenResults = mean_ova_gene\n",
    "predResults = mean_ova_gene_pred"
   ]
  },
  {
   "cell_type": "code",
   "execution_count": 14,
   "metadata": {
    "scrolled": false
   },
   "outputs": [
    {
     "name": "stdout",
     "output_type": "stream",
     "text": [
      "Starting with  67  seeds\n",
      "66 are in the PPI\n",
      "['FBgn0002592'] are missing\n",
      "New coverage: 46 Old coverage: 0 Module Size: 68 LCC: 47\n",
      "New coverage: 50 Old coverage: 46 Module Size: 69 LCC: 52\n",
      "New coverage: 52 Old coverage: 50 Module Size: 70 LCC: 55\n",
      "New coverage: 54 Old coverage: 52 Module Size: 71 LCC: 58\n",
      "New coverage: 56 Old coverage: 54 Module Size: 72 LCC: 61\n",
      "New coverage: 58 Old coverage: 56 Module Size: 73 LCC: 64\n",
      "New coverage: 59 Old coverage: 58 Module Size: 74 LCC: 66\n",
      "New coverage: 60 Old coverage: 59 Module Size: 75 LCC: 68\n",
      "New coverage: 61 Old coverage: 60 Module Size: 76 LCC: 70\n",
      "New coverage: 62 Old coverage: 61 Module Size: 77 LCC: 72\n",
      "New coverage: 63 Old coverage: 62 Module Size: 78 LCC: 74\n",
      "New coverage: 63 Old coverage: 63 Module Size: 79 LCC: 75\n",
      "Execution time:  67.53341221809387\n"
     ]
    },
    {
     "data": {
      "image/png": "[encoded data removed]",
      "text/plain": [
       "<Figure size 432x288 with 1 Axes>"
      ]
     },
     "metadata": {
      "needs_background": "light"
     },
     "output_type": "display_data"
    }
   ],
   "source": [
    "# Run the Seed Connector Algorithm and get the module\n",
    "module_genes = build_module(seed)\n",
    "# Decorate the module\n",
    "module_network = decorate_module(seed, module_genes, screenResults, 2, predResults)\n",
    "# module_network = decorate_module(Zposneg_ova, module_genes, mean_ova_gene, pred=hipo_ova_pred['FbID'].unique(), predResults=mean_ova_gene_pred)"
   ]
  },
  {
   "cell_type": "code",
   "execution_count": 15,
   "metadata": {},
   "outputs": [],
   "source": [
    "# Write the results to a graphml file\n",
    "nx.write_graphml(module_network, os.path.join(resultpath, 'Ova_module_{}.graphml'.format(PPI_ID)))"
   ]
  },
  {
   "cell_type": "markdown",
   "metadata": {},
   "source": [
    "## Hippo RNAi Egg Laying module"
   ]
  },
  {
   "cell_type": "code",
   "execution_count": 16,
   "metadata": {},
   "outputs": [],
   "source": [
    "# Define our seed list as the HpoRNAi EggL Seed List\n",
    "# And our data for decoration as screenResults = mean_fec_gene\n",
    "seed = Zposneg_fec\n",
    "screenResults = mean_fec_gene\n",
    "predResults = mean_fec_gene_pred"
   ]
  },
  {
   "cell_type": "code",
   "execution_count": 17,
   "metadata": {},
   "outputs": [
    {
     "name": "stdout",
     "output_type": "stream",
     "text": [
      "Starting with  59  seeds\n",
      "58 are in the PPI\n",
      "['FBgn0037325'] are missing\n",
      "New coverage: 31 Old coverage: 0 Module Size: 60 LCC: 32\n",
      "New coverage: 35 Old coverage: 31 Module Size: 61 LCC: 37\n",
      "New coverage: 38 Old coverage: 35 Module Size: 62 LCC: 41\n",
      "New coverage: 41 Old coverage: 38 Module Size: 63 LCC: 45\n",
      "New coverage: 43 Old coverage: 41 Module Size: 64 LCC: 48\n",
      "New coverage: 44 Old coverage: 43 Module Size: 65 LCC: 50\n",
      "New coverage: 45 Old coverage: 44 Module Size: 66 LCC: 52\n",
      "New coverage: 46 Old coverage: 45 Module Size: 67 LCC: 54\n",
      "New coverage: 47 Old coverage: 46 Module Size: 68 LCC: 56\n",
      "New coverage: 48 Old coverage: 47 Module Size: 69 LCC: 58\n",
      "New coverage: 49 Old coverage: 48 Module Size: 70 LCC: 60\n",
      "New coverage: 50 Old coverage: 49 Module Size: 71 LCC: 62\n",
      "New coverage: 51 Old coverage: 50 Module Size: 72 LCC: 64\n",
      "New coverage: 52 Old coverage: 51 Module Size: 73 LCC: 66\n",
      "New coverage: 53 Old coverage: 52 Module Size: 74 LCC: 68\n",
      "New coverage: 54 Old coverage: 53 Module Size: 75 LCC: 70\n",
      "New coverage: 55 Old coverage: 54 Module Size: 76 LCC: 72\n",
      "New coverage: 56 Old coverage: 55 Module Size: 77 LCC: 74\n",
      "New coverage: 56 Old coverage: 56 Module Size: 78 LCC: 75\n",
      "Execution time:  74.83187127113342\n",
      "NODE MISSING FBgn0027619\n"
     ]
    },
    {
     "data": {
      "image/png": "[encoded data removed]",
      "text/plain": [
       "<Figure size 432x288 with 1 Axes>"
      ]
     },
     "metadata": {
      "needs_background": "light"
     },
     "output_type": "display_data"
    }
   ],
   "source": [
    "# Run the Seed Connector Algorithm and get the module\n",
    "module_genes = build_module(seed)\n",
    "# Decorate the module\n",
    "module_network = decorate_module(seed, module_genes, screenResults, 5, predResults)\n",
    "# module_network = decorate_module(Zposneg_ova, module_genes, mean_ova_gene, pred=hipo_ova_pred['FbID'].unique(), predResults=mean_ova_gene_pred)"
   ]
  },
  {
   "cell_type": "code",
   "execution_count": 18,
   "metadata": {},
   "outputs": [],
   "source": [
    "# Write the results to a graphml file\n",
    "nx.write_graphml(module_network, os.path.join(resultpath, 'Hpo_EggL_module_{}.graphml'.format(PPI_ID)))"
   ]
  },
  {
   "cell_type": "markdown",
   "metadata": {},
   "source": [
    "## Egg Laying module"
   ]
  },
  {
   "cell_type": "code",
   "execution_count": 19,
   "metadata": {},
   "outputs": [],
   "source": [
    "# Define our seed list as the HpoRNAi EggL Seed List\n",
    "# And our data for decoration as screenResults = mean_fec_gene\n",
    "seed = Zposneg_xRNAi\n",
    "screenResults = mean_xRNAi_gene\n",
    "predResults = mean_xRNAi_gene_pred"
   ]
  },
  {
   "cell_type": "code",
   "execution_count": 20,
   "metadata": {},
   "outputs": [
    {
     "name": "stdout",
     "output_type": "stream",
     "text": [
      "Starting with  49  seeds\n",
      "49 are in the PPI\n",
      "[] are missing\n",
      "New coverage: 30 Old coverage: 0 Module Size: 50 LCC: 31\n",
      "New coverage: 33 Old coverage: 30 Module Size: 51 LCC: 35\n",
      "New coverage: 35 Old coverage: 33 Module Size: 52 LCC: 38\n",
      "New coverage: 37 Old coverage: 35 Module Size: 53 LCC: 41\n",
      "New coverage: 39 Old coverage: 37 Module Size: 54 LCC: 44\n",
      "New coverage: 40 Old coverage: 39 Module Size: 55 LCC: 46\n",
      "New coverage: 41 Old coverage: 40 Module Size: 56 LCC: 48\n",
      "New coverage: 42 Old coverage: 41 Module Size: 57 LCC: 50\n",
      "New coverage: 43 Old coverage: 42 Module Size: 58 LCC: 52\n",
      "New coverage: 44 Old coverage: 43 Module Size: 59 LCC: 54\n",
      "New coverage: 45 Old coverage: 44 Module Size: 60 LCC: 56\n",
      "New coverage: 45 Old coverage: 45 Module Size: 61 LCC: 57\n",
      "Execution time:  39.3650758266449\n"
     ]
    },
    {
     "data": {
      "image/png": "[encoded data removed]",
      "text/plain": [
       "<Figure size 432x288 with 1 Axes>"
      ]
     },
     "metadata": {
      "needs_background": "light"
     },
     "output_type": "display_data"
    }
   ],
   "source": [
    "# Run the Seed Connector Algorithm and get the module\n",
    "module_genes = build_module(seed)\n",
    "# Decorate the module\n",
    "module_network = decorate_module(seed, module_genes, screenResults, 5, predResults)\n",
    "# module_network = decorate_module(Zposneg_ova, module_genes, mean_ova_gene, pred=hipo_ova_pred['FbID'].unique(), predResults=mean_ova_gene_pred)"
   ]
  },
  {
   "cell_type": "code",
   "execution_count": 21,
   "metadata": {},
   "outputs": [],
   "source": [
    "# Write the results to a graphml file\n",
    "nx.write_graphml(module_network, os.path.join(resultpath, 'EggL_module_{}.graphml'.format(PPI_ID)))"
   ]
  },
  {
   "cell_type": "markdown",
   "metadata": {},
   "source": [
    "## Core Module\n",
    "Core is defined as the module composed of the overlapping set of positive candidate of the 3 screens. Only if the gene was positive in all 3 screens"
   ]
  },
  {
   "cell_type": "code",
   "execution_count": 22,
   "metadata": {},
   "outputs": [],
   "source": [
    "# We take the interesection of the positive canditate of the 3 screens. \n",
    "core_genes = set.intersection(set(Zposneg_ova), set(Zposneg_fec), set(Zposneg_xRNAi))"
   ]
  },
  {
   "cell_type": "code",
   "execution_count": 23,
   "metadata": {},
   "outputs": [],
   "source": [
    "assert(len(mean_ova_gene[mean_ova_gene['FbID'].isin(core_genes)]) == len(mean_xRNAi_gene[mean_xRNAi_gene['FbID'].isin(core_genes)]) == len(mean_fec_gene[mean_fec_gene['FbID'].isin(core_genes)]))"
   ]
  },
  {
   "cell_type": "markdown",
   "metadata": {},
   "source": [
    "### Here we make the decision to decorate the Core module with the Z value from the Ovariole Number Screen"
   ]
  },
  {
   "cell_type": "code",
   "execution_count": 24,
   "metadata": {},
   "outputs": [],
   "source": [
    "seed = core_genes\n",
    "screenResults = mean_ova_gene\n",
    "predResults = mean_ova_gene_pred"
   ]
  },
  {
   "cell_type": "code",
   "execution_count": 25,
   "metadata": {},
   "outputs": [
    {
     "name": "stdout",
     "output_type": "stream",
     "text": [
      "Starting with  27  seeds\n",
      "27 are in the PPI\n",
      "[] are missing\n",
      "New coverage: 13 Old coverage: 0 Module Size: 28 LCC: 14\n",
      "New coverage: 16 Old coverage: 13 Module Size: 29 LCC: 18\n",
      "New coverage: 19 Old coverage: 16 Module Size: 30 LCC: 22\n",
      "New coverage: 20 Old coverage: 19 Module Size: 31 LCC: 24\n",
      "New coverage: 21 Old coverage: 20 Module Size: 32 LCC: 26\n",
      "New coverage: 22 Old coverage: 21 Module Size: 33 LCC: 28\n",
      "New coverage: 23 Old coverage: 22 Module Size: 34 LCC: 30\n",
      "New coverage: 24 Old coverage: 23 Module Size: 35 LCC: 32\n",
      "New coverage: 25 Old coverage: 24 Module Size: 36 LCC: 34\n",
      "New coverage: 26 Old coverage: 25 Module Size: 37 LCC: 36\n",
      "New coverage: 26 Old coverage: 26 Module Size: 38 LCC: 37\n",
      "Execution time:  27.636101245880127\n"
     ]
    },
    {
     "data": {
      "image/png": "[encoded data removed]",
      "text/plain": [
       "<Figure size 432x288 with 1 Axes>"
      ]
     },
     "metadata": {
      "needs_background": "light"
     },
     "output_type": "display_data"
    }
   ],
   "source": [
    "# Run the Seed Connector Algorithm and get the module\n",
    "module_genes = build_module(seed)\n",
    "# Decorate the module\n",
    "module_network = decorate_module(seed, module_genes, screenResults, 2, predResults)\n",
    "# module_network = decorate_module(Zposneg_ova, module_genes, mean_ova_gene, pred=hipo_ova_pred['FbID'].unique(), predResults=mean_ova_gene_pred)"
   ]
  },
  {
   "cell_type": "code",
   "execution_count": 26,
   "metadata": {},
   "outputs": [],
   "source": [
    "nx.write_graphml(module_network, os.path.join(resultpath, 'Core_module_{}.graphml'.format(PPI_ID)))"
   ]
  },
  {
   "cell_type": "markdown",
   "metadata": {},
   "source": [
    "# Stats about the modules"
   ]
  },
  {
   "cell_type": "code",
   "execution_count": 27,
   "metadata": {},
   "outputs": [],
   "source": [
    "PPI_ID = \"2018_08\""
   ]
  },
  {
   "cell_type": "code",
   "execution_count": 28,
   "metadata": {},
   "outputs": [],
   "source": [
    "# Modules computed above\n",
    "ova_module_G = nx.read_graphml(os.path.join(resultpath,'Ova_module_{}.graphml'.format(PPI_ID)))\n",
    "fec_module_G = nx.read_graphml(os.path.join(resultpath,'Hpo_EggL_module_{}.graphml'.format(PPI_ID)))\n",
    "xRNAi_module_G = nx.read_graphml(os.path.join(resultpath,'EggL_module_{}.graphml'.format(PPI_ID)))\n",
    "core_module_G = nx.read_graphml(os.path.join(resultpath,'Core_module_{}.graphml'.format(PPI_ID)))"
   ]
  },
  {
   "cell_type": "code",
   "execution_count": 29,
   "metadata": {},
   "outputs": [],
   "source": [
    "assert(len(ova_module_G) == 77)\n",
    "assert(len(fec_module_G) == 76)\n",
    "assert(len(xRNAi_module_G) == 60)\n",
    "assert(len(core_module_G) == 37)"
   ]
  },
  {
   "cell_type": "code",
   "execution_count": 30,
   "metadata": {},
   "outputs": [
    {
     "name": "stdout",
     "output_type": "stream",
     "text": [
      "HpoRNAi Ovariole Module has 77 genes in it.\n",
      "HpoRNAi EggL Module has 76 genes in it.\n",
      "EggL Module has 60 genes in it.\n",
      "Core Module has 37 genes in it.\n"
     ]
    }
   ],
   "source": [
    "print(\"HpoRNAi Ovariole Module has {} genes in it.\".format(len(ova_module_G)))\n",
    "print(\"HpoRNAi EggL Module has {} genes in it.\".format(len(fec_module_G)))\n",
    "print(\"EggL Module has {} genes in it.\".format(len(xRNAi_module_G)))\n",
    "print(\"Core Module has {} genes in it.\".format(len(core_module_G)))"
   ]
  },
  {
   "cell_type": "code",
   "execution_count": 31,
   "metadata": {},
   "outputs": [],
   "source": [
    "# Here we extract all the connectors\n",
    "connectors = []\n",
    "\n",
    "# For each node in a module graph\n",
    "for node in ova_module_G.node:\n",
    "    # If this node has the Connector Tag in the Seed Tag\n",
    "    if \"Connector\" in ova_module_G.node[node]['Seed']:\n",
    "        # Save it as a connector\n",
    "        connectors.append(['Ova',node])\n",
    "for node in fec_module_G.node:\n",
    "    if \"Connector\" in fec_module_G.node[node]['Seed']:\n",
    "        connectors.append(['HpoFec',node])\n",
    "for node in xRNAi_module_G.node:\n",
    "    if \"Connector\" in xRNAi_module_G.node[node]['Seed']:\n",
    "        connectors.append(['xRNAiFec',node])\n",
    "for node in core_module_G.node:\n",
    "    if \"Connector\" in core_module_G.node[node]['Seed']:\n",
    "        connectors.append(['Core',node])\n",
    "\n",
    "connectors = pd.DataFrame(connectors, columns=['Module', 'FbID'])\n",
    "connectors.to_csv(os.path.join(resultpath,\"ConnectorGeneList_{}.csv\".format(PPI_ID)), index=False)"
   ]
  },
  {
   "cell_type": "code",
   "execution_count": 32,
   "metadata": {},
   "outputs": [],
   "source": [
    "assert(len(connectors['FbID'].unique()) == 43)"
   ]
  },
  {
   "cell_type": "code",
   "execution_count": 33,
   "metadata": {},
   "outputs": [
    {
     "name": "stdout",
     "output_type": "stream",
     "text": [
      "There is 43 unique connectors found accross the 4 network modules\n"
     ]
    }
   ],
   "source": [
    "print(\"There is {} unique connectors found accross the 4 network modules\".format(len(connectors['FbID'].unique())))"
   ]
  },
  {
   "cell_type": "code",
   "execution_count": 34,
   "metadata": {
    "scrolled": false
   },
   "outputs": [
    {
     "data": {
      "text/html": [
       "<div>\n",
       "<style>\n",
       "    .dataframe thead tr:only-child th {\n",
       "        text-align: right;\n",
       "    }\n",
       "\n",
       "    .dataframe thead th {\n",
       "        text-align: left;\n",
       "    }\n",
       "\n",
       "    .dataframe tbody tr th {\n",
       "        vertical-align: top;\n",
       "    }\n",
       "</style>\n",
       "<table border=\"1\" class=\"dataframe\">\n",
       "  <thead>\n",
       "    <tr style=\"text-align: right;\">\n",
       "      <th></th>\n",
       "      <th>FbID</th>\n",
       "    </tr>\n",
       "    <tr>\n",
       "      <th>Module</th>\n",
       "      <th></th>\n",
       "    </tr>\n",
       "  </thead>\n",
       "  <tbody>\n",
       "    <tr>\n",
       "      <th>Core</th>\n",
       "      <td>10</td>\n",
       "    </tr>\n",
       "    <tr>\n",
       "      <th>HpoFec</th>\n",
       "      <td>18</td>\n",
       "    </tr>\n",
       "    <tr>\n",
       "      <th>Ova</th>\n",
       "      <td>11</td>\n",
       "    </tr>\n",
       "    <tr>\n",
       "      <th>xRNAiFec</th>\n",
       "      <td>11</td>\n",
       "    </tr>\n",
       "  </tbody>\n",
       "</table>\n",
       "</div>"
      ],
      "text/plain": [
       "          FbID\n",
       "Module        \n",
       "Core        10\n",
       "HpoFec      18\n",
       "Ova         11\n",
       "xRNAiFec    11"
      ]
     },
     "execution_count": 34,
     "metadata": {},
     "output_type": "execute_result"
    }
   ],
   "source": [
    "connectors.groupby(\"Module\").count()"
   ]
  },
  {
   "cell_type": "markdown",
   "metadata": {},
   "source": [
    "# Making a table of all the modules"
   ]
  },
  {
   "cell_type": "code",
   "execution_count": 35,
   "metadata": {},
   "outputs": [],
   "source": [
    "table = []\n",
    "\n",
    "# For each node in a module graph\n",
    "for node in ova_module_G.node:\n",
    "    tmp = [node, ova_module_G.node[node]['label'], ova_module_G.node[node]['Seed'], ova_module_G.node[node]['Z']]\n",
    "    table.append(tmp)\n",
    "    \n",
    "for node in fec_module_G.node:\n",
    "    tmp = [node, fec_module_G.node[node]['label'], fec_module_G.node[node]['Seed'], fec_module_G.node[node]['Z']]\n",
    "    table.append(tmp)\n",
    "\n",
    "for node in xRNAi_module_G.node:\n",
    "    tmp = [node, xRNAi_module_G.node[node]['label'], xRNAi_module_G.node[node]['Seed'], xRNAi_module_G.node[node]['Z']]\n",
    "    table.append(tmp)\n",
    "\n",
    "for node in core_module_G.node:\n",
    "    tmp = [node, core_module_G.node[node]['label'], core_module_G.node[node]['Seed'], core_module_G.node[node]['Z']]\n",
    "    table.append(tmp)\n",
    "\n",
    "table = pd.DataFrame(table, columns=['FbID', 'Label', 'SeedStatus', 'Z'])"
   ]
  },
  {
   "cell_type": "code",
   "execution_count": 36,
   "metadata": {},
   "outputs": [],
   "source": [
    "table.to_csv(os.path.join(resultpath, \"Modules_Table_{}.csv\".format(PPI_ID)), index=False)"
   ]
  }
 ],
 "metadata": {
  "kernelspec": {
   "display_name": "Python 3",
   "language": "python",
   "name": "python3"
  },
  "language_info": {
   "codemirror_mode": {
    "name": "ipython",
    "version": 3
   },
   "file_extension": ".py",
   "mimetype": "text/x-python",
   "name": "python",
   "nbconvert_exporter": "python",
   "pygments_lexer": "ipython3",
   "version": "3.5.6"
  }
 },
 "nbformat": 4,
 "nbformat_minor": 2
}
