{
 "cells": [
  {
   "cell_type": "code",
   "execution_count": 1,
   "metadata": {},
   "outputs": [],
   "source": [
    "import networkx as nx\n",
    "import numpy as np\n",
    "import seaborn as sns\n",
    "import matplotlib.pyplot as plt\n",
    "import pandas as pd\n",
    "import os\n",
    "import progressbar\n",
    "from scipy import stats\n",
    "sns.set()\n",
    "\n",
    "%matplotlib inline"
   ]
  },
  {
   "cell_type": "markdown",
   "metadata": {},
   "source": [
    "# Define path and load files \n",
    "\n",
    "Accross the analysis the following names are used for the 3 screens\n",
    "- ova == Ovariole Number screen\n",
    "- fec == Hippo RNAi EggLaying screen\n",
    "- xRNAi == EggLaying screen"
   ]
  },
  {
   "cell_type": "code",
   "execution_count": 2,
   "metadata": {},
   "outputs": [],
   "source": [
    "data = \"../Data\"\n",
    "resultpath = '../Results'\n",
    "PPI_ID = \"2018_08\""
   ]
  },
  {
   "cell_type": "code",
   "execution_count": 3,
   "metadata": {},
   "outputs": [],
   "source": [
    "G = nx.read_graphml(os.path.join(data, 'PPIs', 'PPI_{}.graphml'.format(PPI_ID)))\n",
    "\n",
    "hipo_ova = pd.read_csv(os.path.join(data,'Screen/hipo_ova_clean.csv'))\n",
    "xRNAi_fec = pd.read_csv(os.path.join(data,'Screen/xRNAi_fec_clean.csv'))\n",
    "hipo_fec = pd.read_csv(os.path.join(data,'Screen/hipo_fec_clean.csv'))\n",
    "\n",
    "hipo_ova_pred = pd.read_csv(os.path.join(data,'Screen/hipo_ova_clean_pred.csv'))\n",
    "xRNAi_fec_pred = pd.read_csv(os.path.join(data,'Screen/xRNAi_fec_clean_pred.csv'))\n",
    "hipo_fec_pred = pd.read_csv(os.path.join(data,'Screen/hipo_fec_clean_pred.csv'))\n",
    "\n",
    "signaling = pd.read_csv(os.path.join(data,'signaling.csv'))\n",
    "connectors= pd.read_csv(os.path.join(resultpath,\"ConnectorGeneList_{}.csv\".format(PPI_ID)))"
   ]
  },
  {
   "cell_type": "code",
   "execution_count": 4,
   "metadata": {},
   "outputs": [],
   "source": [
    "# We only consider the sum of eggs layed over 5 days, so we restrict the data to the \"Sum\"\n",
    "xRNAi_fec = xRNAi_fec[xRNAi_fec['Condition'] == 'Sum'].reset_index(drop=True)\n",
    "hipo_fec = hipo_fec[hipo_fec['Condition'] == 'Sum'].reset_index(drop=True)\n",
    "\n",
    "xRNAi_fec_pred = xRNAi_fec_pred[xRNAi_fec_pred['Condition'] == 'Sum'].reset_index(drop=True)\n",
    "hipo_fec_pred = hipo_fec_pred[hipo_fec_pred['Condition'] == 'Sum'].reset_index(drop=True)"
   ]
  },
  {
   "cell_type": "code",
   "execution_count": 5,
   "metadata": {},
   "outputs": [],
   "source": [
    "# Modules computed in the notebook file: Seed-Connector\n",
    "ova_module_G = nx.read_graphml(os.path.join(resultpath,'Ova_module_{}.graphml'.format(PPI_ID)))\n",
    "fec_module_G = nx.read_graphml(os.path.join(resultpath,'Hpo_EggL_module_{}.graphml'.format(PPI_ID)))\n",
    "xRNAi_module_G = nx.read_graphml(os.path.join(resultpath,'EggL_module_{}.graphml'.format(PPI_ID)))\n",
    "core_module_G = nx.read_graphml(os.path.join(resultpath,'Core_module_{}.graphml'.format(PPI_ID)))"
   ]
  },
  {
   "cell_type": "code",
   "execution_count": 6,
   "metadata": {},
   "outputs": [],
   "source": [
    "signaling_meta = pd.read_csv(os.path.join(data, \"signaling.csv\"))"
   ]
  },
  {
   "cell_type": "markdown",
   "metadata": {},
   "source": [
    "# Prepare groups of genes and positive candidate set\n",
    "Here we calculate the mean of the Zscore for each gene in the screens, define thresholds for significance, and create subsets of genes"
   ]
  },
  {
   "cell_type": "code",
   "execution_count": 7,
   "metadata": {},
   "outputs": [],
   "source": [
    "mean_ova_gene = hipo_ova.append(hipo_ova_pred).groupby('FbID', as_index=False).mean()\n",
    "mean_fec_gene = hipo_fec.append(hipo_fec_pred).groupby('FbID', as_index=False).mean()\n",
    "mean_xRNAi_gene = xRNAi_fec.append(xRNAi_fec_pred).groupby('FbID', as_index=False).mean()"
   ]
  },
  {
   "cell_type": "code",
   "execution_count": 26,
   "metadata": {},
   "outputs": [
    {
     "data": {
      "text/plain": [
       "-24"
      ]
     },
     "execution_count": 26,
     "metadata": {},
     "output_type": "execute_result"
    }
   ],
   "source": [
    "465-489"
   ]
  },
  {
   "cell_type": "code",
   "execution_count": 27,
   "metadata": {},
   "outputs": [],
   "source": [
    "assert(len(mean_ova_gene) == 273 + 32 +1)\n",
    "assert(len(mean_xRNAi_gene) == 273 + 32 +1)\n",
    "assert(len(mean_fec_gene) == 465 + 23 + 1)"
   ]
  },
  {
   "cell_type": "code",
   "execution_count": 28,
   "metadata": {},
   "outputs": [],
   "source": [
    "ova_module = ova_module_G.nodes()\n",
    "fec_module = fec_module_G.nodes()\n",
    "xRNAi_module = xRNAi_module_G.nodes()\n",
    "core_module = core_module_G.nodes()"
   ]
  },
  {
   "cell_type": "code",
   "execution_count": 29,
   "metadata": {},
   "outputs": [],
   "source": [
    "# Here we select all the genes that were tested in the screen,\n",
    "# because the first screen was Hipo RNAi EggLaying measurement, this dataset contains all the tested genes\n",
    "screen_genes = mean_fec_gene['FbID'].values\n",
    "ScreenG = G.subgraph(screen_genes)"
   ]
  },
  {
   "cell_type": "code",
   "execution_count": 30,
   "metadata": {},
   "outputs": [],
   "source": [
    "# We redefine our threshold of 2 and 5 for Z score cutoff\n",
    "ova_threshold = 2\n",
    "eggl_threshold = 5"
   ]
  },
  {
   "cell_type": "code",
   "execution_count": 31,
   "metadata": {},
   "outputs": [],
   "source": [
    "allgenes = np.unique(list(set.union(set(ova_module), set(xRNAi_module), set(fec_module), set(core_module))))\n",
    "all3 = set.intersection(set(ova_module), set(xRNAi_module), set(fec_module))\n",
    "ovafec = set.intersection(set(ova_module), set(fec_module))\n",
    "ovaxRNAi = set.intersection(set(ova_module), set(xRNAi_module))\n",
    "xRNAifec = set.intersection(set(fec_module), set(xRNAi_module))\n",
    "core = set(core_module)"
   ]
  },
  {
   "cell_type": "markdown",
   "metadata": {},
   "source": [
    "# Building the meta module network"
   ]
  },
  {
   "cell_type": "code",
   "execution_count": 32,
   "metadata": {},
   "outputs": [],
   "source": [
    "# Create the network composed of all 4 modules aggregated\n",
    "subG = nx.compose(ova_module_G, fec_module_G)\n",
    "subG = nx.compose(subG, xRNAi_module_G)\n",
    "subG = nx.compose(subG, core_module_G)"
   ]
  },
  {
   "cell_type": "code",
   "execution_count": 33,
   "metadata": {},
   "outputs": [],
   "source": [
    "# Extract the locations in modules for all genes in the MetaNetwork\n",
    "for node in subG.nodes():\n",
    "    # Define the location in modules\n",
    "    # Ova / HipoEggL / Eggl \n",
    "    key = ['0','0','0']\n",
    "    if node in ova_module:\n",
    "        key[0] = '1'\n",
    "    if node in fec_module:\n",
    "        key[1] = '1'\n",
    "    if node in xRNAi_module:\n",
    "        key[2] = '1'\n",
    "    if node in core_module:\n",
    "        key[0] = '1'\n",
    "        key[1] = '1'\n",
    "        key[2] = '1'\n",
    "    subG.node[node]['overlap'] = ''.join(key)"
   ]
  },
  {
   "cell_type": "code",
   "execution_count": 34,
   "metadata": {},
   "outputs": [],
   "source": [
    "# Extract the Z_scores for all the nodes\n",
    "scores_ova = {}\n",
    "scores_fec = {}\n",
    "scores_xRNAi = {}\n",
    "scores = {}\n",
    "for node in subG.nodes():\n",
    "    Z = []\n",
    "    if node in mean_xRNAi_gene['FbID'].unique():\n",
    "        z = mean_xRNAi_gene[mean_xRNAi_gene['FbID'] == node]['Z'].values[0]\n",
    "        Z.append(z)\n",
    "        scores_xRNAi[node] = z\n",
    "    if node in mean_fec_gene['FbID'].unique():\n",
    "        z = mean_fec_gene[mean_fec_gene['FbID'] == node]['Z'].values[0]\n",
    "        Z.append(z)\n",
    "        scores_fec[node] = z\n",
    "    if node in mean_ova_gene['FbID'].unique():\n",
    "        z = mean_ova_gene[mean_ova_gene['FbID'] == node]['Z'].values[0]\n",
    "        Z.append(z)\n",
    "        scores_ova[node] = z\n",
    "    if len(Z) == 3:\n",
    "        scores[node] = np.mean(Z)"
   ]
  },
  {
   "cell_type": "code",
   "execution_count": 35,
   "metadata": {},
   "outputs": [],
   "source": [
    "# Decorate the network by adding all the calculated fileds above\n",
    "for node in subG.nodes():\n",
    "    if node in scores:\n",
    "        Z = scores[node]\n",
    "        if node in scores_ova:\n",
    "            Z_ova = scores_ova[node]\n",
    "        else:\n",
    "            Z_ova = 0.0\n",
    "        if node in scores_fec:\n",
    "            Z_fec = scores_fec[node]\n",
    "        else:\n",
    "            Z_fec = 0.0\n",
    "        if node in scores_xRNAi:\n",
    "            Z_xRNAi = scores_xRNAi[node]\n",
    "        else:\n",
    "            Z_xRNAi = 0.0\n",
    "        subG.node[node]['Z'] = abs(float(Z))\n",
    "        subG.node[node]['Z_ova'] = abs(float(Z_ova))\n",
    "        subG.node[node]['Z_fec'] = abs(float(Z_fec))\n",
    "        subG.node[node]['Z_xRNAi'] = abs(float(Z_xRNAi))\n",
    "    else:\n",
    "        subG.node[node]['Z'] = 0.0\n",
    "        if node in scores_ova:\n",
    "            subG.node[node]['Z_ova'] = abs(float(scores_ova[node]))\n",
    "        else:\n",
    "            subG.node[node]['Z_ova'] = 0.0\n",
    "        \n",
    "        subG.node[node]['Z_fec'] = 0.0\n",
    "        subG.node[node]['Z_xRNAi'] = 0.0\n",
    "    sigs = signaling[signaling['FbID'] == node]['Sig'].values\n",
    "    for sig in signaling['Sig'].unique():\n",
    "        if sig in sigs:\n",
    "            subG.node[node][sig] = 1\n",
    "        else:\n",
    "            subG.node[node][sig] = 0"
   ]
  },
  {
   "cell_type": "code",
   "execution_count": 36,
   "metadata": {},
   "outputs": [],
   "source": [
    "# Adding the labels on nodes if they are receptor or ligand\n",
    "\n",
    "for node in subG.nodes():\n",
    "    if node in signaling_meta['FbID'].values:\n",
    "        types = signaling_meta[signaling_meta['FbID']== node]['KeyMember'].values[0]\n",
    "        if type(types) == str:\n",
    "            if types == \"Ligand\":\n",
    "                subG.node[node][\"SigType\"] = \"Ligand\"\n",
    "            else:\n",
    "                subG.node[node][\"SigType\"] = \"Receptor\"\n",
    "        else:\n",
    "            subG.node[node][\"SigType\"] = \"Else\"            \n",
    "    else:\n",
    "        subG.node[node][\"SigType\"] = \"Else\""
   ]
  },
  {
   "cell_type": "code",
   "execution_count": 37,
   "metadata": {},
   "outputs": [],
   "source": [
    "nx.write_graphml(subG, os.path.join(resultpath, 'Meta_module_{}.graphml'.format(PPI_ID)))"
   ]
  },
  {
   "cell_type": "markdown",
   "metadata": {},
   "source": [
    "# Making a table of the metanetwork"
   ]
  },
  {
   "cell_type": "code",
   "execution_count": 38,
   "metadata": {},
   "outputs": [],
   "source": [
    "res = []\n",
    "sigs = signaling['Sig'].unique()\n",
    "for node in subG.nodes():\n",
    "    n = subG.node[node]\n",
    "    S = []\n",
    "    for sig in sigs:\n",
    "        S.append(subG.node[node][sig])\n",
    "    res.append([node, n['label'], n['Seed'], n['Z_ova'], n['Z_fec'], n['Z_xRNAi'], str(n['overlap'])] + S)\n",
    "metatable = pd.DataFrame(res, columns=['FbID', 'GeneName', 'Type', 'Z_ovariole', 'Z_HpoEggL', 'Z_EggL', 'Overlap'] + list(sigs))"
   ]
  },
  {
   "cell_type": "code",
   "execution_count": 39,
   "metadata": {},
   "outputs": [],
   "source": [
    "metatable.to_csv(os.path.join(resultpath,\"MetaNetworkData_{}.csv\".format(PPI_ID)), index=False)"
   ]
  },
  {
   "cell_type": "markdown",
   "metadata": {},
   "source": [
    "# Analysing Edge Density between different gene sets"
   ]
  },
  {
   "cell_type": "code",
   "execution_count": 40,
   "metadata": {},
   "outputs": [],
   "source": [
    "modules = [\"001\",\"010\",\"011\",\"111\",\"100\",\"101\",\"110\"]\n",
    "modules_leg = [\"EggL+\",\"HpoEggL+\",\"EggL+/HpoEggL+\",\"Core\",\"Ova+\",\"Ova+/EggL+\",\"Ova+/HpoEggL+\"]\n",
    "\n",
    "res = np.zeros((len(modules),len(modules)))\n",
    "c_i = 0\n",
    "for i in range(len(modules)):\n",
    "    module_i = modules[i]\n",
    "    nodes_i = [i for i in subG.node if subG.node[i]['overlap'] == module_i]\n",
    "    connector_i = [i for i in subG.node if subG.node[i]['overlap'] == module_i and subG.node[i]['Seed'] == 0]\n",
    "\n",
    "    for j in range(len(modules)):\n",
    "        module_j = modules[j]\n",
    "#         if module_i == module_j:\n",
    "#             res[i][j] = np.nan\n",
    "#         else:\n",
    "        nodes_j = [i for i in subG.node if subG.node[i]['overlap'] == module_j]\n",
    "        edges = 0\n",
    "        for node_i in nodes_i:\n",
    "            for node_j in nodes_j: \n",
    "                if subG.has_edge(node_i, node_j):\n",
    "#                     print(node_i, node_j)\n",
    "                    edges += 1\n",
    "        if module_i == module_j:\n",
    "            edges /= 2\n",
    "        max_edge = len(nodes_i) * len(nodes_j)\n",
    "        res[i][j] = edges/max_edge\n",
    "    \n",
    "df = pd.DataFrame(res, columns=modules_leg, index=modules_leg)"
   ]
  },
  {
   "cell_type": "code",
   "execution_count": 41,
   "metadata": {},
   "outputs": [
    {
     "data": {
      "image/png": "[encoded data removed]",
      "text/plain": [
       "<Figure size 432x360 with 2 Axes>"
      ]
     },
     "metadata": {
      "needs_background": "light"
     },
     "output_type": "display_data"
    }
   ],
   "source": [
    "fig = plt.figure(figsize=(6,5))\n",
    "sns.heatmap(df, cmap=\"Greys\", linewidths=.75)\n",
    "fig.savefig(os.path.join(resultpath,\"Figures/Meta_Network_EdgeDensity_Heatmap.svg\"))"
   ]
  },
  {
   "cell_type": "markdown",
   "metadata": {},
   "source": [
    "# Analyzing centrality differences between core and other modules"
   ]
  },
  {
   "cell_type": "code",
   "execution_count": 42,
   "metadata": {},
   "outputs": [],
   "source": [
    "betweenness = pd.read_csv(os.path.join(data, \"ScreenPPI_Betweenness.csv\"))\n",
    "closeness = pd.read_csv(os.path.join(data, \"ScreenPPI_Closeness.csv\"))\n",
    "eigenvector = pd.read_csv(os.path.join(data, \"ScreenPPI_Eigenvector.csv\"))\n",
    "degrees_cen = pd.read_csv(os.path.join(data, \"ScreenPPI_DegreeCentrality.csv\"))"
   ]
  },
  {
   "cell_type": "code",
   "execution_count": 43,
   "metadata": {},
   "outputs": [
    {
     "data": {
      "text/html": [
       "<div>\n",
       "<style>\n",
       "    .dataframe thead tr:only-child th {\n",
       "        text-align: right;\n",
       "    }\n",
       "\n",
       "    .dataframe thead th {\n",
       "        text-align: left;\n",
       "    }\n",
       "\n",
       "    .dataframe tbody tr th {\n",
       "        vertical-align: top;\n",
       "    }\n",
       "</style>\n",
       "<table border=\"1\" class=\"dataframe\">\n",
       "  <thead>\n",
       "    <tr style=\"text-align: right;\">\n",
       "      <th></th>\n",
       "      <th>FbID</th>\n",
       "      <th>Betweeness</th>\n",
       "      <th>Closeness</th>\n",
       "      <th>EigenVector</th>\n",
       "      <th>DegreeC</th>\n",
       "    </tr>\n",
       "  </thead>\n",
       "  <tbody>\n",
       "    <tr>\n",
       "      <th>0</th>\n",
       "      <td>FBgn0001199</td>\n",
       "      <td>0.000507</td>\n",
       "      <td>0.326043</td>\n",
       "      <td>0.001665</td>\n",
       "      <td>0.005550</td>\n",
       "    </tr>\n",
       "    <tr>\n",
       "      <th>1</th>\n",
       "      <td>FBgn0010434</td>\n",
       "      <td>0.000440</td>\n",
       "      <td>0.332215</td>\n",
       "      <td>0.005553</td>\n",
       "      <td>0.003763</td>\n",
       "    </tr>\n",
       "    <tr>\n",
       "      <th>2</th>\n",
       "      <td>FBgn0027594</td>\n",
       "      <td>0.000023</td>\n",
       "      <td>0.275844</td>\n",
       "      <td>0.000217</td>\n",
       "      <td>0.000753</td>\n",
       "    </tr>\n",
       "    <tr>\n",
       "      <th>3</th>\n",
       "      <td>FBgn0000283</td>\n",
       "      <td>0.000676</td>\n",
       "      <td>0.339115</td>\n",
       "      <td>0.005222</td>\n",
       "      <td>0.006302</td>\n",
       "    </tr>\n",
       "    <tr>\n",
       "      <th>4</th>\n",
       "      <td>FBgn0002781</td>\n",
       "      <td>0.002812</td>\n",
       "      <td>0.350032</td>\n",
       "      <td>0.002764</td>\n",
       "      <td>0.007149</td>\n",
       "    </tr>\n",
       "    <tr>\n",
       "      <th>5</th>\n",
       "      <td>FBgn0017590</td>\n",
       "      <td>0.000013</td>\n",
       "      <td>0.281370</td>\n",
       "      <td>0.000109</td>\n",
       "      <td>0.000470</td>\n",
       "    </tr>\n",
       "    <tr>\n",
       "      <th>6</th>\n",
       "      <td>FBgn0039254</td>\n",
       "      <td>0.000027</td>\n",
       "      <td>0.278989</td>\n",
       "      <td>0.000182</td>\n",
       "      <td>0.000658</td>\n",
       "    </tr>\n",
       "    <tr>\n",
       "      <th>7</th>\n",
       "      <td>FBgn0004419</td>\n",
       "      <td>0.000966</td>\n",
       "      <td>0.339990</td>\n",
       "      <td>0.003748</td>\n",
       "      <td>0.005926</td>\n",
       "    </tr>\n",
       "    <tr>\n",
       "      <th>8</th>\n",
       "      <td>FBgn0000163</td>\n",
       "      <td>0.000302</td>\n",
       "      <td>0.326325</td>\n",
       "      <td>0.001467</td>\n",
       "      <td>0.003669</td>\n",
       "    </tr>\n",
       "    <tr>\n",
       "      <th>9</th>\n",
       "      <td>FBgn0000810</td>\n",
       "      <td>0.000272</td>\n",
       "      <td>0.311071</td>\n",
       "      <td>0.000846</td>\n",
       "      <td>0.003763</td>\n",
       "    </tr>\n",
       "    <tr>\n",
       "      <th>10</th>\n",
       "      <td>FBgn0001139</td>\n",
       "      <td>0.001920</td>\n",
       "      <td>0.335043</td>\n",
       "      <td>0.002584</td>\n",
       "      <td>0.006867</td>\n",
       "    </tr>\n",
       "    <tr>\n",
       "      <th>11</th>\n",
       "      <td>FBgn0010215</td>\n",
       "      <td>0.000144</td>\n",
       "      <td>0.326003</td>\n",
       "      <td>0.001744</td>\n",
       "      <td>0.001787</td>\n",
       "    </tr>\n",
       "    <tr>\n",
       "      <th>12</th>\n",
       "      <td>FBgn0037719</td>\n",
       "      <td>0.001272</td>\n",
       "      <td>0.327562</td>\n",
       "      <td>0.002548</td>\n",
       "      <td>0.006208</td>\n",
       "    </tr>\n",
       "    <tr>\n",
       "      <th>13</th>\n",
       "      <td>FBgn0029688</td>\n",
       "      <td>0.000185</td>\n",
       "      <td>0.331682</td>\n",
       "      <td>0.004480</td>\n",
       "      <td>0.002728</td>\n",
       "    </tr>\n",
       "    <tr>\n",
       "      <th>14</th>\n",
       "      <td>FBgn0032940</td>\n",
       "      <td>0.000192</td>\n",
       "      <td>0.314231</td>\n",
       "      <td>0.000477</td>\n",
       "      <td>0.001223</td>\n",
       "    </tr>\n",
       "    <tr>\n",
       "      <th>15</th>\n",
       "      <td>FBgn0003655</td>\n",
       "      <td>0.000309</td>\n",
       "      <td>0.298035</td>\n",
       "      <td>0.000422</td>\n",
       "      <td>0.001505</td>\n",
       "    </tr>\n",
       "    <tr>\n",
       "      <th>16</th>\n",
       "      <td>FBgn0000392</td>\n",
       "      <td>0.000896</td>\n",
       "      <td>0.337574</td>\n",
       "      <td>0.009234</td>\n",
       "      <td>0.006020</td>\n",
       "    </tr>\n",
       "    <tr>\n",
       "      <th>17</th>\n",
       "      <td>FBgn0025625</td>\n",
       "      <td>0.000223</td>\n",
       "      <td>0.280876</td>\n",
       "      <td>0.000206</td>\n",
       "      <td>0.000564</td>\n",
       "    </tr>\n",
       "    <tr>\n",
       "      <th>18</th>\n",
       "      <td>FBgn0003285</td>\n",
       "      <td>0.000041</td>\n",
       "      <td>0.309002</td>\n",
       "      <td>0.000632</td>\n",
       "      <td>0.001035</td>\n",
       "    </tr>\n",
       "    <tr>\n",
       "      <th>19</th>\n",
       "      <td>FBgn0024189</td>\n",
       "      <td>0.003456</td>\n",
       "      <td>0.354622</td>\n",
       "      <td>0.003877</td>\n",
       "      <td>0.009030</td>\n",
       "    </tr>\n",
       "    <tr>\n",
       "      <th>20</th>\n",
       "      <td>FBgn0000578</td>\n",
       "      <td>0.000966</td>\n",
       "      <td>0.341974</td>\n",
       "      <td>0.002376</td>\n",
       "      <td>0.006208</td>\n",
       "    </tr>\n",
       "    <tr>\n",
       "      <th>21</th>\n",
       "      <td>FBgn0022361</td>\n",
       "      <td>0.000164</td>\n",
       "      <td>0.304295</td>\n",
       "      <td>0.000650</td>\n",
       "      <td>0.001599</td>\n",
       "    </tr>\n",
       "    <tr>\n",
       "      <th>22</th>\n",
       "      <td>FBgn0013765</td>\n",
       "      <td>0.003808</td>\n",
       "      <td>0.370232</td>\n",
       "      <td>0.008049</td>\n",
       "      <td>0.010817</td>\n",
       "    </tr>\n",
       "    <tr>\n",
       "      <th>23</th>\n",
       "      <td>FBgn0002709</td>\n",
       "      <td>0.000028</td>\n",
       "      <td>0.306025</td>\n",
       "      <td>0.000424</td>\n",
       "      <td>0.000282</td>\n",
       "    </tr>\n",
       "    <tr>\n",
       "      <th>24</th>\n",
       "      <td>FBgn0004644</td>\n",
       "      <td>0.000090</td>\n",
       "      <td>0.302688</td>\n",
       "      <td>0.000348</td>\n",
       "      <td>0.001787</td>\n",
       "    </tr>\n",
       "    <tr>\n",
       "      <th>25</th>\n",
       "      <td>FBgn0002735</td>\n",
       "      <td>0.000206</td>\n",
       "      <td>0.311071</td>\n",
       "      <td>0.001507</td>\n",
       "      <td>0.002446</td>\n",
       "    </tr>\n",
       "    <tr>\n",
       "      <th>26</th>\n",
       "      <td>FBgn0026430</td>\n",
       "      <td>0.000040</td>\n",
       "      <td>0.295696</td>\n",
       "      <td>0.000443</td>\n",
       "      <td>0.001505</td>\n",
       "    </tr>\n",
       "    <tr>\n",
       "      <th>27</th>\n",
       "      <td>FBgn0014127</td>\n",
       "      <td>0.000185</td>\n",
       "      <td>0.315698</td>\n",
       "      <td>0.000653</td>\n",
       "      <td>0.001599</td>\n",
       "    </tr>\n",
       "    <tr>\n",
       "      <th>28</th>\n",
       "      <td>FBgn0035849</td>\n",
       "      <td>0.000172</td>\n",
       "      <td>0.321756</td>\n",
       "      <td>0.001301</td>\n",
       "      <td>0.001693</td>\n",
       "    </tr>\n",
       "    <tr>\n",
       "      <th>29</th>\n",
       "      <td>FBgn0000588</td>\n",
       "      <td>0.000067</td>\n",
       "      <td>0.301262</td>\n",
       "      <td>0.000457</td>\n",
       "      <td>0.002163</td>\n",
       "    </tr>\n",
       "    <tr>\n",
       "      <th>...</th>\n",
       "      <td>...</td>\n",
       "      <td>...</td>\n",
       "      <td>...</td>\n",
       "      <td>...</td>\n",
       "      <td>...</td>\n",
       "    </tr>\n",
       "    <tr>\n",
       "      <th>10602</th>\n",
       "      <td>FBgn0033110</td>\n",
       "      <td>0.000001</td>\n",
       "      <td>0.285267</td>\n",
       "      <td>0.000437</td>\n",
       "      <td>0.000188</td>\n",
       "    </tr>\n",
       "    <tr>\n",
       "      <th>10603</th>\n",
       "      <td>FBgn0036354</td>\n",
       "      <td>0.000000</td>\n",
       "      <td>0.280450</td>\n",
       "      <td>0.000428</td>\n",
       "      <td>0.000094</td>\n",
       "    </tr>\n",
       "    <tr>\n",
       "      <th>10604</th>\n",
       "      <td>FBgn0031299</td>\n",
       "      <td>0.000000</td>\n",
       "      <td>0.270718</td>\n",
       "      <td>0.000129</td>\n",
       "      <td>0.000094</td>\n",
       "    </tr>\n",
       "    <tr>\n",
       "      <th>10605</th>\n",
       "      <td>FBgn0085468</td>\n",
       "      <td>0.000000</td>\n",
       "      <td>0.244561</td>\n",
       "      <td>0.000016</td>\n",
       "      <td>0.000094</td>\n",
       "    </tr>\n",
       "    <tr>\n",
       "      <th>10606</th>\n",
       "      <td>FBgn0050340</td>\n",
       "      <td>0.000000</td>\n",
       "      <td>0.280450</td>\n",
       "      <td>0.000428</td>\n",
       "      <td>0.000094</td>\n",
       "    </tr>\n",
       "    <tr>\n",
       "      <th>10607</th>\n",
       "      <td>FBgn0259716</td>\n",
       "      <td>0.000000</td>\n",
       "      <td>0.262701</td>\n",
       "      <td>0.000111</td>\n",
       "      <td>0.000094</td>\n",
       "    </tr>\n",
       "    <tr>\n",
       "      <th>10608</th>\n",
       "      <td>FBgn0032057</td>\n",
       "      <td>0.000000</td>\n",
       "      <td>0.290548</td>\n",
       "      <td>0.000424</td>\n",
       "      <td>0.000094</td>\n",
       "    </tr>\n",
       "    <tr>\n",
       "      <th>10609</th>\n",
       "      <td>FBgn0036831</td>\n",
       "      <td>0.000000</td>\n",
       "      <td>0.253398</td>\n",
       "      <td>0.000066</td>\n",
       "      <td>0.000094</td>\n",
       "    </tr>\n",
       "    <tr>\n",
       "      <th>10610</th>\n",
       "      <td>FBgn0032629</td>\n",
       "      <td>0.000000</td>\n",
       "      <td>0.253398</td>\n",
       "      <td>0.000066</td>\n",
       "      <td>0.000094</td>\n",
       "    </tr>\n",
       "    <tr>\n",
       "      <th>10611</th>\n",
       "      <td>FBgn0036380</td>\n",
       "      <td>0.000000</td>\n",
       "      <td>0.253398</td>\n",
       "      <td>0.000066</td>\n",
       "      <td>0.000094</td>\n",
       "    </tr>\n",
       "    <tr>\n",
       "      <th>10612</th>\n",
       "      <td>FBgn0050361</td>\n",
       "      <td>0.000000</td>\n",
       "      <td>0.251728</td>\n",
       "      <td>0.000020</td>\n",
       "      <td>0.000094</td>\n",
       "    </tr>\n",
       "    <tr>\n",
       "      <th>10613</th>\n",
       "      <td>FBgn0030721</td>\n",
       "      <td>0.000000</td>\n",
       "      <td>0.266511</td>\n",
       "      <td>0.000292</td>\n",
       "      <td>0.000094</td>\n",
       "    </tr>\n",
       "    <tr>\n",
       "      <th>10614</th>\n",
       "      <td>FBgn0042182</td>\n",
       "      <td>0.000000</td>\n",
       "      <td>0.250675</td>\n",
       "      <td>0.000049</td>\n",
       "      <td>0.000094</td>\n",
       "    </tr>\n",
       "    <tr>\n",
       "      <th>10615</th>\n",
       "      <td>FBgn0035167</td>\n",
       "      <td>0.000000</td>\n",
       "      <td>0.250675</td>\n",
       "      <td>0.000049</td>\n",
       "      <td>0.000094</td>\n",
       "    </tr>\n",
       "    <tr>\n",
       "      <th>10616</th>\n",
       "      <td>FBgn0053233</td>\n",
       "      <td>0.000000</td>\n",
       "      <td>0.262701</td>\n",
       "      <td>0.000111</td>\n",
       "      <td>0.000094</td>\n",
       "    </tr>\n",
       "    <tr>\n",
       "      <th>10617</th>\n",
       "      <td>FBgn0261373</td>\n",
       "      <td>0.000000</td>\n",
       "      <td>0.262701</td>\n",
       "      <td>0.000111</td>\n",
       "      <td>0.000094</td>\n",
       "    </tr>\n",
       "    <tr>\n",
       "      <th>10618</th>\n",
       "      <td>FBgn0041626</td>\n",
       "      <td>0.000000</td>\n",
       "      <td>0.266511</td>\n",
       "      <td>0.000292</td>\n",
       "      <td>0.000094</td>\n",
       "    </tr>\n",
       "    <tr>\n",
       "      <th>10619</th>\n",
       "      <td>FBgn0052644</td>\n",
       "      <td>0.000000</td>\n",
       "      <td>0.248824</td>\n",
       "      <td>0.000021</td>\n",
       "      <td>0.000094</td>\n",
       "    </tr>\n",
       "    <tr>\n",
       "      <th>10620</th>\n",
       "      <td>FBgn0051454</td>\n",
       "      <td>0.000000</td>\n",
       "      <td>0.290548</td>\n",
       "      <td>0.000424</td>\n",
       "      <td>0.000094</td>\n",
       "    </tr>\n",
       "    <tr>\n",
       "      <th>10621</th>\n",
       "      <td>FBgn0051493</td>\n",
       "      <td>0.000000</td>\n",
       "      <td>0.264665</td>\n",
       "      <td>0.000063</td>\n",
       "      <td>0.000094</td>\n",
       "    </tr>\n",
       "    <tr>\n",
       "      <th>10622</th>\n",
       "      <td>FBgn0034121</td>\n",
       "      <td>0.000000</td>\n",
       "      <td>0.285839</td>\n",
       "      <td>0.000573</td>\n",
       "      <td>0.000094</td>\n",
       "    </tr>\n",
       "    <tr>\n",
       "      <th>10623</th>\n",
       "      <td>FBgn0026393</td>\n",
       "      <td>0.000000</td>\n",
       "      <td>0.285839</td>\n",
       "      <td>0.000573</td>\n",
       "      <td>0.000094</td>\n",
       "    </tr>\n",
       "    <tr>\n",
       "      <th>10624</th>\n",
       "      <td>FBgn0035239</td>\n",
       "      <td>0.000000</td>\n",
       "      <td>0.285839</td>\n",
       "      <td>0.000573</td>\n",
       "      <td>0.000094</td>\n",
       "    </tr>\n",
       "    <tr>\n",
       "      <th>10625</th>\n",
       "      <td>FBgn0051956</td>\n",
       "      <td>0.000000</td>\n",
       "      <td>0.285839</td>\n",
       "      <td>0.000573</td>\n",
       "      <td>0.000094</td>\n",
       "    </tr>\n",
       "    <tr>\n",
       "      <th>10626</th>\n",
       "      <td>FBgn0260388</td>\n",
       "      <td>0.000000</td>\n",
       "      <td>0.285839</td>\n",
       "      <td>0.000573</td>\n",
       "      <td>0.000094</td>\n",
       "    </tr>\n",
       "    <tr>\n",
       "      <th>10627</th>\n",
       "      <td>FBgn0036492</td>\n",
       "      <td>0.000000</td>\n",
       "      <td>0.285839</td>\n",
       "      <td>0.000573</td>\n",
       "      <td>0.000094</td>\n",
       "    </tr>\n",
       "    <tr>\n",
       "      <th>10628</th>\n",
       "      <td>FBgn0038295</td>\n",
       "      <td>0.000000</td>\n",
       "      <td>0.285839</td>\n",
       "      <td>0.000573</td>\n",
       "      <td>0.000094</td>\n",
       "    </tr>\n",
       "    <tr>\n",
       "      <th>10629</th>\n",
       "      <td>FBgn0011589</td>\n",
       "      <td>0.000000</td>\n",
       "      <td>0.285839</td>\n",
       "      <td>0.000573</td>\n",
       "      <td>0.000094</td>\n",
       "    </tr>\n",
       "    <tr>\n",
       "      <th>10630</th>\n",
       "      <td>FBgn0037915</td>\n",
       "      <td>0.000000</td>\n",
       "      <td>0.280450</td>\n",
       "      <td>0.000428</td>\n",
       "      <td>0.000094</td>\n",
       "    </tr>\n",
       "    <tr>\n",
       "      <th>10631</th>\n",
       "      <td>FBgn0032276</td>\n",
       "      <td>0.000000</td>\n",
       "      <td>0.285839</td>\n",
       "      <td>0.000573</td>\n",
       "      <td>0.000094</td>\n",
       "    </tr>\n",
       "  </tbody>\n",
       "</table>\n",
       "<p>10632 rows × 5 columns</p>\n",
       "</div>"
      ],
      "text/plain": [
       "              FbID  Betweeness  Closeness  EigenVector   DegreeC\n",
       "0      FBgn0001199    0.000507   0.326043     0.001665  0.005550\n",
       "1      FBgn0010434    0.000440   0.332215     0.005553  0.003763\n",
       "2      FBgn0027594    0.000023   0.275844     0.000217  0.000753\n",
       "3      FBgn0000283    0.000676   0.339115     0.005222  0.006302\n",
       "4      FBgn0002781    0.002812   0.350032     0.002764  0.007149\n",
       "5      FBgn0017590    0.000013   0.281370     0.000109  0.000470\n",
       "6      FBgn0039254    0.000027   0.278989     0.000182  0.000658\n",
       "7      FBgn0004419    0.000966   0.339990     0.003748  0.005926\n",
       "8      FBgn0000163    0.000302   0.326325     0.001467  0.003669\n",
       "9      FBgn0000810    0.000272   0.311071     0.000846  0.003763\n",
       "10     FBgn0001139    0.001920   0.335043     0.002584  0.006867\n",
       "11     FBgn0010215    0.000144   0.326003     0.001744  0.001787\n",
       "12     FBgn0037719    0.001272   0.327562     0.002548  0.006208\n",
       "13     FBgn0029688    0.000185   0.331682     0.004480  0.002728\n",
       "14     FBgn0032940    0.000192   0.314231     0.000477  0.001223\n",
       "15     FBgn0003655    0.000309   0.298035     0.000422  0.001505\n",
       "16     FBgn0000392    0.000896   0.337574     0.009234  0.006020\n",
       "17     FBgn0025625    0.000223   0.280876     0.000206  0.000564\n",
       "18     FBgn0003285    0.000041   0.309002     0.000632  0.001035\n",
       "19     FBgn0024189    0.003456   0.354622     0.003877  0.009030\n",
       "20     FBgn0000578    0.000966   0.341974     0.002376  0.006208\n",
       "21     FBgn0022361    0.000164   0.304295     0.000650  0.001599\n",
       "22     FBgn0013765    0.003808   0.370232     0.008049  0.010817\n",
       "23     FBgn0002709    0.000028   0.306025     0.000424  0.000282\n",
       "24     FBgn0004644    0.000090   0.302688     0.000348  0.001787\n",
       "25     FBgn0002735    0.000206   0.311071     0.001507  0.002446\n",
       "26     FBgn0026430    0.000040   0.295696     0.000443  0.001505\n",
       "27     FBgn0014127    0.000185   0.315698     0.000653  0.001599\n",
       "28     FBgn0035849    0.000172   0.321756     0.001301  0.001693\n",
       "29     FBgn0000588    0.000067   0.301262     0.000457  0.002163\n",
       "...            ...         ...        ...          ...       ...\n",
       "10602  FBgn0033110    0.000001   0.285267     0.000437  0.000188\n",
       "10603  FBgn0036354    0.000000   0.280450     0.000428  0.000094\n",
       "10604  FBgn0031299    0.000000   0.270718     0.000129  0.000094\n",
       "10605  FBgn0085468    0.000000   0.244561     0.000016  0.000094\n",
       "10606  FBgn0050340    0.000000   0.280450     0.000428  0.000094\n",
       "10607  FBgn0259716    0.000000   0.262701     0.000111  0.000094\n",
       "10608  FBgn0032057    0.000000   0.290548     0.000424  0.000094\n",
       "10609  FBgn0036831    0.000000   0.253398     0.000066  0.000094\n",
       "10610  FBgn0032629    0.000000   0.253398     0.000066  0.000094\n",
       "10611  FBgn0036380    0.000000   0.253398     0.000066  0.000094\n",
       "10612  FBgn0050361    0.000000   0.251728     0.000020  0.000094\n",
       "10613  FBgn0030721    0.000000   0.266511     0.000292  0.000094\n",
       "10614  FBgn0042182    0.000000   0.250675     0.000049  0.000094\n",
       "10615  FBgn0035167    0.000000   0.250675     0.000049  0.000094\n",
       "10616  FBgn0053233    0.000000   0.262701     0.000111  0.000094\n",
       "10617  FBgn0261373    0.000000   0.262701     0.000111  0.000094\n",
       "10618  FBgn0041626    0.000000   0.266511     0.000292  0.000094\n",
       "10619  FBgn0052644    0.000000   0.248824     0.000021  0.000094\n",
       "10620  FBgn0051454    0.000000   0.290548     0.000424  0.000094\n",
       "10621  FBgn0051493    0.000000   0.264665     0.000063  0.000094\n",
       "10622  FBgn0034121    0.000000   0.285839     0.000573  0.000094\n",
       "10623  FBgn0026393    0.000000   0.285839     0.000573  0.000094\n",
       "10624  FBgn0035239    0.000000   0.285839     0.000573  0.000094\n",
       "10625  FBgn0051956    0.000000   0.285839     0.000573  0.000094\n",
       "10626  FBgn0260388    0.000000   0.285839     0.000573  0.000094\n",
       "10627  FBgn0036492    0.000000   0.285839     0.000573  0.000094\n",
       "10628  FBgn0038295    0.000000   0.285839     0.000573  0.000094\n",
       "10629  FBgn0011589    0.000000   0.285839     0.000573  0.000094\n",
       "10630  FBgn0037915    0.000000   0.280450     0.000428  0.000094\n",
       "10631  FBgn0032276    0.000000   0.285839     0.000573  0.000094\n",
       "\n",
       "[10632 rows x 5 columns]"
      ]
     },
     "execution_count": 43,
     "metadata": {},
     "output_type": "execute_result"
    }
   ],
   "source": [
    "metrics = betweenness.merge(closeness, on='FbID').merge(eigenvector, on='FbID').merge(degrees_cen, on=\"FbID\")\n",
    "metrics"
   ]
  },
  {
   "cell_type": "code",
   "execution_count": 44,
   "metadata": {
    "scrolled": true
   },
   "outputs": [
    {
     "name": "stderr",
     "output_type": "stream",
     "text": [
      "/home/lblondel/anaconda3/envs/datascience/lib/python3.5/site-packages/ipykernel_launcher.py:5: SettingWithCopyWarning: \n",
      "A value is trying to be set on a copy of a slice from a DataFrame.\n",
      "Try using .loc[row_indexer,col_indexer] = value instead\n",
      "\n",
      "See the caveats in the documentation: http://pandas.pydata.org/pandas-docs/stable/indexing.html#indexing-view-versus-copy\n",
      "  \"\"\"\n",
      "/home/lblondel/anaconda3/envs/datascience/lib/python3.5/site-packages/ipykernel_launcher.py:12: SettingWithCopyWarning: \n",
      "A value is trying to be set on a copy of a slice from a DataFrame.\n",
      "Try using .loc[row_indexer,col_indexer] = value instead\n",
      "\n",
      "See the caveats in the documentation: http://pandas.pydata.org/pandas-docs/stable/indexing.html#indexing-view-versus-copy\n",
      "  if sys.path[0] == '':\n"
     ]
    }
   ],
   "source": [
    "modules = [ova_module, fec_module, xRNAi_module]\n",
    "modules_label = ['Ova', 'HpoEggL', 'EggL']\n",
    "\n",
    "result = metrics[metrics['FbID'].isin(core_module)]\n",
    "result['Module'] = \"Core\"\n",
    "\n",
    "for i in range(3):\n",
    "    module = modules[i]\n",
    "    module_label = modules_label[i]\n",
    "    testing_module = [n for n in module if n not in core_module]\n",
    "    testing_metric = metrics[metrics['FbID'].isin(testing_module)]\n",
    "    testing_metric['Module'] = module_label\n",
    "    result = result.append(testing_metric)"
   ]
  },
  {
   "cell_type": "code",
   "execution_count": 45,
   "metadata": {},
   "outputs": [],
   "source": [
    "result = result.melt(['FbID', 'Module'])"
   ]
  },
  {
   "cell_type": "code",
   "execution_count": 46,
   "metadata": {},
   "outputs": [
    {
     "data": {
      "text/plain": [
       "array(['Betweeness', 'Closeness', 'EigenVector', 'DegreeC'], dtype=object)"
      ]
     },
     "execution_count": 46,
     "metadata": {},
     "output_type": "execute_result"
    }
   ],
   "source": [
    "result['variable'].unique()"
   ]
  },
  {
   "cell_type": "code",
   "execution_count": 48,
   "metadata": {},
   "outputs": [
    {
     "data": {
      "text/plain": [
       "<matplotlib.axes._subplots.AxesSubplot at 0x7f690a59f710>"
      ]
     },
     "execution_count": 48,
     "metadata": {},
     "output_type": "execute_result"
    },
    {
     "data": {
      "image/png": "[encoded data removed]",
      "text/plain": [
       "<Figure size 432x288 with 1 Axes>"
      ]
     },
     "metadata": {
      "needs_background": "light"
     },
     "output_type": "display_data"
    }
   ],
   "source": [
    "sns.boxplot(data=result, x='Module', y='value', hue='variable')"
   ]
  },
  {
   "cell_type": "code",
   "execution_count": 49,
   "metadata": {},
   "outputs": [
    {
     "data": {
      "image/png": "[encoded data removed]",
      "text/plain": [
       "<Figure size 432x288 with 1 Axes>"
      ]
     },
     "metadata": {
      "needs_background": "light"
     },
     "output_type": "display_data"
    },
    {
     "data": {
      "image/png": "[encoded data removed]",
      "text/plain": [
       "<Figure size 432x288 with 1 Axes>"
      ]
     },
     "metadata": {
      "needs_background": "light"
     },
     "output_type": "display_data"
    },
    {
     "data": {
      "image/png": "[encoded data removed]",
      "text/plain": [
       "<Figure size 432x288 with 1 Axes>"
      ]
     },
     "metadata": {
      "needs_background": "light"
     },
     "output_type": "display_data"
    },
    {
     "data": {
      "image/png": "[encoded data removed]",
      "text/plain": [
       "<Figure size 432x288 with 1 Axes>"
      ]
     },
     "metadata": {
      "needs_background": "light"
     },
     "output_type": "display_data"
    }
   ],
   "source": [
    "for metric in ['Betweeness', 'Closeness', 'EigenVector', 'DegreeC']:\n",
    "    plt.figure()\n",
    "    plt.title(metric)\n",
    "    for module in result['Module'].unique():\n",
    "        sns.distplot(a=result[(result['variable'] == metric) & (result['Module'] == module)]['value'])\n",
    "   "
   ]
  },
  {
   "cell_type": "code",
   "execution_count": 50,
   "metadata": {},
   "outputs": [
    {
     "name": "stdout",
     "output_type": "stream",
     "text": [
      "Umann Betweeness Core HpoEggL 0.00865686781738\n",
      "Umann Betweeness Core EggL 0.0149280190808\n",
      "Umann Betweeness HpoEggL Core 0.00865686781738\n",
      "Umann Betweeness EggL Core 0.0149280190808\n",
      "Umann Closeness Core HpoEggL 0.00244451160314\n",
      "Umann Closeness Core EggL 0.018963005839\n",
      "Umann Closeness Ova HpoEggL 0.0235243385272\n",
      "Umann Closeness HpoEggL Core 0.00244451160314\n",
      "Umann Closeness HpoEggL Ova 0.0235243385272\n",
      "Umann Closeness EggL Core 0.018963005839\n",
      "Umann EigenVector Core HpoEggL 0.0144471165532\n",
      "Umann EigenVector Ova HpoEggL 0.0357204862078\n",
      "Umann EigenVector HpoEggL Core 0.0144471165532\n",
      "Umann EigenVector HpoEggL Ova 0.0357204862078\n",
      "Umann DegreeC Core HpoEggL 0.0130311839041\n",
      "Umann DegreeC Core EggL 0.0302196084174\n",
      "Umann DegreeC HpoEggL Core 0.0130311839041\n",
      "Umann DegreeC EggL Core 0.0302196084174\n"
     ]
    },
    {
     "data": {
      "image/png": "[encoded data removed]",
      "text/plain": [
       "<Figure size 792x576 with 4 Axes>"
      ]
     },
     "metadata": {
      "needs_background": "light"
     },
     "output_type": "display_data"
    }
   ],
   "source": [
    "fig = plt.figure(figsize=(11,8))\n",
    "c = 1\n",
    "colors = [\"#cc8888\", \"#cccccc\", \"#cccccc\", \"#cccccc\"]\n",
    "for metric in ['Betweeness', 'Closeness', 'EigenVector', 'DegreeC']:\n",
    "    ax = fig.add_subplot(2,2,c)\n",
    "    sns.boxplot(data=result[result['variable'] == metric], x='Module', y='value', color=\"#cccccc\", showfliers=False)\n",
    "    plt.xlabel(\"\")\n",
    "    plt.ylabel(metric)\n",
    "    for module1 in result['Module'].unique():\n",
    "        X = result[(result['variable'] == metric) & (result['Module'] == module1)]['value'].values\n",
    "        for module2 in result['Module'].unique():\n",
    "            Y = result[(result['variable'] == metric) & (result['Module'] == module2)]['value'].values\n",
    "            s,p = stats.mannwhitneyu(X, Y)\n",
    "            if p < 0.05:\n",
    "                print(\"Umann\",metric, module1, module2, p)\n",
    "    c += 1\n",
    "fig.savefig(os.path.join(resultpath, \"CoreVSModules_Centrality.svg\"))"
   ]
  },
  {
   "cell_type": "markdown",
   "metadata": {},
   "source": [
    "# Making a heatmap of signaling pathway per group"
   ]
  },
  {
   "cell_type": "code",
   "execution_count": 51,
   "metadata": {},
   "outputs": [],
   "source": [
    "sigs = signaling.groupby('Sig', as_index=False).count().sort_values('FbID')['Sig'].values"
   ]
  },
  {
   "cell_type": "code",
   "execution_count": 52,
   "metadata": {},
   "outputs": [],
   "source": [
    "data = metatable.groupby(['Overlap'], as_index=False).mean()[['Overlap'] + list(sigs)]"
   ]
  },
  {
   "cell_type": "code",
   "execution_count": 53,
   "metadata": {},
   "outputs": [],
   "source": [
    "index_order = metatable.groupby('Overlap', as_index=False).count().sort_values('FbID')['Overlap'].values"
   ]
  },
  {
   "cell_type": "code",
   "execution_count": 54,
   "metadata": {
    "scrolled": true
   },
   "outputs": [],
   "source": [
    "sorterIndex = dict(zip(index_order,range(len(index_order))))"
   ]
  },
  {
   "cell_type": "code",
   "execution_count": 55,
   "metadata": {},
   "outputs": [],
   "source": [
    "data['Rank'] = data['Overlap'].map(sorterIndex)\n",
    "data.index = data['Overlap']"
   ]
  },
  {
   "cell_type": "code",
   "execution_count": 56,
   "metadata": {},
   "outputs": [],
   "source": [
    "data.sort_values(['Rank'], \\\n",
    "        ascending = [True], inplace = True)"
   ]
  },
  {
   "cell_type": "code",
   "execution_count": 57,
   "metadata": {},
   "outputs": [],
   "source": [
    "del(data['Overlap'])\n",
    "del(data['Rank'])"
   ]
  },
  {
   "cell_type": "code",
   "execution_count": 58,
   "metadata": {},
   "outputs": [
    {
     "data": {
      "image/png": "[encoded data removed]",
      "text/plain": [
       "<Figure size 576x252 with 2 Axes>"
      ]
     },
     "metadata": {
      "needs_background": "light"
     },
     "output_type": "display_data"
    }
   ],
   "source": [
    "fig = plt.figure(figsize=(8,3.5))\n",
    "sns.heatmap(data, cmap=\"Greys\", linewidths=.75)\n",
    "fig.savefig(os.path.join(resultpath,\"Figures/Meta_Network_Signaling_Heatmap.svg\"))"
   ]
  }
 ],
 "metadata": {
  "kernelspec": {
   "display_name": "Python 3",
   "language": "python",
   "name": "python3"
  },
  "language_info": {
   "codemirror_mode": {
    "name": "ipython",
    "version": 3
   },
   "file_extension": ".py",
   "mimetype": "text/x-python",
   "name": "python",
   "nbconvert_exporter": "python",
   "pygments_lexer": "ipython3",
   "version": "3.5.6"
  }
 },
 "nbformat": 4,
 "nbformat_minor": 2
}
