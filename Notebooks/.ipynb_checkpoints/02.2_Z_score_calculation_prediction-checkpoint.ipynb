{
 "cells": [
  {
   "cell_type": "code",
   "execution_count": 1,
   "metadata": {},
   "outputs": [],
   "source": [
    "import seaborn as sns\n",
    "sns.set()\n",
    "import matplotlib.pyplot as plt\n",
    "import pandas as pd\n",
    "import numpy as np\n",
    "from scipy import stats\n",
    "import re\n",
    "import os\n",
    "%matplotlib inline"
   ]
  },
  {
   "cell_type": "markdown",
   "metadata": {},
   "source": [
    "# Define paths\n",
    "\n",
    "Accross the analysis the following names are used for the 3 screens\n",
    "- ova == Hippo RNAi Ovariole Number screen\n",
    "- fec == Hippo RNAi EggLaying screen\n",
    "- xRNAi == EggLaying screen"
   ]
  },
  {
   "cell_type": "code",
   "execution_count": 2,
   "metadata": {},
   "outputs": [],
   "source": [
    "# Define the path where all the primary data are\n",
    "\n",
    "data = '../Data/'\n",
    "\n",
    "# Result path containing all the results from the analysisi\n",
    "resultpath = '../Results/'"
   ]
  },
  {
   "cell_type": "markdown",
   "metadata": {},
   "source": [
    "# Load the datasets"
   ]
  },
  {
   "cell_type": "code",
   "execution_count": 3,
   "metadata": {},
   "outputs": [],
   "source": [
    "# Loading the raw data for the 3 screens\n",
    "# HippoRNAi EggLaying\n",
    "hipo_fec = pd.read_csv(os.path.join(data,'Screen', 'Raw', 'Raw_EggLaying_HpoRNAi_Pred.csv'))\n",
    "# HippoRNAi Ovariole Number\n",
    "hipo_ova = pd.read_csv(os.path.join(data,'Screen', 'Raw', 'Raw_Ova_HpoRNAi_Pred.csv'))\n",
    "# Egg Laying\n",
    "xRNAi_fec = pd.read_csv(os.path.join(data,'Screen', 'Raw', 'Raw_EggLaying_Pred.csv'))\n",
    "\n",
    "# And we load the signaling table that contains the mapping for all the FbID to signaling pathway\n",
    "signaling = pd.read_csv(os.path.join(data,'signaling.csv'))"
   ]
  },
  {
   "cell_type": "code",
   "execution_count": 4,
   "metadata": {},
   "outputs": [
    {
     "data": {
      "text/plain": [
       "43"
      ]
     },
     "execution_count": 4,
     "metadata": {},
     "output_type": "execute_result"
    }
   ],
   "source": [
    "len(xRNAi_fec['FbID'].unique())"
   ]
  },
  {
   "cell_type": "markdown",
   "metadata": {},
   "source": [
    "## Checking that we have the correct number of genes"
   ]
  },
  {
   "cell_type": "code",
   "execution_count": 5,
   "metadata": {},
   "outputs": [],
   "source": [
    "# Assert that the number of gene in the screen, that are in the signaling table (which contains the gene tested) is 463\n",
    "assert(len(hipo_fec['FbID'].unique()) == 43)"
   ]
  },
  {
   "cell_type": "code",
   "execution_count": 6,
   "metadata": {},
   "outputs": [],
   "source": [
    "# Assert that the number of gene in the screen, that are in the signaling table (which contains the gene tested) is 273\n",
    "assert len(hipo_ova['FbID'].unique()) == 43"
   ]
  },
  {
   "cell_type": "code",
   "execution_count": 7,
   "metadata": {},
   "outputs": [],
   "source": [
    "# Assert that the number of gene in the screen, that are in the signaling table (which contains the gene tested) is 273\n",
    "assert len(xRNAi_fec['FbID'].unique()) == 43"
   ]
  },
  {
   "cell_type": "markdown",
   "metadata": {},
   "source": [
    "# Cleaning Ovariole Number data\n",
    "## Tidy Data for Ovariole Database"
   ]
  },
  {
   "cell_type": "code",
   "execution_count": 8,
   "metadata": {},
   "outputs": [],
   "source": [
    "# Create the mapping table for Fly ID to column name\n",
    "map_FlyId = {'Fly 1':1,\n",
    "             'Fly 1.1':1,\n",
    "             'Fly 2':2,\n",
    "             'Fly 2.1':2,\n",
    "             'Fly 3':3,\n",
    "             'Fly 3.1':3,\n",
    "             'Fly 4':4,\n",
    "             'Fly 4.1':4,\n",
    "             'Fly 5':5,\n",
    "             'Fly 5.1':5,\n",
    "             'Fly 6':6,\n",
    "             'Fly 6.1':6,\n",
    "             'Fly 7':7,\n",
    "             'Fly 7.1':7,\n",
    "             'Fly 8':8,\n",
    "             'Fly 8.1':8,\n",
    "             'Fly 9':9,\n",
    "             'Fly 9.1':9,\n",
    "             'Fly 10':10,\n",
    "             'Fly 10.1':10\n",
    "            }"
   ]
  },
  {
   "cell_type": "code",
   "execution_count": 9,
   "metadata": {},
   "outputs": [],
   "source": [
    "# Here we Tidy the data, aka we transform the 2 entry table into a tidy dataframe format\n",
    "# Create an array to hold the reults\n",
    "\n",
    "result = []\n",
    "# For each row\n",
    "for i in range(len(hipo_ova)):\n",
    "    # collect meta information \n",
    "    FbID = hipo_ova['FbID'][i]\n",
    "    Condition = hipo_ova['Condition'][i]\n",
    "    batch = hipo_ova['BATCH'][i]\n",
    "    # For each ovary\n",
    "    for ovary in map_FlyId:\n",
    "        # Define FlyID\n",
    "        FlyID = map_FlyId[ovary]\n",
    "        # Collect ovariole number\n",
    "        ovanb = hipo_ova[ovary][i]\n",
    "        # Add the result as a new line to the result array\n",
    "        result.append([Condition, batch, FbID, FlyID, ovanb])\n",
    "        \n",
    "# Save the array into a dataframe \n",
    "hipo_ova_clean = pd.DataFrame(result, columns=['Gene', 'Batch','FbID','FlyId','OvarioleNb'])"
   ]
  },
  {
   "cell_type": "code",
   "execution_count": 10,
   "metadata": {},
   "outputs": [
    {
     "data": {
      "text/plain": [
       "134.0"
      ]
     },
     "execution_count": 10,
     "metadata": {},
     "output_type": "execute_result"
    }
   ],
   "source": [
    "len(hipo_ova_clean) / 20"
   ]
  },
  {
   "cell_type": "code",
   "execution_count": 11,
   "metadata": {},
   "outputs": [],
   "source": [
    "#Assert that all the rows have been succesfully converted\n",
    "# 134 rows and 20 measurement points -> 2680\n",
    "assert(len(hipo_ova_clean) == 2680)"
   ]
  },
  {
   "cell_type": "code",
   "execution_count": 12,
   "metadata": {},
   "outputs": [],
   "source": [
    "#Assert that we have 43 unique FbID in the table\n",
    "assert(len(hipo_ova_clean['FbID'].unique()) == 43)"
   ]
  },
  {
   "cell_type": "code",
   "execution_count": 13,
   "metadata": {},
   "outputs": [],
   "source": [
    "# Test that we have data for all ovaries for all the flies\n",
    "for gene in hipo_ova_clean['FbID'].unique():\n",
    "    assert(len(hipo_ova_clean[hipo_ova_clean['FbID']==gene]) % 20 == 0)"
   ]
  },
  {
   "cell_type": "markdown",
   "metadata": {},
   "source": [
    "## Z Score calculation"
   ]
  },
  {
   "cell_type": "code",
   "execution_count": 14,
   "metadata": {},
   "outputs": [],
   "source": [
    "# We select only the control data\n",
    "control = hipo_ova_clean[hipo_ova_clean['Gene'] == 'Tj>HpoRNAi']"
   ]
  },
  {
   "cell_type": "code",
   "execution_count": 15,
   "metadata": {},
   "outputs": [],
   "source": [
    "# We should have 22 controls in this dataset\n",
    "assert(len(control)/20 == 22)"
   ]
  },
  {
   "cell_type": "code",
   "execution_count": 16,
   "metadata": {},
   "outputs": [],
   "source": [
    "# Here we calculate the mean ovariole number for each batch\n",
    "# We group the dataset by batch, then we calculate the mean for each group \n",
    "# considering each ovary an independant variable\n",
    "# Then we reset the index to have a clean dataframe\n",
    "control_mean = control.groupby(['Batch']).mean().reset_index()\n",
    "# And the same for the standard deviation\n",
    "control_std = control.groupby(['Batch']).std().reset_index()"
   ]
  },
  {
   "cell_type": "code",
   "execution_count": 17,
   "metadata": {},
   "outputs": [],
   "source": [
    "# Making sure we have 11 controls for the 11 batches\n",
    "assert(len(control_mean) == 11)"
   ]
  },
  {
   "cell_type": "code",
   "execution_count": 18,
   "metadata": {},
   "outputs": [],
   "source": [
    "# Now we calculate the Z score for all the non control values\n",
    "\n",
    "# Define an array to hold our Z scores\n",
    "Zs = []\n",
    "# For each line of our tidy table\n",
    "for i in range(len(hipo_ova_clean)):\n",
    "    # Get the batch value\n",
    "    batch = hipo_ova_clean['Batch'][i]\n",
    "    # get the ovariole nb counts\n",
    "    count = hipo_ova_clean['OvarioleNb'][i]\n",
    "    # Get the mean value for the batch\n",
    "    mu = control_mean[control_mean['Batch'] == batch]['OvarioleNb'].values[0]\n",
    "    # Get the std for the batch\n",
    "    std = control_std[control_std['Batch'] == batch]['OvarioleNb'].values[0]\n",
    "    # Calculate Z as Z = x-mu / std\n",
    "    Z = (count-mu)/std\n",
    "    # save Z\n",
    "    Zs.append(Z)"
   ]
  },
  {
   "cell_type": "code",
   "execution_count": 19,
   "metadata": {},
   "outputs": [],
   "source": [
    "hipo_ova_clean['Z'] = Zs"
   ]
  },
  {
   "cell_type": "markdown",
   "metadata": {},
   "source": [
    "## Saving results"
   ]
  },
  {
   "cell_type": "code",
   "execution_count": 20,
   "metadata": {},
   "outputs": [],
   "source": [
    "hipo_ova_clean.to_csv(os.path.join(data,'Screen', 'hipo_ova_clean_pred.csv'), index=False)"
   ]
  },
  {
   "cell_type": "markdown",
   "metadata": {},
   "source": [
    "# Cleaning Egg Laying Hippo RNAi\n",
    "## Tidy Data for Ovariole Database"
   ]
  },
  {
   "cell_type": "code",
   "execution_count": 21,
   "metadata": {},
   "outputs": [],
   "source": [
    "hipo_fec['Sum'] = hipo_fec['Day 1'] + hipo_fec['Day 2 '] + hipo_fec['Day 3'] + hipo_fec['Day 4 '] + hipo_fec['Day 5']"
   ]
  },
  {
   "cell_type": "code",
   "execution_count": 22,
   "metadata": {},
   "outputs": [],
   "source": [
    "Conditions = ['Day 1',\n",
    " 'Day 2 ',\n",
    " 'Day 3',\n",
    " 'Day 4 ',\n",
    " 'Day 5',\n",
    " 'Sum']"
   ]
  },
  {
   "cell_type": "code",
   "execution_count": 23,
   "metadata": {},
   "outputs": [],
   "source": [
    "results = []\n",
    "for i in range(len(hipo_fec)):\n",
    "    condition = hipo_fec['Condition'][i]\n",
    "    batch = hipo_fec['BATCH'][i]\n",
    "    FbID = hipo_fec['FbID'][i]\n",
    "    for c in Conditions:\n",
    "        count = hipo_fec[c][i]\n",
    "        results.append([condition, batch, FbID, c, count])                          \n",
    "hipo_fec_clean = pd.DataFrame(results, columns=['Gene', 'Batch', 'FbID', 'Condition', 'Count'])"
   ]
  },
  {
   "cell_type": "code",
   "execution_count": 24,
   "metadata": {},
   "outputs": [
    {
     "data": {
      "text/plain": [
       "258.0"
      ]
     },
     "execution_count": 24,
     "metadata": {},
     "output_type": "execute_result"
    }
   ],
   "source": [
    "len(hipo_fec_clean) / 5"
   ]
  },
  {
   "cell_type": "code",
   "execution_count": 25,
   "metadata": {
    "scrolled": true
   },
   "outputs": [],
   "source": [
    "#Assert that all the rows have been succesfully converted\n",
    "# 258 rows and 5 measurement points and the sum -> 258 * (5+1) = 1290\n",
    "assert(len(hipo_fec_clean) == 1290)"
   ]
  },
  {
   "cell_type": "code",
   "execution_count": 26,
   "metadata": {},
   "outputs": [],
   "source": [
    "#Assert that we have 43 unique FbID in the table\n",
    "assert(len(hipo_fec_clean['FbID'].unique()) == 43) #"
   ]
  },
  {
   "cell_type": "code",
   "execution_count": 27,
   "metadata": {},
   "outputs": [],
   "source": [
    "# Test that we have data for all datapoints for all the flies\n",
    "for gene in hipo_fec_clean['FbID'].unique():\n",
    "    assert(len(hipo_fec_clean[hipo_fec_clean['FbID']==gene]) % 6 == 0)"
   ]
  },
  {
   "cell_type": "markdown",
   "metadata": {},
   "source": [
    "## Z Score calculation"
   ]
  },
  {
   "cell_type": "code",
   "execution_count": 28,
   "metadata": {},
   "outputs": [],
   "source": [
    "control = hipo_fec_clean[hipo_fec_clean['Gene'] == 'Tj>HpoRNAi']"
   ]
  },
  {
   "cell_type": "code",
   "execution_count": 29,
   "metadata": {},
   "outputs": [],
   "source": [
    "# We should have 13 controls in this dataset\n",
    "assert(len(control)/6 == 58)"
   ]
  },
  {
   "cell_type": "code",
   "execution_count": 30,
   "metadata": {},
   "outputs": [],
   "source": [
    "# Here we group again by batch AND by condition this time and calculate the mean and std\n",
    "control_mean = control[['Batch','Condition','Count']].groupby(['Batch','Condition']).mean().reset_index()\n",
    "control_std = control[['Batch','Condition','Count']].groupby(['Batch','Condition']).std().reset_index()"
   ]
  },
  {
   "cell_type": "code",
   "execution_count": 31,
   "metadata": {},
   "outputs": [],
   "source": [
    "# Making sure we have 9 controls for the 9 batches * 6 condition\n",
    "assert(len(control_mean) == 12*6)"
   ]
  },
  {
   "cell_type": "code",
   "execution_count": 32,
   "metadata": {},
   "outputs": [],
   "source": [
    "# exact same code as above for Z score\n",
    "res = []\n",
    "for i in range(len(hipo_fec_clean)):\n",
    "    batch = hipo_fec_clean['Batch'][i]\n",
    "    condition = hipo_fec_clean['Condition'][i]\n",
    "    count = hipo_fec_clean['Count'][i]\n",
    "    mu = control_mean[(control_mean['Batch'] == batch) & (control_mean['Condition'] == condition)]['Count'].values[0]\n",
    "    std = control_std[(control_std['Batch'] == batch) & (control_std['Condition'] == condition)]['Count'].values[0]\n",
    "    Z = (count-mu)/std\n",
    "    res.append(Z)"
   ]
  },
  {
   "cell_type": "code",
   "execution_count": 33,
   "metadata": {},
   "outputs": [],
   "source": [
    "hipo_fec_clean['Z'] = res"
   ]
  },
  {
   "cell_type": "markdown",
   "metadata": {},
   "source": [
    "## Saving results"
   ]
  },
  {
   "cell_type": "code",
   "execution_count": 34,
   "metadata": {},
   "outputs": [],
   "source": [
    "hipo_fec_clean.to_csv(os.path.join(data,'Screen', 'hipo_fec_clean_pred.csv'), index=False)"
   ]
  },
  {
   "cell_type": "markdown",
   "metadata": {},
   "source": [
    "# Cleaning Egg Laying\n",
    "## Tidy Data for Ovariole Database"
   ]
  },
  {
   "cell_type": "code",
   "execution_count": 35,
   "metadata": {},
   "outputs": [],
   "source": [
    "xRNAi_fec['Sum'] = xRNAi_fec['Day 1'] + xRNAi_fec['Day 2 '] + xRNAi_fec['Day 3'] + xRNAi_fec['Day 4 '] + xRNAi_fec['Day 5']"
   ]
  },
  {
   "cell_type": "code",
   "execution_count": 36,
   "metadata": {},
   "outputs": [],
   "source": [
    "Conditions = ['Day 1',\n",
    " 'Day 2 ',\n",
    " 'Day 3',\n",
    " 'Day 4 ',\n",
    " 'Day 5',\n",
    " 'Sum']"
   ]
  },
  {
   "cell_type": "code",
   "execution_count": 37,
   "metadata": {},
   "outputs": [],
   "source": [
    "results = []\n",
    "for i in range(len(xRNAi_fec)):\n",
    "    condition = xRNAi_fec['Condition'][i]\n",
    "    batch = xRNAi_fec['BATCH'][i]\n",
    "    FbID = xRNAi_fec['FbID'][i]\n",
    "    for c in Conditions:\n",
    "        count = xRNAi_fec[c][i]\n",
    "        results.append([condition, batch, FbID, c, count])                          \n",
    "xRNAi_fec_clean = pd.DataFrame(results, columns=['Gene', 'Batch', 'FbID', 'Condition', 'Count'])"
   ]
  },
  {
   "cell_type": "code",
   "execution_count": 38,
   "metadata": {},
   "outputs": [],
   "source": [
    "#Assert that all the rows have been succesfully converted\n",
    "# 355 rows and 6 measurement points -> 2130\n",
    "assert(len(xRNAi_fec_clean) == 1068)"
   ]
  },
  {
   "cell_type": "code",
   "execution_count": 39,
   "metadata": {},
   "outputs": [],
   "source": [
    "#Assert that we have 273 unique FbID in the table\n",
    "assert(len(xRNAi_fec_clean['FbID'].unique()) == 43) # +1 for the control genes -> NaN"
   ]
  },
  {
   "cell_type": "code",
   "execution_count": 40,
   "metadata": {},
   "outputs": [],
   "source": [
    "# Test that we have data for all egglay for all the flies\n",
    "for gene in xRNAi_fec_clean['FbID'].unique():\n",
    "    assert(len(xRNAi_fec_clean[xRNAi_fec_clean['FbID']==gene]) % 6 == 0)"
   ]
  },
  {
   "cell_type": "code",
   "execution_count": 41,
   "metadata": {},
   "outputs": [],
   "source": [
    "control = xRNAi_fec_clean[xRNAi_fec_clean['Gene'] == 'Tj>']"
   ]
  },
  {
   "cell_type": "code",
   "execution_count": 42,
   "metadata": {},
   "outputs": [],
   "source": [
    "# We should have 13 controls in this dataset\n",
    "assert(len(control)/6 == 46)"
   ]
  },
  {
   "cell_type": "code",
   "execution_count": 43,
   "metadata": {},
   "outputs": [],
   "source": [
    "control_mean = control[['Batch','Condition','Count']].groupby(['Batch','Condition']).mean().reset_index()\n",
    "control_std = control[['Batch','Condition','Count']].groupby(['Batch','Condition']).std().reset_index()"
   ]
  },
  {
   "cell_type": "code",
   "execution_count": 44,
   "metadata": {},
   "outputs": [],
   "source": [
    "res = []\n",
    "for i in range(len(xRNAi_fec_clean)):\n",
    "    batch = xRNAi_fec_clean['Batch'][i]\n",
    "    condition = xRNAi_fec_clean['Condition'][i]\n",
    "    count = xRNAi_fec_clean['Count'][i]\n",
    "    mu = control_mean[(control_mean['Batch'] == batch) & (control_mean['Condition'] == condition)]['Count'].values[0]\n",
    "    std = control_std[(control_std['Batch'] == batch) & (control_std['Condition'] == condition)]['Count'].values[0]\n",
    "    Z = (count-mu)/std\n",
    "    res.append(Z)"
   ]
  },
  {
   "cell_type": "code",
   "execution_count": 45,
   "metadata": {},
   "outputs": [],
   "source": [
    "xRNAi_fec_clean['Z'] = res"
   ]
  },
  {
   "cell_type": "markdown",
   "metadata": {},
   "source": [
    "## Saving results"
   ]
  },
  {
   "cell_type": "code",
   "execution_count": 46,
   "metadata": {},
   "outputs": [],
   "source": [
    "xRNAi_fec_clean.to_csv(os.path.join(data,'Screen', 'xRNAi_fec_clean_pred.csv'), index=False)"
   ]
  },
  {
   "cell_type": "markdown",
   "metadata": {},
   "source": [
    "# Selecting genes above and below Zscore threshold"
   ]
  },
  {
   "cell_type": "code",
   "execution_count": 47,
   "metadata": {},
   "outputs": [],
   "source": [
    "# We load the CSV files we just created\n",
    "hipo_ova = pd.read_csv(os.path.join(data, 'Screen', 'hipo_ova_clean_pred.csv'))\n",
    "hipo_fec = pd.read_csv(os.path.join(data, 'Screen', 'hipo_fec_clean_pred.csv'))\n",
    "xRNAi_fec = pd.read_csv(os.path.join(data, 'Screen', 'xRNAi_fec_clean_pred.csv'))"
   ]
  },
  {
   "cell_type": "code",
   "execution_count": 48,
   "metadata": {},
   "outputs": [],
   "source": [
    "# Next we calculate all the Zscore means \n",
    "# We group the dataset by gene (FbID) and we take the mean for each.\n",
    "\n",
    "# Ovariole number screen\n",
    "mean_ova_gene = hipo_ova.groupby('FbID', as_index=False).mean()\n",
    "\n",
    "# Here we only consider the sum of egg layed for 5 days\n",
    "\n",
    "# Hippo RNAi Egg Laying screen\n",
    "mean_fec_gene = hipo_fec[hipo_fec['Condition'] == 'Sum'].groupby('FbID', as_index=False).mean()\n",
    "\n",
    "# Egg Laying Screen\n",
    "mean_xRNAi_gene = xRNAi_fec[xRNAi_fec['Condition'] == 'Sum'].groupby('FbID', as_index=False).mean()\n"
   ]
  },
  {
   "cell_type": "markdown",
   "metadata": {},
   "source": [
    "## Define threshold"
   ]
  },
  {
   "cell_type": "code",
   "execution_count": 49,
   "metadata": {},
   "outputs": [],
   "source": [
    "# We define the thresholds for selecting a candidate \n",
    "# Ovariole number at 2 and EggL at 5\n",
    "ova_threshold = 2\n",
    "eggl_threshold = 5"
   ]
  },
  {
   "cell_type": "code",
   "execution_count": 50,
   "metadata": {},
   "outputs": [],
   "source": [
    "# Ovariole number screen\n",
    "# Keep only genes with a Zscore over or equal to 2\n",
    "Zposneg_ova = mean_ova_gene[(mean_ova_gene['Z'].abs()>=ova_threshold)]['FbID'].values\n",
    "# Filter out the controls\n",
    "Zposneg_ova = [i for i in Zposneg_ova if 'FBgn' in i]\n",
    "\n",
    "# Hippo RNAi Egg Laying screen\n",
    "# Keep only genes with a Zscore over or equal to 5\n",
    "Zposneg_fec = mean_fec_gene[(mean_fec_gene['Z'].abs()>=eggl_threshold)]['FbID'].values\n",
    "# Filter out the controls\n",
    "Zposneg_fec = [i for i in Zposneg_fec if 'FBgn' in i]\n",
    "\n",
    "# Egg Laying Screen\n",
    "# Keep only genes with a Zscore over or equal to 5\n",
    "Zposneg_xRNAi = mean_xRNAi_gene[(mean_xRNAi_gene['Z'].abs()>=eggl_threshold)]['FbID'].values\n",
    "# Filter out the controls\n",
    "Zposneg_xRNAi = [i for i in Zposneg_xRNAi if 'FBgn' in i]"
   ]
  },
  {
   "cell_type": "code",
   "execution_count": 51,
   "metadata": {},
   "outputs": [
    {
     "name": "stdout",
     "output_type": "stream",
     "text": [
      "Ovariole number positive candidates: 14\n",
      "Hippo RNAi Egg Laying positive candidates: 13\n",
      "Egg Laying positive candidates: 10\n"
     ]
    }
   ],
   "source": [
    "print(\"Ovariole number positive candidates:\", len(Zposneg_ova))\n",
    "print(\"Hippo RNAi Egg Laying positive candidates:\", len(Zposneg_fec))\n",
    "print(\"Egg Laying positive candidates:\", len(Zposneg_xRNAi))"
   ]
  },
  {
   "cell_type": "code",
   "execution_count": 52,
   "metadata": {},
   "outputs": [],
   "source": [
    "assert(len(Zposneg_ova) == 14)\n",
    "assert(len(Zposneg_fec) == 13)\n",
    "assert(len(Zposneg_xRNAi) == 10)"
   ]
  },
  {
   "cell_type": "markdown",
   "metadata": {},
   "source": [
    "# Plotting the prediction accuracy"
   ]
  },
  {
   "cell_type": "code",
   "execution_count": 53,
   "metadata": {},
   "outputs": [],
   "source": [
    "data = mean_ova_gene[['FbID','Z']].merge(mean_fec_gene[['FbID','Z']], on='FbID').merge(mean_xRNAi_gene[['FbID','Z']], on='FbID')"
   ]
  },
  {
   "cell_type": "code",
   "execution_count": 54,
   "metadata": {},
   "outputs": [],
   "source": [
    "data.columns = ['FbID', 'Ova#', 'HpoEggL', 'EggL']"
   ]
  },
  {
   "cell_type": "code",
   "execution_count": 55,
   "metadata": {},
   "outputs": [],
   "source": [
    "data = data.melt(id_vars =['FbID'])  "
   ]
  },
  {
   "cell_type": "code",
   "execution_count": 56,
   "metadata": {},
   "outputs": [],
   "source": [
    "data = data[data['FbID'] != 'Control']"
   ]
  },
  {
   "cell_type": "code",
   "execution_count": 57,
   "metadata": {},
   "outputs": [],
   "source": [
    "data.columns = ['FbID', 'Screen', 'Z']"
   ]
  },
  {
   "cell_type": "code",
   "execution_count": 58,
   "metadata": {},
   "outputs": [],
   "source": [
    "gray = \"#AAAAAA\"\n",
    "green = \"#77cc77\""
   ]
  },
  {
   "cell_type": "code",
   "execution_count": 59,
   "metadata": {
    "scrolled": true
   },
   "outputs": [
    {
     "data": {
      "image/png": "[encoded data removed]",
      "text/plain": [
       "<Figure size 576x288 with 1 Axes>"
      ]
     },
     "metadata": {
      "needs_background": "light"
     },
     "output_type": "display_data"
    }
   ],
   "source": [
    "fig = plt.figure(figsize=(8,4))\n",
    "d = data[((data['Z'].abs() < 2) & (data['Screen'] == 'Ova#')) | ((data['Z'].abs() < 5) & (data['Screen'] != 'Ova#'))]\n",
    "sns.swarmplot(data=d, x='Z', y='Screen', color=gray)\n",
    "d = data[((data['Z'].abs() >= 2) & (data['Screen'] == 'Ova#')) | ((data['Z'].abs() >= 5) & (data['Screen'] != 'Ova#'))]\n",
    "sns.swarmplot(data=d, x='Z', y='Screen', color=green)\n",
    "fig.savefig(os.path.join(resultpath,\"Figures\", \"Pred_Results.svg\"))"
   ]
  },
  {
   "cell_type": "code",
   "execution_count": 60,
   "metadata": {},
   "outputs": [],
   "source": [
    "d_neg = data[((data['Z'].abs() < 2) & (data['Screen'] == 'Ova#')) | ((data['Z'].abs() < 5) & (data['Screen'] != 'Ova#'))]"
   ]
  },
  {
   "cell_type": "code",
   "execution_count": 61,
   "metadata": {},
   "outputs": [],
   "source": [
    "d_pos = data[((data['Z'].abs() >= 2) & (data['Screen'] == 'Ova#')) | ((data['Z'].abs() >= 5) & (data['Screen'] != 'Ova#'))]"
   ]
  },
  {
   "cell_type": "code",
   "execution_count": 62,
   "metadata": {
    "scrolled": true
   },
   "outputs": [
    {
     "data": {
      "text/html": [
       "<div>\n",
       "<style scoped>\n",
       "    .dataframe tbody tr th:only-of-type {\n",
       "        vertical-align: middle;\n",
       "    }\n",
       "\n",
       "    .dataframe tbody tr th {\n",
       "        vertical-align: top;\n",
       "    }\n",
       "\n",
       "    .dataframe thead th {\n",
       "        text-align: right;\n",
       "    }\n",
       "</style>\n",
       "<table border=\"1\" class=\"dataframe\">\n",
       "  <thead>\n",
       "    <tr style=\"text-align: right;\">\n",
       "      <th></th>\n",
       "      <th>FbID</th>\n",
       "      <th>Z</th>\n",
       "    </tr>\n",
       "    <tr>\n",
       "      <th>Screen</th>\n",
       "      <th></th>\n",
       "      <th></th>\n",
       "    </tr>\n",
       "  </thead>\n",
       "  <tbody>\n",
       "    <tr>\n",
       "      <th>EggL</th>\n",
       "      <td>10</td>\n",
       "      <td>10</td>\n",
       "    </tr>\n",
       "    <tr>\n",
       "      <th>HpoEggL</th>\n",
       "      <td>13</td>\n",
       "      <td>13</td>\n",
       "    </tr>\n",
       "    <tr>\n",
       "      <th>Ova#</th>\n",
       "      <td>14</td>\n",
       "      <td>14</td>\n",
       "    </tr>\n",
       "  </tbody>\n",
       "</table>\n",
       "</div>"
      ],
      "text/plain": [
       "         FbID   Z\n",
       "Screen           \n",
       "EggL       10  10\n",
       "HpoEggL    13  13\n",
       "Ova#       14  14"
      ]
     },
     "execution_count": 62,
     "metadata": {},
     "output_type": "execute_result"
    }
   ],
   "source": [
    "d_pos.groupby('Screen').count()"
   ]
  },
  {
   "cell_type": "code",
   "execution_count": null,
   "metadata": {},
   "outputs": [],
   "source": []
  },
  {
   "cell_type": "code",
   "execution_count": 63,
   "metadata": {},
   "outputs": [],
   "source": [
    "PPI_ID = \"2018_08\""
   ]
  },
  {
   "cell_type": "code",
   "execution_count": 64,
   "metadata": {},
   "outputs": [],
   "source": [
    "connectors = pd.read_csv(os.path.join(resultpath,\"ConnectorGeneList_{}.csv\".format(PPI_ID)))"
   ]
  },
  {
   "cell_type": "code",
   "execution_count": 65,
   "metadata": {},
   "outputs": [],
   "source": [
    "predrate = d_pos.groupby('Screen').count() / data.groupby('Screen').count()"
   ]
  },
  {
   "cell_type": "code",
   "execution_count": 66,
   "metadata": {},
   "outputs": [],
   "source": [
    "predrate = predrate.reset_index()"
   ]
  },
  {
   "cell_type": "code",
   "execution_count": 67,
   "metadata": {
    "scrolled": true
   },
   "outputs": [
    {
     "data": {
      "image/png": "[encoded data removed]",
      "text/plain": [
       "<Figure size 288x288 with 1 Axes>"
      ]
     },
     "metadata": {
      "needs_background": "light"
     },
     "output_type": "display_data"
    }
   ],
   "source": [
    "fig = plt.figure(figsize=(4,4))\n",
    "sns.barplot(data=predrate, x='Screen', y='Z', color=\"Gray\")\n",
    "plt.title(\"Positive candidate / number of genes\")\n",
    "plt.ylabel('Above Threshold percent')\n",
    "fig.savefig(os.path.join(resultpath, \"Pred_inscreen_percent_above_thresh.svg\"))\n",
    "fig.savefig(os.path.join(resultpath, \"Pred_inscreen_percent_above_thresh.png\"))\n",
    "fig.savefig(os.path.join(resultpath, \"Pred_inscreen_percent_above_thresh.pdf\"))"
   ]
  },
  {
   "cell_type": "code",
   "execution_count": 139,
   "metadata": {},
   "outputs": [],
   "source": [
    "d = data[(data['FbID'].isin(connectors[connectors['Module'] == 'Ova']['FbID'].values)) & (data['Screen'] == 'Ova#')]"
   ]
  },
  {
   "cell_type": "code",
   "execution_count": 140,
   "metadata": {},
   "outputs": [],
   "source": [
    "ova_pred= len(d[d['Z'].abs() >= 2])/len(d)\n",
    "ova_pred_tot= len(d[d['Z'].abs() >= 2])\n"
   ]
  },
  {
   "cell_type": "code",
   "execution_count": 141,
   "metadata": {},
   "outputs": [
    {
     "data": {
      "text/plain": [
       "11"
      ]
     },
     "execution_count": 141,
     "metadata": {},
     "output_type": "execute_result"
    }
   ],
   "source": [
    "len(d)"
   ]
  },
  {
   "cell_type": "code",
   "execution_count": 178,
   "metadata": {},
   "outputs": [],
   "source": [
    "d = data[(data['FbID'].isin(connectors[connectors['Module'] == 'HpoFec']['FbID'].values)) & (data['Screen'] == 'HpoEggL')]"
   ]
  },
  {
   "cell_type": "code",
   "execution_count": 179,
   "metadata": {},
   "outputs": [],
   "source": [
    "hpoeggl_pred= len(d[d['Z'].abs() >= 5])/len(d)\n",
    "hpoeggl_pred_tot= len(d[d['Z'].abs() >= 5])\n"
   ]
  },
  {
   "cell_type": "code",
   "execution_count": 180,
   "metadata": {
    "scrolled": true
   },
   "outputs": [
    {
     "data": {
      "text/plain": [
       "17"
      ]
     },
     "execution_count": 180,
     "metadata": {},
     "output_type": "execute_result"
    }
   ],
   "source": [
    "len(d)"
   ]
  },
  {
   "cell_type": "code",
   "execution_count": 183,
   "metadata": {},
   "outputs": [
    {
     "data": {
      "text/html": [
       "<div>\n",
       "<style scoped>\n",
       "    .dataframe tbody tr th:only-of-type {\n",
       "        vertical-align: middle;\n",
       "    }\n",
       "\n",
       "    .dataframe tbody tr th {\n",
       "        vertical-align: top;\n",
       "    }\n",
       "\n",
       "    .dataframe thead th {\n",
       "        text-align: right;\n",
       "    }\n",
       "</style>\n",
       "<table border=\"1\" class=\"dataframe\">\n",
       "  <thead>\n",
       "    <tr style=\"text-align: right;\">\n",
       "      <th></th>\n",
       "      <th>FbID</th>\n",
       "      <th>Screen</th>\n",
       "      <th>Z</th>\n",
       "    </tr>\n",
       "  </thead>\n",
       "  <tbody>\n",
       "    <tr>\n",
       "      <th>47</th>\n",
       "      <td>FBgn0003041</td>\n",
       "      <td>HpoEggL</td>\n",
       "      <td>-12.156343</td>\n",
       "    </tr>\n",
       "    <tr>\n",
       "      <th>55</th>\n",
       "      <td>FBgn0011726</td>\n",
       "      <td>HpoEggL</td>\n",
       "      <td>-10.703588</td>\n",
       "    </tr>\n",
       "    <tr>\n",
       "      <th>60</th>\n",
       "      <td>FBgn0016917</td>\n",
       "      <td>HpoEggL</td>\n",
       "      <td>-10.703588</td>\n",
       "    </tr>\n",
       "    <tr>\n",
       "      <th>63</th>\n",
       "      <td>FBgn0023540</td>\n",
       "      <td>HpoEggL</td>\n",
       "      <td>-10.703588</td>\n",
       "    </tr>\n",
       "    <tr>\n",
       "      <th>71</th>\n",
       "      <td>FBgn0035640</td>\n",
       "      <td>HpoEggL</td>\n",
       "      <td>-5.655873</td>\n",
       "    </tr>\n",
       "    <tr>\n",
       "      <th>72</th>\n",
       "      <td>FBgn0036136</td>\n",
       "      <td>HpoEggL</td>\n",
       "      <td>-10.703588</td>\n",
       "    </tr>\n",
       "    <tr>\n",
       "      <th>80</th>\n",
       "      <td>FBgn0043903</td>\n",
       "      <td>HpoEggL</td>\n",
       "      <td>-5.630508</td>\n",
       "    </tr>\n",
       "  </tbody>\n",
       "</table>\n",
       "</div>"
      ],
      "text/plain": [
       "           FbID   Screen          Z\n",
       "47  FBgn0003041  HpoEggL -12.156343\n",
       "55  FBgn0011726  HpoEggL -10.703588\n",
       "60  FBgn0016917  HpoEggL -10.703588\n",
       "63  FBgn0023540  HpoEggL -10.703588\n",
       "71  FBgn0035640  HpoEggL  -5.655873\n",
       "72  FBgn0036136  HpoEggL -10.703588\n",
       "80  FBgn0043903  HpoEggL  -5.630508"
      ]
     },
     "execution_count": 183,
     "metadata": {},
     "output_type": "execute_result"
    }
   ],
   "source": [
    "d[d['Z'].abs() >= 5]"
   ]
  },
  {
   "cell_type": "code",
   "execution_count": 145,
   "metadata": {},
   "outputs": [],
   "source": [
    "d = data[(data['FbID'].isin(connectors[connectors['Module'] == 'xRNAiFec']['FbID'].values)) & (data['Screen'] == 'EggL')]"
   ]
  },
  {
   "cell_type": "code",
   "execution_count": 146,
   "metadata": {},
   "outputs": [],
   "source": [
    "eggl_pred= len(d[d['Z'].abs() >= 5])/len(d)\n",
    "eggl_pred_tot= len(d[d['Z'].abs() >= 5])\n",
    "eggl_genes = set(d['FbID'].values)"
   ]
  },
  {
   "cell_type": "code",
   "execution_count": 147,
   "metadata": {},
   "outputs": [
    {
     "data": {
      "text/plain": [
       "11"
      ]
     },
     "execution_count": 147,
     "metadata": {},
     "output_type": "execute_result"
    }
   ],
   "source": [
    "len(d)"
   ]
  },
  {
   "cell_type": "code",
   "execution_count": 128,
   "metadata": {},
   "outputs": [],
   "source": [
    "results = [\n",
    "    ['Ova#', ova_pred, ova_pred_tot],\n",
    "    ['HpoEggL', hpoeggl_pred, hpoeggl_pred_tot],\n",
    "    ['EggL', eggl_pred, eggl_pred_tot]\n",
    "]\n",
    "results = pd.DataFrame(results, columns=['Screen', 'Prediction Rate', 'Total nb genes'])"
   ]
  },
  {
   "cell_type": "code",
   "execution_count": 129,
   "metadata": {},
   "outputs": [
    {
     "data": {
      "text/html": [
       "<div>\n",
       "<style scoped>\n",
       "    .dataframe tbody tr th:only-of-type {\n",
       "        vertical-align: middle;\n",
       "    }\n",
       "\n",
       "    .dataframe tbody tr th {\n",
       "        vertical-align: top;\n",
       "    }\n",
       "\n",
       "    .dataframe thead th {\n",
       "        text-align: right;\n",
       "    }\n",
       "</style>\n",
       "<table border=\"1\" class=\"dataframe\">\n",
       "  <thead>\n",
       "    <tr style=\"text-align: right;\">\n",
       "      <th></th>\n",
       "      <th>Screen</th>\n",
       "      <th>Prediction Rate</th>\n",
       "      <th>Total nb genes</th>\n",
       "    </tr>\n",
       "  </thead>\n",
       "  <tbody>\n",
       "    <tr>\n",
       "      <th>0</th>\n",
       "      <td>Ova#</td>\n",
       "      <td>0.272727</td>\n",
       "      <td>3</td>\n",
       "    </tr>\n",
       "    <tr>\n",
       "      <th>1</th>\n",
       "      <td>HpoEggL</td>\n",
       "      <td>0.411765</td>\n",
       "      <td>7</td>\n",
       "    </tr>\n",
       "    <tr>\n",
       "      <th>2</th>\n",
       "      <td>EggL</td>\n",
       "      <td>0.000000</td>\n",
       "      <td>0</td>\n",
       "    </tr>\n",
       "  </tbody>\n",
       "</table>\n",
       "</div>"
      ],
      "text/plain": [
       "    Screen  Prediction Rate  Total nb genes\n",
       "0     Ova#         0.272727               3\n",
       "1  HpoEggL         0.411765               7\n",
       "2     EggL         0.000000               0"
      ]
     },
     "execution_count": 129,
     "metadata": {},
     "output_type": "execute_result"
    }
   ],
   "source": [
    "results"
   ]
  },
  {
   "cell_type": "code",
   "execution_count": 76,
   "metadata": {},
   "outputs": [
    {
     "data": {
      "image/png": "[encoded data removed]",
      "text/plain": [
       "<Figure size 288x288 with 1 Axes>"
      ]
     },
     "metadata": {
      "needs_background": "light"
     },
     "output_type": "display_data"
    }
   ],
   "source": [
    "\n",
    "fig = plt.figure(figsize=(4,4))\n",
    "sns.barplot(data=results, x='Screen', y='Prediction Rate', color=\"Gray\")\n",
    "plt.title(\"Module Prediction Rate\")\n",
    "plt.ylabel('Prediction rate')\n",
    "fig.savefig(os.path.join(resultpath, \"Pred_Module_rate.svg\"))\n",
    "fig.savefig(os.path.join(resultpath, \"Pred_Module_rate.png\"))\n",
    "fig.savefig(os.path.join(resultpath, \"Pred_Module_rate.pdf\"))"
   ]
  },
  {
   "cell_type": "code",
   "execution_count": 127,
   "metadata": {},
   "outputs": [
    {
     "data": {
      "text/plain": [
       "10"
      ]
     },
     "execution_count": 127,
     "metadata": {},
     "output_type": "execute_result"
    }
   ],
   "source": [
    "len(connectors[connectors['Module'] == 'Core']['FbID'].values)"
   ]
  },
  {
   "cell_type": "code",
   "execution_count": 161,
   "metadata": {},
   "outputs": [],
   "source": [
    "d = data[data['Screen'] == 'Ova#']\n",
    "ova_genes= set(d[d['Z'].abs() >= 2]['FbID'])\n",
    "d = data[data['Screen'] == 'HpoEggL']\n",
    "hpoeggl_genes= set(d[d['Z'].abs() >= 5]['FbID'])\n",
    "d = data[data['Screen'] == 'EggL']\n",
    "eggl_genes= set(d[d['Z'].abs() >= 5]['FbID'])"
   ]
  },
  {
   "cell_type": "code",
   "execution_count": 172,
   "metadata": {
    "scrolled": true
   },
   "outputs": [
    {
     "name": "stdout",
     "output_type": "stream",
     "text": [
      "Number of Core Positive genes accorss all tested genes (not module restricted)\n"
     ]
    },
    {
     "data": {
      "text/plain": [
       "8"
      ]
     },
     "execution_count": 172,
     "metadata": {},
     "output_type": "execute_result"
    }
   ],
   "source": [
    "print(\"Number of Core Positive genes accorss all tested genes (not module restricted)\")\n",
    "len(set.intersection(ova_genes, hpoeggl_genes, eggl_genes))"
   ]
  },
  {
   "cell_type": "code",
   "execution_count": 173,
   "metadata": {},
   "outputs": [],
   "source": [
    "d = data[(data['FbID'].isin(connectors[connectors['Module'] == 'Core']['FbID'].values))]"
   ]
  },
  {
   "cell_type": "code",
   "execution_count": 174,
   "metadata": {},
   "outputs": [],
   "source": [
    "d_pos = d[((d['Z'].abs() >= 2) & (d['Screen'] == 'Ova#')) | ((d['Z'].abs() >= 5) & (d['Screen'] != 'Ova#'))]"
   ]
  },
  {
   "cell_type": "code",
   "execution_count": 175,
   "metadata": {},
   "outputs": [],
   "source": [
    "core_pred = d_pos.groupby('Screen').count()/d.groupby('Screen').count()\n",
    "core_pred_tot = d_pos.groupby('Screen').count()"
   ]
  },
  {
   "cell_type": "code",
   "execution_count": 176,
   "metadata": {},
   "outputs": [
    {
     "data": {
      "text/html": [
       "<div>\n",
       "<style scoped>\n",
       "    .dataframe tbody tr th:only-of-type {\n",
       "        vertical-align: middle;\n",
       "    }\n",
       "\n",
       "    .dataframe tbody tr th {\n",
       "        vertical-align: top;\n",
       "    }\n",
       "\n",
       "    .dataframe thead th {\n",
       "        text-align: right;\n",
       "    }\n",
       "</style>\n",
       "<table border=\"1\" class=\"dataframe\">\n",
       "  <thead>\n",
       "    <tr style=\"text-align: right;\">\n",
       "      <th></th>\n",
       "      <th>FbID</th>\n",
       "      <th>Z</th>\n",
       "    </tr>\n",
       "    <tr>\n",
       "      <th>Screen</th>\n",
       "      <th></th>\n",
       "      <th></th>\n",
       "    </tr>\n",
       "  </thead>\n",
       "  <tbody>\n",
       "    <tr>\n",
       "      <th>EggL</th>\n",
       "      <td>1</td>\n",
       "      <td>1</td>\n",
       "    </tr>\n",
       "    <tr>\n",
       "      <th>HpoEggL</th>\n",
       "      <td>2</td>\n",
       "      <td>2</td>\n",
       "    </tr>\n",
       "    <tr>\n",
       "      <th>Ova#</th>\n",
       "      <td>5</td>\n",
       "      <td>5</td>\n",
       "    </tr>\n",
       "  </tbody>\n",
       "</table>\n",
       "</div>"
      ],
      "text/plain": [
       "         FbID  Z\n",
       "Screen          \n",
       "EggL        1  1\n",
       "HpoEggL     2  2\n",
       "Ova#        5  5"
      ]
     },
     "execution_count": 176,
     "metadata": {},
     "output_type": "execute_result"
    }
   ],
   "source": [
    "core_pred_tot"
   ]
  },
  {
   "cell_type": "code",
   "execution_count": 81,
   "metadata": {},
   "outputs": [],
   "source": [
    "core_pred = core_pred.reset_index()"
   ]
  },
  {
   "cell_type": "code",
   "execution_count": 82,
   "metadata": {},
   "outputs": [],
   "source": [
    "toadd = pd.DataFrame([['All3', 0.1, 0.1]], columns=core_pred.columns)\n",
    "core_pred = core_pred.append(toadd)"
   ]
  },
  {
   "cell_type": "code",
   "execution_count": 83,
   "metadata": {},
   "outputs": [
    {
     "data": {
      "image/png": "[encoded data removed]",
      "text/plain": [
       "<Figure size 288x288 with 1 Axes>"
      ]
     },
     "metadata": {
      "needs_background": "light"
     },
     "output_type": "display_data"
    }
   ],
   "source": [
    "fig = plt.figure(figsize=(4,4))\n",
    "\n",
    "sns.barplot(data=core_pred, x='Screen', y='Z', color='Gray')\n",
    "plt.ylabel('Prediction Rate per screen')\n",
    "plt.title(\"Core Module prediction rate breakdown\")\n",
    "fig.savefig(os.path.join(resultpath, \"Pred_Core_Module_breakdown.svg\"))\n",
    "fig.savefig(os.path.join(resultpath, \"Pred_Core_Module_breakdown.png\"))\n",
    "fig.savefig(os.path.join(resultpath, \"Pred_Core_Module_breakdown.pdf\"))"
   ]
  },
  {
   "cell_type": "code",
   "execution_count": null,
   "metadata": {},
   "outputs": [],
   "source": [
    "screen_background_pred = [\n",
    "    \"EggL\": 273-\n",
    "]"
   ]
  },
  {
   "cell_type": "code",
   "execution_count": 88,
   "metadata": {},
   "outputs": [
    {
     "data": {
      "text/plain": [
       "10"
      ]
     },
     "execution_count": 88,
     "metadata": {},
     "output_type": "execute_result"
    }
   ],
   "source": [
    "len(Zposneg_xRNAi)"
   ]
  },
  {
   "cell_type": "code",
   "execution_count": 130,
   "metadata": {},
   "outputs": [
    {
     "data": {
      "text/html": [
       "<div>\n",
       "<style scoped>\n",
       "    .dataframe tbody tr th:only-of-type {\n",
       "        vertical-align: middle;\n",
       "    }\n",
       "\n",
       "    .dataframe tbody tr th {\n",
       "        vertical-align: top;\n",
       "    }\n",
       "\n",
       "    .dataframe thead th {\n",
       "        text-align: right;\n",
       "    }\n",
       "</style>\n",
       "<table border=\"1\" class=\"dataframe\">\n",
       "  <thead>\n",
       "    <tr style=\"text-align: right;\">\n",
       "      <th></th>\n",
       "      <th>FbID</th>\n",
       "      <th>Screen</th>\n",
       "      <th>Z</th>\n",
       "    </tr>\n",
       "  </thead>\n",
       "  <tbody>\n",
       "    <tr>\n",
       "      <th>1</th>\n",
       "      <td>FBgn0000499</td>\n",
       "      <td>Ova#</td>\n",
       "      <td>-0.601041</td>\n",
       "    </tr>\n",
       "    <tr>\n",
       "      <th>2</th>\n",
       "      <td>FBgn0000546</td>\n",
       "      <td>Ova#</td>\n",
       "      <td>0.730764</td>\n",
       "    </tr>\n",
       "    <tr>\n",
       "      <th>3</th>\n",
       "      <td>FBgn0000635</td>\n",
       "      <td>Ova#</td>\n",
       "      <td>0.066915</td>\n",
       "    </tr>\n",
       "    <tr>\n",
       "      <th>4</th>\n",
       "      <td>FBgn0003041</td>\n",
       "      <td>Ova#</td>\n",
       "      <td>-14.319964</td>\n",
       "    </tr>\n",
       "    <tr>\n",
       "      <th>5</th>\n",
       "      <td>FBgn0003430</td>\n",
       "      <td>Ova#</td>\n",
       "      <td>0.848528</td>\n",
       "    </tr>\n",
       "    <tr>\n",
       "      <th>6</th>\n",
       "      <td>FBgn0003444</td>\n",
       "      <td>Ova#</td>\n",
       "      <td>-2.212539</td>\n",
       "    </tr>\n",
       "    <tr>\n",
       "      <th>7</th>\n",
       "      <td>FBgn0003607</td>\n",
       "      <td>Ova#</td>\n",
       "      <td>1.806704</td>\n",
       "    </tr>\n",
       "    <tr>\n",
       "      <th>8</th>\n",
       "      <td>FBgn0004638</td>\n",
       "      <td>Ova#</td>\n",
       "      <td>-0.062450</td>\n",
       "    </tr>\n",
       "    <tr>\n",
       "      <th>9</th>\n",
       "      <td>FBgn0005198</td>\n",
       "      <td>Ova#</td>\n",
       "      <td>-1.229606</td>\n",
       "    </tr>\n",
       "    <tr>\n",
       "      <th>10</th>\n",
       "      <td>FBgn0005777</td>\n",
       "      <td>Ova#</td>\n",
       "      <td>-0.568777</td>\n",
       "    </tr>\n",
       "    <tr>\n",
       "      <th>11</th>\n",
       "      <td>FBgn0011259</td>\n",
       "      <td>Ova#</td>\n",
       "      <td>2.375481</td>\n",
       "    </tr>\n",
       "    <tr>\n",
       "      <th>12</th>\n",
       "      <td>FBgn0011726</td>\n",
       "      <td>Ova#</td>\n",
       "      <td>-13.483365</td>\n",
       "    </tr>\n",
       "    <tr>\n",
       "      <th>13</th>\n",
       "      <td>FBgn0014179</td>\n",
       "      <td>Ova#</td>\n",
       "      <td>0.301117</td>\n",
       "    </tr>\n",
       "    <tr>\n",
       "      <th>14</th>\n",
       "      <td>FBgn0015268</td>\n",
       "      <td>Ova#</td>\n",
       "      <td>2.311805</td>\n",
       "    </tr>\n",
       "    <tr>\n",
       "      <th>15</th>\n",
       "      <td>FBgn0015282</td>\n",
       "      <td>Ova#</td>\n",
       "      <td>-12.152599</td>\n",
       "    </tr>\n",
       "    <tr>\n",
       "      <th>16</th>\n",
       "      <td>FBgn0015838</td>\n",
       "      <td>Ova#</td>\n",
       "      <td>1.129138</td>\n",
       "    </tr>\n",
       "    <tr>\n",
       "      <th>17</th>\n",
       "      <td>FBgn0016917</td>\n",
       "      <td>Ova#</td>\n",
       "      <td>-4.048355</td>\n",
       "    </tr>\n",
       "    <tr>\n",
       "      <th>18</th>\n",
       "      <td>FBgn0021944</td>\n",
       "      <td>Ova#</td>\n",
       "      <td>0.100372</td>\n",
       "    </tr>\n",
       "    <tr>\n",
       "      <th>19</th>\n",
       "      <td>FBgn0023172</td>\n",
       "      <td>Ova#</td>\n",
       "      <td>5.152452</td>\n",
       "    </tr>\n",
       "    <tr>\n",
       "      <th>20</th>\n",
       "      <td>FBgn0023540</td>\n",
       "      <td>Ova#</td>\n",
       "      <td>-11.040968</td>\n",
       "    </tr>\n",
       "    <tr>\n",
       "      <th>21</th>\n",
       "      <td>FBgn0024846</td>\n",
       "      <td>Ova#</td>\n",
       "      <td>1.028482</td>\n",
       "    </tr>\n",
       "    <tr>\n",
       "      <th>22</th>\n",
       "      <td>FBgn0025674</td>\n",
       "      <td>Ova#</td>\n",
       "      <td>-5.954372</td>\n",
       "    </tr>\n",
       "    <tr>\n",
       "      <th>23</th>\n",
       "      <td>FBgn0027535</td>\n",
       "      <td>Ova#</td>\n",
       "      <td>0.332985</td>\n",
       "    </tr>\n",
       "    <tr>\n",
       "      <th>24</th>\n",
       "      <td>FBgn0028509</td>\n",
       "      <td>Ova#</td>\n",
       "      <td>1.070639</td>\n",
       "    </tr>\n",
       "    <tr>\n",
       "      <th>25</th>\n",
       "      <td>FBgn0030018</td>\n",
       "      <td>Ova#</td>\n",
       "      <td>1.405214</td>\n",
       "    </tr>\n",
       "    <tr>\n",
       "      <th>26</th>\n",
       "      <td>FBgn0031610</td>\n",
       "      <td>Ova#</td>\n",
       "      <td>-0.869894</td>\n",
       "    </tr>\n",
       "    <tr>\n",
       "      <th>27</th>\n",
       "      <td>FBgn0035213</td>\n",
       "      <td>Ova#</td>\n",
       "      <td>-13.009530</td>\n",
       "    </tr>\n",
       "    <tr>\n",
       "      <th>28</th>\n",
       "      <td>FBgn0035640</td>\n",
       "      <td>Ova#</td>\n",
       "      <td>-1.505587</td>\n",
       "    </tr>\n",
       "    <tr>\n",
       "      <th>29</th>\n",
       "      <td>FBgn0036136</td>\n",
       "      <td>Ova#</td>\n",
       "      <td>-13.483365</td>\n",
       "    </tr>\n",
       "    <tr>\n",
       "      <th>30</th>\n",
       "      <td>FBgn0036790</td>\n",
       "      <td>Ova#</td>\n",
       "      <td>-0.167287</td>\n",
       "    </tr>\n",
       "    <tr>\n",
       "      <th>...</th>\n",
       "      <td>...</td>\n",
       "      <td>...</td>\n",
       "      <td>...</td>\n",
       "    </tr>\n",
       "    <tr>\n",
       "      <th>99</th>\n",
       "      <td>FBgn0014179</td>\n",
       "      <td>EggL</td>\n",
       "      <td>4.356041</td>\n",
       "    </tr>\n",
       "    <tr>\n",
       "      <th>100</th>\n",
       "      <td>FBgn0015268</td>\n",
       "      <td>EggL</td>\n",
       "      <td>1.060405</td>\n",
       "    </tr>\n",
       "    <tr>\n",
       "      <th>101</th>\n",
       "      <td>FBgn0015282</td>\n",
       "      <td>EggL</td>\n",
       "      <td>-4.016003</td>\n",
       "    </tr>\n",
       "    <tr>\n",
       "      <th>102</th>\n",
       "      <td>FBgn0015838</td>\n",
       "      <td>EggL</td>\n",
       "      <td>1.298229</td>\n",
       "    </tr>\n",
       "    <tr>\n",
       "      <th>103</th>\n",
       "      <td>FBgn0016917</td>\n",
       "      <td>EggL</td>\n",
       "      <td>-11.852484</td>\n",
       "    </tr>\n",
       "    <tr>\n",
       "      <th>104</th>\n",
       "      <td>FBgn0021944</td>\n",
       "      <td>EggL</td>\n",
       "      <td>-0.027628</td>\n",
       "    </tr>\n",
       "    <tr>\n",
       "      <th>105</th>\n",
       "      <td>FBgn0023172</td>\n",
       "      <td>EggL</td>\n",
       "      <td>0.414423</td>\n",
       "    </tr>\n",
       "    <tr>\n",
       "      <th>106</th>\n",
       "      <td>FBgn0023540</td>\n",
       "      <td>EggL</td>\n",
       "      <td>-11.852484</td>\n",
       "    </tr>\n",
       "    <tr>\n",
       "      <th>107</th>\n",
       "      <td>FBgn0024846</td>\n",
       "      <td>EggL</td>\n",
       "      <td>3.964675</td>\n",
       "    </tr>\n",
       "    <tr>\n",
       "      <th>108</th>\n",
       "      <td>FBgn0025674</td>\n",
       "      <td>EggL</td>\n",
       "      <td>-6.066431</td>\n",
       "    </tr>\n",
       "    <tr>\n",
       "      <th>109</th>\n",
       "      <td>FBgn0027535</td>\n",
       "      <td>EggL</td>\n",
       "      <td>1.452126</td>\n",
       "    </tr>\n",
       "    <tr>\n",
       "      <th>110</th>\n",
       "      <td>FBgn0028509</td>\n",
       "      <td>EggL</td>\n",
       "      <td>0.635448</td>\n",
       "    </tr>\n",
       "    <tr>\n",
       "      <th>111</th>\n",
       "      <td>FBgn0030018</td>\n",
       "      <td>EggL</td>\n",
       "      <td>0.561773</td>\n",
       "    </tr>\n",
       "    <tr>\n",
       "      <th>112</th>\n",
       "      <td>FBgn0031610</td>\n",
       "      <td>EggL</td>\n",
       "      <td>6.750482</td>\n",
       "    </tr>\n",
       "    <tr>\n",
       "      <th>113</th>\n",
       "      <td>FBgn0035213</td>\n",
       "      <td>EggL</td>\n",
       "      <td>-7.251217</td>\n",
       "    </tr>\n",
       "    <tr>\n",
       "      <th>114</th>\n",
       "      <td>FBgn0035640</td>\n",
       "      <td>EggL</td>\n",
       "      <td>1.077499</td>\n",
       "    </tr>\n",
       "    <tr>\n",
       "      <th>115</th>\n",
       "      <td>FBgn0036136</td>\n",
       "      <td>EggL</td>\n",
       "      <td>-11.852484</td>\n",
       "    </tr>\n",
       "    <tr>\n",
       "      <th>116</th>\n",
       "      <td>FBgn0036790</td>\n",
       "      <td>EggL</td>\n",
       "      <td>3.066727</td>\n",
       "    </tr>\n",
       "    <tr>\n",
       "      <th>117</th>\n",
       "      <td>FBgn0037874</td>\n",
       "      <td>EggL</td>\n",
       "      <td>-3.948317</td>\n",
       "    </tr>\n",
       "    <tr>\n",
       "      <th>118</th>\n",
       "      <td>FBgn0038167</td>\n",
       "      <td>EggL</td>\n",
       "      <td>1.068454</td>\n",
       "    </tr>\n",
       "    <tr>\n",
       "      <th>119</th>\n",
       "      <td>FBgn0039044</td>\n",
       "      <td>EggL</td>\n",
       "      <td>-0.106126</td>\n",
       "    </tr>\n",
       "    <tr>\n",
       "      <th>120</th>\n",
       "      <td>FBgn0039234</td>\n",
       "      <td>EggL</td>\n",
       "      <td>0.488098</td>\n",
       "    </tr>\n",
       "    <tr>\n",
       "      <th>121</th>\n",
       "      <td>FBgn0040078</td>\n",
       "      <td>EggL</td>\n",
       "      <td>2.624676</td>\n",
       "    </tr>\n",
       "    <tr>\n",
       "      <th>122</th>\n",
       "      <td>FBgn0041627</td>\n",
       "      <td>EggL</td>\n",
       "      <td>0.732201</td>\n",
       "    </tr>\n",
       "    <tr>\n",
       "      <th>123</th>\n",
       "      <td>FBgn0043903</td>\n",
       "      <td>EggL</td>\n",
       "      <td>-7.251217</td>\n",
       "    </tr>\n",
       "    <tr>\n",
       "      <th>124</th>\n",
       "      <td>FBgn0086613</td>\n",
       "      <td>EggL</td>\n",
       "      <td>-2.719532</td>\n",
       "    </tr>\n",
       "    <tr>\n",
       "      <th>125</th>\n",
       "      <td>FBgn0260632</td>\n",
       "      <td>EggL</td>\n",
       "      <td>3.641436</td>\n",
       "    </tr>\n",
       "    <tr>\n",
       "      <th>126</th>\n",
       "      <td>FBgn0261014</td>\n",
       "      <td>EggL</td>\n",
       "      <td>-0.925034</td>\n",
       "    </tr>\n",
       "    <tr>\n",
       "      <th>127</th>\n",
       "      <td>FBgn0262029</td>\n",
       "      <td>EggL</td>\n",
       "      <td>-0.603589</td>\n",
       "    </tr>\n",
       "    <tr>\n",
       "      <th>128</th>\n",
       "      <td>FBgn0263396</td>\n",
       "      <td>EggL</td>\n",
       "      <td>1.782383</td>\n",
       "    </tr>\n",
       "  </tbody>\n",
       "</table>\n",
       "<p>126 rows × 3 columns</p>\n",
       "</div>"
      ],
      "text/plain": [
       "            FbID Screen          Z\n",
       "1    FBgn0000499   Ova#  -0.601041\n",
       "2    FBgn0000546   Ova#   0.730764\n",
       "3    FBgn0000635   Ova#   0.066915\n",
       "4    FBgn0003041   Ova# -14.319964\n",
       "5    FBgn0003430   Ova#   0.848528\n",
       "6    FBgn0003444   Ova#  -2.212539\n",
       "7    FBgn0003607   Ova#   1.806704\n",
       "8    FBgn0004638   Ova#  -0.062450\n",
       "9    FBgn0005198   Ova#  -1.229606\n",
       "10   FBgn0005777   Ova#  -0.568777\n",
       "11   FBgn0011259   Ova#   2.375481\n",
       "12   FBgn0011726   Ova# -13.483365\n",
       "13   FBgn0014179   Ova#   0.301117\n",
       "14   FBgn0015268   Ova#   2.311805\n",
       "15   FBgn0015282   Ova# -12.152599\n",
       "16   FBgn0015838   Ova#   1.129138\n",
       "17   FBgn0016917   Ova#  -4.048355\n",
       "18   FBgn0021944   Ova#   0.100372\n",
       "19   FBgn0023172   Ova#   5.152452\n",
       "20   FBgn0023540   Ova# -11.040968\n",
       "21   FBgn0024846   Ova#   1.028482\n",
       "22   FBgn0025674   Ova#  -5.954372\n",
       "23   FBgn0027535   Ova#   0.332985\n",
       "24   FBgn0028509   Ova#   1.070639\n",
       "25   FBgn0030018   Ova#   1.405214\n",
       "26   FBgn0031610   Ova#  -0.869894\n",
       "27   FBgn0035213   Ova# -13.009530\n",
       "28   FBgn0035640   Ova#  -1.505587\n",
       "29   FBgn0036136   Ova# -13.483365\n",
       "30   FBgn0036790   Ova#  -0.167287\n",
       "..           ...    ...        ...\n",
       "99   FBgn0014179   EggL   4.356041\n",
       "100  FBgn0015268   EggL   1.060405\n",
       "101  FBgn0015282   EggL  -4.016003\n",
       "102  FBgn0015838   EggL   1.298229\n",
       "103  FBgn0016917   EggL -11.852484\n",
       "104  FBgn0021944   EggL  -0.027628\n",
       "105  FBgn0023172   EggL   0.414423\n",
       "106  FBgn0023540   EggL -11.852484\n",
       "107  FBgn0024846   EggL   3.964675\n",
       "108  FBgn0025674   EggL  -6.066431\n",
       "109  FBgn0027535   EggL   1.452126\n",
       "110  FBgn0028509   EggL   0.635448\n",
       "111  FBgn0030018   EggL   0.561773\n",
       "112  FBgn0031610   EggL   6.750482\n",
       "113  FBgn0035213   EggL  -7.251217\n",
       "114  FBgn0035640   EggL   1.077499\n",
       "115  FBgn0036136   EggL -11.852484\n",
       "116  FBgn0036790   EggL   3.066727\n",
       "117  FBgn0037874   EggL  -3.948317\n",
       "118  FBgn0038167   EggL   1.068454\n",
       "119  FBgn0039044   EggL  -0.106126\n",
       "120  FBgn0039234   EggL   0.488098\n",
       "121  FBgn0040078   EggL   2.624676\n",
       "122  FBgn0041627   EggL   0.732201\n",
       "123  FBgn0043903   EggL  -7.251217\n",
       "124  FBgn0086613   EggL  -2.719532\n",
       "125  FBgn0260632   EggL   3.641436\n",
       "126  FBgn0261014   EggL  -0.925034\n",
       "127  FBgn0262029   EggL  -0.603589\n",
       "128  FBgn0263396   EggL   1.782383\n",
       "\n",
       "[126 rows x 3 columns]"
      ]
     },
     "execution_count": 130,
     "metadata": {},
     "output_type": "execute_result"
    }
   ],
   "source": [
    "data"
   ]
  }
 ],
 "metadata": {
  "kernelspec": {
   "display_name": "Python 3",
   "language": "python",
   "name": "python3"
  },
  "language_info": {
   "codemirror_mode": {
    "name": "ipython",
    "version": 3
   },
   "file_extension": ".py",
   "mimetype": "text/x-python",
   "name": "python",
   "nbconvert_exporter": "python",
   "pygments_lexer": "ipython3",
   "version": "3.6.8"
  }
 },
 "nbformat": 4,
 "nbformat_minor": 2
}
