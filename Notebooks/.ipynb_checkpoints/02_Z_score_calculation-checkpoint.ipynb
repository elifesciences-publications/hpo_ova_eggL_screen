{
 "cells": [
  {
   "cell_type": "code",
   "execution_count": 151,
   "metadata": {},
   "outputs": [],
   "source": [
    "import seaborn as sns\n",
    "sns.set()\n",
    "import matplotlib.pyplot as plt\n",
    "import pandas as pd\n",
    "import numpy as np\n",
    "from scipy import stats\n",
    "import re\n",
    "import os\n",
    "%matplotlib inline"
   ]
  },
  {
   "cell_type": "markdown",
   "metadata": {},
   "source": [
    "# Define paths\n",
    "\n",
    "Accross the analysis the following names are used for the 3 screens\n",
    "- ova == Hippo RNAi Ovariole Number screen\n",
    "- fec == Hippo RNAi EggLaying screen\n",
    "- xRNAi == EggLaying screen"
   ]
  },
  {
   "cell_type": "code",
   "execution_count": 152,
   "metadata": {},
   "outputs": [],
   "source": [
    "# Define the path where all the primary data are\n",
    "\n",
    "data = '../Data/'"
   ]
  },
  {
   "cell_type": "markdown",
   "metadata": {},
   "source": [
    "# Load the datasets"
   ]
  },
  {
   "cell_type": "code",
   "execution_count": 153,
   "metadata": {},
   "outputs": [],
   "source": [
    "# Loading the raw data for the 3 screens\n",
    "# HippoRNAi EggLaying\n",
    "hipo_fec = pd.read_csv(os.path.join(data,'Screen', 'Raw', 'Raw_EggLaying_HpoRNAi.csv'))\n",
    "# HippoRNAi Ovariole Number\n",
    "hipo_ova = pd.read_csv(os.path.join(data,'Screen', 'Raw', 'Raw_Ova_HpoRNAi.csv'))\n",
    "# Egg Laying\n",
    "xRNAi_fec = pd.read_csv(os.path.join(data,'Screen', 'Raw', 'Raw_EggLaying.csv'))\n",
    "\n",
    "# And we load the signaling table that contains the mapping for all the FbID to signaling pathway\n",
    "signaling = pd.read_csv(os.path.join(data,'signaling.csv'))"
   ]
  },
  {
   "cell_type": "markdown",
   "metadata": {},
   "source": [
    "## Checking that we have the correct number of genes"
   ]
  },
  {
   "cell_type": "code",
   "execution_count": 154,
   "metadata": {},
   "outputs": [],
   "source": [
    "# Assert that the number of gene in the screen, that are in the signaling table (which contains the gene tested) is 463\n",
    "assert (len(hipo_fec[hipo_fec['FbID'].isin(signaling['FbID'])]['FbID'].unique()) == 463)"
   ]
  },
  {
   "cell_type": "code",
   "execution_count": 155,
   "metadata": {},
   "outputs": [],
   "source": [
    "# Assert that the number of gene in the screen, that are in the signaling table (which contains the gene tested) is 273\n",
    "assert len(hipo_ova[hipo_ova['FbID'].isin(signaling['FbID'])]['FbID'].unique()) == 273"
   ]
  },
  {
   "cell_type": "code",
   "execution_count": 156,
   "metadata": {},
   "outputs": [],
   "source": [
    "# Assert that the number of gene in the screen, that are in the signaling table (which contains the gene tested) is 273\n",
    "assert len(xRNAi_fec[xRNAi_fec['FbID'].isin(signaling['FbID'])]['FbID'].unique()) == 273"
   ]
  },
  {
   "cell_type": "markdown",
   "metadata": {},
   "source": [
    "## Defining the prediction gene set"
   ]
  },
  {
   "cell_type": "code",
   "execution_count": 157,
   "metadata": {},
   "outputs": [],
   "source": [
    "#hipo_ova_pred_gene = set(hipo_ova[hipo_ova['BATCH']>=7]['FbID'].unique())"
   ]
  },
  {
   "cell_type": "code",
   "execution_count": 158,
   "metadata": {},
   "outputs": [],
   "source": [
    "#xRNAi_fec_pred_gene = set(xRNAi_fec[xRNAi_fec['BATCH']>=6]['FbID'].unique())"
   ]
  },
  {
   "cell_type": "code",
   "execution_count": 159,
   "metadata": {},
   "outputs": [],
   "source": [
    "#hipo_fec_pred_gene = set(hipo_fec[hipo_fec['BATCH']>=10]['FbID'].unique())"
   ]
  },
  {
   "cell_type": "code",
   "execution_count": 160,
   "metadata": {},
   "outputs": [],
   "source": [
    "# Testing that the prediction set is the same accross all 3 screens\n",
    "#assert(len(hipo_fec_pred_gene) == len(hipo_ova_pred_gene) == len(xRNAi_fec_pred_gene) == 0)"
   ]
  },
  {
   "cell_type": "code",
   "execution_count": 161,
   "metadata": {},
   "outputs": [],
   "source": [
    "#prediction_genes = list(set.union(hipo_fec_pred_gene, hipo_ova_pred_gene, xRNAi_fec_pred_gene))\n",
    "#prediction_genes.sort()\n",
    "#prediction_genes = prediction_genes[1:]"
   ]
  },
  {
   "cell_type": "markdown",
   "metadata": {},
   "source": [
    "# Cleaning Ovariole Number data\n",
    "## Tidy Data for Ovariole Database"
   ]
  },
  {
   "cell_type": "code",
   "execution_count": 162,
   "metadata": {},
   "outputs": [],
   "source": [
    "# Create the mapping table for Fly ID to column name\n",
    "map_FlyId = {'Fly 1':1,\n",
    "             'Fly 1.1':1,\n",
    "             'Fly 2':2,\n",
    "             'Fly 2.1':2,\n",
    "             'Fly 3':3,\n",
    "             'Fly 3.1':3,\n",
    "             'Fly 4':4,\n",
    "             'Fly 4.1':4,\n",
    "             'Fly 5':5,\n",
    "             'Fly 5.1':5,\n",
    "             'Fly 6':6,\n",
    "             'Fly 6.1':6,\n",
    "             'Fly 7':7,\n",
    "             'Fly 7.1':7,\n",
    "             'Fly 8':8,\n",
    "             'Fly 8.1':8,\n",
    "             'Fly 9':9,\n",
    "             'Fly 9.1':9,\n",
    "             'Fly 10':10,\n",
    "             'Fly 10.1':10\n",
    "            }"
   ]
  },
  {
   "cell_type": "code",
   "execution_count": 163,
   "metadata": {},
   "outputs": [],
   "source": [
    "# Here we Tidy the data, aka we transform the 2 entry table into a tidy dataframe format\n",
    "# Create an array to hold the reults\n",
    "\n",
    "result = []\n",
    "# For each row\n",
    "for i in range(len(hipo_ova)):\n",
    "    # collect meta information \n",
    "    FbID = hipo_ova['FbID'][i]\n",
    "    Condition = hipo_ova['Condition'][i]\n",
    "    batch = hipo_ova['BATCH'][i]\n",
    "    # For each ovary\n",
    "    for ovary in map_FlyId:\n",
    "        # Define FlyID\n",
    "        FlyID = map_FlyId[ovary]\n",
    "        # Collect ovariole number\n",
    "        ovanb = hipo_ova[ovary][i]\n",
    "        # Add the result as a new line to the result array\n",
    "        result.append([Condition, batch, FbID, FlyID, ovanb])\n",
    "        \n",
    "# Save the array into a dataframe \n",
    "hipo_ova_clean = pd.DataFrame(result, columns=['Gene', 'Batch','FbID','FlyId','OvarioleNb'])"
   ]
  },
  {
   "cell_type": "code",
   "execution_count": 164,
   "metadata": {},
   "outputs": [],
   "source": [
    "#Assert that all the rows have been succesfully converted\n",
    "# 341 rows and 20 measurement points -> 6820\n",
    "assert(len(hipo_ova_clean) == 6820)"
   ]
  },
  {
   "cell_type": "code",
   "execution_count": 165,
   "metadata": {},
   "outputs": [],
   "source": [
    "#Assert that we have 273 unique FbID in the table\n",
    "assert(len(hipo_ova_clean['FbID'].unique()) == 273 + 1) # +1 for the control genes -> NaN"
   ]
  },
  {
   "cell_type": "code",
   "execution_count": 166,
   "metadata": {},
   "outputs": [],
   "source": [
    "# Test that we have data for all ovaries for all the flies\n",
    "for gene in hipo_ova_clean['FbID'].unique():\n",
    "    assert(len(hipo_ova_clean[hipo_ova_clean['FbID']==gene]) % 20 == 0)"
   ]
  },
  {
   "cell_type": "markdown",
   "metadata": {},
   "source": [
    "## Z Score calculation"
   ]
  },
  {
   "cell_type": "code",
   "execution_count": 167,
   "metadata": {},
   "outputs": [],
   "source": [
    "# We select only the control data\n",
    "control = hipo_ova_clean[hipo_ova_clean['Gene'] == 'Tj>HpoRNAi']"
   ]
  },
  {
   "cell_type": "code",
   "execution_count": 168,
   "metadata": {},
   "outputs": [],
   "source": [
    "# We should have 13 controls in this dataset\n",
    "assert(len(control)/20 == 13)"
   ]
  },
  {
   "cell_type": "code",
   "execution_count": 169,
   "metadata": {},
   "outputs": [],
   "source": [
    "# Here we calculate the mean ovariole number for each batch\n",
    "# We group the dataset by batch, then we calculate the mean for each group \n",
    "# considering each ovary an independant variable\n",
    "# Then we reset the index to have a clean dataframe\n",
    "control_mean = control.groupby(['Batch']).mean().reset_index()\n",
    "# And the same for the standard deviation\n",
    "control_std = control.groupby(['Batch']).std().reset_index()"
   ]
  },
  {
   "cell_type": "code",
   "execution_count": 170,
   "metadata": {},
   "outputs": [],
   "source": [
    "# Making sure we have 7 controls for the 7 batches\n",
    "assert(len(control_mean) == 7)"
   ]
  },
  {
   "cell_type": "code",
   "execution_count": 171,
   "metadata": {},
   "outputs": [],
   "source": [
    "# Now we calculate the Z score for all the non control values\n",
    "\n",
    "# Define an array to hold our Z scores\n",
    "Zs = []\n",
    "# For each line of our tidy table\n",
    "for i in range(len(hipo_ova_clean)):\n",
    "    # Get the batch value\n",
    "    batch = hipo_ova_clean['Batch'][i]\n",
    "    # get the ovariole nb counts\n",
    "    count = hipo_ova_clean['OvarioleNb'][i]\n",
    "    # Get the mean value for the batch\n",
    "    mu = control_mean[control_mean['Batch'] == batch]['OvarioleNb'].values[0]\n",
    "    # Get the std for the batch\n",
    "    std = control_std[control_std['Batch'] == batch]['OvarioleNb'].values[0]\n",
    "    # Calculate Z as Z = x-mu / std\n",
    "    Z = (count-mu)/std\n",
    "    # save Z\n",
    "    Zs.append(Z)"
   ]
  },
  {
   "cell_type": "code",
   "execution_count": 172,
   "metadata": {},
   "outputs": [],
   "source": [
    "hipo_ova_clean['Z'] = Zs"
   ]
  },
  {
   "cell_type": "markdown",
   "metadata": {},
   "source": [
    "## Splitting the dataset in two, pred / non pred"
   ]
  },
  {
   "cell_type": "code",
   "execution_count": 173,
   "metadata": {},
   "outputs": [],
   "source": [
    "#assert(hipo_ova_clean[hipo_ova_clean['Batch']<7]['FbID'].unique().shape[0]==273+1)"
   ]
  },
  {
   "cell_type": "code",
   "execution_count": 174,
   "metadata": {},
   "outputs": [],
   "source": [
    "#hipo_ova_clean_pred = hipo_ova_clean[hipo_ova_clean['Batch']>=7]"
   ]
  },
  {
   "cell_type": "code",
   "execution_count": 175,
   "metadata": {},
   "outputs": [],
   "source": [
    "#hipo_ova_clean = hipo_ova_clean[hipo_ova_clean['Batch']<7]"
   ]
  },
  {
   "cell_type": "markdown",
   "metadata": {},
   "source": [
    "## Saving results"
   ]
  },
  {
   "cell_type": "code",
   "execution_count": 176,
   "metadata": {},
   "outputs": [],
   "source": [
    "hipo_ova_clean.to_csv(os.path.join(data,'Screen', 'hipo_ova_clean.csv'), index=False)"
   ]
  },
  {
   "cell_type": "code",
   "execution_count": 177,
   "metadata": {},
   "outputs": [],
   "source": [
    "#hipo_ova_clean_pred.to_csv(os.path.join(data,'Screen/pred_hipo_ova_clean.csv'), index=False)"
   ]
  },
  {
   "cell_type": "markdown",
   "metadata": {},
   "source": [
    "# Cleaning Egg Laying Hippo RNAi\n",
    "## Tidy Data for Ovariole Database"
   ]
  },
  {
   "cell_type": "code",
   "execution_count": 178,
   "metadata": {},
   "outputs": [],
   "source": [
    "hipo_fec['Sum'] = hipo_fec['Day 1'] + hipo_fec['Day 2 '] + hipo_fec['Day 3'] + hipo_fec['Day 4 '] + hipo_fec['Day 5']"
   ]
  },
  {
   "cell_type": "code",
   "execution_count": 179,
   "metadata": {},
   "outputs": [],
   "source": [
    "Conditions = ['Day 1',\n",
    " 'Day 2 ',\n",
    " 'Day 3',\n",
    " 'Day 4 ',\n",
    " 'Day 5',\n",
    " 'Sum']"
   ]
  },
  {
   "cell_type": "code",
   "execution_count": 180,
   "metadata": {},
   "outputs": [],
   "source": [
    "results = []\n",
    "for i in range(len(hipo_fec)):\n",
    "    condition = hipo_fec['Condition'][i]\n",
    "    batch = hipo_fec['BATCH'][i]\n",
    "    FbID = hipo_fec['FbID'][i]\n",
    "    for c in Conditions:\n",
    "        count = hipo_fec[c][i]\n",
    "        results.append([condition, batch, FbID, c, count])                          \n",
    "hipo_fec_clean = pd.DataFrame(results, columns=['Gene', 'Batch', 'FbID', 'Condition', 'Count'])"
   ]
  },
  {
   "cell_type": "code",
   "execution_count": 181,
   "metadata": {},
   "outputs": [],
   "source": [
    "#Assert that all the rows have been succesfully converted\n",
    "# 592 rows and 5 measurement points and the sum -> 592 * (5+1) = 3552\n",
    "assert(len(hipo_fec_clean) == 3552)"
   ]
  },
  {
   "cell_type": "code",
   "execution_count": 182,
   "metadata": {},
   "outputs": [],
   "source": [
    "#Assert that we have 463 unique FbID in the table\n",
    "assert(len(hipo_fec_clean['FbID'].unique()) == 463 + 1) # +1 for the control genes -> NaN"
   ]
  },
  {
   "cell_type": "code",
   "execution_count": 183,
   "metadata": {},
   "outputs": [],
   "source": [
    "# Test that we have data for all datapoints for all the flies\n",
    "for gene in hipo_fec_clean['FbID'].unique():\n",
    "    assert(len(hipo_fec_clean[hipo_fec_clean['FbID']==gene]) % 6 == 0)"
   ]
  },
  {
   "cell_type": "markdown",
   "metadata": {},
   "source": [
    "## Z Score calculation"
   ]
  },
  {
   "cell_type": "code",
   "execution_count": 184,
   "metadata": {},
   "outputs": [],
   "source": [
    "control = hipo_fec_clean[hipo_fec_clean['Gene'] == 'Tj>HpoRNAi']"
   ]
  },
  {
   "cell_type": "code",
   "execution_count": 185,
   "metadata": {},
   "outputs": [],
   "source": [
    "# We should have 13 controls in this dataset\n",
    "assert(len(control)/6 == 44)"
   ]
  },
  {
   "cell_type": "code",
   "execution_count": 186,
   "metadata": {},
   "outputs": [],
   "source": [
    "# Here we group again by batch AND by condition this time and calculate the mean and std\n",
    "control_mean = control[['Batch','Condition','Count']].groupby(['Batch','Condition']).mean().reset_index()\n",
    "control_std = control[['Batch','Condition','Count']].groupby(['Batch','Condition']).std().reset_index()"
   ]
  },
  {
   "cell_type": "code",
   "execution_count": 187,
   "metadata": {},
   "outputs": [],
   "source": [
    "# Making sure we have 9 controls for the 9 batches * 6 condition\n",
    "assert(len(control_mean) == 9*6)"
   ]
  },
  {
   "cell_type": "code",
   "execution_count": 188,
   "metadata": {},
   "outputs": [],
   "source": [
    "# exact same code as above for Z score\n",
    "res = []\n",
    "for i in range(len(hipo_fec_clean)):\n",
    "    batch = hipo_fec_clean['Batch'][i]\n",
    "    condition = hipo_fec_clean['Condition'][i]\n",
    "    count = hipo_fec_clean['Count'][i]\n",
    "    mu = control_mean[(control_mean['Batch'] == batch) & (control_mean['Condition'] == condition)]['Count'].values[0]\n",
    "    std = control_std[(control_std['Batch'] == batch) & (control_std['Condition'] == condition)]['Count'].values[0]\n",
    "    Z = (count-mu)/std\n",
    "    res.append(Z)"
   ]
  },
  {
   "cell_type": "code",
   "execution_count": 189,
   "metadata": {},
   "outputs": [],
   "source": [
    "hipo_fec_clean['Z'] = res"
   ]
  },
  {
   "cell_type": "markdown",
   "metadata": {},
   "source": [
    "## Splitting the dataset in two, pred / non pred"
   ]
  },
  {
   "cell_type": "code",
   "execution_count": 190,
   "metadata": {},
   "outputs": [],
   "source": [
    "#assert(hipo_fec_clean[hipo_fec_clean['Batch']<10]['FbID'].unique().shape[0]==463+1)"
   ]
  },
  {
   "cell_type": "code",
   "execution_count": 191,
   "metadata": {},
   "outputs": [],
   "source": [
    "#hipo_fec_clean_pred = hipo_fec_clean[hipo_fec_clean['Batch']>=10]"
   ]
  },
  {
   "cell_type": "code",
   "execution_count": 192,
   "metadata": {},
   "outputs": [],
   "source": [
    "#hipo_fec_clean = hipo_fec_clean[hipo_fec_clean['Batch']<10]"
   ]
  },
  {
   "cell_type": "markdown",
   "metadata": {},
   "source": [
    "## Saving results"
   ]
  },
  {
   "cell_type": "code",
   "execution_count": 193,
   "metadata": {},
   "outputs": [],
   "source": [
    "hipo_fec_clean.to_csv(os.path.join(data,'Screen', 'hipo_fec_clean.csv'), index=False)"
   ]
  },
  {
   "cell_type": "code",
   "execution_count": 194,
   "metadata": {},
   "outputs": [],
   "source": [
    "#hipo_fec_clean_pred.to_csv(os.path.join(data,'Screen/pred_hipo_fec_clean.csv'), index=False)"
   ]
  },
  {
   "cell_type": "markdown",
   "metadata": {},
   "source": [
    "# Cleaning Egg Laying\n",
    "## Tidy Data for Ovariole Database"
   ]
  },
  {
   "cell_type": "code",
   "execution_count": 195,
   "metadata": {},
   "outputs": [],
   "source": [
    "xRNAi_fec['Sum'] = xRNAi_fec['Day 1'] + xRNAi_fec['Day 2 '] + xRNAi_fec['Day 3'] + xRNAi_fec['Day 4 '] + xRNAi_fec['Day 5']"
   ]
  },
  {
   "cell_type": "code",
   "execution_count": 196,
   "metadata": {},
   "outputs": [],
   "source": [
    "Conditions = ['Day 1',\n",
    " 'Day 2 ',\n",
    " 'Day 3',\n",
    " 'Day 4 ',\n",
    " 'Day 5',\n",
    " 'Sum']"
   ]
  },
  {
   "cell_type": "code",
   "execution_count": 197,
   "metadata": {},
   "outputs": [],
   "source": [
    "results = []\n",
    "for i in range(len(xRNAi_fec)):\n",
    "    condition = xRNAi_fec['Condition'][i]\n",
    "    batch = xRNAi_fec['BATCH'][i]\n",
    "    FbID = xRNAi_fec['FbID'][i]\n",
    "    for c in Conditions:\n",
    "        count = xRNAi_fec[c][i]\n",
    "        results.append([condition, batch, FbID, c, count])                          \n",
    "xRNAi_fec_clean = pd.DataFrame(results, columns=['Gene', 'Batch', 'FbID', 'Condition', 'Count'])"
   ]
  },
  {
   "cell_type": "code",
   "execution_count": 198,
   "metadata": {},
   "outputs": [],
   "source": [
    "#Assert that all the rows have been succesfully converted\n",
    "# 355 rows and 6 measurement points -> 2130\n",
    "assert(len(xRNAi_fec_clean) == 2130)"
   ]
  },
  {
   "cell_type": "code",
   "execution_count": 199,
   "metadata": {},
   "outputs": [],
   "source": [
    "#Assert that we have 273 unique FbID in the table\n",
    "assert(len(xRNAi_fec_clean['FbID'].unique()) == 273 + 1) # +1 for the control genes -> NaN"
   ]
  },
  {
   "cell_type": "code",
   "execution_count": 200,
   "metadata": {},
   "outputs": [],
   "source": [
    "# Test that we have data for all egglay for all the flies\n",
    "for gene in xRNAi_fec_clean['FbID'].unique():\n",
    "    assert(len(xRNAi_fec_clean[xRNAi_fec_clean['FbID']==gene]) % 6 == 0)"
   ]
  },
  {
   "cell_type": "code",
   "execution_count": 201,
   "metadata": {},
   "outputs": [],
   "source": [
    "control = xRNAi_fec_clean[xRNAi_fec_clean['Gene'] == 'Tj>']"
   ]
  },
  {
   "cell_type": "code",
   "execution_count": 202,
   "metadata": {},
   "outputs": [],
   "source": [
    "# We should have 13 controls in this dataset\n",
    "assert(len(control)/6 == 27)"
   ]
  },
  {
   "cell_type": "code",
   "execution_count": 203,
   "metadata": {},
   "outputs": [],
   "source": [
    "control_mean = control[['Batch','Condition','Count']].groupby(['Batch','Condition']).mean().reset_index()\n",
    "control_std = control[['Batch','Condition','Count']].groupby(['Batch','Condition']).std().reset_index()"
   ]
  },
  {
   "cell_type": "code",
   "execution_count": 204,
   "metadata": {},
   "outputs": [],
   "source": [
    "res = []\n",
    "for i in range(len(xRNAi_fec_clean)):\n",
    "    batch = xRNAi_fec_clean['Batch'][i]\n",
    "    condition = xRNAi_fec_clean['Condition'][i]\n",
    "    count = xRNAi_fec_clean['Count'][i]\n",
    "    mu = control_mean[(control_mean['Batch'] == batch) & (control_mean['Condition'] == condition)]['Count'].values[0]\n",
    "    std = control_std[(control_std['Batch'] == batch) & (control_std['Condition'] == condition)]['Count'].values[0]\n",
    "    Z = (count-mu)/std\n",
    "    res.append(Z)"
   ]
  },
  {
   "cell_type": "code",
   "execution_count": 205,
   "metadata": {},
   "outputs": [],
   "source": [
    "xRNAi_fec_clean['Z'] = res"
   ]
  },
  {
   "cell_type": "markdown",
   "metadata": {},
   "source": [
    "## Splitting the dataset in two, pred / non pred"
   ]
  },
  {
   "cell_type": "code",
   "execution_count": 206,
   "metadata": {},
   "outputs": [],
   "source": [
    "# assert(xRNAi_fec_clean[xRNAi_fec_clean['Batch']<6]['FbID'].unique().shape[0]==273+1)"
   ]
  },
  {
   "cell_type": "code",
   "execution_count": 207,
   "metadata": {},
   "outputs": [],
   "source": [
    "# xRNAi_fec_clean_pred = xRNAi_fec_clean[xRNAi_fec_clean['Batch']>=6]"
   ]
  },
  {
   "cell_type": "code",
   "execution_count": 208,
   "metadata": {},
   "outputs": [],
   "source": [
    "# xRNAi_fec_clean = xRNAi_fec_clean[xRNAi_fec_clean['Batch']<6]"
   ]
  },
  {
   "cell_type": "markdown",
   "metadata": {},
   "source": [
    "## Saving results"
   ]
  },
  {
   "cell_type": "code",
   "execution_count": 209,
   "metadata": {},
   "outputs": [],
   "source": [
    "xRNAi_fec_clean.to_csv(os.path.join(data,'Screen', 'xRNAi_fec_clean.csv'), index=False)"
   ]
  },
  {
   "cell_type": "code",
   "execution_count": 210,
   "metadata": {},
   "outputs": [],
   "source": [
    "# xRNAi_fec_clean_pred.to_csv(os.path.join(data,'Screen/pred_xRNAi_fec_clean.csv'), index=False)"
   ]
  },
  {
   "cell_type": "markdown",
   "metadata": {},
   "source": [
    "# Selecting genes above and below Zscore threshold"
   ]
  },
  {
   "cell_type": "code",
   "execution_count": 211,
   "metadata": {},
   "outputs": [],
   "source": [
    "# We load the CSV files we just created\n",
    "hipo_ova = pd.read_csv(os.path.join(data, 'Screen', 'hipo_ova_clean.csv'))\n",
    "hipo_fec = pd.read_csv(os.path.join(data, 'Screen', 'hipo_fec_clean.csv'))\n",
    "xRNAi_fec = pd.read_csv(os.path.join(data, 'Screen', 'xRNAi_fec_clean.csv'))\n",
    "\n",
    "# hipo_fec_pred = pd.read_csv(os.path.join(datapath, 'Screen','pred_hipo_fec_clean.csv')) \n",
    "# hipo_ova_pred = pd.read_csv(os.path.join(datapath, 'Screen','pred_hipo_ova_clean.csv'))\n",
    "# xRNAi_fec_pred = pd.read_csv(os.path.join(datapath, 'Screen','pred_xRNAi_fec_clean.csv'))"
   ]
  },
  {
   "cell_type": "code",
   "execution_count": 212,
   "metadata": {},
   "outputs": [],
   "source": [
    "# Next we calculate all the Zscore means \n",
    "# We group the dataset by gene (FbID) and we take the mean for each.\n",
    "\n",
    "# Ovariole number screen\n",
    "mean_ova_gene = hipo_ova.groupby('FbID', as_index=False).mean()\n",
    "# mean_ova_gene_pred = hipo_ova_pred.groupby('FbID', as_index=False).mean()\n",
    "\n",
    "# Here we only consider the sum of egg layed for 5 days\n",
    "\n",
    "# Hippo RNAi Egg Laying screen\n",
    "mean_fec_gene = hipo_fec[hipo_fec['Condition'] == 'Sum'].groupby('FbID', as_index=False).mean()\n",
    "# mean_fec_gene_pred = hipo_fec_pred[hipo_fec_pred['Condition'] == 'Sum'].groupby('FbID', as_index=False).mean()\n",
    "\n",
    "# Egg Laying Screen\n",
    "mean_xRNAi_gene = xRNAi_fec[xRNAi_fec['Condition'] == 'Sum'].groupby('FbID', as_index=False).mean()\n",
    "# mean_xRNAi_gene_pred = xRNAi_fec_pred[xRNAi_fec_pred['Condition'] == 'Sum'].groupby('FbID', as_index=False).mean()"
   ]
  },
  {
   "cell_type": "markdown",
   "metadata": {},
   "source": [
    "## Define threshold"
   ]
  },
  {
   "cell_type": "code",
   "execution_count": 213,
   "metadata": {},
   "outputs": [],
   "source": [
    "# We define the thresholds for selecting a candidate \n",
    "# Ovariole number at 2 and EggL at 5\n",
    "ova_threshold = 2\n",
    "eggl_threshold = 5"
   ]
  },
  {
   "cell_type": "code",
   "execution_count": 214,
   "metadata": {},
   "outputs": [],
   "source": [
    "# Ovariole number screen\n",
    "# Keep only genes with a Zscore over or equal to 2\n",
    "Zposneg_ova = mean_ova_gene[(mean_ova_gene['Z'].abs()>=ova_threshold)]['FbID'].values\n",
    "# Filter out the controls\n",
    "Zposneg_ova = [i for i in Zposneg_ova if 'FBgn' in i]\n",
    "\n",
    "# Hippo RNAi Egg Laying screen\n",
    "# Keep only genes with a Zscore over or equal to 5\n",
    "Zposneg_fec = mean_fec_gene[(mean_fec_gene['Z'].abs()>=eggl_threshold)]['FbID'].values\n",
    "# Filter out the controls\n",
    "Zposneg_fec = [i for i in Zposneg_fec if 'FBgn' in i]\n",
    "\n",
    "# Egg Laying Screen\n",
    "# Keep only genes with a Zscore over or equal to 5\n",
    "Zposneg_xRNAi = mean_xRNAi_gene[(mean_xRNAi_gene['Z'].abs()>=eggl_threshold)]['FbID'].values\n",
    "# Filter out the controls\n",
    "Zposneg_xRNAi = [i for i in Zposneg_xRNAi if 'FBgn' in i]"
   ]
  },
  {
   "cell_type": "code",
   "execution_count": 215,
   "metadata": {},
   "outputs": [
    {
     "name": "stdout",
     "output_type": "stream",
     "text": [
      "Ovariole number positive candidates: 67\n",
      "Hippo RNAi Egg Laying positive candidates: 59\n",
      "Egg Laying positive candidates: 49\n"
     ]
    }
   ],
   "source": [
    "print(\"Ovariole number positive candidates:\", len(Zposneg_ova))\n",
    "print(\"Hippo RNAi Egg Laying positive candidates:\", len(Zposneg_fec))\n",
    "print(\"Egg Laying positive candidates:\", len(Zposneg_xRNAi))"
   ]
  },
  {
   "cell_type": "code",
   "execution_count": 216,
   "metadata": {},
   "outputs": [],
   "source": [
    "assert(len(Zposneg_ova) == 67)\n",
    "assert(len(Zposneg_fec) == 59)\n",
    "assert(len(Zposneg_xRNAi) == 49)"
   ]
  },
  {
   "cell_type": "markdown",
   "metadata": {},
   "source": [
    "## Let's make a table of the candidate genes"
   ]
  },
  {
   "cell_type": "code",
   "execution_count": 217,
   "metadata": {},
   "outputs": [],
   "source": [
    "resultpath = '../Results'"
   ]
  },
  {
   "cell_type": "code",
   "execution_count": 218,
   "metadata": {},
   "outputs": [],
   "source": [
    "results = []"
   ]
  },
  {
   "cell_type": "code",
   "execution_count": 219,
   "metadata": {},
   "outputs": [],
   "source": [
    "# We take the interesection of the positive canditate of the 3 screens. \n",
    "core_genes = set.intersection(set(Zposneg_ova), set(Zposneg_fec), set(Zposneg_xRNAi))"
   ]
  },
  {
   "cell_type": "code",
   "execution_count": 220,
   "metadata": {},
   "outputs": [],
   "source": [
    "for gene in Zposneg_ova:\n",
    "    results.append(['HpoOvariole', gene])\n",
    "for gene in Zposneg_fec:\n",
    "    results.append(['HpoEggL', gene])\n",
    "for gene in Zposneg_xRNAi:\n",
    "    results.append(['EggL', gene])\n",
    "for gene in core_genes:\n",
    "    results.append(['Core', gene])"
   ]
  },
  {
   "cell_type": "code",
   "execution_count": 221,
   "metadata": {},
   "outputs": [],
   "source": [
    "df = pd.DataFrame(results, columns=['Screen', \"Gene\"])"
   ]
  },
  {
   "cell_type": "code",
   "execution_count": 222,
   "metadata": {},
   "outputs": [],
   "source": [
    "df.to_csv(os.path.join(resultpath, 'Candidate_Above_Z_Threshold.csv'))"
   ]
  }
 ],
 "metadata": {
  "kernelspec": {
   "display_name": "Python 3",
   "language": "python",
   "name": "python3"
  },
  "language_info": {
   "codemirror_mode": {
    "name": "ipython",
    "version": 3
   },
   "file_extension": ".py",
   "mimetype": "text/x-python",
   "name": "python",
   "nbconvert_exporter": "python",
   "pygments_lexer": "ipython3",
   "version": "3.7.2"
  }
 },
 "nbformat": 4,
 "nbformat_minor": 2
}
