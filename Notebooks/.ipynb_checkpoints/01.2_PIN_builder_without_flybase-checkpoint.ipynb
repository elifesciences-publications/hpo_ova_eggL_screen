{
 "cells": [
  {
   "cell_type": "code",
   "execution_count": 1,
   "metadata": {},
   "outputs": [],
   "source": [
    "import networkx as nx\n",
    "import pandas as pd\n",
    "import numpy as np\n",
    "import seaborn as sns\n",
    "import matplotlib.pyplot as plt\n",
    "import requests\n",
    "from ftplib import FTP\n",
    "import os\n",
    "sns.set()\n",
    "\n",
    "%matplotlib inline"
   ]
  },
  {
   "cell_type": "code",
   "execution_count": 2,
   "metadata": {},
   "outputs": [],
   "source": [
    "# Define the path where all the primary data are\n",
    "datapath = \"../Data/\""
   ]
  },
  {
   "cell_type": "markdown",
   "metadata": {},
   "source": [
    "# Download the PPI files from DroID"
   ]
  },
  {
   "cell_type": "code",
   "execution_count": 3,
   "metadata": {},
   "outputs": [],
   "source": [
    "# Here you can change the version of the DroID PPI we use in the analysis\n",
    "# For the paper, we use the 2017_08 version\n",
    "# Uncomment the block for the version you want to use and comment the other ones\n",
    "\n",
    "# PPI_ID = \"2015_12\"\n",
    "# Annotation_ID = \"2015_03\" \n",
    "\n",
    "# PPI_ID = \"2017_08\"\n",
    "# Annotation_ID = \"2017_06\" \n",
    "\n",
    "PPI_ID = \"2018_08\"\n",
    "Annotation_ID = \"2018_06\" "
   ]
  },
  {
   "cell_type": "code",
   "execution_count": 4,
   "metadata": {},
   "outputs": [],
   "source": [
    "# Defining a helper function to go on a web database and download the corresponding file defined as url \n",
    "# The file is then saved into datapath\n",
    "\n",
    "def download_and_save(url, datapath):\n",
    "    # Recover the filename\n",
    "    filename = url.split('/')[-1]\n",
    "    # Logging out\n",
    "    print(\"Downloading and saving \", filename)\n",
    "    # Get a Web handle to the file on the server\n",
    "    handle = requests.get(url)\n",
    "    # Download the content \n",
    "    content = handle.content\n",
    "    # Decode the content from bytes to String\n",
    "    content = content.decode(errors='ignore') # error=ignore is here because the 2017 version has UTF-8 errors \n",
    "    # Create the path to save the data into using the datapath defined above\n",
    "    savepath = os.path.join(datapath,\"PPIs\", \"Download\")\n",
    "    # Making the directory if it does not exist\n",
    "    if not os.path.isdir(savepath):\n",
    "        os.mkdir(savepath)\n",
    "    # Open and save the file\n",
    "    file = open(os.path.join(savepath, filename), 'w')\n",
    "    file.write(content)\n",
    "    file.close()"
   ]
  },
  {
   "cell_type": "code",
   "execution_count": 5,
   "metadata": {},
   "outputs": [],
   "source": [
    "# Here we define all the PPI files from the DROID we want to download.\n",
    "# Because we only use a subset of the database containing PPI information\n",
    "\n",
    "PPIs = [\"http://www.droidb.org/data/DroID_v{}/finley_yth.txt\".format(PPI_ID),\n",
    "       \"http://www.droidb.org/data/DroID_v{}/curagen_yth.txt\".format(PPI_ID),\n",
    "       \"http://www.droidb.org/data/DroID_v{}/hybrigenics_yth.txt\".format(PPI_ID),\n",
    "       \"http://www.droidb.org/data/DroID_v{}/perrimon_coapcomplex.txt\".format(PPI_ID),\n",
    "       \"http://www.droidb.org/data/DroID_v{}/dpim_coapcomplex.txt\".format(PPI_ID),\n",
    "       \"http://www.droidb.org/data/DroID_v{}/fly_other_physical.txt\".format(PPI_ID),\n",
    "       \"http://www.droidb.org/data/DroID_v{}/flybase_ppi.txt\".format(PPI_ID)]"
   ]
  },
  {
   "cell_type": "code",
   "execution_count": 6,
   "metadata": {
    "scrolled": true
   },
   "outputs": [
    {
     "name": "stdout",
     "output_type": "stream",
     "text": [
      "Downloading and saving  finley_yth.txt\n",
      "Downloading and saving  curagen_yth.txt\n",
      "Downloading and saving  hybrigenics_yth.txt\n",
      "Downloading and saving  perrimon_coapcomplex.txt\n",
      "Downloading and saving  dpim_coapcomplex.txt\n",
      "Downloading and saving  fly_other_physical.txt\n",
      "Downloading and saving  flybase_ppi.txt\n"
     ]
    }
   ],
   "source": [
    "# Loop over the list above and download the files.\n",
    "\n",
    "for ppi in PPIs:\n",
    "    download_and_save(ppi, datapath)"
   ]
  },
  {
   "cell_type": "markdown",
   "metadata": {},
   "source": [
    "# Loading annotations from flybase to map Flybase ID to gene name"
   ]
  },
  {
   "cell_type": "code",
   "execution_count": 7,
   "metadata": {},
   "outputs": [],
   "source": [
    "# Define the file name of the annotation file base on the annotation_ID \n",
    "\n",
    "filename = \"fbgn_annotation_ID_fb_{}.tsv.gz\".format(Annotation_ID)"
   ]
  },
  {
   "cell_type": "code",
   "execution_count": 8,
   "metadata": {
    "scrolled": true
   },
   "outputs": [],
   "source": [
    "# Connect to the FTP from flybase and download the annotation file\n",
    "\n",
    "# define URL to ftp of flybase\n",
    "flybaseftp = \"ftp.flybase.net\"\n",
    "# Define the URL path\n",
    "filepath = \"releases/FB{}/precomputed_files/genes/fbgn_annotation_ID_fb_{}.tsv.gz\".format(Annotation_ID, Annotation_ID)\n",
    "\n",
    "# Establish connection to the FTP\n",
    "ftp = FTP(flybaseftp)\n",
    "ftp.login('','')\n",
    "\n",
    "# Download the file\n",
    "ftp.retrbinary(\"RETR {}\".format(filepath) ,open(os.path.join(datapath, filename), 'wb').write)\n",
    "\n",
    "# Close the connection\n",
    "ftp.close()"
   ]
  },
  {
   "cell_type": "code",
   "execution_count": 9,
   "metadata": {},
   "outputs": [],
   "source": [
    "# Load the annotation into a pandas dataframe\n",
    "annotation = pd.read_table(os.path.join(datapath, filename),\n",
    "                           compression='gzip',\n",
    "                           skiprows=4,\n",
    "                           keep_default_na=False)"
   ]
  },
  {
   "cell_type": "code",
   "execution_count": 10,
   "metadata": {
    "scrolled": true
   },
   "outputs": [],
   "source": [
    "# We want to create a dictionary that stores the FbID to gene name\n",
    "\n",
    "# Define our dictionarry and call it mapping\n",
    "mapping = {}\n",
    "# Iterate over hte annotation\n",
    "for i in range(len(annotation)):\n",
    "        # Recover the FbID\n",
    "        primary_FBgn = annotation['primary_FBgn#'][i]\n",
    "        # Recover the gene name\n",
    "        gene = annotation['##gene_symbol'][i]\n",
    "        # Save the link into the dictionary\n",
    "        mapping[primary_FBgn] = gene\n",
    "        # That's important\n",
    "        # If the gene has secondary FbID !! Then we need to grab thoose too as some genes will use this older ID\n",
    "        # Instead of the newer one\n",
    "        s = annotation['secondary_FBgn#(s)'][i]\n",
    "        # If it exist\n",
    "        if type(s) == str:\n",
    "            # Recover all IDs\n",
    "            s = s.split(',')\n",
    "            # Iterate over the FbID\n",
    "            for x in s:\n",
    "                # Save the relationship in the mapping table\n",
    "                mapping[x] = gene\n",
    "# mapping"
   ]
  },
  {
   "cell_type": "markdown",
   "metadata": {},
   "source": [
    "# Loading all the PPIs downloaded above "
   ]
  },
  {
   "cell_type": "code",
   "execution_count": 11,
   "metadata": {},
   "outputs": [],
   "source": [
    "# Define the path where we saved our PPIs previously\n",
    "ppipath = os.path.join(datapath, \"PPIs\", \"Download\")"
   ]
  },
  {
   "cell_type": "code",
   "execution_count": 12,
   "metadata": {},
   "outputs": [],
   "source": [
    "# Read every single PPI files into Pandas dataframe\n",
    "\n",
    "flybasePPI = pd.read_table(os.path.join(ppipath,'flybase_ppi.txt'))\n",
    "yeastPPI = pd.read_table(os.path.join(ppipath,'curagen_yth.txt'))\n",
    "finleyPPI = pd.read_table(os.path.join(ppipath,'finley_yth.txt'))\n",
    "hybriPPI = pd.read_table(os.path.join(ppipath,'hybrigenics_yth.txt'))\n",
    "perimonPPI = pd.read_table(os.path.join(ppipath,'perrimon_coapcomplex.txt'))\n",
    "DPIMPPI = pd.read_table(os.path.join(ppipath,'dpim_coapcomplex.txt'))\n",
    "otherPPI = pd.read_table(os.path.join(ppipath,'fly_other_physical.txt'))"
   ]
  },
  {
   "cell_type": "markdown",
   "metadata": {},
   "source": [
    "# Creating the concatenated PPI"
   ]
  },
  {
   "cell_type": "code",
   "execution_count": 13,
   "metadata": {},
   "outputs": [],
   "source": [
    "# Create the graph to hold the network\n",
    "G = nx.Graph()"
   ]
  },
  {
   "cell_type": "code",
   "execution_count": 14,
   "metadata": {},
   "outputs": [],
   "source": [
    "# Define a function to add the node and edges in the network only if they don't already exist\n",
    "\n",
    "def AddSet(G, db, id1, id2):\n",
    "    # db here is a pandas edge list table\n",
    "    # id1 and id2 are the column names of the node1 and node 2 of the edge list table\n",
    "    # edge list table define network with each line as an interaction between gene1 and gene2\n",
    "    \n",
    "    # For each gene in the the first column \n",
    "    for gene in db[id1].unique():\n",
    "        # If the gene is NOT in the network already\n",
    "        if not G.has_node(gene):\n",
    "            # Add the gene\n",
    "            G.add_node(gene)\n",
    "    # Same for the second column\n",
    "    for gene in db[id2].unique():\n",
    "        if not G.has_node(gene):\n",
    "            G.add_node(gene)\n",
    "    \n",
    "    # Then we go through the edges \n",
    "    # For each line (aka each edge)\n",
    "    for i in range(len(db)):\n",
    "        # Grab the first and second gene\n",
    "        gene1 = db[id1][i]\n",
    "        gene2 = db[id2][i]\n",
    "        # if the edge does not exist in the network\n",
    "        if not G.has_edge(gene1,gene2):\n",
    "            # AND IF the gene1 and gene2 are NOT the same gene\n",
    "            # aka no self loop or self interaction !\n",
    "            if gene1 != gene2:\n",
    "                # We add the edge\n",
    "                G.add_edge(gene1, gene2)\n",
    "    # we return G\n",
    "    return G"
   ]
  },
  {
   "cell_type": "markdown",
   "metadata": {},
   "source": [
    "## Adding all the PPI dataset to the golbal PPI"
   ]
  },
  {
   "cell_type": "code",
   "execution_count": 15,
   "metadata": {},
   "outputs": [],
   "source": [
    "# We define which table and column names to use\n",
    "db = flybasePPI\n",
    "id1 = 'FLY_GENE1'\n",
    "id2 = 'FLY_GENE2'\n",
    "\n",
    "# We add the node and edges from that file using the AddSet function defined above\n",
    "G = AddSet(G, db,id1,id2)\n",
    "# Now G holds the network information from the first file\n",
    "\n",
    "# We do th same for all the files below"
   ]
  },
  {
   "cell_type": "code",
   "execution_count": 16,
   "metadata": {},
   "outputs": [],
   "source": [
    "db = yeastPPI\n",
    "id1 = 'FBGN_GENE1_BD'\n",
    "id2 = 'FBGN_GENE2_AD'\n",
    "\n",
    "# Here we pass G to the AddSet\n",
    "G = AddSet(G, db,id1,id2)\n",
    "# And recover it for the next\n",
    "# Etc"
   ]
  },
  {
   "cell_type": "code",
   "execution_count": 17,
   "metadata": {},
   "outputs": [],
   "source": [
    "db = finleyPPI\n",
    "id1 = 'FBGN_GENE1_BD'\n",
    "id2 = 'FBGN_GENE2_AD'\n",
    "\n",
    "G = AddSet(G, db,id1,id2)"
   ]
  },
  {
   "cell_type": "code",
   "execution_count": 18,
   "metadata": {},
   "outputs": [],
   "source": [
    "db = hybriPPI\n",
    "id1 = 'FBGN_GENE1_BD'\n",
    "id2 = 'FBGN_GENE2_AD'\n",
    "\n",
    "G = AddSet(G, db,id1,id2)"
   ]
  },
  {
   "cell_type": "code",
   "execution_count": 19,
   "metadata": {},
   "outputs": [],
   "source": [
    "db = perimonPPI\n",
    "id1 = 'FBGN_BAIT'\n",
    "id2 = 'FBGN_INTERACTOR'\n",
    "\n",
    "G = AddSet(G, db,id1,id2)"
   ]
  },
  {
   "cell_type": "code",
   "execution_count": 20,
   "metadata": {},
   "outputs": [],
   "source": [
    "db = DPIMPPI\n",
    "id1 = 'FBGN_BAIT'\n",
    "id2 = 'FBGN_INTERACTOR'\n",
    "\n",
    "G = AddSet(G, db,id1,id2)"
   ]
  },
  {
   "cell_type": "code",
   "execution_count": 21,
   "metadata": {},
   "outputs": [],
   "source": [
    "db = otherPPI\n",
    "id1 = 'FLY_GENE1'\n",
    "id2 = 'FLY_GENE2'\n",
    "\n",
    "G = AddSet(G, db,id1,id2)"
   ]
  },
  {
   "cell_type": "markdown",
   "metadata": {},
   "source": [
    "# Annotating Graph by adding gene names to the nodes"
   ]
  },
  {
   "cell_type": "code",
   "execution_count": 22,
   "metadata": {},
   "outputs": [],
   "source": [
    "# the PPI is built with FbID but the gene names are useful to have\n",
    "# So we are gonna use the annotation mapping we created above to give each node a name\n",
    "\n",
    "# For each node in the PPI network G\n",
    "for node in G.nodes():\n",
    "    # If the node exist in the annotation \n",
    "    if node in mapping:\n",
    "        # We define the label as the annotation name\n",
    "        label = mapping[node]\n",
    "    else:\n",
    "        # Else we leave it to the FbID\n",
    "        label = node\n",
    "    # Save the annotation into the label tag in the node\n",
    "    G.node[node]['label'] = label"
   ]
  },
  {
   "cell_type": "markdown",
   "metadata": {},
   "source": [
    "# Saving Graph"
   ]
  },
  {
   "cell_type": "code",
   "execution_count": 23,
   "metadata": {},
   "outputs": [],
   "source": [
    "# Using networkx to save as a GraphML\n",
    "nx.write_graphml(G, os.path.join(datapath, \"PPIs\", 'PPI_{}.graphml'.format(PPI_ID)))"
   ]
  },
  {
   "cell_type": "markdown",
   "metadata": {},
   "source": [
    "# Perform some Network Assement"
   ]
  },
  {
   "cell_type": "code",
   "execution_count": 24,
   "metadata": {},
   "outputs": [],
   "source": [
    "# Read the PPI file to make sure the saving worked\n",
    "G = nx.read_graphml(os.path.join(datapath, \"PPIs\", 'PPI_{}.graphml'.format(PPI_ID)))"
   ]
  },
  {
   "cell_type": "code",
   "execution_count": 25,
   "metadata": {},
   "outputs": [
    {
     "name": "stdout",
     "output_type": "stream",
     "text": [
      "There are  10632 nodes in the network\n",
      "There are  85019 edges in the network\n",
      "Network density is : 0.0015043777518209697\n"
     ]
    }
   ],
   "source": [
    "# Calculating network density\n",
    "# actual nb of Edges / total potential edges\n",
    "n = len(G.nodes())\n",
    "potential_edges = (n * (n-1))/2\n",
    "density = len(G.edges()) / potential_edges\n",
    "print(\"There are \", len(G.nodes()), 'nodes in the network')\n",
    "print(\"There are \", len(G.edges()), 'edges in the network')\n",
    "print(\"Network density is :\", density)"
   ]
  },
  {
   "cell_type": "code",
   "execution_count": 26,
   "metadata": {
    "scrolled": true
   },
   "outputs": [
    {
     "name": "stdout",
     "output_type": "stream",
     "text": [
      "[10590, 3, 3, 2, 2, 2, 2, 2, 2, 2, 2, 2, 2, 2, 2, 2, 1, 1, 1, 1, 1, 1, 1, 1, 1, 1]\n"
     ]
    }
   ],
   "source": [
    "cc = nx.connected_components(G)\n",
    "print([len(c) for c in sorted(nx.connected_components(G), key=len, reverse=True)])\n",
    "largest_cc = max(nx.connected_components(G), key=len)"
   ]
  },
  {
   "cell_type": "code",
   "execution_count": 27,
   "metadata": {},
   "outputs": [
    {
     "data": {
      "text/plain": [
       "[<matplotlib.lines.Line2D at 0x7fd9e7c6af60>]"
      ]
     },
     "execution_count": 27,
     "metadata": {},
     "output_type": "execute_result"
    },
    {
     "data": {
      "image/png": "[encoded data removed]",
      "text/plain": [
       "<Figure size 432x288 with 1 Axes>"
      ]
     },
     "metadata": {
      "needs_background": "light"
     },
     "output_type": "display_data"
    }
   ],
   "source": [
    "# Sanity Check that the network is Scale Free\n",
    "degdist = nx.degree_histogram(G)\n",
    "plt.plot(degdist)"
   ]
  },
  {
   "cell_type": "code",
   "execution_count": 28,
   "metadata": {},
   "outputs": [
    {
     "data": {
      "text/plain": [
       "Text(0.5,1,'LogLog plot of Degree Distribution')"
      ]
     },
     "execution_count": 28,
     "metadata": {},
     "output_type": "execute_result"
    },
    {
     "data": {
      "image/png": "[encoded data removed]",
      "text/plain": [
       "<Figure size 720x720 with 1 Axes>"
      ]
     },
     "metadata": {
      "needs_background": "light"
     },
     "output_type": "display_data"
    }
   ],
   "source": [
    "# Sanity Check that the network is Scale Free\n",
    "# This should be a line, it's globally a line\n",
    "fig = plt.figure(figsize=(10,10))\n",
    "plt.loglog(degdist,'o', alpha=0.2, label='PPI')\n",
    "plt.legend()\n",
    "plt.title('LogLog plot of Degree Distribution')"
   ]
  }
 ],
 "metadata": {
  "kernelspec": {
   "display_name": "Python 3",
   "language": "python",
   "name": "python3"
  },
  "language_info": {
   "codemirror_mode": {
    "name": "ipython",
    "version": 3
   },
   "file_extension": ".py",
   "mimetype": "text/x-python",
   "name": "python",
   "nbconvert_exporter": "python",
   "pygments_lexer": "ipython3",
   "version": "3.5.6"
  }
 },
 "nbformat": 4,
 "nbformat_minor": 1
}
