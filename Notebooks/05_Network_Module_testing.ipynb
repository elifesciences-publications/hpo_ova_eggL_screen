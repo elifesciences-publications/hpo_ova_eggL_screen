{
 "cells": [
  {
   "cell_type": "code",
   "execution_count": 155,
   "metadata": {},
   "outputs": [],
   "source": [
    "import networkx as nx\n",
    "import numpy as np\n",
    "import seaborn as sns\n",
    "import matplotlib.pyplot as plt\n",
    "import pandas as pd\n",
    "import os\n",
    "import progressbar\n",
    "from scipy import stats\n",
    "sns.set()\n",
    "\n",
    "%matplotlib inline"
   ]
  },
  {
   "cell_type": "markdown",
   "metadata": {},
   "source": [
    "# Define path and load files \n",
    "\n",
    "Accross the analysis the following names are used for the 3 screens\n",
    "- ova == Ovariole Number screen\n",
    "- fec == Hippo RNAi EggLaying screen\n",
    "- xRNAi == EggLaying screen"
   ]
  },
  {
   "cell_type": "code",
   "execution_count": 156,
   "metadata": {},
   "outputs": [],
   "source": [
    "data = \"../../../Paper/Data\"\n",
    "resultpath = '../../../Paper/Results/'"
   ]
  },
  {
   "cell_type": "code",
   "execution_count": 157,
   "metadata": {},
   "outputs": [],
   "source": [
    "G = nx.read_graphml(os.path.join(data,'PPI.graphml'))\n",
    "# G = nx.read_graphml(os.path.join(\"../../../Data/\",'PPI.graphml'))\n",
    "hipo_ova = pd.read_csv(os.path.join(data,'Screen/hipo_ova_clean.csv'))\n",
    "xRNAi_fec = pd.read_csv(os.path.join(data,'Screen/xRNAi_fec_clean.csv'))\n",
    "hipo_fec = pd.read_csv(os.path.join(data,'Screen/hipo_fec_clean.csv'))\n",
    "signaling = pd.read_csv(os.path.join(data,'signaling.csv'))"
   ]
  },
  {
   "cell_type": "code",
   "execution_count": 158,
   "metadata": {},
   "outputs": [],
   "source": [
    "# We only consider the sum of eggs layed over 5 days, so we restrict the data to the \"Sum\"\n",
    "xRNAi_fec = xRNAi_fec[xRNAi_fec['Condition'] == 'Sum'].reset_index(drop=True)\n",
    "hipo_fec = hipo_fec[hipo_fec['Condition'] == 'Sum'].reset_index(drop=True)"
   ]
  },
  {
   "cell_type": "code",
   "execution_count": 159,
   "metadata": {},
   "outputs": [],
   "source": [
    "# Modules computed in the notebook file: Seed-Connector\n",
    "ova_module_G = nx.read_graphml(os.path.join(resultpath,'Ova_module.graphml'))\n",
    "fec_module_G = nx.read_graphml(os.path.join(resultpath,'Hpo_EggL_module.graphml'))\n",
    "xRNAi_module_G = nx.read_graphml(os.path.join(resultpath,'EggL_module.graphml'))\n",
    "core_module_G = nx.read_graphml(os.path.join(resultpath,'Core_module.graphml'))"
   ]
  },
  {
   "cell_type": "markdown",
   "metadata": {},
   "source": [
    "# Prepare groups of genes and positive candidate set\n",
    "Here we calculate the mean of the Zscore for each gene in the screens, define thresholds for significance, and create subsets of genes"
   ]
  },
  {
   "cell_type": "code",
   "execution_count": 160,
   "metadata": {},
   "outputs": [],
   "source": [
    "mean_ova_gene = hipo_ova.groupby('FbID', as_index=False).mean()\n",
    "mean_fec_gene = hipo_fec.groupby('FbID', as_index=False).mean()\n",
    "mean_xRNAi_gene = xRNAi_fec.groupby('FbID', as_index=False).mean()"
   ]
  },
  {
   "cell_type": "code",
   "execution_count": 161,
   "metadata": {},
   "outputs": [
    {
     "data": {
      "text/plain": [
       "273"
      ]
     },
     "execution_count": 161,
     "metadata": {},
     "output_type": "execute_result"
    }
   ],
   "source": [
    "len([i for i in mean_ova_gene['FbID'].unique() if 'FBgn' in i])"
   ]
  },
  {
   "cell_type": "code",
   "execution_count": 162,
   "metadata": {},
   "outputs": [],
   "source": [
    "ova_module = ova_module_G.nodes()\n",
    "fec_module = fec_module_G.nodes()\n",
    "xRNAi_module = xRNAi_module_G.nodes()\n",
    "core_module = core_module_G.nodes()"
   ]
  },
  {
   "cell_type": "code",
   "execution_count": 163,
   "metadata": {},
   "outputs": [],
   "source": [
    "# Here we select all the genes that were tested in the screen,\n",
    "# because the first screen was Hipo RNAi EggLaying measurement, this dataset contains all the tested genes\n",
    "screen_genes = mean_fec_gene['FbID'].values\n",
    "ScreenG = G.subgraph(screen_genes)"
   ]
  },
  {
   "cell_type": "code",
   "execution_count": 164,
   "metadata": {},
   "outputs": [],
   "source": [
    "# We redefine our threshold of 2 and 5 for Z score cutoff\n",
    "ova_threshold = 2\n",
    "eggl_threshold = 5"
   ]
  },
  {
   "cell_type": "code",
   "execution_count": 165,
   "metadata": {},
   "outputs": [],
   "source": [
    "# Ovariole number screen\n",
    "# Keep only genes with a Zscore over or equal to 2\n",
    "ova_seed = mean_ova_gene[(mean_ova_gene['Z'].abs()>=ova_threshold)]['FbID'].values\n",
    "# Filter out the controls\n",
    "ova_seed = [i for i in ova_seed if 'FBgn' in i]\n",
    "\n",
    "# Hippo RNAi Egg Laying screen\n",
    "# Keep only genes with a Zscore over or equal to 5\n",
    "fec_seed = mean_fec_gene[(mean_fec_gene['Z'].abs()>=eggl_threshold)]['FbID'].values\n",
    "# Filter out the controls\n",
    "fec_seed = [i for i in fec_seed if 'FBgn' in i]\n",
    "\n",
    "# Egg Laying Screen\n",
    "# Keep only genes with a Zscore over or equal to 5\n",
    "xRNAi_seed = mean_xRNAi_gene[(mean_xRNAi_gene['Z'].abs()>=eggl_threshold)]['FbID'].values\n",
    "# Filter out the controls\n",
    "xRNAi_seed = [i for i in xRNAi_seed if 'FBgn' in i]\n",
    "\n",
    "core_seed = set.intersection(set(ova_seed), set(fec_seed), set(xRNAi_seed))"
   ]
  },
  {
   "cell_type": "code",
   "execution_count": 166,
   "metadata": {},
   "outputs": [],
   "source": [
    "connectors = []\n",
    "\n",
    "for node in ova_module_G.node:\n",
    "    if \"Connector\" in ova_module_G.node[node]['Seed']:\n",
    "        connectors.append(['Ova',node])\n",
    "for node in fec_module_G.node:\n",
    "    if \"Connector\" in fec_module_G.node[node]['Seed']:\n",
    "        connectors.append(['HpoFec',node])\n",
    "for node in xRNAi_module_G.node:\n",
    "    if \"Connector\" in xRNAi_module_G.node[node]['Seed']:\n",
    "        connectors.append(['xRNAiFec',node])\n",
    "for node in core_module_G.node:\n",
    "    if \"Connector\" in core_module_G.node[node]['Seed']:\n",
    "        connectors.append(['Core',node])\n",
    "\n",
    "connectors = pd.DataFrame(connectors, columns=['Network', 'FbID'])\n",
    "connectors.to_csv(os.path.join(resultpath,\"ConnectorGeneList.csv\"), index=False)"
   ]
  },
  {
   "cell_type": "code",
   "execution_count": 167,
   "metadata": {},
   "outputs": [
    {
     "name": "stdout",
     "output_type": "stream",
     "text": [
      "There is 37 unique connectors found accross the 4 network modules\n"
     ]
    }
   ],
   "source": [
    "print(\"There is {} unique connectors found accross the 4 network modules\".format(len(connectors['FbID'].unique())))"
   ]
  },
  {
   "cell_type": "code",
   "execution_count": 168,
   "metadata": {},
   "outputs": [],
   "source": [
    "hipo_ova_pred = pd.read_csv(os.path.join(data,'Screen/pred_hipo_ova_clean.csv'))\n"
   ]
  },
  {
   "cell_type": "code",
   "execution_count": 169,
   "metadata": {
    "scrolled": true
   },
   "outputs": [
    {
     "data": {
      "text/plain": [
       "array(['FBgn0003944', 'FBgn0261385', 'FBgn0261014', 'FBgn0263108',\n",
       "       'FBgn0015282', 'FBgn0015268', 'FBgn0031006', 'FBgn0011660',\n",
       "       'FBgn0034087', 'FBgn0022764', 'FBgn0259896', 'FBgn0003165',\n",
       "       'Control', 'FBgn0025674', 'FBgn0024846', 'FBgn0004198',\n",
       "       'FBgn0041627', 'FBgn0004859', 'FBgn0035213', 'FBgn0034753',\n",
       "       'FBgn0015279', 'FBgn0025463', 'FBgn0038862', 'FBgn0000250',\n",
       "       'FBgn0005198', 'FBgn0025687', 'FBgn0015805', 'FBgn0003479',\n",
       "       'FBgn0043903', 'FBgn0031626', 'FBgn0264922', 'FBgn0278604'],\n",
       "      dtype=object)"
      ]
     },
     "execution_count": 169,
     "metadata": {},
     "output_type": "execute_result"
    }
   ],
   "source": [
    "hipo_ova_pred['FbID'].unique()"
   ]
  },
  {
   "cell_type": "code",
   "execution_count": 189,
   "metadata": {
    "scrolled": false
   },
   "outputs": [
    {
     "data": {
      "text/plain": [
       "['FBgn0000042',\n",
       " 'FBgn0000117',\n",
       " 'FBgn0000259',\n",
       " 'FBgn0000352',\n",
       " 'FBgn0001139',\n",
       " 'FBgn0001169',\n",
       " 'FBgn0001235',\n",
       " 'FBgn0001624',\n",
       " 'FBgn0001965',\n",
       " 'FBgn0002174',\n",
       " 'FBgn0002592',\n",
       " 'FBgn0002643',\n",
       " 'FBgn0003090',\n",
       " 'FBgn0003124',\n",
       " 'FBgn0003204',\n",
       " 'FBgn0003396',\n",
       " 'FBgn0003444',\n",
       " 'FBgn0003612',\n",
       " 'FBgn0003867',\n",
       " 'FBgn0003892',\n",
       " 'FBgn0003984',\n",
       " 'FBgn0004177',\n",
       " 'FBgn0004647',\n",
       " 'FBgn0004837',\n",
       " 'FBgn0004856',\n",
       " 'FBgn0004858',\n",
       " 'FBgn0010379',\n",
       " 'FBgn0010825',\n",
       " 'FBgn0010909',\n",
       " 'FBgn0011692',\n",
       " 'FBgn0014011',\n",
       " 'FBgn0014020',\n",
       " 'FBgn0015218',\n",
       " 'FBgn0015799',\n",
       " 'FBgn0020386',\n",
       " 'FBgn0020496',\n",
       " 'FBgn0021796',\n",
       " 'FBgn0021874',\n",
       " 'FBgn0022787',\n",
       " 'FBgn0023518',\n",
       " 'FBgn0024248',\n",
       " 'FBgn0025638',\n",
       " 'FBgn0025800',\n",
       " 'FBgn0026181',\n",
       " 'FBgn0026250',\n",
       " 'FBgn0026379',\n",
       " 'FBgn0029175',\n",
       " 'FBgn0029840',\n",
       " 'FBgn0030904',\n",
       " 'FBgn0033266',\n",
       " 'FBgn0034970',\n",
       " 'FBgn0036046',\n",
       " 'FBgn0036974',\n",
       " 'FBgn0037351',\n",
       " 'FBgn0038167',\n",
       " 'FBgn0039102',\n",
       " 'FBgn0040296',\n",
       " 'FBgn0044323',\n",
       " 'FBgn0045035',\n",
       " 'FBgn0086785',\n",
       " 'FBgn0259176',\n",
       " 'FBgn0261592',\n",
       " 'FBgn0261617',\n",
       " 'FBgn0261885',\n",
       " 'FBgn0262614',\n",
       " 'FBgn0264270',\n",
       " 'FBgn0264492']"
      ]
     },
     "execution_count": 189,
     "metadata": {},
     "output_type": "execute_result"
    }
   ],
   "source": [
    "ova_seed"
   ]
  },
  {
   "cell_type": "code",
   "execution_count": 170,
   "metadata": {},
   "outputs": [],
   "source": [
    "testedC = \"\"\"FBgn0000618\n",
    "FBgn0001218\n",
    "FBgn0003165\n",
    "FBgn0003449\n",
    "FBgn0003460\n",
    "FBgn0003687\n",
    "FBgn0003944\n",
    "FBgn0005655\n",
    "FBgn0011660\n",
    "FBgn0013275\n",
    "FBgn0013334\n",
    "FBgn0013435\n",
    "FBgn0014010\n",
    "FBgn0015019\n",
    "FBgn0015268\n",
    "FBgn0015282\n",
    "FBgn0015553\n",
    "FBgn0015797\n",
    "FBgn0020278\n",
    "FBgn0022764\n",
    "FBgn0023213\n",
    "FBgn0024846\n",
    "FBgn0286198\n",
    "FBgn0027364\n",
    "FBgn0027932\n",
    "FBgn0029897\n",
    "FBgn0030400\n",
    "FBgn0031006\n",
    "FBgn0031089\n",
    "FBgn0031296\n",
    "FBgn0032773\n",
    "FBgn0034087\n",
    "FBgn0286051\n",
    "FBgn0037573\n",
    "FBgn0037874\n",
    "FBgn0038535\n",
    "FBgn0039323\n",
    "FBgn0039735\n",
    "FBgn0040020\n",
    "FBgn0040080\n",
    "FBgn0040153\n",
    "FBgn0052016\n",
    "FBgn0085408\n",
    "FBgn0259152\n",
    "FBgn0259896\n",
    "FBgn0261014\n",
    "FBgn0261385\n",
    "FBgn0263106\n",
    "FBgn0263108\n",
    "FBgn0263396\n",
    "FBgn0263456\n",
    "FBgn0025674\n",
    "FBgn0000546\n",
    "FBgn0029936\"\"\".split()"
   ]
  },
  {
   "cell_type": "code",
   "execution_count": 171,
   "metadata": {},
   "outputs": [],
   "source": [
    "test = \"\"\"FBgn0278604\n",
    "FBgn0038862\n",
    "FBgn0025463\n",
    "FBgn0031626\n",
    "FBgn0015279\n",
    "FBgn0000250\n",
    "FBgn0043903\n",
    "FBgn0004198\n",
    "FBgn0035213\n",
    "FBgn0005198\n",
    "FBgn0264922\n",
    "FBgn0041627\n",
    "FBgn0034753\n",
    "FBgn0025687\n",
    "FBgn0004859\n",
    "FBgn0015805\n",
    "FBgn0022764\n",
    "FBgn0011660\n",
    "FBgn0003944\n",
    "FBgn0024846\n",
    "FBgn0015268\n",
    "FBgn0031006\n",
    "FBgn0263108\n",
    "FBgn0261385\n",
    "FBgn0034087\n",
    "FBgn0015282\n",
    "FBgn0259896\n",
    "FBgn0261014\n",
    "FBgn0025674\n",
    "FBgn0003165\n",
    "FBgn0025637\n",
    "FBgn0031872\n",
    "FBgn0003444\n",
    "FBgn0001291\n",
    "FBgn0003479\n",
    "FBgn0027535\n",
    "FBgn0015838\"\"\".split()"
   ]
  },
  {
   "cell_type": "code",
   "execution_count": 191,
   "metadata": {},
   "outputs": [],
   "source": [
    "early_nov_conn = \"\"\"FBgn0278604\n",
    "FBgn0038862\n",
    "FBgn0031872\n",
    "FBgn0025463\n",
    "FBgn0031626\n",
    "FBgn0015279\n",
    "FBgn0000250\n",
    "FBgn0025637\n",
    "FBgn0043903\n",
    "FBgn0003444\n",
    "FBgn0004198\n",
    "FBgn0035213\n",
    "FBgn0005198\n",
    "FBgn0264922\n",
    "FBgn0041627\n",
    "FBgn0003479\n",
    "FBgn0027535\n",
    "FBgn0015838\n",
    "FBgn0034753\n",
    "FBgn0025687\n",
    "FBgn0004859\n",
    "FBgn0001291\n",
    "FBgn0015805\n",
    "FBgn0022764\n",
    "FBgn0011660\n",
    "FBgn0003944\n",
    "FBgn0024846\n",
    "FBgn0015268\n",
    "FBgn0031006\n",
    "FBgn0263108\n",
    "FBgn0261385\n",
    "FBgn0034087\n",
    "FBgn0015282\n",
    "FBgn0259896\n",
    "FBgn0261014\n",
    "FBgn0025674\n",
    "FBgn0003165\"\"\".split()"
   ]
  },
  {
   "cell_type": "code",
   "execution_count": 192,
   "metadata": {
    "scrolled": false
   },
   "outputs": [
    {
     "data": {
      "text/plain": [
       "['FBgn0278604',\n",
       " 'FBgn0038862',\n",
       " 'FBgn0031872',\n",
       " 'FBgn0025463',\n",
       " 'FBgn0031626',\n",
       " 'FBgn0015279',\n",
       " 'FBgn0000250',\n",
       " 'FBgn0025637',\n",
       " 'FBgn0043903',\n",
       " 'FBgn0003444',\n",
       " 'FBgn0004198',\n",
       " 'FBgn0035213',\n",
       " 'FBgn0005198',\n",
       " 'FBgn0264922',\n",
       " 'FBgn0041627',\n",
       " 'FBgn0003479',\n",
       " 'FBgn0027535',\n",
       " 'FBgn0015838',\n",
       " 'FBgn0034753',\n",
       " 'FBgn0025687',\n",
       " 'FBgn0004859',\n",
       " 'FBgn0001291',\n",
       " 'FBgn0015805',\n",
       " 'FBgn0022764',\n",
       " 'FBgn0011660',\n",
       " 'FBgn0003944',\n",
       " 'FBgn0024846',\n",
       " 'FBgn0015268',\n",
       " 'FBgn0031006',\n",
       " 'FBgn0263108',\n",
       " 'FBgn0261385',\n",
       " 'FBgn0034087',\n",
       " 'FBgn0015282',\n",
       " 'FBgn0259896',\n",
       " 'FBgn0261014',\n",
       " 'FBgn0025674',\n",
       " 'FBgn0003165']"
      ]
     },
     "execution_count": 192,
     "metadata": {},
     "output_type": "execute_result"
    }
   ],
   "source": [
    "early_nov_conn"
   ]
  },
  {
   "cell_type": "code",
   "execution_count": 194,
   "metadata": {},
   "outputs": [
    {
     "data": {
      "text/plain": [
       "37"
      ]
     },
     "execution_count": 194,
     "metadata": {},
     "output_type": "execute_result"
    }
   ],
   "source": [
    "len(set.intersection(set(early_nov_conn), set(test)))"
   ]
  },
  {
   "cell_type": "code",
   "execution_count": 172,
   "metadata": {},
   "outputs": [
    {
     "data": {
      "text/plain": [
       "527"
      ]
     },
     "execution_count": 172,
     "metadata": {},
     "output_type": "execute_result"
    }
   ],
   "source": [
    "tested = set.union(set(test), set(testedC), set(screen_genes))\n",
    "len(tested)"
   ]
  },
  {
   "cell_type": "code",
   "execution_count": 173,
   "metadata": {},
   "outputs": [
    {
     "data": {
      "text/plain": [
       "25"
      ]
     },
     "execution_count": 173,
     "metadata": {},
     "output_type": "execute_result"
    }
   ],
   "source": [
    "len(set.intersection(set(tested), set(connectors['FbID'].unique())))"
   ]
  },
  {
   "cell_type": "code",
   "execution_count": 174,
   "metadata": {
    "scrolled": true
   },
   "outputs": [
    {
     "data": {
      "text/plain": [
       "{'FBgn0000064',\n",
       " 'FBgn0003041',\n",
       " 'FBgn0005777',\n",
       " 'FBgn0010905',\n",
       " 'FBgn0015774',\n",
       " 'FBgn0022959',\n",
       " 'FBgn0034259',\n",
       " 'FBgn0036790',\n",
       " 'FBgn0036896',\n",
       " 'FBgn0037891',\n",
       " 'FBgn0051679',\n",
       " 'FBgn0086613'}"
      ]
     },
     "execution_count": 174,
     "metadata": {},
     "output_type": "execute_result"
    }
   ],
   "source": [
    "set.difference(set(connectors['FbID'].unique()), set(tested))"
   ]
  },
  {
   "cell_type": "code",
   "execution_count": 175,
   "metadata": {},
   "outputs": [
    {
     "data": {
      "text/plain": [
       "37"
      ]
     },
     "execution_count": 175,
     "metadata": {},
     "output_type": "execute_result"
    }
   ],
   "source": [
    "len(connectors['FbID'].unique())"
   ]
  },
  {
   "cell_type": "code",
   "execution_count": 185,
   "metadata": {
    "scrolled": false
   },
   "outputs": [
    {
     "data": {
      "text/plain": [
       "{'FBgn0000064',\n",
       " 'FBgn0003041',\n",
       " 'FBgn0005777',\n",
       " 'FBgn0010905',\n",
       " 'FBgn0015774',\n",
       " 'FBgn0022959',\n",
       " 'FBgn0034259',\n",
       " 'FBgn0036790',\n",
       " 'FBgn0036896',\n",
       " 'FBgn0037891',\n",
       " 'FBgn0051679',\n",
       " 'FBgn0086613'}"
      ]
     },
     "execution_count": 185,
     "metadata": {},
     "output_type": "execute_result"
    }
   ],
   "source": [
    "set.difference(set(connectors['FbID'].unique()), set(tested))"
   ]
  },
  {
   "cell_type": "code",
   "execution_count": 179,
   "metadata": {},
   "outputs": [
    {
     "data": {
      "text/plain": [
       "{'FBgn0001291',\n",
       " 'FBgn0003165',\n",
       " 'FBgn0003944',\n",
       " 'FBgn0004198',\n",
       " 'FBgn0004859',\n",
       " 'FBgn0005198',\n",
       " 'FBgn0015279',\n",
       " 'FBgn0015805',\n",
       " 'FBgn0015838',\n",
       " 'FBgn0022764',\n",
       " 'FBgn0025463',\n",
       " 'FBgn0025674',\n",
       " 'FBgn0027535',\n",
       " 'FBgn0031626',\n",
       " 'FBgn0031872',\n",
       " 'FBgn0034087',\n",
       " 'FBgn0034753',\n",
       " 'FBgn0038862',\n",
       " 'FBgn0261385',\n",
       " 'FBgn0278604'}"
      ]
     },
     "execution_count": 179,
     "metadata": {},
     "output_type": "execute_result"
    }
   ],
   "source": [
    "set.difference(set(test), set(connectors['FbID'].unique()))"
   ]
  },
  {
   "cell_type": "markdown",
   "metadata": {},
   "source": [
    "# Define helper functions"
   ]
  },
  {
   "cell_type": "code",
   "execution_count": 21,
   "metadata": {},
   "outputs": [],
   "source": [
    "def LCCbootsrap(G, ScreenG, seeds, bootstrapnb=10000):\n",
    "    subG = G.subgraph(seeds)\n",
    "    print('Percent found in the PPI:', len(subG.nodes()) / len(seeds))\n",
    "    print('Graph Size:',len(subG))\n",
    "    LCC = len(max(nx.connected_components(subG), key=len))\n",
    "    print('LCC:', LCC)\n",
    "    \n",
    "    # Starting BootStrap\n",
    "    random_LCCs = []\n",
    "    for i in progressbar.progressbar(range(bootstrapnb)):\n",
    "        random_nodes = np.random.choice(ScreenG.nodes(), len(subG), replace=False)\n",
    "        randomG = ScreenG.subgraph(random_nodes)\n",
    "        random_cc = max(nx.connected_components(randomG), key=len)\n",
    "        random_LCCs.append(len(random_cc))\n",
    "    return random_LCCs, LCC\n",
    "\n",
    "def Edgebootsrap(G, ScreenG, seeds, bootstrapnb=10000):\n",
    "    subG = G.subgraph(seeds)\n",
    "    print('Percent found in the PPI:', len(subG.nodes()) / len(seeds))\n",
    "    print('Graph Size:',len(subG))\n",
    "    edges = len(subG.edges())\n",
    "    print('edges:', edges)\n",
    "    \n",
    "    # Starting BootStrap\n",
    "    random_edges = []\n",
    "    for i in progressbar.progressbar(range(bootstrapnb)):\n",
    "        random_nodes = np.random.choice(ScreenG.nodes(), len(subG), replace=False)\n",
    "        randomG = ScreenG.subgraph(random_nodes)\n",
    "        random_edges.append(len(randomG.edges()))\n",
    "    return random_edges, edges\n",
    "\n",
    "def Densitybootsrap(G, ScreenG, seeds, bootstrapnb=10000):\n",
    "    subG = G.subgraph(seeds)\n",
    "    print('Percent found in the PPI:', len(subG.nodes()) / len(seeds))\n",
    "    print('Graph Size:',len(subG))\n",
    "    density = nx.density(subG)\n",
    "    print('density:', density)\n",
    "    \n",
    "    # Starting BootStrap\n",
    "    random_density = []\n",
    "    for i in progressbar.progressbar(range(bootstrapnb)):\n",
    "        random_nodes = np.random.choice(ScreenG.nodes(), len(subG), replace=False)\n",
    "        randomG = ScreenG.subgraph(random_nodes)\n",
    "        random_density.append(nx.density(randomG))\n",
    "    return random_density, density\n",
    "\n",
    "def AverageShortestPathbootsrap(G, ScreenG, seeds, bootstrapnb=10000):\n",
    "    subG = G.subgraph(seeds)\n",
    "    print('Percent found in the PPI:', len(subG.nodes()) / len(seeds))\n",
    "    print('Graph Size:',len(subG))\n",
    "    avg = nx.average_shortest_path_length(max(nx.connected_component_subgraphs(subG), key=len))\n",
    "    print('AverageShortestPath:', avg)\n",
    "    \n",
    "    # Starting BootStrap\n",
    "    random_avg = []\n",
    "    for i in progressbar.progressbar(range(bootstrapnb)):\n",
    "        random_nodes = np.random.choice(ScreenG.nodes(), len(subG), replace=False)\n",
    "        randomG = ScreenG.subgraph(random_nodes)\n",
    "        random_avg.append(nx.average_shortest_path_length(max(nx.connected_component_subgraphs(randomG), key=len)))\n",
    "    return random_avg, avg\n",
    "\n",
    "def plotNetworkTests(G,ScreenG, seeds, module=None, bootstrapnb=10000, bw=1, full=False):\n",
    "    random_LCC, LCC = LCCbootsrap(G, ScreenG, seeds, bootstrapnb)\n",
    "    random_edges, edges = Edgebootsrap(G, ScreenG, seeds, bootstrapnb)\n",
    "    if full:\n",
    "        random_density, density = Densitybootsrap(G, ScreenG, seeds, bootstrapnb)\n",
    "        random_avg, avg = AverageShortestPathbootsrap(G, ScreenG, seeds, bootstrapnb)\n",
    "    if module:\n",
    "        random_LCC_module, LCC_module = LCCbootsrap(G, ScreenG, module, bootstrapnb)\n",
    "        random_Edge_module, Edge_module = Edgebootsrap(G, ScreenG, module, bootstrapnb)\n",
    "        if full:\n",
    "            random_density_module, density_module = Densitybootsrap(G, ScreenG, module, bootstrapnb)\n",
    "            random_avg_module, avg_module = AverageShortestPathbootsrap(G, ScreenG, module, bootstrapnb)\n",
    "\n",
    "    if full:\n",
    "        fig = plt.figure(figsize=(5,5))\n",
    "        row = 2\n",
    "        col = 2\n",
    "    else:\n",
    "        fig = plt.figure(figsize=(7,5))\n",
    "        row = 1\n",
    "        col = 2\n",
    "    \n",
    "    ax = fig.add_subplot(row, col, 1)\n",
    "    \n",
    "    sns.kdeplot(random_LCC, bw=np.std(random_LCC), shade=True, color='lightgray', label=\"Random bootstrap (PPI)\")\n",
    "    bot, top = ax.get_ylim()\n",
    "    plt.plot([LCC,LCC], [0,top], 'lightcoral', label='Seed Genes (PPI)')\n",
    "    if module:\n",
    "        sns.kdeplot(random_LCC_module, bw=np.std(random_LCC_module), shade=True, color='gray', label=\"Random bootstrap (PPI)\")\n",
    "        bot, top = ax.get_ylim()\n",
    "        plt.plot([LCC_module,LCC_module], [0,top], 'darkred', label='Network Module (PPI)')\n",
    "\n",
    "    plt.title('Largest Connected Component of\\nselected genes VS random')\n",
    "    ax.legend().set_visible(False)\n",
    "    plt.xlabel('LCC')\n",
    "    plt.ylabel('Probability Density')\n",
    "    plt.xlim(0)\n",
    "    \n",
    "    ax = fig.add_subplot(row, col, 2)\n",
    "    sns.kdeplot(random_edges, bw=np.std(random_edges), shade=True, color='lightgray', label=\"Random bootstrap seed (PPI)\")\n",
    "    bot, top = ax.get_ylim()\n",
    "    plt.plot([edges,edges], [0,top], 'lightcoral', label='Seed Genes (PPI)')\n",
    "    if module:\n",
    "        sns.kdeplot(random_Edge_module, bw=np.std(random_Edge_module), shade=True, color='gray', label=\"Random bootstrap module (PPI)\")\n",
    "        bot, top = ax.get_ylim()\n",
    "        plt.plot([Edge_module,Edge_module], [0,top], 'darkred', label='Network Module (PPI)')\n",
    "\n",
    "    plt.title('Number of interactions of\\nselected genes VS random')\n",
    "    plt.legend(bbox_to_anchor=(1.05, 1), loc=2, borderaxespad=0.)\n",
    "    plt.xlabel('Number of Interactions')\n",
    "    plt.xlim(0)\n",
    "    \n",
    "    if full:\n",
    "        ax = fig.add_subplot(row, col, 3)\n",
    "        sns.kdeplot(random_density, bw=np.std(random_density), shade=True, color='lightgray', label=\"Random bootstrap seed (PPI)\")\n",
    "        bot, top = ax.get_ylim()\n",
    "        plt.plot([density,density], [0,top], 'lightcoral', label='Seed Genes (PPI)')\n",
    "        if module:\n",
    "            sns.kdeplot(random_density_module, bw=np.std(random_density_module), shade=True, color='gray', label=\"Random bootstrap module (PPI)\")\n",
    "            bot, top = ax.get_ylim()\n",
    "            plt.plot([density_module,density_module], [0,top], 'darkred', label='Network Module (PPI)')\n",
    "\n",
    "        plt.title('Network density of\\nselected genes VS random')\n",
    "        ax.legend().set_visible(False)\n",
    "        plt.xlabel('Network density')\n",
    "        plt.xlim(0)\n",
    "        \n",
    "        ax = fig.add_subplot(row, col, 4)\n",
    "        sns.kdeplot(random_avg, bw=np.std(random_avg), shade=True, color='lightgray', label=\"Random bootstrap seed (PPI)\")\n",
    "        bot, top = ax.get_ylim()\n",
    "        plt.plot([avg,avg], [0,top], 'lightcoral', label='Seed Genes (PPI)')\n",
    "        if module:\n",
    "            sns.kdeplot(random_avg_module, bw=np.std(random_avg_module), shade=True, color='gray', label=\"Random bootstrap module (PPI)\")\n",
    "            bot, top = ax.get_ylim()\n",
    "            plt.plot([avg_module,avg_module], [0,top], 'darkred', label='Network Module (PPI)')\n",
    "\n",
    "        plt.title('Average shortest path of LCC of\\nselected genes VS random')\n",
    "        ax.legend().set_visible(False)\n",
    "        plt.xlabel('Average shortest path of LCC')\n",
    "        plt.xlim(0)        \n",
    "       \n",
    "    return fig"
   ]
  },
  {
   "cell_type": "markdown",
   "metadata": {},
   "source": [
    "# Let's look at the modules and seeds conectivity in the network\n",
    "This assess whether there is a Network Effect in the group of gene studied. \n",
    "It could be seen as an Enrichment test. \n",
    "## First I want to make sure that the Screen Genes are not already more connected than random."
   ]
  },
  {
   "cell_type": "code",
   "execution_count": 22,
   "metadata": {},
   "outputs": [],
   "source": [
    "# Choose a bootstrap number to run the anlaysis with\n",
    "bootstrap = 1000"
   ]
  },
  {
   "cell_type": "code",
   "execution_count": 23,
   "metadata": {},
   "outputs": [
    {
     "name": "stderr",
     "output_type": "stream",
     "text": [
      "  1% (12 of 1000) |                      | Elapsed Time: 0:00:00 ETA:   0:00:08"
     ]
    },
    {
     "name": "stdout",
     "output_type": "stream",
     "text": [
      "Percent found in the PPI: 0.9438444924406048\n",
      "Graph Size: 437\n",
      "LCC: 377\n"
     ]
    },
    {
     "name": "stderr",
     "output_type": "stream",
     "text": [
      "100% (1000 of 1000) |####################| Elapsed Time: 0:00:08 Time:  0:00:08\n",
      "  1% (12 of 1000) |                      | Elapsed Time: 0:00:00 ETA:   0:00:09"
     ]
    },
    {
     "name": "stdout",
     "output_type": "stream",
     "text": [
      "Percent found in the PPI: 0.9438444924406048\n",
      "Graph Size: 437\n",
      "edges: 1239\n"
     ]
    },
    {
     "name": "stderr",
     "output_type": "stream",
     "text": [
      "100% (1000 of 1000) |####################| Elapsed Time: 0:00:09 Time:  0:00:09\n",
      "  1% (12 of 1000) |                      | Elapsed Time: 0:00:00 ETA:   0:00:08"
     ]
    },
    {
     "name": "stdout",
     "output_type": "stream",
     "text": [
      "Percent found in the PPI: 0.9438444924406048\n",
      "Graph Size: 437\n",
      "density: 0.013005689333025424\n"
     ]
    },
    {
     "name": "stderr",
     "output_type": "stream",
     "text": [
      "100% (1000 of 1000) |####################| Elapsed Time: 0:00:09 Time:  0:00:09\n"
     ]
    },
    {
     "name": "stdout",
     "output_type": "stream",
     "text": [
      "Percent found in the PPI: 0.9438444924406048\n",
      "Graph Size: 437\n"
     ]
    },
    {
     "name": "stderr",
     "output_type": "stream",
     "text": [
      "  0% (3 of 1000) |                       | Elapsed Time: 0:00:00 ETA:   0:00:42"
     ]
    },
    {
     "name": "stdout",
     "output_type": "stream",
     "text": [
      "AverageShortestPath: 3.50602460635476\n"
     ]
    },
    {
     "name": "stderr",
     "output_type": "stream",
     "text": [
      "100% (1000 of 1000) |####################| Elapsed Time: 0:00:48 Time:  0:00:48\n"
     ]
    },
    {
     "data": {
      "image/png": "[encoded data removed]",
      "text/plain": [
       "<Figure size 360x360 with 4 Axes>"
      ]
     },
     "metadata": {
      "needs_background": "light"
     },
     "output_type": "display_data"
    }
   ],
   "source": [
    "title = \"ScreenBackground\"\n",
    "fig = plotNetworkTests(G, G, screen_genes, bootstrapnb=bootstrap, full=True)\n",
    "fig.savefig(os.path.join(resultpath, 'Figures/NetworkStatistics/{}.svg'.format(title)))\n",
    "fig.savefig(os.path.join(resultpath, 'Figures/NetworkStatistics/{}.png'.format(title)))"
   ]
  },
  {
   "cell_type": "markdown",
   "metadata": {},
   "source": [
    "We can see a non negligible network module effect of the signaling genes ... Therefore, we will analyze the modules with this set as a background instead of the whole PPI."
   ]
  },
  {
   "cell_type": "markdown",
   "metadata": {},
   "source": [
    "## Network effect of the Ovariole numbers regulators "
   ]
  },
  {
   "cell_type": "code",
   "execution_count": 24,
   "metadata": {},
   "outputs": [
    {
     "name": "stderr",
     "output_type": "stream",
     "text": [
      "  7% (76 of 1000) |#                     | Elapsed Time: 0:00:00 ETA:   0:00:02"
     ]
    },
    {
     "name": "stdout",
     "output_type": "stream",
     "text": [
      "Percent found in the PPI: 0.9850746268656716\n",
      "Graph Size: 66\n",
      "LCC: 40\n"
     ]
    },
    {
     "name": "stderr",
     "output_type": "stream",
     "text": [
      "100% (1000 of 1000) |####################| Elapsed Time: 0:00:02 Time:  0:00:02\n",
      "  7% (76 of 1000) |#                     | Elapsed Time: 0:00:00 ETA:   0:00:02"
     ]
    },
    {
     "name": "stdout",
     "output_type": "stream",
     "text": [
      "Percent found in the PPI: 0.9850746268656716\n",
      "Graph Size: 66\n",
      "edges: 51\n"
     ]
    },
    {
     "name": "stderr",
     "output_type": "stream",
     "text": [
      "100% (1000 of 1000) |####################| Elapsed Time: 0:00:02 Time:  0:00:02\n",
      " 10% (102 of 1000) |##                   | Elapsed Time: 0:00:00 ETA:   0:00:02"
     ]
    },
    {
     "name": "stdout",
     "output_type": "stream",
     "text": [
      "Percent found in the PPI: 0.9850746268656716\n",
      "Graph Size: 66\n",
      "density: 0.023776223776223775\n"
     ]
    },
    {
     "name": "stderr",
     "output_type": "stream",
     "text": [
      "100% (1000 of 1000) |####################| Elapsed Time: 0:00:02 Time:  0:00:02\n",
      "  2% (26 of 1000) |                      | Elapsed Time: 0:00:00 ETA:   0:00:06"
     ]
    },
    {
     "name": "stdout",
     "output_type": "stream",
     "text": [
      "Percent found in the PPI: 0.9850746268656716\n",
      "Graph Size: 66\n",
      "AverageShortestPath: 4.8538461538461535\n"
     ]
    },
    {
     "name": "stderr",
     "output_type": "stream",
     "text": [
      "100% (1000 of 1000) |####################| Elapsed Time: 0:00:06 Time:  0:00:06\n",
      "  5% (51 of 1000) |#                     | Elapsed Time: 0:00:00 ETA:   0:00:02"
     ]
    },
    {
     "name": "stdout",
     "output_type": "stream",
     "text": [
      "Percent found in the PPI: 1.0\n",
      "Graph Size: 76\n",
      "LCC: 73\n"
     ]
    },
    {
     "name": "stderr",
     "output_type": "stream",
     "text": [
      "100% (1000 of 1000) |####################| Elapsed Time: 0:00:02 Time:  0:00:02\n",
      " 10% (102 of 1000) |##                   | Elapsed Time: 0:00:00 ETA:   0:00:02"
     ]
    },
    {
     "name": "stdout",
     "output_type": "stream",
     "text": [
      "Percent found in the PPI: 1.0\n",
      "Graph Size: 76\n",
      "edges: 98\n"
     ]
    },
    {
     "name": "stderr",
     "output_type": "stream",
     "text": [
      "100% (1000 of 1000) |####################| Elapsed Time: 0:00:02 Time:  0:00:02\n",
      " 10% (102 of 1000) |##                   | Elapsed Time: 0:00:00 ETA:   0:00:02"
     ]
    },
    {
     "name": "stdout",
     "output_type": "stream",
     "text": [
      "Percent found in the PPI: 1.0\n",
      "Graph Size: 76\n",
      "density: 0.0343859649122807\n"
     ]
    },
    {
     "name": "stderr",
     "output_type": "stream",
     "text": [
      "100% (1000 of 1000) |####################| Elapsed Time: 0:00:02 Time:  0:00:02\n",
      "  2% (26 of 1000) |                      | Elapsed Time: 0:00:00 ETA:   0:00:07"
     ]
    },
    {
     "name": "stdout",
     "output_type": "stream",
     "text": [
      "Percent found in the PPI: 1.0\n",
      "Graph Size: 76\n",
      "AverageShortestPath: 4.57648401826484\n"
     ]
    },
    {
     "name": "stderr",
     "output_type": "stream",
     "text": [
      "100% (1000 of 1000) |####################| Elapsed Time: 0:00:06 Time:  0:00:06\n"
     ]
    },
    {
     "data": {
      "image/png": "[encoded data removed]",
      "text/plain": [
       "<Figure size 360x360 with 4 Axes>"
      ]
     },
     "metadata": {
      "needs_background": "light"
     },
     "output_type": "display_data"
    }
   ],
   "source": [
    "fig = plotNetworkTests(G, ScreenG, ova_seed, ova_module, bootstrapnb=bootstrap, full=True)\n",
    "title = \"OvarioleModule\"\n",
    "fig.savefig(os.path.join(resultpath, 'Figures/NetworkStatistics/{}.svg'.format(title)))\n",
    "fig.savefig(os.path.join(resultpath, 'Figures/NetworkStatistics/{}.png'.format(title)))"
   ]
  },
  {
   "cell_type": "markdown",
   "metadata": {},
   "source": [
    "The ovariole regulators for a module within the background set of screened genes"
   ]
  },
  {
   "cell_type": "markdown",
   "metadata": {},
   "source": [
    "## Network effect of the EggLaying regulators under Hippo RNAi "
   ]
  },
  {
   "cell_type": "code",
   "execution_count": 25,
   "metadata": {},
   "outputs": [
    {
     "name": "stderr",
     "output_type": "stream",
     "text": [
      "  7% (76 of 1000) |#                     | Elapsed Time: 0:00:00 ETA:   0:00:02"
     ]
    },
    {
     "name": "stdout",
     "output_type": "stream",
     "text": [
      "Percent found in the PPI: 0.9661016949152542\n",
      "Graph Size: 57\n",
      "LCC: 21\n"
     ]
    },
    {
     "name": "stderr",
     "output_type": "stream",
     "text": [
      "100% (1000 of 1000) |####################| Elapsed Time: 0:00:02 Time:  0:00:02\n",
      "  6% (64 of 1000) |#                     | Elapsed Time: 0:00:00 ETA:   0:00:03"
     ]
    },
    {
     "name": "stdout",
     "output_type": "stream",
     "text": [
      "Percent found in the PPI: 0.9661016949152542\n",
      "Graph Size: 57\n",
      "edges: 31\n"
     ]
    },
    {
     "name": "stderr",
     "output_type": "stream",
     "text": [
      "100% (1000 of 1000) |####################| Elapsed Time: 0:00:02 Time:  0:00:02\n",
      "  7% (76 of 1000) |#                     | Elapsed Time: 0:00:00 ETA:   0:00:02"
     ]
    },
    {
     "name": "stdout",
     "output_type": "stream",
     "text": [
      "Percent found in the PPI: 0.9661016949152542\n",
      "Graph Size: 57\n",
      "density: 0.019423558897243107\n"
     ]
    },
    {
     "name": "stderr",
     "output_type": "stream",
     "text": [
      "100% (1000 of 1000) |####################| Elapsed Time: 0:00:02 Time:  0:00:02\n",
      "  2% (26 of 1000) |                      | Elapsed Time: 0:00:00 ETA:   0:00:06"
     ]
    },
    {
     "name": "stdout",
     "output_type": "stream",
     "text": [
      "Percent found in the PPI: 0.9661016949152542\n",
      "Graph Size: 57\n",
      "AverageShortestPath: 3.5714285714285716\n"
     ]
    },
    {
     "name": "stderr",
     "output_type": "stream",
     "text": [
      "100% (1000 of 1000) |####################| Elapsed Time: 0:00:05 Time:  0:00:05\n",
      "  5% (51 of 1000) |#                     | Elapsed Time: 0:00:00 ETA:   0:00:02"
     ]
    },
    {
     "name": "stdout",
     "output_type": "stream",
     "text": [
      "Percent found in the PPI: 1.0\n",
      "Graph Size: 77\n",
      "LCC: 76\n"
     ]
    },
    {
     "name": "stderr",
     "output_type": "stream",
     "text": [
      "100% (1000 of 1000) |####################| Elapsed Time: 0:00:02 Time:  0:00:02\n",
      "  7% (76 of 1000) |#                     | Elapsed Time: 0:00:00 ETA:   0:00:02"
     ]
    },
    {
     "name": "stdout",
     "output_type": "stream",
     "text": [
      "Percent found in the PPI: 1.0\n",
      "Graph Size: 77\n",
      "edges: 106\n"
     ]
    },
    {
     "name": "stderr",
     "output_type": "stream",
     "text": [
      "100% (1000 of 1000) |####################| Elapsed Time: 0:00:03 Time:  0:00:03\n",
      "  7% (76 of 1000) |#                     | Elapsed Time: 0:00:00 ETA:   0:00:02"
     ]
    },
    {
     "name": "stdout",
     "output_type": "stream",
     "text": [
      "Percent found in the PPI: 1.0\n",
      "Graph Size: 77\n",
      "density: 0.036226930963773066\n"
     ]
    },
    {
     "name": "stderr",
     "output_type": "stream",
     "text": [
      "100% (1000 of 1000) |####################| Elapsed Time: 0:00:02 Time:  0:00:02\n",
      "  2% (26 of 1000) |                      | Elapsed Time: 0:00:00 ETA:   0:00:07"
     ]
    },
    {
     "name": "stdout",
     "output_type": "stream",
     "text": [
      "Percent found in the PPI: 1.0\n",
      "Graph Size: 77\n",
      "AverageShortestPath: 3.9589473684210525\n"
     ]
    },
    {
     "name": "stderr",
     "output_type": "stream",
     "text": [
      "100% (1000 of 1000) |####################| Elapsed Time: 0:00:08 Time:  0:00:08\n"
     ]
    },
    {
     "data": {
      "image/png": "[encoded data removed]",
      "text/plain": [
       "<Figure size 360x360 with 4 Axes>"
      ]
     },
     "metadata": {
      "needs_background": "light"
     },
     "output_type": "display_data"
    }
   ],
   "source": [
    "fig = plotNetworkTests(G, ScreenG, fec_seed, fec_module, bootstrapnb=bootstrap, full=True)\n",
    "title = \"HpoRNAiEggL\"\n",
    "fig.savefig(os.path.join(resultpath, 'Figures/NetworkStatistics/{}.svg'.format(title)))\n",
    "fig.savefig(os.path.join(resultpath, 'Figures/NetworkStatistics/{}.png'.format(title)))"
   ]
  },
  {
   "cell_type": "markdown",
   "metadata": {},
   "source": [
    "The effect is less strong for the seed genes, but once the module is established, there exist a clear network module "
   ]
  },
  {
   "cell_type": "markdown",
   "metadata": {},
   "source": [
    "## Network effect of the EggLaying regulators"
   ]
  },
  {
   "cell_type": "code",
   "execution_count": 26,
   "metadata": {},
   "outputs": [
    {
     "name": "stderr",
     "output_type": "stream",
     "text": [
      "  7% (76 of 1000) |#                     | Elapsed Time: 0:00:00 ETA:   0:00:02"
     ]
    },
    {
     "name": "stdout",
     "output_type": "stream",
     "text": [
      "Percent found in the PPI: 1.0\n",
      "Graph Size: 49\n",
      "LCC: 20\n"
     ]
    },
    {
     "name": "stderr",
     "output_type": "stream",
     "text": [
      "100% (1000 of 1000) |####################| Elapsed Time: 0:00:02 Time:  0:00:02\n",
      " 10% (102 of 1000) |##                   | Elapsed Time: 0:00:00 ETA:   0:00:01"
     ]
    },
    {
     "name": "stdout",
     "output_type": "stream",
     "text": [
      "Percent found in the PPI: 1.0\n",
      "Graph Size: 49\n",
      "edges: 27\n"
     ]
    },
    {
     "name": "stderr",
     "output_type": "stream",
     "text": [
      "100% (1000 of 1000) |####################| Elapsed Time: 0:00:02 Time:  0:00:02\n",
      " 10% (102 of 1000) |##                   | Elapsed Time: 0:00:00 ETA:   0:00:01"
     ]
    },
    {
     "name": "stdout",
     "output_type": "stream",
     "text": [
      "Percent found in the PPI: 1.0\n",
      "Graph Size: 49\n",
      "density: 0.02295918367346939\n"
     ]
    },
    {
     "name": "stderr",
     "output_type": "stream",
     "text": [
      "100% (1000 of 1000) |####################| Elapsed Time: 0:00:02 Time:  0:00:02\n",
      "  5% (51 of 1000) |#                     | Elapsed Time: 0:00:00 ETA:   0:00:04"
     ]
    },
    {
     "name": "stdout",
     "output_type": "stream",
     "text": [
      "Percent found in the PPI: 1.0\n",
      "Graph Size: 49\n",
      "AverageShortestPath: 4.042105263157895\n"
     ]
    },
    {
     "name": "stderr",
     "output_type": "stream",
     "text": [
      "100% (1000 of 1000) |####################| Elapsed Time: 0:00:04 Time:  0:00:04\n",
      " 15% (152 of 1000) |###                  | Elapsed Time: 0:00:00 ETA:   0:00:01"
     ]
    },
    {
     "name": "stdout",
     "output_type": "stream",
     "text": [
      "Percent found in the PPI: 1.0\n",
      "Graph Size: 62\n",
      "LCC: 58\n"
     ]
    },
    {
     "name": "stderr",
     "output_type": "stream",
     "text": [
      "100% (1000 of 1000) |####################| Elapsed Time: 0:00:02 Time:  0:00:02\n",
      " 12% (127 of 1000) |##                   | Elapsed Time: 0:00:00 ETA:   0:00:01"
     ]
    },
    {
     "name": "stdout",
     "output_type": "stream",
     "text": [
      "Percent found in the PPI: 1.0\n",
      "Graph Size: 62\n",
      "edges: 74\n"
     ]
    },
    {
     "name": "stderr",
     "output_type": "stream",
     "text": [
      "100% (1000 of 1000) |####################| Elapsed Time: 0:00:02 Time:  0:00:02\n",
      " 12% (127 of 1000) |##                   | Elapsed Time: 0:00:00 ETA:   0:00:01"
     ]
    },
    {
     "name": "stdout",
     "output_type": "stream",
     "text": [
      "Percent found in the PPI: 1.0\n",
      "Graph Size: 62\n",
      "density: 0.03913273400317292\n"
     ]
    },
    {
     "name": "stderr",
     "output_type": "stream",
     "text": [
      "100% (1000 of 1000) |####################| Elapsed Time: 0:00:02 Time:  0:00:02\n",
      "  5% (51 of 1000) |#                     | Elapsed Time: 0:00:00 ETA:   0:00:04"
     ]
    },
    {
     "name": "stdout",
     "output_type": "stream",
     "text": [
      "Percent found in the PPI: 1.0\n",
      "Graph Size: 62\n",
      "AverageShortestPath: 4.257713248638838\n"
     ]
    },
    {
     "name": "stderr",
     "output_type": "stream",
     "text": [
      "100% (1000 of 1000) |####################| Elapsed Time: 0:00:05 Time:  0:00:05\n"
     ]
    },
    {
     "data": {
      "image/png": "[encoded data removed]",
      "text/plain": [
       "<Figure size 360x360 with 4 Axes>"
      ]
     },
     "metadata": {
      "needs_background": "light"
     },
     "output_type": "display_data"
    }
   ],
   "source": [
    "fig = plotNetworkTests(G, ScreenG, xRNAi_seed, xRNAi_module, bootstrapnb=bootstrap, full=True)\n",
    "title = \"EggL\"\n",
    "fig.savefig(os.path.join(resultpath, 'Figures/NetworkStatistics/{}.svg'.format(title)))\n",
    "fig.savefig(os.path.join(resultpath, 'Figures/NetworkStatistics/{}.png'.format(title)))"
   ]
  },
  {
   "cell_type": "markdown",
   "metadata": {},
   "source": [
    "The EggLaying regulator with no background have a similar effect than the EggLaying Hippo RNAi. The effect of the seed genes is not as strong, however, once the module is established, there is a strong significant connectivity between the genes."
   ]
  },
  {
   "cell_type": "markdown",
   "metadata": {},
   "source": [
    "## Network effect of the core module"
   ]
  },
  {
   "cell_type": "code",
   "execution_count": 27,
   "metadata": {},
   "outputs": [
    {
     "name": "stderr",
     "output_type": "stream",
     "text": [
      " 15% (152 of 1000) |###                  | Elapsed Time: 0:00:00 ETA:   0:00:01"
     ]
    },
    {
     "name": "stdout",
     "output_type": "stream",
     "text": [
      "Percent found in the PPI: 1.0\n",
      "Graph Size: 27\n",
      "LCC: 7\n"
     ]
    },
    {
     "name": "stderr",
     "output_type": "stream",
     "text": [
      "100% (1000 of 1000) |####################| Elapsed Time: 0:00:01 Time:  0:00:01\n",
      " 14% (140 of 1000) |##                   | Elapsed Time: 0:00:00 ETA:   0:00:01"
     ]
    },
    {
     "name": "stdout",
     "output_type": "stream",
     "text": [
      "Percent found in the PPI: 1.0\n",
      "Graph Size: 27\n",
      "edges: 10\n"
     ]
    },
    {
     "name": "stderr",
     "output_type": "stream",
     "text": [
      "100% (1000 of 1000) |####################| Elapsed Time: 0:00:01 Time:  0:00:01\n",
      " 10% (102 of 1000) |##                   | Elapsed Time: 0:00:00 ETA:   0:00:01"
     ]
    },
    {
     "name": "stdout",
     "output_type": "stream",
     "text": [
      "Percent found in the PPI: 1.0\n",
      "Graph Size: 27\n",
      "density: 0.02849002849002849\n"
     ]
    },
    {
     "name": "stderr",
     "output_type": "stream",
     "text": [
      "100% (1000 of 1000) |####################| Elapsed Time: 0:00:01 Time:  0:00:01\n",
      "  7% (76 of 1000) |#                     | Elapsed Time: 0:00:00 ETA:   0:00:03"
     ]
    },
    {
     "name": "stdout",
     "output_type": "stream",
     "text": [
      "Percent found in the PPI: 1.0\n",
      "Graph Size: 27\n",
      "AverageShortestPath: 2.1904761904761907\n"
     ]
    },
    {
     "name": "stderr",
     "output_type": "stream",
     "text": [
      "100% (1000 of 1000) |####################| Elapsed Time: 0:00:03 Time:  0:00:03\n",
      " 14% (140 of 1000) |##                   | Elapsed Time: 0:00:00 ETA:   0:00:01"
     ]
    },
    {
     "name": "stdout",
     "output_type": "stream",
     "text": [
      "Percent found in the PPI: 1.0\n",
      "Graph Size: 36\n",
      "LCC: 35\n"
     ]
    },
    {
     "name": "stderr",
     "output_type": "stream",
     "text": [
      "100% (1000 of 1000) |####################| Elapsed Time: 0:00:01 Time:  0:00:01\n",
      " 12% (127 of 1000) |##                   | Elapsed Time: 0:00:00 ETA:   0:00:01"
     ]
    },
    {
     "name": "stdout",
     "output_type": "stream",
     "text": [
      "Percent found in the PPI: 1.0\n",
      "Graph Size: 36\n",
      "edges: 47\n"
     ]
    },
    {
     "name": "stderr",
     "output_type": "stream",
     "text": [
      "100% (1000 of 1000) |####################| Elapsed Time: 0:00:01 Time:  0:00:01\n",
      " 15% (152 of 1000) |###                  | Elapsed Time: 0:00:00 ETA:   0:00:01"
     ]
    },
    {
     "name": "stdout",
     "output_type": "stream",
     "text": [
      "Percent found in the PPI: 1.0\n",
      "Graph Size: 36\n",
      "density: 0.0746031746031746\n"
     ]
    },
    {
     "name": "stderr",
     "output_type": "stream",
     "text": [
      "100% (1000 of 1000) |####################| Elapsed Time: 0:00:01 Time:  0:00:01\n",
      "  7% (76 of 1000) |#                     | Elapsed Time: 0:00:00 ETA:   0:00:02"
     ]
    },
    {
     "name": "stdout",
     "output_type": "stream",
     "text": [
      "Percent found in the PPI: 1.0\n",
      "Graph Size: 36\n",
      "AverageShortestPath: 3.3058823529411763\n"
     ]
    },
    {
     "name": "stderr",
     "output_type": "stream",
     "text": [
      "100% (1000 of 1000) |####################| Elapsed Time: 0:00:03 Time:  0:00:03\n"
     ]
    },
    {
     "data": {
      "image/png": "[encoded data removed]",
      "text/plain": [
       "<Figure size 360x360 with 4 Axes>"
      ]
     },
     "metadata": {
      "needs_background": "light"
     },
     "output_type": "display_data"
    }
   ],
   "source": [
    "fig = plotNetworkTests(G, ScreenG, core_seed, core_module, bootstrapnb=bootstrap, full=True)\n",
    "title = \"CoreModule\"\n",
    "fig.savefig(os.path.join(resultpath, 'Figures/NetworkStatistics/{}.svg'.format(title)))\n",
    "fig.savefig(os.path.join(resultpath, 'Figures/NetworkStatistics/{}.png'.format(title)))"
   ]
  },
  {
   "cell_type": "markdown",
   "metadata": {},
   "source": [
    "The core module has an in between effect, where the seeds are fairly enriched, though within random. But the the module is highly enriched. "
   ]
  }
 ],
 "metadata": {
  "kernelspec": {
   "display_name": "Python 3",
   "language": "python",
   "name": "python3"
  },
  "language_info": {
   "codemirror_mode": {
    "name": "ipython",
    "version": 3
   },
   "file_extension": ".py",
   "mimetype": "text/x-python",
   "name": "python",
   "nbconvert_exporter": "python",
   "pygments_lexer": "ipython3",
   "version": "3.5.6"
  }
 },
 "nbformat": 4,
 "nbformat_minor": 2
}
